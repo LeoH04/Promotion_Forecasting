{
 "cells": [
  {
   "cell_type": "markdown",
   "id": "e0e24665",
   "metadata": {},
   "source": [
    "## 00. Import libraries and load data"
   ]
  },
  {
   "cell_type": "markdown",
   "id": "5dadd865",
   "metadata": {},
   "source": [
    "Note: This Jupyter Notebook was created as part of the group work. Each member has contributed similarly to the result."
   ]
  },
  {
   "cell_type": "code",
   "execution_count": 39,
   "id": "49615691",
   "metadata": {},
   "outputs": [],
   "source": [
    "# First we import all neccessary libraries and give some of them an alias for easy access\n",
    "import numpy as np\n",
    "import pandas as pd\n",
    "import matplotlib.pyplot as plt\n",
    "import seaborn as sns\n",
    "%matplotlib inline\n",
    "from sklearn.model_selection import train_test_split\n",
    "from sklearn.tree import DecisionTreeClassifier\n",
    "from sklearn.metrics import accuracy_score\n",
    "from sklearn import tree\n",
    "from sklearn import metrics\n",
    "from sklearn.metrics import classification_report\n",
    "from sklearn.model_selection import StratifiedKFold, cross_val_score\n",
    "from sklearn.model_selection import GridSearchCV\n",
    "from sklearn.model_selection import RandomizedSearchCV\n",
    "from imblearn.over_sampling import SMOTE\n",
    "from imblearn.over_sampling import BorderlineSMOTE\n",
    "from imblearn.over_sampling import KMeansSMOTE\n",
    "from imblearn.over_sampling import SVMSMOTE\n",
    "from sklearn.base import clone\n",
    "from imblearn.under_sampling import RandomUnderSampler\n",
    "from collections import Counter"
   ]
  },
  {
   "cell_type": "markdown",
   "id": "a4ee7697",
   "metadata": {},
   "source": [
    "## 1. Read in the data"
   ]
  },
  {
   "cell_type": "code",
   "execution_count": 40,
   "id": "0854319a",
   "metadata": {},
   "outputs": [
    {
     "data": {
      "text/plain": [
       "(1722, 10)"
      ]
     },
     "execution_count": 40,
     "metadata": {},
     "output_type": "execute_result"
    }
   ],
   "source": [
    "# Read in the data so every group member can run the notebook on his machine\n",
    "# (our repo is on github, we therefore have the same file structure)\n",
    "df = pd.read_csv(\"../../Data/Transformed/Leo/inventory_management_cleaned_transformed_unscaled.csv\")\n",
    "df.shape # Get a first idea about the number of rows and columns of the dataset"
   ]
  },
  {
   "cell_type": "code",
   "execution_count": 41,
   "id": "78da32aa",
   "metadata": {},
   "outputs": [],
   "source": [
    "# We define that y equals the attribute we want to predict and X equals all the other attributes to predict y \n",
    "y = df[\"Promotion\"]\n",
    "X = df.loc[:, ~df.columns.isin(['Promotion', 'Product_UID'])]"
   ]
  },
  {
   "cell_type": "code",
   "execution_count": 42,
   "id": "fd808fcd",
   "metadata": {},
   "outputs": [
    {
     "data": {
      "application/vnd.microsoft.datawrangler.viewer.v0+json": {
       "columns": [
        {
         "name": "index",
         "rawType": "int64",
         "type": "integer"
        },
        {
         "name": "Promotion",
         "rawType": "int64",
         "type": "integer"
        }
       ],
       "ref": "250ef662-0d77-49bf-b080-2929f47de470",
       "rows": [
        [
         "0",
         "0"
        ],
        [
         "1",
         "1"
        ],
        [
         "2",
         "1"
        ],
        [
         "3",
         "0"
        ],
        [
         "4",
         "0"
        ],
        [
         "5",
         "0"
        ],
        [
         "6",
         "0"
        ],
        [
         "7",
         "0"
        ],
        [
         "8",
         "0"
        ],
        [
         "9",
         "0"
        ],
        [
         "10",
         "0"
        ],
        [
         "11",
         "0"
        ],
        [
         "12",
         "0"
        ],
        [
         "13",
         "1"
        ],
        [
         "14",
         "0"
        ],
        [
         "15",
         "0"
        ],
        [
         "16",
         "0"
        ],
        [
         "17",
         "0"
        ],
        [
         "18",
         "0"
        ],
        [
         "19",
         "0"
        ],
        [
         "20",
         "0"
        ],
        [
         "21",
         "1"
        ],
        [
         "22",
         "1"
        ],
        [
         "23",
         "0"
        ],
        [
         "24",
         "0"
        ],
        [
         "25",
         "0"
        ],
        [
         "26",
         "0"
        ],
        [
         "27",
         "0"
        ],
        [
         "28",
         "0"
        ],
        [
         "29",
         "0"
        ],
        [
         "30",
         "0"
        ],
        [
         "31",
         "0"
        ],
        [
         "32",
         "0"
        ],
        [
         "33",
         "1"
        ],
        [
         "34",
         "0"
        ],
        [
         "35",
         "0"
        ],
        [
         "36",
         "0"
        ],
        [
         "37",
         "0"
        ],
        [
         "38",
         "0"
        ],
        [
         "39",
         "0"
        ],
        [
         "40",
         "0"
        ],
        [
         "41",
         "1"
        ],
        [
         "42",
         "1"
        ],
        [
         "43",
         "0"
        ],
        [
         "44",
         "0"
        ],
        [
         "45",
         "0"
        ],
        [
         "46",
         "0"
        ],
        [
         "47",
         "0"
        ],
        [
         "48",
         "0"
        ],
        [
         "49",
         "0"
        ]
       ],
       "shape": {
        "columns": 1,
        "rows": 1722
       }
      },
      "text/plain": [
       "0       0\n",
       "1       1\n",
       "2       1\n",
       "3       0\n",
       "4       0\n",
       "       ..\n",
       "1717    0\n",
       "1718    1\n",
       "1719    0\n",
       "1720    0\n",
       "1721    1\n",
       "Name: Promotion, Length: 1722, dtype: int64"
      ]
     },
     "execution_count": 42,
     "metadata": {},
     "output_type": "execute_result"
    }
   ],
   "source": [
    "# We check if y equals the attribute we want to predict (Promotion)\n",
    "y"
   ]
  },
  {
   "cell_type": "code",
   "execution_count": 43,
   "id": "faf90684",
   "metadata": {},
   "outputs": [
    {
     "data": {
      "application/vnd.microsoft.datawrangler.viewer.v0+json": {
       "columns": [
        {
         "name": "index",
         "rawType": "int64",
         "type": "integer"
        },
        {
         "name": "Category",
         "rawType": "int64",
         "type": "integer"
        },
        {
         "name": "Region",
         "rawType": "int64",
         "type": "integer"
        },
        {
         "name": "Inventory Level",
         "rawType": "int64",
         "type": "integer"
        },
        {
         "name": "Price",
         "rawType": "float64",
         "type": "float"
        },
        {
         "name": "Discount",
         "rawType": "int64",
         "type": "integer"
        },
        {
         "name": "Weather Condition",
         "rawType": "int64",
         "type": "integer"
        },
        {
         "name": "Demand",
         "rawType": "int64",
         "type": "integer"
        },
        {
         "name": "Weekday",
         "rawType": "int64",
         "type": "integer"
        }
       ],
       "ref": "750938a7-1023-4db3-a12a-ebf3c4eb9e7b",
       "rows": [
        [
         "0",
         "1",
         "1",
         "195",
         "72.72",
         "5",
         "1",
         "115",
         "2"
        ],
        [
         "1",
         "0",
         "1",
         "117",
         "80.16",
         "15",
         "1",
         "229",
         "2"
        ],
        [
         "2",
         "0",
         "1",
         "247",
         "62.94",
         "10",
         "1",
         "157",
         "2"
        ],
        [
         "3",
         "1",
         "1",
         "139",
         "87.63",
         "10",
         "1",
         "52",
         "2"
        ],
        [
         "4",
         "3",
         "1",
         "152",
         "54.41",
         "0",
         "1",
         "59",
         "2"
        ],
        [
         "5",
         "4",
         "1",
         "209",
         "35.53",
         "0",
         "1",
         "55",
         "2"
        ],
        [
         "6",
         "3",
         "1",
         "118",
         "23.27",
         "5",
         "1",
         "94",
         "2"
        ],
        [
         "7",
         "1",
         "1",
         "244",
         "37.79",
         "5",
         "1",
         "61",
         "2"
        ],
        [
         "8",
         "0",
         "1",
         "115",
         "94.2",
         "5",
         "1",
         "129",
         "2"
        ],
        [
         "9",
         "2",
         "1",
         "192",
         "113.35",
         "10",
         "1",
         "69",
         "2"
        ],
        [
         "10",
         "2",
         "1",
         "215",
         "156.34",
         "0",
         "1",
         "64",
         "2"
        ],
        [
         "11",
         "3",
         "1",
         "289",
         "84.48",
         "0",
         "1",
         "104",
         "2"
        ],
        [
         "12",
         "4",
         "1",
         "279",
         "33.1",
         "5",
         "1",
         "110",
         "2"
        ],
        [
         "13",
         "3",
         "1",
         "252",
         "80.13",
         "10",
         "1",
         "165",
         "2"
        ],
        [
         "14",
         "4",
         "1",
         "119",
         "14.39",
         "5",
         "1",
         "64",
         "2"
        ],
        [
         "15",
         "3",
         "1",
         "103",
         "38.79",
         "10",
         "1",
         "115",
         "2"
        ],
        [
         "16",
         "4",
         "1",
         "128",
         "21.21",
         "0",
         "1",
         "75",
         "2"
        ],
        [
         "17",
         "3",
         "1",
         "281",
         "54.4",
         "5",
         "1",
         "66",
         "2"
        ],
        [
         "18",
         "2",
         "1",
         "281",
         "95.56",
         "10",
         "1",
         "58",
         "2"
        ],
        [
         "19",
         "2",
         "1",
         "266",
         "100.47",
         "5",
         "1",
         "43",
         "2"
        ],
        [
         "20",
         "3",
         "2",
         "102",
         "90.89",
         "0",
         "0",
         "118",
         "2"
        ],
        [
         "21",
         "4",
         "2",
         "193",
         "25.68",
         "25",
         "0",
         "105",
         "2"
        ],
        [
         "22",
         "3",
         "2",
         "187",
         "95.17",
         "10",
         "0",
         "171",
         "2"
        ],
        [
         "23",
         "3",
         "2",
         "160",
         "39.54",
         "10",
         "0",
         "110",
         "2"
        ],
        [
         "24",
         "1",
         "2",
         "155",
         "92.35",
         "0",
         "0",
         "94",
         "2"
        ],
        [
         "25",
         "0",
         "2",
         "198",
         "64.0",
         "5",
         "0",
         "88",
         "2"
        ],
        [
         "26",
         "4",
         "2",
         "233",
         "25.47",
         "10",
         "0",
         "93",
         "2"
        ],
        [
         "27",
         "3",
         "2",
         "124",
         "25.63",
         "5",
         "0",
         "112",
         "2"
        ],
        [
         "28",
         "3",
         "2",
         "131",
         "64.84",
         "10",
         "0",
         "145",
         "2"
        ],
        [
         "29",
         "3",
         "2",
         "242",
         "117.17",
         "5",
         "0",
         "195",
         "2"
        ],
        [
         "30",
         "3",
         "2",
         "206",
         "84.71",
         "10",
         "0",
         "79",
         "2"
        ],
        [
         "31",
         "1",
         "2",
         "197",
         "78.86",
         "0",
         "0",
         "122",
         "2"
        ],
        [
         "32",
         "3",
         "2",
         "152",
         "21.76",
         "10",
         "0",
         "109",
         "2"
        ],
        [
         "33",
         "1",
         "2",
         "153",
         "100.18",
         "10",
         "0",
         "63",
         "2"
        ],
        [
         "34",
         "0",
         "2",
         "106",
         "65.19",
         "10",
         "0",
         "96",
         "2"
        ],
        [
         "35",
         "0",
         "2",
         "113",
         "111.87",
         "5",
         "0",
         "194",
         "2"
        ],
        [
         "36",
         "4",
         "2",
         "153",
         "18.89",
         "5",
         "0",
         "65",
         "2"
        ],
        [
         "37",
         "0",
         "2",
         "126",
         "27.67",
         "0",
         "0",
         "79",
         "2"
        ],
        [
         "38",
         "0",
         "2",
         "164",
         "83.09",
         "10",
         "0",
         "96",
         "2"
        ],
        [
         "39",
         "2",
         "2",
         "126",
         "125.8",
         "0",
         "0",
         "53",
         "2"
        ],
        [
         "40",
         "4",
         "0",
         "182",
         "16.85",
         "10",
         "2",
         "112",
         "2"
        ],
        [
         "41",
         "3",
         "0",
         "290",
         "50.42",
         "10",
         "2",
         "82",
         "2"
        ],
        [
         "42",
         "1",
         "0",
         "122",
         "83.17",
         "20",
         "2",
         "126",
         "2"
        ],
        [
         "43",
         "3",
         "0",
         "203",
         "26.29",
         "5",
         "2",
         "158",
         "2"
        ],
        [
         "44",
         "4",
         "0",
         "253",
         "19.8",
         "5",
         "2",
         "57",
         "2"
        ],
        [
         "45",
         "4",
         "0",
         "227",
         "44.64",
         "0",
         "2",
         "136",
         "2"
        ],
        [
         "46",
         "3",
         "0",
         "247",
         "18.65",
         "0",
         "2",
         "142",
         "2"
        ],
        [
         "47",
         "0",
         "0",
         "297",
         "113.01",
         "0",
         "2",
         "89",
         "2"
        ],
        [
         "48",
         "3",
         "0",
         "226",
         "56.32",
         "5",
         "2",
         "126",
         "2"
        ],
        [
         "49",
         "3",
         "0",
         "167",
         "36.21",
         "10",
         "2",
         "106",
         "2"
        ]
       ],
       "shape": {
        "columns": 8,
        "rows": 1722
       }
      },
      "text/html": [
       "<div>\n",
       "<style scoped>\n",
       "    .dataframe tbody tr th:only-of-type {\n",
       "        vertical-align: middle;\n",
       "    }\n",
       "\n",
       "    .dataframe tbody tr th {\n",
       "        vertical-align: top;\n",
       "    }\n",
       "\n",
       "    .dataframe thead th {\n",
       "        text-align: right;\n",
       "    }\n",
       "</style>\n",
       "<table border=\"1\" class=\"dataframe\">\n",
       "  <thead>\n",
       "    <tr style=\"text-align: right;\">\n",
       "      <th></th>\n",
       "      <th>Category</th>\n",
       "      <th>Region</th>\n",
       "      <th>Inventory Level</th>\n",
       "      <th>Price</th>\n",
       "      <th>Discount</th>\n",
       "      <th>Weather Condition</th>\n",
       "      <th>Demand</th>\n",
       "      <th>Weekday</th>\n",
       "    </tr>\n",
       "  </thead>\n",
       "  <tbody>\n",
       "    <tr>\n",
       "      <th>0</th>\n",
       "      <td>1</td>\n",
       "      <td>1</td>\n",
       "      <td>195</td>\n",
       "      <td>72.72</td>\n",
       "      <td>5</td>\n",
       "      <td>1</td>\n",
       "      <td>115</td>\n",
       "      <td>2</td>\n",
       "    </tr>\n",
       "    <tr>\n",
       "      <th>1</th>\n",
       "      <td>0</td>\n",
       "      <td>1</td>\n",
       "      <td>117</td>\n",
       "      <td>80.16</td>\n",
       "      <td>15</td>\n",
       "      <td>1</td>\n",
       "      <td>229</td>\n",
       "      <td>2</td>\n",
       "    </tr>\n",
       "    <tr>\n",
       "      <th>2</th>\n",
       "      <td>0</td>\n",
       "      <td>1</td>\n",
       "      <td>247</td>\n",
       "      <td>62.94</td>\n",
       "      <td>10</td>\n",
       "      <td>1</td>\n",
       "      <td>157</td>\n",
       "      <td>2</td>\n",
       "    </tr>\n",
       "    <tr>\n",
       "      <th>3</th>\n",
       "      <td>1</td>\n",
       "      <td>1</td>\n",
       "      <td>139</td>\n",
       "      <td>87.63</td>\n",
       "      <td>10</td>\n",
       "      <td>1</td>\n",
       "      <td>52</td>\n",
       "      <td>2</td>\n",
       "    </tr>\n",
       "    <tr>\n",
       "      <th>4</th>\n",
       "      <td>3</td>\n",
       "      <td>1</td>\n",
       "      <td>152</td>\n",
       "      <td>54.41</td>\n",
       "      <td>0</td>\n",
       "      <td>1</td>\n",
       "      <td>59</td>\n",
       "      <td>2</td>\n",
       "    </tr>\n",
       "    <tr>\n",
       "      <th>...</th>\n",
       "      <td>...</td>\n",
       "      <td>...</td>\n",
       "      <td>...</td>\n",
       "      <td>...</td>\n",
       "      <td>...</td>\n",
       "      <td>...</td>\n",
       "      <td>...</td>\n",
       "      <td>...</td>\n",
       "    </tr>\n",
       "    <tr>\n",
       "      <th>1717</th>\n",
       "      <td>3</td>\n",
       "      <td>1</td>\n",
       "      <td>129</td>\n",
       "      <td>62.83</td>\n",
       "      <td>10</td>\n",
       "      <td>0</td>\n",
       "      <td>143</td>\n",
       "      <td>5</td>\n",
       "    </tr>\n",
       "    <tr>\n",
       "      <th>1718</th>\n",
       "      <td>2</td>\n",
       "      <td>1</td>\n",
       "      <td>104</td>\n",
       "      <td>98.97</td>\n",
       "      <td>10</td>\n",
       "      <td>0</td>\n",
       "      <td>54</td>\n",
       "      <td>5</td>\n",
       "    </tr>\n",
       "    <tr>\n",
       "      <th>1719</th>\n",
       "      <td>2</td>\n",
       "      <td>1</td>\n",
       "      <td>494</td>\n",
       "      <td>111.25</td>\n",
       "      <td>10</td>\n",
       "      <td>0</td>\n",
       "      <td>70</td>\n",
       "      <td>5</td>\n",
       "    </tr>\n",
       "    <tr>\n",
       "      <th>1720</th>\n",
       "      <td>3</td>\n",
       "      <td>2</td>\n",
       "      <td>625</td>\n",
       "      <td>69.62</td>\n",
       "      <td>5</td>\n",
       "      <td>1</td>\n",
       "      <td>69</td>\n",
       "      <td>5</td>\n",
       "    </tr>\n",
       "    <tr>\n",
       "      <th>1721</th>\n",
       "      <td>4</td>\n",
       "      <td>2</td>\n",
       "      <td>334</td>\n",
       "      <td>27.53</td>\n",
       "      <td>10</td>\n",
       "      <td>1</td>\n",
       "      <td>72</td>\n",
       "      <td>5</td>\n",
       "    </tr>\n",
       "  </tbody>\n",
       "</table>\n",
       "<p>1722 rows × 8 columns</p>\n",
       "</div>"
      ],
      "text/plain": [
       "      Category  Region  Inventory Level   Price  Discount  Weather Condition  \\\n",
       "0            1       1              195   72.72         5                  1   \n",
       "1            0       1              117   80.16        15                  1   \n",
       "2            0       1              247   62.94        10                  1   \n",
       "3            1       1              139   87.63        10                  1   \n",
       "4            3       1              152   54.41         0                  1   \n",
       "...        ...     ...              ...     ...       ...                ...   \n",
       "1717         3       1              129   62.83        10                  0   \n",
       "1718         2       1              104   98.97        10                  0   \n",
       "1719         2       1              494  111.25        10                  0   \n",
       "1720         3       2              625   69.62         5                  1   \n",
       "1721         4       2              334   27.53        10                  1   \n",
       "\n",
       "      Demand  Weekday  \n",
       "0        115        2  \n",
       "1        229        2  \n",
       "2        157        2  \n",
       "3         52        2  \n",
       "4         59        2  \n",
       "...      ...      ...  \n",
       "1717     143        5  \n",
       "1718      54        5  \n",
       "1719      70        5  \n",
       "1720      69        5  \n",
       "1721      72        5  \n",
       "\n",
       "[1722 rows x 8 columns]"
      ]
     },
     "execution_count": 43,
     "metadata": {},
     "output_type": "execute_result"
    }
   ],
   "source": [
    "# We check if X equals all other attributes than Promotion to predict this attribute \n",
    "X"
   ]
  },
  {
   "cell_type": "markdown",
   "id": "39dfce2d",
   "metadata": {},
   "source": [
    "# 2. Split the data with Split Validation"
   ]
  },
  {
   "cell_type": "code",
   "execution_count": 44,
   "id": "a89571c5",
   "metadata": {},
   "outputs": [
    {
     "data": {
      "application/vnd.microsoft.datawrangler.viewer.v0+json": {
       "columns": [
        {
         "name": "Promotion",
         "rawType": "int64",
         "type": "integer"
        },
        {
         "name": "count",
         "rawType": "int64",
         "type": "integer"
        }
       ],
       "ref": "5245aca0-27a4-49bc-8cf8-0c1ce1d149cb",
       "rows": [
        [
         "0",
         "1097"
        ],
        [
         "1",
         "625"
        ]
       ],
       "shape": {
        "columns": 1,
        "rows": 2
       }
      },
      "text/plain": [
       "Promotion\n",
       "0    1097\n",
       "1     625\n",
       "Name: count, dtype: int64"
      ]
     },
     "execution_count": 44,
     "metadata": {},
     "output_type": "execute_result"
    }
   ],
   "source": [
    "# We check the imbalance of the data set to get further information for potential data augmentation techniques\n",
    "y.value_counts()"
   ]
  },
  {
   "cell_type": "code",
   "execution_count": 45,
   "id": "467eead9",
   "metadata": {},
   "outputs": [
    {
     "name": "stdout",
     "output_type": "stream",
     "text": [
      "Before: Counter({0: 743, 1: 410})\n"
     ]
    }
   ],
   "source": [
    "# We split our Data into test and train Data so we can later train on the train data and measure the performance on the test data\n",
    "X_train, X_test, y_train, y_test = train_test_split(X, y, test_size=0.33, random_state=42)\n",
    "X_train.shape, X_test.shape\n",
    "print(\"Before:\", Counter(y_train))"
   ]
  },
  {
   "cell_type": "markdown",
   "id": "95ed2653",
   "metadata": {},
   "source": [
    "# 3. Split the data with Cross Validation"
   ]
  },
  {
   "cell_type": "code",
   "execution_count": 46,
   "id": "b482b2a8",
   "metadata": {},
   "outputs": [],
   "source": [
    "# We use stratified cross validation to get a robust model with the same class balances in each fold\n",
    "kf = StratifiedKFold(n_splits=10, shuffle=True, random_state=42)"
   ]
  },
  {
   "cell_type": "markdown",
   "id": "ef799b71",
   "metadata": {},
   "source": [
    "## 3.3 Entropy - No SMOTE"
   ]
  },
  {
   "cell_type": "code",
   "execution_count": 47,
   "id": "5b544df5",
   "metadata": {},
   "outputs": [],
   "source": [
    "# We use the best parameters that we have derived before\n",
    "best_params_entropy = {'max_depth': 3, 'min_samples_split': 2, 'min_samples_leaf': 2}"
   ]
  },
  {
   "cell_type": "code",
   "execution_count": 48,
   "id": "f87e27a3",
   "metadata": {},
   "outputs": [
    {
     "name": "stdout",
     "output_type": "stream",
     "text": [
      "[0.92485549 0.90751445 0.88372093 0.89534884 0.87209302 0.88953488\n",
      " 0.88372093 0.91860465 0.90116279 0.88372093]\n"
     ]
    },
    {
     "data": {
      "text/plain": [
       "np.float64(0.8960276918940717)"
      ]
     },
     "execution_count": 48,
     "metadata": {},
     "output_type": "execute_result"
    }
   ],
   "source": [
    "# We start with building trees based on the cross validation\n",
    "# We see that we have a robust model because our accuracy score is independant of the data combinations\n",
    "# Our average accuracy is the mean of the different scores\n",
    "score = cross_val_score(tree.DecisionTreeClassifier(criterion='entropy', splitter='best', **best_params_entropy, random_state=42), X, y, cv=kf, scoring=\"accuracy\")\n",
    "print(score)\n",
    "average_accuracy = score.mean()\n",
    "average_accuracy"
   ]
  },
  {
   "cell_type": "code",
   "execution_count": 49,
   "id": "2e4c301d",
   "metadata": {},
   "outputs": [
    {
     "data": {
      "text/plain": [
       "0.8857644991212654"
      ]
     },
     "execution_count": 49,
     "metadata": {},
     "output_type": "execute_result"
    }
   ],
   "source": [
    "# We now want to find the best parameters based on the cross validation\n",
    "# We start with a tree with no specified parameters\n",
    "dt_noparam = DecisionTreeClassifier(criterion='entropy', splitter='best', random_state=42)\n",
    "dt_noparam.fit(X_train, y_train)\n",
    "y_pred = dt_noparam.predict(X_test)\n",
    "accuracy_score(y_test, y_pred)"
   ]
  },
  {
   "cell_type": "code",
   "execution_count": 50,
   "id": "26bd9fa0",
   "metadata": {},
   "outputs": [
    {
     "data": {
      "text/plain": [
       "[Text(0.6570564516129033, 0.9772727272727273, 'Discount <= 12.5\\nentropy = 0.939\\nsamples = 1153\\nvalue = [743.0, 410.0]\\nclass = 0'),\n",
       " Text(0.6441532258064516, 0.9318181818181818, 'Discount <= 7.5\\nentropy = 0.555\\nsamples = 853\\nvalue = [743.0, 110.0]\\nclass = 0'),\n",
       " Text(0.6506048387096774, 0.9545454545454546, 'True  '),\n",
       " Text(0.63125, 0.8863636363636364, 'entropy = 0.0\\nsamples = 476\\nvalue = [476, 0]\\nclass = 0'),\n",
       " Text(0.6570564516129033, 0.8863636363636364, 'Demand <= 145.5\\nentropy = 0.871\\nsamples = 377\\nvalue = [267, 110]\\nclass = 0'),\n",
       " Text(0.41088709677419355, 0.8409090909090909, 'Price <= 159.95\\nentropy = 0.776\\nsamples = 306\\nvalue = [236, 70]\\nclass = 0'),\n",
       " Text(0.2540322580645161, 0.7954545454545454, 'Inventory Level <= 100.5\\nentropy = 0.754\\nsamples = 300\\nvalue = [235, 65]\\nclass = 0'),\n",
       " Text(0.07741935483870968, 0.75, 'Weekday <= 1.5\\nentropy = 0.371\\nsamples = 42\\nvalue = [39, 3]\\nclass = 0'),\n",
       " Text(0.06451612903225806, 0.7045454545454546, 'Price <= 44.86\\nentropy = 0.811\\nsamples = 12\\nvalue = [9, 3]\\nclass = 0'),\n",
       " Text(0.05161290322580645, 0.6590909090909091, 'entropy = 0.0\\nsamples = 5\\nvalue = [5, 0]\\nclass = 0'),\n",
       " Text(0.07741935483870968, 0.6590909090909091, 'Inventory Level <= 44.5\\nentropy = 0.985\\nsamples = 7\\nvalue = [4, 3]\\nclass = 0'),\n",
       " Text(0.06451612903225806, 0.6136363636363636, 'entropy = 0.0\\nsamples = 3\\nvalue = [0, 3]\\nclass = 1'),\n",
       " Text(0.09032258064516129, 0.6136363636363636, 'entropy = 0.0\\nsamples = 4\\nvalue = [4, 0]\\nclass = 0'),\n",
       " Text(0.09032258064516129, 0.7045454545454546, 'entropy = 0.0\\nsamples = 30\\nvalue = [30, 0]\\nclass = 0'),\n",
       " Text(0.4306451612903226, 0.75, 'Price <= 42.935\\nentropy = 0.796\\nsamples = 258\\nvalue = [196, 62]\\nclass = 0'),\n",
       " Text(0.3193548387096774, 0.7045454545454546, 'Price <= 38.805\\nentropy = 0.9\\nsamples = 98\\nvalue = [67, 31]\\nclass = 0'),\n",
       " Text(0.23870967741935484, 0.6590909090909091, 'Inventory Level <= 664.5\\nentropy = 0.859\\nsamples = 92\\nvalue = [66.0, 26.0]\\nclass = 0'),\n",
       " Text(0.11612903225806452, 0.6136363636363636, 'Region <= 0.5\\nentropy = 0.811\\nsamples = 84\\nvalue = [63, 21]\\nclass = 0'),\n",
       " Text(0.03870967741935484, 0.5681818181818182, 'Weekday <= 5.0\\nentropy = 0.371\\nsamples = 14\\nvalue = [13, 1]\\nclass = 0'),\n",
       " Text(0.025806451612903226, 0.5227272727272727, 'entropy = 0.0\\nsamples = 12\\nvalue = [12, 0]\\nclass = 0'),\n",
       " Text(0.05161290322580645, 0.5227272727272727, 'Price <= 24.765\\nentropy = 1.0\\nsamples = 2\\nvalue = [1, 1]\\nclass = 0'),\n",
       " Text(0.03870967741935484, 0.4772727272727273, 'entropy = 0.0\\nsamples = 1\\nvalue = [1, 0]\\nclass = 0'),\n",
       " Text(0.06451612903225806, 0.4772727272727273, 'entropy = 0.0\\nsamples = 1\\nvalue = [0, 1]\\nclass = 1'),\n",
       " Text(0.1935483870967742, 0.5681818181818182, 'Demand <= 107.5\\nentropy = 0.863\\nsamples = 70\\nvalue = [50, 20]\\nclass = 0'),\n",
       " Text(0.11612903225806452, 0.5227272727272727, 'Demand <= 86.5\\nentropy = 0.747\\nsamples = 47\\nvalue = [37, 10]\\nclass = 0'),\n",
       " Text(0.09032258064516129, 0.4772727272727273, 'Demand <= 83.0\\nentropy = 0.949\\nsamples = 19\\nvalue = [12, 7]\\nclass = 0'),\n",
       " Text(0.07741935483870968, 0.4318181818181818, 'Price <= 28.08\\nentropy = 0.874\\nsamples = 17\\nvalue = [12, 5]\\nclass = 0'),\n",
       " Text(0.06451612903225806, 0.38636363636363635, 'Price <= 26.94\\nentropy = 0.994\\nsamples = 11\\nvalue = [6, 5]\\nclass = 0'),\n",
       " Text(0.05161290322580645, 0.3409090909090909, 'Region <= 1.5\\nentropy = 0.918\\nsamples = 9\\nvalue = [6, 3]\\nclass = 0'),\n",
       " Text(0.03870967741935484, 0.29545454545454547, 'Demand <= 71.0\\nentropy = 1.0\\nsamples = 6\\nvalue = [3, 3]\\nclass = 0'),\n",
       " Text(0.025806451612903226, 0.25, 'Price <= 6.165\\nentropy = 0.811\\nsamples = 4\\nvalue = [3, 1]\\nclass = 0'),\n",
       " Text(0.012903225806451613, 0.20454545454545456, 'entropy = 0.0\\nsamples = 1\\nvalue = [0, 1]\\nclass = 1'),\n",
       " Text(0.03870967741935484, 0.20454545454545456, 'entropy = 0.0\\nsamples = 3\\nvalue = [3, 0]\\nclass = 0'),\n",
       " Text(0.05161290322580645, 0.25, 'entropy = 0.0\\nsamples = 2\\nvalue = [0, 2]\\nclass = 1'),\n",
       " Text(0.06451612903225806, 0.29545454545454547, 'entropy = 0.0\\nsamples = 3\\nvalue = [3, 0]\\nclass = 0'),\n",
       " Text(0.07741935483870968, 0.3409090909090909, 'entropy = 0.0\\nsamples = 2\\nvalue = [0, 2]\\nclass = 1'),\n",
       " Text(0.09032258064516129, 0.38636363636363635, 'entropy = 0.0\\nsamples = 6\\nvalue = [6, 0]\\nclass = 0'),\n",
       " Text(0.1032258064516129, 0.4318181818181818, 'entropy = 0.0\\nsamples = 2\\nvalue = [0, 2]\\nclass = 1'),\n",
       " Text(0.14193548387096774, 0.4772727272727273, 'Price <= 31.365\\nentropy = 0.491\\nsamples = 28\\nvalue = [25, 3]\\nclass = 0'),\n",
       " Text(0.12903225806451613, 0.4318181818181818, 'entropy = 0.0\\nsamples = 19\\nvalue = [19, 0]\\nclass = 0'),\n",
       " Text(0.15483870967741936, 0.4318181818181818, 'Demand <= 95.5\\nentropy = 0.918\\nsamples = 9\\nvalue = [6, 3]\\nclass = 0'),\n",
       " Text(0.14193548387096774, 0.38636363636363635, 'entropy = 0.0\\nsamples = 5\\nvalue = [5, 0]\\nclass = 0'),\n",
       " Text(0.16774193548387098, 0.38636363636363635, 'Demand <= 105.0\\nentropy = 0.811\\nsamples = 4\\nvalue = [1, 3]\\nclass = 1'),\n",
       " Text(0.15483870967741936, 0.3409090909090909, 'entropy = 0.0\\nsamples = 3\\nvalue = [0, 3]\\nclass = 1'),\n",
       " Text(0.18064516129032257, 0.3409090909090909, 'entropy = 0.0\\nsamples = 1\\nvalue = [1, 0]\\nclass = 0'),\n",
       " Text(0.2709677419354839, 0.5227272727272727, 'Price <= 37.665\\nentropy = 0.988\\nsamples = 23\\nvalue = [13.0, 10.0]\\nclass = 0'),\n",
       " Text(0.25806451612903225, 0.4772727272727273, 'Weekday <= 2.5\\nentropy = 0.959\\nsamples = 21\\nvalue = [13, 8]\\nclass = 0'),\n",
       " Text(0.23225806451612904, 0.4318181818181818, 'Price <= 34.005\\nentropy = 0.98\\nsamples = 12\\nvalue = [5, 7]\\nclass = 1'),\n",
       " Text(0.21935483870967742, 0.38636363636363635, 'Demand <= 126.5\\nentropy = 0.881\\nsamples = 10\\nvalue = [3, 7]\\nclass = 1'),\n",
       " Text(0.2064516129032258, 0.3409090909090909, 'Inventory Level <= 129.0\\nentropy = 0.985\\nsamples = 7\\nvalue = [3, 4]\\nclass = 1'),\n",
       " Text(0.1935483870967742, 0.29545454545454547, 'entropy = 0.0\\nsamples = 2\\nvalue = [0, 2]\\nclass = 1'),\n",
       " Text(0.21935483870967742, 0.29545454545454547, 'Inventory Level <= 148.5\\nentropy = 0.971\\nsamples = 5\\nvalue = [3, 2]\\nclass = 0'),\n",
       " Text(0.2064516129032258, 0.25, 'entropy = 0.0\\nsamples = 2\\nvalue = [2, 0]\\nclass = 0'),\n",
       " Text(0.23225806451612904, 0.25, 'Demand <= 119.0\\nentropy = 0.918\\nsamples = 3\\nvalue = [1, 2]\\nclass = 1'),\n",
       " Text(0.21935483870967742, 0.20454545454545456, 'entropy = 0.0\\nsamples = 2\\nvalue = [0, 2]\\nclass = 1'),\n",
       " Text(0.24516129032258063, 0.20454545454545456, 'entropy = 0.0\\nsamples = 1\\nvalue = [1, 0]\\nclass = 0'),\n",
       " Text(0.23225806451612904, 0.3409090909090909, 'entropy = 0.0\\nsamples = 3\\nvalue = [0, 3]\\nclass = 1'),\n",
       " Text(0.24516129032258063, 0.38636363636363635, 'entropy = 0.0\\nsamples = 2\\nvalue = [2, 0]\\nclass = 0'),\n",
       " Text(0.2838709677419355, 0.4318181818181818, 'Price <= 15.54\\nentropy = 0.503\\nsamples = 9\\nvalue = [8, 1]\\nclass = 0'),\n",
       " Text(0.2709677419354839, 0.38636363636363635, 'Inventory Level <= 152.0\\nentropy = 1.0\\nsamples = 2\\nvalue = [1, 1]\\nclass = 0'),\n",
       " Text(0.25806451612903225, 0.3409090909090909, 'entropy = 0.0\\nsamples = 1\\nvalue = [0, 1]\\nclass = 1'),\n",
       " Text(0.2838709677419355, 0.3409090909090909, 'entropy = 0.0\\nsamples = 1\\nvalue = [1, 0]\\nclass = 0'),\n",
       " Text(0.2967741935483871, 0.38636363636363635, 'entropy = 0.0\\nsamples = 7\\nvalue = [7, 0]\\nclass = 0'),\n",
       " Text(0.2838709677419355, 0.4772727272727273, 'entropy = 0.0\\nsamples = 2\\nvalue = [0, 2]\\nclass = 1'),\n",
       " Text(0.36129032258064514, 0.6136363636363636, 'Weekday <= 2.5\\nentropy = 0.954\\nsamples = 8\\nvalue = [3, 5]\\nclass = 1'),\n",
       " Text(0.34838709677419355, 0.5681818181818182, 'Region <= 1.5\\nentropy = 1.0\\nsamples = 6\\nvalue = [3, 3]\\nclass = 0'),\n",
       " Text(0.33548387096774196, 0.5227272727272727, 'Region <= 0.5\\nentropy = 0.811\\nsamples = 4\\nvalue = [1, 3]\\nclass = 1'),\n",
       " Text(0.3225806451612903, 0.4772727272727273, 'Inventory Level <= 942.5\\nentropy = 1.0\\nsamples = 2\\nvalue = [1, 1]\\nclass = 0'),\n",
       " Text(0.3096774193548387, 0.4318181818181818, 'entropy = 0.0\\nsamples = 1\\nvalue = [1, 0]\\nclass = 0'),\n",
       " Text(0.33548387096774196, 0.4318181818181818, 'entropy = 0.0\\nsamples = 1\\nvalue = [0, 1]\\nclass = 1'),\n",
       " Text(0.34838709677419355, 0.4772727272727273, 'entropy = 0.0\\nsamples = 2\\nvalue = [0, 2]\\nclass = 1'),\n",
       " Text(0.36129032258064514, 0.5227272727272727, 'entropy = 0.0\\nsamples = 2\\nvalue = [2, 0]\\nclass = 0'),\n",
       " Text(0.3741935483870968, 0.5681818181818182, 'entropy = 0.0\\nsamples = 2\\nvalue = [0, 2]\\nclass = 1'),\n",
       " Text(0.4, 0.6590909090909091, 'Demand <= 70.0\\nentropy = 0.65\\nsamples = 6\\nvalue = [1, 5]\\nclass = 1'),\n",
       " Text(0.3870967741935484, 0.6136363636363636, 'entropy = 0.0\\nsamples = 1\\nvalue = [1, 0]\\nclass = 0'),\n",
       " Text(0.4129032258064516, 0.6136363636363636, 'entropy = 0.0\\nsamples = 5\\nvalue = [0, 5]\\nclass = 1'),\n",
       " Text(0.5419354838709678, 0.7045454545454546, 'Demand <= 127.5\\nentropy = 0.709\\nsamples = 160\\nvalue = [129, 31]\\nclass = 0'),\n",
       " Text(0.4645161290322581, 0.6590909090909091, 'Price <= 70.01\\nentropy = 0.635\\nsamples = 131\\nvalue = [110, 21]\\nclass = 0'),\n",
       " Text(0.43870967741935485, 0.6136363636363636, 'Price <= 58.015\\nentropy = 0.371\\nsamples = 42\\nvalue = [39, 3]\\nclass = 0'),\n",
       " Text(0.4258064516129032, 0.5681818181818182, 'Price <= 57.71\\nentropy = 0.592\\nsamples = 21\\nvalue = [18, 3]\\nclass = 0'),\n",
       " Text(0.4129032258064516, 0.5227272727272727, 'Demand <= 82.5\\nentropy = 0.469\\nsamples = 20\\nvalue = [18, 2]\\nclass = 0'),\n",
       " Text(0.4, 0.4772727272727273, 'Demand <= 70.0\\nentropy = 0.811\\nsamples = 8\\nvalue = [6, 2]\\nclass = 0'),\n",
       " Text(0.3870967741935484, 0.4318181818181818, 'entropy = 0.0\\nsamples = 4\\nvalue = [4, 0]\\nclass = 0'),\n",
       " Text(0.4129032258064516, 0.4318181818181818, 'Price <= 50.315\\nentropy = 1.0\\nsamples = 4\\nvalue = [2, 2]\\nclass = 0'),\n",
       " Text(0.4, 0.38636363636363635, 'entropy = 0.0\\nsamples = 2\\nvalue = [2, 0]\\nclass = 0'),\n",
       " Text(0.4258064516129032, 0.38636363636363635, 'entropy = 0.0\\nsamples = 2\\nvalue = [0, 2]\\nclass = 1'),\n",
       " Text(0.4258064516129032, 0.4772727272727273, 'entropy = 0.0\\nsamples = 12\\nvalue = [12, 0]\\nclass = 0'),\n",
       " Text(0.43870967741935485, 0.5227272727272727, 'entropy = 0.0\\nsamples = 1\\nvalue = [0, 1]\\nclass = 1'),\n",
       " Text(0.45161290322580644, 0.5681818181818182, 'entropy = 0.0\\nsamples = 21\\nvalue = [21, 0]\\nclass = 0'),\n",
       " Text(0.49032258064516127, 0.6136363636363636, 'Price <= 70.71\\nentropy = 0.726\\nsamples = 89\\nvalue = [71, 18]\\nclass = 0'),\n",
       " Text(0.4774193548387097, 0.5681818181818182, 'entropy = 0.0\\nsamples = 1\\nvalue = [0, 1]\\nclass = 1'),\n",
       " Text(0.5032258064516129, 0.5681818181818182, 'Inventory Level <= 109.0\\nentropy = 0.708\\nsamples = 88\\nvalue = [71, 17]\\nclass = 0'),\n",
       " Text(0.49032258064516127, 0.5227272727272727, 'entropy = 0.0\\nsamples = 1\\nvalue = [0, 1]\\nclass = 1'),\n",
       " Text(0.5161290322580645, 0.5227272727272727, 'Inventory Level <= 131.5\\nentropy = 0.689\\nsamples = 87\\nvalue = [71, 16]\\nclass = 0'),\n",
       " Text(0.5032258064516129, 0.4772727272727273, 'entropy = 0.0\\nsamples = 9\\nvalue = [9, 0]\\nclass = 0'),\n",
       " Text(0.5290322580645161, 0.4772727272727273, 'Inventory Level <= 136.0\\nentropy = 0.732\\nsamples = 78\\nvalue = [62.0, 16.0]\\nclass = 0'),\n",
       " Text(0.5161290322580645, 0.4318181818181818, 'entropy = 0.0\\nsamples = 1\\nvalue = [0, 1]\\nclass = 1'),\n",
       " Text(0.5419354838709678, 0.4318181818181818, 'Demand <= 83.0\\nentropy = 0.711\\nsamples = 77\\nvalue = [62, 15]\\nclass = 0'),\n",
       " Text(0.5161290322580645, 0.38636363636363635, 'Demand <= 80.0\\nentropy = 0.842\\nsamples = 37\\nvalue = [27, 10]\\nclass = 0'),\n",
       " Text(0.5032258064516129, 0.3409090909090909, 'Inventory Level <= 563.0\\nentropy = 0.776\\nsamples = 35\\nvalue = [27, 8]\\nclass = 0'),\n",
       " Text(0.49032258064516127, 0.29545454545454547, 'Inventory Level <= 505.5\\nentropy = 0.85\\nsamples = 29\\nvalue = [21, 8]\\nclass = 0'),\n",
       " Text(0.4774193548387097, 0.25, 'Weather Condition <= 1.5\\nentropy = 0.764\\nsamples = 27\\nvalue = [21, 6]\\nclass = 0'),\n",
       " Text(0.44516129032258067, 0.20454545454545456, 'Weekday <= 0.5\\nentropy = 0.575\\nsamples = 22\\nvalue = [19, 3]\\nclass = 0'),\n",
       " Text(0.432258064516129, 0.1590909090909091, 'entropy = 0.0\\nsamples = 1\\nvalue = [0, 1]\\nclass = 1'),\n",
       " Text(0.45806451612903226, 0.1590909090909091, 'Demand <= 76.5\\nentropy = 0.454\\nsamples = 21\\nvalue = [19, 2]\\nclass = 0'),\n",
       " Text(0.432258064516129, 0.11363636363636363, 'Category <= 1.5\\nentropy = 0.297\\nsamples = 19\\nvalue = [18, 1]\\nclass = 0'),\n",
       " Text(0.41935483870967744, 0.06818181818181818, 'Price <= 93.905\\nentropy = 0.918\\nsamples = 3\\nvalue = [2, 1]\\nclass = 0'),\n",
       " Text(0.4064516129032258, 0.022727272727272728, 'entropy = 0.0\\nsamples = 2\\nvalue = [2, 0]\\nclass = 0'),\n",
       " Text(0.432258064516129, 0.022727272727272728, 'entropy = 0.0\\nsamples = 1\\nvalue = [0, 1]\\nclass = 1'),\n",
       " Text(0.44516129032258067, 0.06818181818181818, 'entropy = 0.0\\nsamples = 16\\nvalue = [16, 0]\\nclass = 0'),\n",
       " Text(0.4838709677419355, 0.11363636363636363, 'Weekday <= 4.5\\nentropy = 1.0\\nsamples = 2\\nvalue = [1, 1]\\nclass = 0'),\n",
       " Text(0.47096774193548385, 0.06818181818181818, 'entropy = 0.0\\nsamples = 1\\nvalue = [1, 0]\\nclass = 0'),\n",
       " Text(0.4967741935483871, 0.06818181818181818, 'entropy = 0.0\\nsamples = 1\\nvalue = [0, 1]\\nclass = 1'),\n",
       " Text(0.5096774193548387, 0.20454545454545456, 'Inventory Level <= 191.0\\nentropy = 0.971\\nsamples = 5\\nvalue = [2, 3]\\nclass = 1'),\n",
       " Text(0.4967741935483871, 0.1590909090909091, 'entropy = 0.0\\nsamples = 2\\nvalue = [0, 2]\\nclass = 1'),\n",
       " Text(0.5225806451612903, 0.1590909090909091, 'Weekday <= 5.5\\nentropy = 0.918\\nsamples = 3\\nvalue = [2, 1]\\nclass = 0'),\n",
       " Text(0.5096774193548387, 0.11363636363636363, 'entropy = 0.0\\nsamples = 2\\nvalue = [2, 0]\\nclass = 0'),\n",
       " Text(0.535483870967742, 0.11363636363636363, 'entropy = 0.0\\nsamples = 1\\nvalue = [0, 1]\\nclass = 1'),\n",
       " Text(0.5032258064516129, 0.25, 'entropy = 0.0\\nsamples = 2\\nvalue = [0, 2]\\nclass = 1'),\n",
       " Text(0.5161290322580645, 0.29545454545454547, 'entropy = 0.0\\nsamples = 6\\nvalue = [6, 0]\\nclass = 0'),\n",
       " Text(0.5290322580645161, 0.3409090909090909, 'entropy = 0.0\\nsamples = 2\\nvalue = [0, 2]\\nclass = 1'),\n",
       " Text(0.567741935483871, 0.38636363636363635, 'Category <= 1.5\\nentropy = 0.544\\nsamples = 40\\nvalue = [35, 5]\\nclass = 0'),\n",
       " Text(0.5548387096774193, 0.3409090909090909, 'entropy = 0.0\\nsamples = 16\\nvalue = [16, 0]\\nclass = 0'),\n",
       " Text(0.5806451612903226, 0.3409090909090909, 'Demand <= 90.5\\nentropy = 0.738\\nsamples = 24\\nvalue = [19, 5]\\nclass = 0'),\n",
       " Text(0.567741935483871, 0.29545454545454547, 'entropy = 0.0\\nsamples = 7\\nvalue = [7, 0]\\nclass = 0'),\n",
       " Text(0.5935483870967742, 0.29545454545454547, 'Demand <= 91.5\\nentropy = 0.874\\nsamples = 17\\nvalue = [12, 5]\\nclass = 0'),\n",
       " Text(0.5806451612903226, 0.25, 'entropy = 0.0\\nsamples = 1\\nvalue = [0, 1]\\nclass = 1'),\n",
       " Text(0.6064516129032258, 0.25, 'Demand <= 121.5\\nentropy = 0.811\\nsamples = 16\\nvalue = [12, 4]\\nclass = 0'),\n",
       " Text(0.5806451612903226, 0.20454545454545456, 'Weekday <= 2.5\\nentropy = 0.619\\nsamples = 13\\nvalue = [11, 2]\\nclass = 0'),\n",
       " Text(0.567741935483871, 0.1590909090909091, 'entropy = 0.0\\nsamples = 4\\nvalue = [4, 0]\\nclass = 0'),\n",
       " Text(0.5935483870967742, 0.1590909090909091, 'Inventory Level <= 168.0\\nentropy = 0.764\\nsamples = 9\\nvalue = [7, 2]\\nclass = 0'),\n",
       " Text(0.5806451612903226, 0.11363636363636363, 'entropy = 0.0\\nsamples = 1\\nvalue = [0, 1]\\nclass = 1'),\n",
       " Text(0.6064516129032258, 0.11363636363636363, 'Price <= 79.1\\nentropy = 0.544\\nsamples = 8\\nvalue = [7, 1]\\nclass = 0'),\n",
       " Text(0.5935483870967742, 0.06818181818181818, 'Demand <= 111.0\\nentropy = 1.0\\nsamples = 2\\nvalue = [1, 1]\\nclass = 0'),\n",
       " Text(0.5806451612903226, 0.022727272727272728, 'entropy = 0.0\\nsamples = 1\\nvalue = [0, 1]\\nclass = 1'),\n",
       " Text(0.6064516129032258, 0.022727272727272728, 'entropy = 0.0\\nsamples = 1\\nvalue = [1, 0]\\nclass = 0'),\n",
       " Text(0.6193548387096774, 0.06818181818181818, 'entropy = 0.0\\nsamples = 6\\nvalue = [6, 0]\\nclass = 0'),\n",
       " Text(0.632258064516129, 0.20454545454545456, 'Weekday <= 1.5\\nentropy = 0.918\\nsamples = 3\\nvalue = [1, 2]\\nclass = 1'),\n",
       " Text(0.6193548387096774, 0.1590909090909091, 'entropy = 0.0\\nsamples = 1\\nvalue = [1, 0]\\nclass = 0'),\n",
       " Text(0.6451612903225806, 0.1590909090909091, 'entropy = 0.0\\nsamples = 2\\nvalue = [0, 2]\\nclass = 1'),\n",
       " Text(0.6193548387096774, 0.6590909090909091, 'Demand <= 135.0\\nentropy = 0.929\\nsamples = 29\\nvalue = [19, 10]\\nclass = 0'),\n",
       " Text(0.5935483870967742, 0.6136363636363636, 'Weather Condition <= 1.5\\nentropy = 0.985\\nsamples = 14\\nvalue = [6, 8]\\nclass = 1'),\n",
       " Text(0.5806451612903226, 0.5681818181818182, 'Weather Condition <= 0.5\\nentropy = 0.722\\nsamples = 10\\nvalue = [2, 8]\\nclass = 1'),\n",
       " Text(0.567741935483871, 0.5227272727272727, 'Demand <= 132.0\\nentropy = 1.0\\nsamples = 4\\nvalue = [2, 2]\\nclass = 0'),\n",
       " Text(0.5548387096774193, 0.4772727272727273, 'entropy = 0.0\\nsamples = 2\\nvalue = [2, 0]\\nclass = 0'),\n",
       " Text(0.5806451612903226, 0.4772727272727273, 'entropy = 0.0\\nsamples = 2\\nvalue = [0, 2]\\nclass = 1'),\n",
       " Text(0.5935483870967742, 0.5227272727272727, 'entropy = 0.0\\nsamples = 6\\nvalue = [0, 6]\\nclass = 1'),\n",
       " Text(0.6064516129032258, 0.5681818181818182, 'entropy = 0.0\\nsamples = 4\\nvalue = [4, 0]\\nclass = 0'),\n",
       " Text(0.6451612903225806, 0.6136363636363636, 'Region <= 0.5\\nentropy = 0.567\\nsamples = 15\\nvalue = [13, 2]\\nclass = 0'),\n",
       " Text(0.632258064516129, 0.5681818181818182, 'entropy = 0.0\\nsamples = 1\\nvalue = [0, 1]\\nclass = 1'),\n",
       " Text(0.6580645161290323, 0.5681818181818182, 'Price <= 85.765\\nentropy = 0.371\\nsamples = 14\\nvalue = [13, 1]\\nclass = 0'),\n",
       " Text(0.6451612903225806, 0.5227272727272727, 'entropy = 0.0\\nsamples = 12\\nvalue = [12, 0]\\nclass = 0'),\n",
       " Text(0.6709677419354839, 0.5227272727272727, 'Weather Condition <= 0.5\\nentropy = 1.0\\nsamples = 2\\nvalue = [1, 1]\\nclass = 0'),\n",
       " Text(0.6580645161290323, 0.4772727272727273, 'entropy = 0.0\\nsamples = 1\\nvalue = [1, 0]\\nclass = 0'),\n",
       " Text(0.6838709677419355, 0.4772727272727273, 'entropy = 0.0\\nsamples = 1\\nvalue = [0, 1]\\nclass = 1'),\n",
       " Text(0.567741935483871, 0.7954545454545454, 'Region <= 2.0\\nentropy = 0.65\\nsamples = 6\\nvalue = [1, 5]\\nclass = 1'),\n",
       " Text(0.5548387096774193, 0.75, 'entropy = 0.0\\nsamples = 4\\nvalue = [0, 4]\\nclass = 1'),\n",
       " Text(0.5806451612903226, 0.75, 'Weekday <= 4.0\\nentropy = 1.0\\nsamples = 2\\nvalue = [1, 1]\\nclass = 0'),\n",
       " Text(0.567741935483871, 0.7045454545454546, 'entropy = 0.0\\nsamples = 1\\nvalue = [1, 0]\\nclass = 0'),\n",
       " Text(0.5935483870967742, 0.7045454545454546, 'entropy = 0.0\\nsamples = 1\\nvalue = [0, 1]\\nclass = 1'),\n",
       " Text(0.9032258064516129, 0.8409090909090909, 'Inventory Level <= 490.0\\nentropy = 0.988\\nsamples = 71\\nvalue = [31.0, 40.0]\\nclass = 1'),\n",
       " Text(0.8451612903225807, 0.7954545454545454, 'Weather Condition <= 1.5\\nentropy = 1.0\\nsamples = 58\\nvalue = [29, 29]\\nclass = 0'),\n",
       " Text(0.7677419354838709, 0.75, 'Inventory Level <= 218.5\\nentropy = 0.944\\nsamples = 36\\nvalue = [13, 23]\\nclass = 1'),\n",
       " Text(0.7354838709677419, 0.7045454545454546, 'Category <= 0.5\\nentropy = 0.702\\nsamples = 21\\nvalue = [4, 17]\\nclass = 1'),\n",
       " Text(0.7096774193548387, 0.6590909090909091, 'Demand <= 212.5\\nentropy = 1.0\\nsamples = 6\\nvalue = [3, 3]\\nclass = 0'),\n",
       " Text(0.6967741935483871, 0.6136363636363636, 'Region <= 2.5\\nentropy = 0.811\\nsamples = 4\\nvalue = [3, 1]\\nclass = 0'),\n",
       " Text(0.6838709677419355, 0.5681818181818182, 'entropy = 0.0\\nsamples = 3\\nvalue = [3, 0]\\nclass = 0'),\n",
       " Text(0.7096774193548387, 0.5681818181818182, 'entropy = 0.0\\nsamples = 1\\nvalue = [0, 1]\\nclass = 1'),\n",
       " Text(0.7225806451612903, 0.6136363636363636, 'entropy = 0.0\\nsamples = 2\\nvalue = [0, 2]\\nclass = 1'),\n",
       " Text(0.7612903225806451, 0.6590909090909091, 'Demand <= 151.5\\nentropy = 0.353\\nsamples = 15\\nvalue = [1, 14]\\nclass = 1'),\n",
       " Text(0.7483870967741936, 0.6136363636363636, 'Demand <= 150.5\\nentropy = 0.918\\nsamples = 3\\nvalue = [1, 2]\\nclass = 1'),\n",
       " Text(0.7354838709677419, 0.5681818181818182, 'entropy = 0.0\\nsamples = 2\\nvalue = [0, 2]\\nclass = 1'),\n",
       " Text(0.7612903225806451, 0.5681818181818182, 'entropy = 0.0\\nsamples = 1\\nvalue = [1, 0]\\nclass = 0'),\n",
       " Text(0.7741935483870968, 0.6136363636363636, 'entropy = 0.0\\nsamples = 12\\nvalue = [0, 12]\\nclass = 1'),\n",
       " Text(0.8, 0.7045454545454546, 'Inventory Level <= 243.5\\nentropy = 0.971\\nsamples = 15\\nvalue = [9, 6]\\nclass = 0'),\n",
       " Text(0.7870967741935484, 0.6590909090909091, 'entropy = 0.0\\nsamples = 6\\nvalue = [6, 0]\\nclass = 0'),\n",
       " Text(0.8129032258064516, 0.6590909090909091, 'Inventory Level <= 280.0\\nentropy = 0.918\\nsamples = 9\\nvalue = [3, 6]\\nclass = 1'),\n",
       " Text(0.8, 0.6136363636363636, 'Weekday <= 1.0\\nentropy = 0.592\\nsamples = 7\\nvalue = [1, 6]\\nclass = 1'),\n",
       " Text(0.7870967741935484, 0.5681818181818182, 'entropy = 0.0\\nsamples = 1\\nvalue = [1, 0]\\nclass = 0'),\n",
       " Text(0.8129032258064516, 0.5681818181818182, 'entropy = 0.0\\nsamples = 6\\nvalue = [0, 6]\\nclass = 1'),\n",
       " Text(0.8258064516129032, 0.6136363636363636, 'entropy = 0.0\\nsamples = 2\\nvalue = [2, 0]\\nclass = 0'),\n",
       " Text(0.9225806451612903, 0.75, 'Region <= 1.5\\nentropy = 0.845\\nsamples = 22\\nvalue = [16, 6]\\nclass = 0'),\n",
       " Text(0.9096774193548387, 0.7045454545454546, 'Demand <= 175.5\\nentropy = 0.937\\nsamples = 17\\nvalue = [11, 6]\\nclass = 0'),\n",
       " Text(0.8774193548387097, 0.6590909090909091, 'Category <= 1.5\\nentropy = 1.0\\nsamples = 10\\nvalue = [5, 5]\\nclass = 0'),\n",
       " Text(0.8516129032258064, 0.6136363636363636, 'Demand <= 163.0\\nentropy = 0.918\\nsamples = 6\\nvalue = [4, 2]\\nclass = 0'),\n",
       " Text(0.8387096774193549, 0.5681818181818182, 'entropy = 0.0\\nsamples = 3\\nvalue = [3, 0]\\nclass = 0'),\n",
       " Text(0.864516129032258, 0.5681818181818182, 'Weekday <= 1.0\\nentropy = 0.918\\nsamples = 3\\nvalue = [1, 2]\\nclass = 1'),\n",
       " Text(0.8516129032258064, 0.5227272727272727, 'entropy = 0.0\\nsamples = 1\\nvalue = [1, 0]\\nclass = 0'),\n",
       " Text(0.8774193548387097, 0.5227272727272727, 'entropy = 0.0\\nsamples = 2\\nvalue = [0, 2]\\nclass = 1'),\n",
       " Text(0.9032258064516129, 0.6136363636363636, 'Inventory Level <= 227.5\\nentropy = 0.811\\nsamples = 4\\nvalue = [1, 3]\\nclass = 1'),\n",
       " Text(0.8903225806451613, 0.5681818181818182, 'entropy = 0.0\\nsamples = 2\\nvalue = [0, 2]\\nclass = 1'),\n",
       " Text(0.9161290322580645, 0.5681818181818182, 'Weekday <= 1.5\\nentropy = 1.0\\nsamples = 2\\nvalue = [1, 1]\\nclass = 0'),\n",
       " Text(0.9032258064516129, 0.5227272727272727, 'entropy = 0.0\\nsamples = 1\\nvalue = [0, 1]\\nclass = 1'),\n",
       " Text(0.9290322580645162, 0.5227272727272727, 'entropy = 0.0\\nsamples = 1\\nvalue = [1, 0]\\nclass = 0'),\n",
       " Text(0.9419354838709677, 0.6590909090909091, 'Demand <= 238.0\\nentropy = 0.592\\nsamples = 7\\nvalue = [6, 1]\\nclass = 0'),\n",
       " Text(0.9290322580645162, 0.6136363636363636, 'entropy = 0.0\\nsamples = 6\\nvalue = [6, 0]\\nclass = 0'),\n",
       " Text(0.9548387096774194, 0.6136363636363636, 'entropy = 0.0\\nsamples = 1\\nvalue = [0, 1]\\nclass = 1'),\n",
       " Text(0.9354838709677419, 0.7045454545454546, 'entropy = 0.0\\nsamples = 5\\nvalue = [5, 0]\\nclass = 0'),\n",
       " Text(0.9612903225806452, 0.7954545454545454, 'Inventory Level <= 774.5\\nentropy = 0.619\\nsamples = 13\\nvalue = [2, 11]\\nclass = 1'),\n",
       " Text(0.9483870967741935, 0.75, 'entropy = 0.0\\nsamples = 9\\nvalue = [0, 9]\\nclass = 1'),\n",
       " Text(0.9741935483870968, 0.75, 'Demand <= 165.0\\nentropy = 1.0\\nsamples = 4\\nvalue = [2, 2]\\nclass = 0'),\n",
       " Text(0.9612903225806452, 0.7045454545454546, 'entropy = 0.0\\nsamples = 2\\nvalue = [2, 0]\\nclass = 0'),\n",
       " Text(0.9870967741935484, 0.7045454545454546, 'entropy = 0.0\\nsamples = 2\\nvalue = [0, 2]\\nclass = 1'),\n",
       " Text(0.6699596774193548, 0.9318181818181818, 'entropy = 0.0\\nsamples = 300\\nvalue = [0, 300]\\nclass = 1'),\n",
       " Text(0.6635080645161291, 0.9545454545454546, '  False')]"
      ]
     },
     "execution_count": 50,
     "metadata": {},
     "output_type": "execute_result"
    },
    {
     "data": {
      "image/png": "[encoded data removed]",
      "text/plain": [
       "<Figure size 1200x800 with 1 Axes>"
      ]
     },
     "metadata": {},
     "output_type": "display_data"
    }
   ],
   "source": [
    "# We plot the tree with no specified paramters to look at the unpruned tree\n",
    "feature_names = X_train.columns\n",
    "plt.figure(figsize=(12, 8))\n",
    "tree.plot_tree(dt_noparam.fit(X_train, y_train), feature_names=feature_names, class_names=['0', '1'])"
   ]
  },
  {
   "cell_type": "code",
   "execution_count": 51,
   "id": "0e852e34",
   "metadata": {},
   "outputs": [
    {
     "data": {
      "text/plain": [
       "{'max_depth': 1, 'min_samples_leaf': 2, 'min_samples_split': 2}"
      ]
     },
     "execution_count": 51,
     "metadata": {},
     "output_type": "execute_result"
    }
   ],
   "source": [
    "# We set a range of Parameters that GridSearchCV will try out for us in every possible combination\n",
    "params = {'max_depth': [1, 2, 3, 4], 'min_samples_split': [2, 3, 4, 5, 6, 7, 8], 'min_samples_leaf': [2, 3, 4, 5]}\n",
    "clf = tree.DecisionTreeClassifier(criterion='entropy', splitter='best', random_state=42)\n",
    "\n",
    "gcv = GridSearchCV(estimator=clf, param_grid=params, return_train_score=True, cv = 10)\n",
    "gcv.fit(X_train, y_train)\n",
    "gcv.best_params_"
   ]
  },
  {
   "cell_type": "code",
   "execution_count": 52,
   "id": "aa0753ab",
   "metadata": {},
   "outputs": [
    {
     "name": "stdout",
     "output_type": "stream",
     "text": [
      "DecisionTreeClassifier(criterion='entropy', max_depth=1, min_samples_leaf=2,\n",
      "                       random_state=42)\n",
      "0.8945518453427065\n"
     ]
    }
   ],
   "source": [
    "# These are the best possible estimators on which the model should be trained on \n",
    "print(gcv.best_estimator_)\n",
    "model = gcv.best_estimator_\n",
    "model.fit(X_train, y_train)\n",
    "y_pred_pruned = model.predict(X_test)\n",
    "gcv_accuracy = accuracy_score(y_test, y_pred_pruned)\n",
    "print(gcv_accuracy)"
   ]
  },
  {
   "cell_type": "code",
   "execution_count": 53,
   "id": "ab2707b8",
   "metadata": {},
   "outputs": [
    {
     "name": "stdout",
     "output_type": "stream",
     "text": [
      "Training Accuracy: 0.9046\n",
      "Test Accuracy: 0.8946\n",
      "Passed the Robustness Check!\n"
     ]
    }
   ],
   "source": [
    "# We want to check wether our model is robust or if it is dependant on the data. The only way to check this for cross validation, is to \n",
    "# evaluate the accuracy based on the train data and compare the results with the accuracy of the test data. If they\n",
    "# deviate less than 5%, the model is independant of the underlying data and thus is robust\n",
    "# Predict on both training and test data\n",
    "y_pred_train = model.predict(X_train)\n",
    "y_pred_test = model.predict(X_test)\n",
    "\n",
    "# Calculate accuracy scores\n",
    "train_accuracy = accuracy_score(y_train, y_pred_train)\n",
    "test_accuracy = accuracy_score(y_test, y_pred_test)\n",
    "\n",
    "# Define a tolerance of ±5% of the test accuracy\n",
    "tolerance = 0.05 * test_accuracy\n",
    "\n",
    "# Print results\n",
    "print(f\"Training Accuracy: {train_accuracy:.4f}\")\n",
    "print(f\"Test Accuracy: {test_accuracy:.4f}\")\n",
    "\n",
    "# Robustness check\n",
    "if abs(train_accuracy - test_accuracy) < tolerance:\n",
    "    print(\"Passed the Robustness Check!\")\n",
    "else:\n",
    "    print(\"Didn't pass the Robustness Check!\")\n"
   ]
  },
  {
   "cell_type": "code",
   "execution_count": 54,
   "id": "9c7cdae3",
   "metadata": {},
   "outputs": [
    {
     "data": {
      "text/plain": [
       "[Text(0.5, 0.75, 'Discount <= 12.5\\nentropy = 0.939\\nsamples = 1153\\nvalue = [743.0, 410.0]\\nclass = No Promotion'),\n",
       " Text(0.25, 0.25, 'entropy = 0.555\\nsamples = 853\\nvalue = [743.0, 110.0]\\nclass = No Promotion'),\n",
       " Text(0.375, 0.5, 'True  '),\n",
       " Text(0.75, 0.25, 'entropy = 0.0\\nsamples = 300\\nvalue = [0, 300]\\nclass = Promotion'),\n",
       " Text(0.625, 0.5, '  False')]"
      ]
     },
     "execution_count": 54,
     "metadata": {},
     "output_type": "execute_result"
    },
    {
     "data": {
      "image/png": "[encoded data removed]",
      "text/plain": [
       "<Figure size 4000x800 with 1 Axes>"
      ]
     },
     "metadata": {},
     "output_type": "display_data"
    }
   ],
   "source": [
    "# We plot the pruned tree\n",
    "feature_names = X_train.columns\n",
    "plt.figure(figsize=(40, 8)) # try out with different fig sizes\n",
    "tree.plot_tree(model, feature_names=feature_names, class_names=['No Promotion', 'Promotion'])"
   ]
  },
  {
   "cell_type": "code",
   "execution_count": 55,
   "id": "73e305e6",
   "metadata": {},
   "outputs": [
    {
     "name": "stdout",
     "output_type": "stream",
     "text": [
      "|--- Discount <= 12.50\n",
      "|   |--- class: 0\n",
      "|--- Discount >  12.50\n",
      "|   |--- class: 1\n",
      "\n"
     ]
    }
   ],
   "source": [
    "# We can also get our rules in textual format\n",
    "feature_names = X_train.columns\n",
    "text_representation = tree.export_text(model, feature_names=feature_names)\n",
    "print(text_representation)"
   ]
  },
  {
   "cell_type": "code",
   "execution_count": 56,
   "id": "43de9800",
   "metadata": {},
   "outputs": [
    {
     "data": {
      "text/plain": [
       "Text(0.5, 1.0, 'Confusion Matrix')"
      ]
     },
     "execution_count": 56,
     "metadata": {},
     "output_type": "execute_result"
    },
    {
     "data": {
      "image/png": "[encoded data removed]",
      "text/plain": [
       "<Figure size 500x500 with 2 Axes>"
      ]
     },
     "metadata": {},
     "output_type": "display_data"
    }
   ],
   "source": [
    "# We use the confusion matrix to visualize the performance of our classifier.\n",
    "# It helps us understand how well the model distinguishes between the classes,\n",
    "# showing the number of correct and incorrect predictions for each class.\n",
    "confusion_matrix = metrics.confusion_matrix(y_test, y_pred_pruned)\n",
    "plt.figure(figsize=(5,5))\n",
    "sns.heatmap(confusion_matrix, annot=True, fmt=\".3f\", linewidths=.5, square=True, cmap=\"Blues_r\")\n",
    "plt.ylabel('Actual Label')\n",
    "plt.xlabel('Predicted Label')\n",
    "plt.title('Confusion Matrix', size = 10)"
   ]
  },
  {
   "cell_type": "code",
   "execution_count": 57,
   "id": "faab1549",
   "metadata": {},
   "outputs": [
    {
     "name": "stdout",
     "output_type": "stream",
     "text": [
      "              precision    recall  f1-score   support\n",
      "\n",
      "           0       0.86      1.00      0.92       354\n",
      "           1       1.00      0.72      0.84       215\n",
      "\n",
      "    accuracy                           0.89       569\n",
      "   macro avg       0.93      0.86      0.88       569\n",
      "weighted avg       0.91      0.89      0.89       569\n",
      "\n"
     ]
    }
   ],
   "source": [
    "# We analyze the classification report to get further insights in the performance of our model\n",
    "print(classification_report(y_test, y_pred_pruned))"
   ]
  }
 ],
 "metadata": {
  "kernelspec": {
   "display_name": "Python 3",
   "language": "python",
   "name": "python3"
  },
  "language_info": {
   "codemirror_mode": {
    "name": "ipython",
    "version": 3
   },
   "file_extension": ".py",
   "mimetype": "text/x-python",
   "name": "python",
   "nbconvert_exporter": "python",
   "pygments_lexer": "ipython3",
   "version": "3.13.4"
  }
 },
 "nbformat": 4,
 "nbformat_minor": 5
}
