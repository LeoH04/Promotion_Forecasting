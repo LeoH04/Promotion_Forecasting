{
 "cells": [
  {
   "cell_type": "markdown",
   "id": "a4b9dad4",
   "metadata": {},
   "source": [
    "## 00. Import libraries and load data"
   ]
  },
  {
   "cell_type": "markdown",
   "id": "d0bc717d",
   "metadata": {},
   "source": [
    "Note: This Jupyter Notebook was created as part of the group work. Each member has contributed similarly to the result."
   ]
  },
  {
   "cell_type": "code",
   "execution_count": 15,
   "id": "468e2b91",
   "metadata": {},
   "outputs": [],
   "source": [
    "# First we import all neccessary libraries and give some of them an alias for easy access\n",
    "import numpy as np\n",
    "import pandas as pd\n",
    "import matplotlib.pyplot as plt\n",
    "import seaborn as sns\n",
    "%matplotlib inline\n",
    "from sklearn.model_selection import train_test_split\n",
    "from sklearn.tree import DecisionTreeClassifier\n",
    "from sklearn.metrics import accuracy_score\n",
    "from sklearn import tree\n",
    "from sklearn import metrics\n",
    "from sklearn.metrics import classification_report\n",
    "from sklearn.model_selection import StratifiedKFold, cross_val_score\n",
    "from sklearn.model_selection import GridSearchCV\n",
    "from sklearn.model_selection import RandomizedSearchCV\n",
    "from imblearn.over_sampling import SMOTE\n",
    "from imblearn.over_sampling import BorderlineSMOTE\n",
    "from imblearn.over_sampling import KMeansSMOTE\n",
    "from imblearn.over_sampling import SVMSMOTE\n",
    "from sklearn.base import clone\n",
    "from imblearn.under_sampling import RandomUnderSampler\n",
    "from collections import Counter"
   ]
  },
  {
   "cell_type": "markdown",
   "id": "8c12bbd7",
   "metadata": {},
   "source": [
    "## 1. Read in the data"
   ]
  },
  {
   "cell_type": "code",
   "execution_count": 16,
   "id": "979420bb",
   "metadata": {},
   "outputs": [
    {
     "data": {
      "text/plain": [
       "(1722, 11)"
      ]
     },
     "execution_count": 16,
     "metadata": {},
     "output_type": "execute_result"
    }
   ],
   "source": [
    "# Read in the data so every group member can run the notebook on his machine\n",
    "# (our repo is on github, we therefore have the same file structure)\n",
    "df = pd.read_csv(\"../../Data/Transformed/Leo/inventory_management_cleaned_transformed_unscaled_with_labels.csv\")\n",
    "df.shape # Get a first idea about the number of rows and columns of the dataset"
   ]
  },
  {
   "cell_type": "code",
   "execution_count": 17,
   "id": "d995746f",
   "metadata": {},
   "outputs": [],
   "source": [
    "# We define that y equals the attribute we want to predict and X equals all the other attributes to predict y \n",
    "y = df[\"Clusterlabel\"]\n",
    "X = df.loc[:, ~df.columns.isin(['Clusterlabel', 'Product_UID'])]"
   ]
  },
  {
   "cell_type": "code",
   "execution_count": 18,
   "id": "fc58de62",
   "metadata": {},
   "outputs": [
    {
     "data": {
      "application/vnd.microsoft.datawrangler.viewer.v0+json": {
       "columns": [
        {
         "name": "index",
         "rawType": "int64",
         "type": "integer"
        },
        {
         "name": "Clusterlabel",
         "rawType": "int64",
         "type": "integer"
        }
       ],
       "ref": "83c3ade4-359c-458a-a516-da1501865a91",
       "rows": [
        [
         "0",
         "0"
        ],
        [
         "1",
         "0"
        ],
        [
         "2",
         "0"
        ],
        [
         "3",
         "0"
        ],
        [
         "4",
         "1"
        ],
        [
         "5",
         "1"
        ],
        [
         "6",
         "1"
        ],
        [
         "7",
         "0"
        ],
        [
         "8",
         "0"
        ],
        [
         "9",
         "0"
        ],
        [
         "10",
         "0"
        ],
        [
         "11",
         "1"
        ],
        [
         "12",
         "1"
        ],
        [
         "13",
         "1"
        ],
        [
         "14",
         "1"
        ],
        [
         "15",
         "1"
        ],
        [
         "16",
         "1"
        ],
        [
         "17",
         "1"
        ],
        [
         "18",
         "0"
        ],
        [
         "19",
         "0"
        ],
        [
         "20",
         "1"
        ],
        [
         "21",
         "1"
        ],
        [
         "22",
         "1"
        ],
        [
         "23",
         "1"
        ],
        [
         "24",
         "0"
        ],
        [
         "25",
         "0"
        ],
        [
         "26",
         "1"
        ],
        [
         "27",
         "1"
        ],
        [
         "28",
         "1"
        ],
        [
         "29",
         "1"
        ],
        [
         "30",
         "1"
        ],
        [
         "31",
         "0"
        ],
        [
         "32",
         "1"
        ],
        [
         "33",
         "0"
        ],
        [
         "34",
         "0"
        ],
        [
         "35",
         "0"
        ],
        [
         "36",
         "1"
        ],
        [
         "37",
         "0"
        ],
        [
         "38",
         "0"
        ],
        [
         "39",
         "0"
        ],
        [
         "40",
         "1"
        ],
        [
         "41",
         "1"
        ],
        [
         "42",
         "0"
        ],
        [
         "43",
         "1"
        ],
        [
         "44",
         "1"
        ],
        [
         "45",
         "1"
        ],
        [
         "46",
         "1"
        ],
        [
         "47",
         "0"
        ],
        [
         "48",
         "1"
        ],
        [
         "49",
         "1"
        ]
       ],
       "shape": {
        "columns": 1,
        "rows": 1722
       }
      },
      "text/plain": [
       "0       0\n",
       "1       0\n",
       "2       0\n",
       "3       0\n",
       "4       1\n",
       "       ..\n",
       "1717    1\n",
       "1718    0\n",
       "1719    0\n",
       "1720    1\n",
       "1721    1\n",
       "Name: Clusterlabel, Length: 1722, dtype: int64"
      ]
     },
     "execution_count": 18,
     "metadata": {},
     "output_type": "execute_result"
    }
   ],
   "source": [
    "# We check if y equals the attribute we want to predict (salary)\n",
    "y"
   ]
  },
  {
   "cell_type": "code",
   "execution_count": 19,
   "id": "deb12d7d",
   "metadata": {},
   "outputs": [
    {
     "data": {
      "application/vnd.microsoft.datawrangler.viewer.v0+json": {
       "columns": [
        {
         "name": "index",
         "rawType": "int64",
         "type": "integer"
        },
        {
         "name": "Category",
         "rawType": "int64",
         "type": "integer"
        },
        {
         "name": "Region",
         "rawType": "int64",
         "type": "integer"
        },
        {
         "name": "Inventory Level",
         "rawType": "int64",
         "type": "integer"
        },
        {
         "name": "Price",
         "rawType": "float64",
         "type": "float"
        },
        {
         "name": "Discount",
         "rawType": "int64",
         "type": "integer"
        },
        {
         "name": "Weather Condition",
         "rawType": "int64",
         "type": "integer"
        },
        {
         "name": "Promotion",
         "rawType": "int64",
         "type": "integer"
        },
        {
         "name": "Demand",
         "rawType": "int64",
         "type": "integer"
        },
        {
         "name": "Weekday",
         "rawType": "int64",
         "type": "integer"
        }
       ],
       "ref": "e75a9368-fcc0-428f-a084-5b2f12489765",
       "rows": [
        [
         "0",
         "1",
         "1",
         "195",
         "72.72",
         "5",
         "1",
         "0",
         "115",
         "2"
        ],
        [
         "1",
         "0",
         "1",
         "117",
         "80.16",
         "15",
         "1",
         "1",
         "229",
         "2"
        ],
        [
         "2",
         "0",
         "1",
         "247",
         "62.94",
         "10",
         "1",
         "1",
         "157",
         "2"
        ],
        [
         "3",
         "1",
         "1",
         "139",
         "87.63",
         "10",
         "1",
         "0",
         "52",
         "2"
        ],
        [
         "4",
         "3",
         "1",
         "152",
         "54.41",
         "0",
         "1",
         "0",
         "59",
         "2"
        ],
        [
         "5",
         "4",
         "1",
         "209",
         "35.53",
         "0",
         "1",
         "0",
         "55",
         "2"
        ],
        [
         "6",
         "3",
         "1",
         "118",
         "23.27",
         "5",
         "1",
         "0",
         "94",
         "2"
        ],
        [
         "7",
         "1",
         "1",
         "244",
         "37.79",
         "5",
         "1",
         "0",
         "61",
         "2"
        ],
        [
         "8",
         "0",
         "1",
         "115",
         "94.2",
         "5",
         "1",
         "0",
         "129",
         "2"
        ],
        [
         "9",
         "2",
         "1",
         "192",
         "113.35",
         "10",
         "1",
         "0",
         "69",
         "2"
        ],
        [
         "10",
         "2",
         "1",
         "215",
         "156.34",
         "0",
         "1",
         "0",
         "64",
         "2"
        ],
        [
         "11",
         "3",
         "1",
         "289",
         "84.48",
         "0",
         "1",
         "0",
         "104",
         "2"
        ],
        [
         "12",
         "4",
         "1",
         "279",
         "33.1",
         "5",
         "1",
         "0",
         "110",
         "2"
        ],
        [
         "13",
         "3",
         "1",
         "252",
         "80.13",
         "10",
         "1",
         "1",
         "165",
         "2"
        ],
        [
         "14",
         "4",
         "1",
         "119",
         "14.39",
         "5",
         "1",
         "0",
         "64",
         "2"
        ],
        [
         "15",
         "3",
         "1",
         "103",
         "38.79",
         "10",
         "1",
         "0",
         "115",
         "2"
        ],
        [
         "16",
         "4",
         "1",
         "128",
         "21.21",
         "0",
         "1",
         "0",
         "75",
         "2"
        ],
        [
         "17",
         "3",
         "1",
         "281",
         "54.4",
         "5",
         "1",
         "0",
         "66",
         "2"
        ],
        [
         "18",
         "2",
         "1",
         "281",
         "95.56",
         "10",
         "1",
         "0",
         "58",
         "2"
        ],
        [
         "19",
         "2",
         "1",
         "266",
         "100.47",
         "5",
         "1",
         "0",
         "43",
         "2"
        ],
        [
         "20",
         "3",
         "2",
         "102",
         "90.89",
         "0",
         "0",
         "0",
         "118",
         "2"
        ],
        [
         "21",
         "4",
         "2",
         "193",
         "25.68",
         "25",
         "0",
         "1",
         "105",
         "2"
        ],
        [
         "22",
         "3",
         "2",
         "187",
         "95.17",
         "10",
         "0",
         "1",
         "171",
         "2"
        ],
        [
         "23",
         "3",
         "2",
         "160",
         "39.54",
         "10",
         "0",
         "0",
         "110",
         "2"
        ],
        [
         "24",
         "1",
         "2",
         "155",
         "92.35",
         "0",
         "0",
         "0",
         "94",
         "2"
        ],
        [
         "25",
         "0",
         "2",
         "198",
         "64.0",
         "5",
         "0",
         "0",
         "88",
         "2"
        ],
        [
         "26",
         "4",
         "2",
         "233",
         "25.47",
         "10",
         "0",
         "0",
         "93",
         "2"
        ],
        [
         "27",
         "3",
         "2",
         "124",
         "25.63",
         "5",
         "0",
         "0",
         "112",
         "2"
        ],
        [
         "28",
         "3",
         "2",
         "131",
         "64.84",
         "10",
         "0",
         "0",
         "145",
         "2"
        ],
        [
         "29",
         "3",
         "2",
         "242",
         "117.17",
         "5",
         "0",
         "0",
         "195",
         "2"
        ],
        [
         "30",
         "3",
         "2",
         "206",
         "84.71",
         "10",
         "0",
         "0",
         "79",
         "2"
        ],
        [
         "31",
         "1",
         "2",
         "197",
         "78.86",
         "0",
         "0",
         "0",
         "122",
         "2"
        ],
        [
         "32",
         "3",
         "2",
         "152",
         "21.76",
         "10",
         "0",
         "0",
         "109",
         "2"
        ],
        [
         "33",
         "1",
         "2",
         "153",
         "100.18",
         "10",
         "0",
         "1",
         "63",
         "2"
        ],
        [
         "34",
         "0",
         "2",
         "106",
         "65.19",
         "10",
         "0",
         "0",
         "96",
         "2"
        ],
        [
         "35",
         "0",
         "2",
         "113",
         "111.87",
         "5",
         "0",
         "0",
         "194",
         "2"
        ],
        [
         "36",
         "4",
         "2",
         "153",
         "18.89",
         "5",
         "0",
         "0",
         "65",
         "2"
        ],
        [
         "37",
         "0",
         "2",
         "126",
         "27.67",
         "0",
         "0",
         "0",
         "79",
         "2"
        ],
        [
         "38",
         "0",
         "2",
         "164",
         "83.09",
         "10",
         "0",
         "0",
         "96",
         "2"
        ],
        [
         "39",
         "2",
         "2",
         "126",
         "125.8",
         "0",
         "0",
         "0",
         "53",
         "2"
        ],
        [
         "40",
         "4",
         "0",
         "182",
         "16.85",
         "10",
         "2",
         "0",
         "112",
         "2"
        ],
        [
         "41",
         "3",
         "0",
         "290",
         "50.42",
         "10",
         "2",
         "1",
         "82",
         "2"
        ],
        [
         "42",
         "1",
         "0",
         "122",
         "83.17",
         "20",
         "2",
         "1",
         "126",
         "2"
        ],
        [
         "43",
         "3",
         "0",
         "203",
         "26.29",
         "5",
         "2",
         "0",
         "158",
         "2"
        ],
        [
         "44",
         "4",
         "0",
         "253",
         "19.8",
         "5",
         "2",
         "0",
         "57",
         "2"
        ],
        [
         "45",
         "4",
         "0",
         "227",
         "44.64",
         "0",
         "2",
         "0",
         "136",
         "2"
        ],
        [
         "46",
         "3",
         "0",
         "247",
         "18.65",
         "0",
         "2",
         "0",
         "142",
         "2"
        ],
        [
         "47",
         "0",
         "0",
         "297",
         "113.01",
         "0",
         "2",
         "0",
         "89",
         "2"
        ],
        [
         "48",
         "3",
         "0",
         "226",
         "56.32",
         "5",
         "2",
         "0",
         "126",
         "2"
        ],
        [
         "49",
         "3",
         "0",
         "167",
         "36.21",
         "10",
         "2",
         "0",
         "106",
         "2"
        ]
       ],
       "shape": {
        "columns": 9,
        "rows": 1722
       }
      },
      "text/html": [
       "<div>\n",
       "<style scoped>\n",
       "    .dataframe tbody tr th:only-of-type {\n",
       "        vertical-align: middle;\n",
       "    }\n",
       "\n",
       "    .dataframe tbody tr th {\n",
       "        vertical-align: top;\n",
       "    }\n",
       "\n",
       "    .dataframe thead th {\n",
       "        text-align: right;\n",
       "    }\n",
       "</style>\n",
       "<table border=\"1\" class=\"dataframe\">\n",
       "  <thead>\n",
       "    <tr style=\"text-align: right;\">\n",
       "      <th></th>\n",
       "      <th>Category</th>\n",
       "      <th>Region</th>\n",
       "      <th>Inventory Level</th>\n",
       "      <th>Price</th>\n",
       "      <th>Discount</th>\n",
       "      <th>Weather Condition</th>\n",
       "      <th>Promotion</th>\n",
       "      <th>Demand</th>\n",
       "      <th>Weekday</th>\n",
       "    </tr>\n",
       "  </thead>\n",
       "  <tbody>\n",
       "    <tr>\n",
       "      <th>0</th>\n",
       "      <td>1</td>\n",
       "      <td>1</td>\n",
       "      <td>195</td>\n",
       "      <td>72.72</td>\n",
       "      <td>5</td>\n",
       "      <td>1</td>\n",
       "      <td>0</td>\n",
       "      <td>115</td>\n",
       "      <td>2</td>\n",
       "    </tr>\n",
       "    <tr>\n",
       "      <th>1</th>\n",
       "      <td>0</td>\n",
       "      <td>1</td>\n",
       "      <td>117</td>\n",
       "      <td>80.16</td>\n",
       "      <td>15</td>\n",
       "      <td>1</td>\n",
       "      <td>1</td>\n",
       "      <td>229</td>\n",
       "      <td>2</td>\n",
       "    </tr>\n",
       "    <tr>\n",
       "      <th>2</th>\n",
       "      <td>0</td>\n",
       "      <td>1</td>\n",
       "      <td>247</td>\n",
       "      <td>62.94</td>\n",
       "      <td>10</td>\n",
       "      <td>1</td>\n",
       "      <td>1</td>\n",
       "      <td>157</td>\n",
       "      <td>2</td>\n",
       "    </tr>\n",
       "    <tr>\n",
       "      <th>3</th>\n",
       "      <td>1</td>\n",
       "      <td>1</td>\n",
       "      <td>139</td>\n",
       "      <td>87.63</td>\n",
       "      <td>10</td>\n",
       "      <td>1</td>\n",
       "      <td>0</td>\n",
       "      <td>52</td>\n",
       "      <td>2</td>\n",
       "    </tr>\n",
       "    <tr>\n",
       "      <th>4</th>\n",
       "      <td>3</td>\n",
       "      <td>1</td>\n",
       "      <td>152</td>\n",
       "      <td>54.41</td>\n",
       "      <td>0</td>\n",
       "      <td>1</td>\n",
       "      <td>0</td>\n",
       "      <td>59</td>\n",
       "      <td>2</td>\n",
       "    </tr>\n",
       "    <tr>\n",
       "      <th>...</th>\n",
       "      <td>...</td>\n",
       "      <td>...</td>\n",
       "      <td>...</td>\n",
       "      <td>...</td>\n",
       "      <td>...</td>\n",
       "      <td>...</td>\n",
       "      <td>...</td>\n",
       "      <td>...</td>\n",
       "      <td>...</td>\n",
       "    </tr>\n",
       "    <tr>\n",
       "      <th>1717</th>\n",
       "      <td>3</td>\n",
       "      <td>1</td>\n",
       "      <td>129</td>\n",
       "      <td>62.83</td>\n",
       "      <td>10</td>\n",
       "      <td>0</td>\n",
       "      <td>0</td>\n",
       "      <td>143</td>\n",
       "      <td>5</td>\n",
       "    </tr>\n",
       "    <tr>\n",
       "      <th>1718</th>\n",
       "      <td>2</td>\n",
       "      <td>1</td>\n",
       "      <td>104</td>\n",
       "      <td>98.97</td>\n",
       "      <td>10</td>\n",
       "      <td>0</td>\n",
       "      <td>1</td>\n",
       "      <td>54</td>\n",
       "      <td>5</td>\n",
       "    </tr>\n",
       "    <tr>\n",
       "      <th>1719</th>\n",
       "      <td>2</td>\n",
       "      <td>1</td>\n",
       "      <td>494</td>\n",
       "      <td>111.25</td>\n",
       "      <td>10</td>\n",
       "      <td>0</td>\n",
       "      <td>0</td>\n",
       "      <td>70</td>\n",
       "      <td>5</td>\n",
       "    </tr>\n",
       "    <tr>\n",
       "      <th>1720</th>\n",
       "      <td>3</td>\n",
       "      <td>2</td>\n",
       "      <td>625</td>\n",
       "      <td>69.62</td>\n",
       "      <td>5</td>\n",
       "      <td>1</td>\n",
       "      <td>0</td>\n",
       "      <td>69</td>\n",
       "      <td>5</td>\n",
       "    </tr>\n",
       "    <tr>\n",
       "      <th>1721</th>\n",
       "      <td>4</td>\n",
       "      <td>2</td>\n",
       "      <td>334</td>\n",
       "      <td>27.53</td>\n",
       "      <td>10</td>\n",
       "      <td>1</td>\n",
       "      <td>1</td>\n",
       "      <td>72</td>\n",
       "      <td>5</td>\n",
       "    </tr>\n",
       "  </tbody>\n",
       "</table>\n",
       "<p>1722 rows × 9 columns</p>\n",
       "</div>"
      ],
      "text/plain": [
       "      Category  Region  Inventory Level   Price  Discount  Weather Condition  \\\n",
       "0            1       1              195   72.72         5                  1   \n",
       "1            0       1              117   80.16        15                  1   \n",
       "2            0       1              247   62.94        10                  1   \n",
       "3            1       1              139   87.63        10                  1   \n",
       "4            3       1              152   54.41         0                  1   \n",
       "...        ...     ...              ...     ...       ...                ...   \n",
       "1717         3       1              129   62.83        10                  0   \n",
       "1718         2       1              104   98.97        10                  0   \n",
       "1719         2       1              494  111.25        10                  0   \n",
       "1720         3       2              625   69.62         5                  1   \n",
       "1721         4       2              334   27.53        10                  1   \n",
       "\n",
       "      Promotion  Demand  Weekday  \n",
       "0             0     115        2  \n",
       "1             1     229        2  \n",
       "2             1     157        2  \n",
       "3             0      52        2  \n",
       "4             0      59        2  \n",
       "...         ...     ...      ...  \n",
       "1717          0     143        5  \n",
       "1718          1      54        5  \n",
       "1719          0      70        5  \n",
       "1720          0      69        5  \n",
       "1721          1      72        5  \n",
       "\n",
       "[1722 rows x 9 columns]"
      ]
     },
     "execution_count": 19,
     "metadata": {},
     "output_type": "execute_result"
    }
   ],
   "source": [
    "# We check if X equals all other attributes than salary to predict this attribute \n",
    "X"
   ]
  },
  {
   "cell_type": "markdown",
   "id": "e1589e19",
   "metadata": {},
   "source": [
    "# 2. Split the data with Split Validation"
   ]
  },
  {
   "cell_type": "code",
   "execution_count": 20,
   "id": "563a3bd7",
   "metadata": {},
   "outputs": [
    {
     "data": {
      "application/vnd.microsoft.datawrangler.viewer.v0+json": {
       "columns": [
        {
         "name": "Clusterlabel",
         "rawType": "int64",
         "type": "integer"
        },
        {
         "name": "count",
         "rawType": "int64",
         "type": "integer"
        }
       ],
       "ref": "8d69e0ea-72b2-44a5-b892-bb9e8017e4f4",
       "rows": [
        [
         "1",
         "930"
        ],
        [
         "0",
         "792"
        ]
       ],
       "shape": {
        "columns": 1,
        "rows": 2
       }
      },
      "text/plain": [
       "Clusterlabel\n",
       "1    930\n",
       "0    792\n",
       "Name: count, dtype: int64"
      ]
     },
     "execution_count": 20,
     "metadata": {},
     "output_type": "execute_result"
    }
   ],
   "source": [
    "# We check the imbalance of the data set to get further information for potential data augmentation techniques\n",
    "y.value_counts()"
   ]
  },
  {
   "cell_type": "code",
   "execution_count": 21,
   "id": "4136da95",
   "metadata": {},
   "outputs": [
    {
     "name": "stdout",
     "output_type": "stream",
     "text": [
      "Before: Counter({1: 638, 0: 515})\n"
     ]
    }
   ],
   "source": [
    "# We split our Data into test and train Data so we can later train on the train data and measure the performance on the test data\n",
    "X_train, X_test, y_train, y_test = train_test_split(X, y, test_size=0.33, random_state=42)\n",
    "X_train.shape, X_test.shape\n",
    "print(\"Before:\", Counter(y_train))"
   ]
  },
  {
   "cell_type": "markdown",
   "id": "0c5a1ce6",
   "metadata": {},
   "source": [
    "## 2.1. Gini - No SMOTE"
   ]
  },
  {
   "cell_type": "code",
   "execution_count": 22,
   "id": "9251b83d",
   "metadata": {},
   "outputs": [
    {
     "name": "stdout",
     "output_type": "stream",
     "text": [
      "\n",
      "Best parameters: {'max_depth': 1, 'min_samples_split': 2, 'min_samples_leaf': 2} with accuracy: 1.0\n"
     ]
    }
   ],
   "source": [
    "# We run different trees with different paramaters and store the ones with the best accuracy. We use for loops to iterate through all combinations\n",
    "# We store the best params to use them for further analysis \n",
    "max_depth = [1, 2, 3, 4, 5, 6, 7, 8, 9, 10, 11, 12]\n",
    "min_samples_split = [2, 3, 4, 5]\n",
    "min_samples_leaf = [2, 3, 4, 5]\n",
    "\n",
    "best_score = 0\n",
    "best_params_gini = {}\n",
    "\n",
    "for depth in max_depth:\n",
    "    for split in min_samples_split:\n",
    "        for leaf in min_samples_leaf:\n",
    "            dt_gini = DecisionTreeClassifier(criterion='gini', splitter='best', max_depth=depth, min_samples_split=split, min_samples_leaf=leaf, random_state=42)\n",
    "            dt_gini.fit(X_train, y_train)\n",
    "            y_pred_gini = dt_gini.predict(X_test)\n",
    "            acc = accuracy_score(y_test, y_pred_gini)\n",
    "\n",
    "            #print(f\"max_depth = {depth}, min_samples_split = {split}, min_samples_leaf = {leaf} -> Accuracy = {acc:.4f}\")\n",
    "\n",
    "            if acc > best_score:\n",
    "                best_score = acc\n",
    "                best_params_gini = {\n",
    "                    'max_depth': depth,\n",
    "                    'min_samples_split': split,\n",
    "                    'min_samples_leaf': leaf\n",
    "                }\n",
    "\n",
    "print(f\"\\nBest parameters: {best_params_gini} with accuracy: {best_score}\")"
   ]
  },
  {
   "cell_type": "code",
   "execution_count": 23,
   "id": "773b4feb",
   "metadata": {},
   "outputs": [
    {
     "name": "stdout",
     "output_type": "stream",
     "text": [
      "1.0\n"
     ]
    }
   ],
   "source": [
    "# We build the tree and calculate the accuracy based on the best paramters we have derived for the gini tree\n",
    "dt_gini = DecisionTreeClassifier(criterion='gini', splitter='best', **best_params_gini, random_state=42)\n",
    "dt_gini.fit(X_train, y_train)\n",
    "y_pred_gini = dt_gini.predict(X_test)\n",
    "accuracy_test_gini_nosmote = accuracy_score(y_test, y_pred_gini)\n",
    "print(accuracy_test_gini_nosmote)"
   ]
  },
  {
   "cell_type": "code",
   "execution_count": 24,
   "id": "2c69aaa4",
   "metadata": {},
   "outputs": [
    {
     "name": "stdout",
     "output_type": "stream",
     "text": [
      "1.0\n",
      "Passed the Robustness Check!\n"
     ]
    }
   ],
   "source": [
    "# We want to check wether our model is robust or if it is dependant on the data. The only way to check this for split validation, is to \n",
    "# evaluate the accuracy based on the train data and compare the results with the accuracy of the test data. If they\n",
    "# deviate less than 5%, the model is independant of the underlying data and thus is robust\n",
    "y_pred_train_gini = dt_gini.predict(X_train)\n",
    "accuracy_train_gini_nosmote = accuracy_score(y_train, y_pred_train_gini)\n",
    "print(accuracy_train_gini_nosmote)\n",
    "if abs(accuracy_test_gini_nosmote-accuracy_train_gini_nosmote) < (0.05*accuracy_test_gini_nosmote): \n",
    "    print(\"Passed the Robustness Check!\")\n",
    "else: \n",
    "    print(\"Didn't pass the Robustness Check!\")"
   ]
  },
  {
   "cell_type": "code",
   "execution_count": 25,
   "id": "976a577f",
   "metadata": {},
   "outputs": [
    {
     "data": {
      "text/plain": [
       "[Text(0.5, 0.75, 'Category <= 2.5\\ngini = 0.494\\nsamples = 1153\\nvalue = [515, 638]\\nclass = 1'),\n",
       " Text(0.25, 0.25, 'gini = 0.0\\nsamples = 515\\nvalue = [515, 0]\\nclass = 0'),\n",
       " Text(0.375, 0.5, 'True  '),\n",
       " Text(0.75, 0.25, 'gini = 0.0\\nsamples = 638\\nvalue = [0, 638]\\nclass = 1'),\n",
       " Text(0.625, 0.5, '  False')]"
      ]
     },
     "execution_count": 25,
     "metadata": {},
     "output_type": "execute_result"
    },
    {
     "data": {
      "image/png": "[encoded data removed]",
      "text/plain": [
       "<Figure size 4000x800 with 1 Axes>"
      ]
     },
     "metadata": {},
     "output_type": "display_data"
    }
   ],
   "source": [
    "# We plot the decision tree to check if our model is interpretable. \n",
    "feature_names = X_train.columns\n",
    "plt.figure(figsize=(40,8))\n",
    "tree.plot_tree(dt_gini.fit(X_train, y_train),feature_names=feature_names, class_names=['0', '1'])"
   ]
  },
  {
   "cell_type": "code",
   "execution_count": 26,
   "id": "d1423d23",
   "metadata": {},
   "outputs": [
    {
     "name": "stdout",
     "output_type": "stream",
     "text": [
      "|--- Category <= 2.50\n",
      "|   |--- class: 0\n",
      "|--- Category >  2.50\n",
      "|   |--- class: 1\n",
      "\n"
     ]
    }
   ],
   "source": [
    "# We can also get our rules in textual format\n",
    "feature_names = X_train.columns\n",
    "text_representation = tree.export_text(dt_gini, feature_names=feature_names)\n",
    "print(text_representation)"
   ]
  },
  {
   "cell_type": "code",
   "execution_count": 27,
   "id": "88065a4b",
   "metadata": {},
   "outputs": [
    {
     "data": {
      "text/plain": [
       "Text(0.5, 1.0, 'Confusion Matrix')"
      ]
     },
     "execution_count": 27,
     "metadata": {},
     "output_type": "execute_result"
    },
    {
     "data": {
      "image/png": "[encoded data removed]",
      "text/plain": [
       "<Figure size 500x500 with 2 Axes>"
      ]
     },
     "metadata": {},
     "output_type": "display_data"
    }
   ],
   "source": [
    "# We use the confusion matrix to visualize the performance of our classifier.\n",
    "# It helps us understand how well the model distinguishes between the classes,\n",
    "# showing the number of correct and incorrect predictions for each class.\n",
    "confusion_matrix = metrics.confusion_matrix(y_test, y_pred_gini)\n",
    "plt.figure(figsize=(5,5))\n",
    "sns.heatmap(confusion_matrix, annot=True, fmt=\".3f\", linewidths=.5, square=True, cmap=\"Blues_r\")\n",
    "plt.ylabel('Actual Label')\n",
    "plt.xlabel('Predicted Label')\n",
    "plt.title('Confusion Matrix', size = 10)"
   ]
  },
  {
   "cell_type": "code",
   "execution_count": 28,
   "id": "89b70dad",
   "metadata": {},
   "outputs": [
    {
     "name": "stdout",
     "output_type": "stream",
     "text": [
      "              precision    recall  f1-score   support\n",
      "\n",
      "           0       1.00      1.00      1.00       277\n",
      "           1       1.00      1.00      1.00       292\n",
      "\n",
      "    accuracy                           1.00       569\n",
      "   macro avg       1.00      1.00      1.00       569\n",
      "weighted avg       1.00      1.00      1.00       569\n",
      "\n"
     ]
    }
   ],
   "source": [
    "# We analyze the classification report to get further insights into the performance of our model\n",
    "print(classification_report(y_test, y_pred_gini))"
   ]
  }
 ],
 "metadata": {
  "kernelspec": {
   "display_name": "Python 3",
   "language": "python",
   "name": "python3"
  },
  "language_info": {
   "codemirror_mode": {
    "name": "ipython",
    "version": 3
   },
   "file_extension": ".py",
   "mimetype": "text/x-python",
   "name": "python",
   "nbconvert_exporter": "python",
   "pygments_lexer": "ipython3",
   "version": "3.13.4"
  }
 },
 "nbformat": 4,
 "nbformat_minor": 5
}
