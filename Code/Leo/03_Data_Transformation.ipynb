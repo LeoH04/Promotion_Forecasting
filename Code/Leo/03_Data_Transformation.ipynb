{
 "cells": [
  {
   "cell_type": "markdown",
   "id": "90e2ee26",
   "metadata": {},
   "source": [
    "# Data Transformation"
   ]
  },
  {
   "cell_type": "code",
   "execution_count": 9,
   "id": "84e596ec",
   "metadata": {},
   "outputs": [],
   "source": [
    "# First we import all neccessary libraries and give some of them an alias for easy access\n",
    "import pandas as pd\n",
    "from sklearn.preprocessing import LabelEncoder\n",
    "from skrebate import ReliefF\n",
    "from sklearn.preprocessing import StandardScaler"
   ]
  },
  {
   "cell_type": "code",
   "execution_count": 10,
   "id": "5ecb9b32",
   "metadata": {},
   "outputs": [
    {
     "data": {
      "text/plain": [
       "(1722, 10)"
      ]
     },
     "execution_count": 10,
     "metadata": {},
     "output_type": "execute_result"
    }
   ],
   "source": [
    "# Read in the data so every group member can run the notebook on his machine\n",
    "# (our repo is on github, we therefore have the same file structure)\n",
    "df = pd.read_csv(\"../../Data/Transformed/Leo/inventory_management_cleaned.csv\")\n",
    "df.shape # Get a first idea about the number of rows and columns of the dataset"
   ]
  },
  {
   "cell_type": "code",
   "execution_count": 11,
   "id": "b450d5fc",
   "metadata": {},
   "outputs": [
    {
     "data": {
      "application/vnd.microsoft.datawrangler.viewer.v0+json": {
       "columns": [
        {
         "name": "index",
         "rawType": "int64",
         "type": "integer"
        },
        {
         "name": "Category",
         "rawType": "object",
         "type": "string"
        },
        {
         "name": "Region",
         "rawType": "object",
         "type": "string"
        },
        {
         "name": "Inventory Level",
         "rawType": "int64",
         "type": "integer"
        },
        {
         "name": "Price",
         "rawType": "float64",
         "type": "float"
        },
        {
         "name": "Discount",
         "rawType": "int64",
         "type": "integer"
        },
        {
         "name": "Weather Condition",
         "rawType": "object",
         "type": "string"
        },
        {
         "name": "Promotion",
         "rawType": "int64",
         "type": "integer"
        },
        {
         "name": "Demand",
         "rawType": "int64",
         "type": "integer"
        },
        {
         "name": "Product_UID",
         "rawType": "object",
         "type": "string"
        },
        {
         "name": "Weekday",
         "rawType": "object",
         "type": "string"
        }
       ],
       "ref": "e918f721-64a1-413e-9b0c-6284bfc364e7",
       "rows": [
        [
         "0",
         "Electronics",
         "North",
         "195",
         "72.72",
         "5",
         "Snowy",
         "0",
         "115",
         "S001_P0001",
         "Saturday"
        ],
        [
         "1",
         "Clothing",
         "North",
         "117",
         "80.16",
         "15",
         "Snowy",
         "1",
         "229",
         "S001_P0002",
         "Saturday"
        ],
        [
         "2",
         "Clothing",
         "North",
         "247",
         "62.94",
         "10",
         "Snowy",
         "1",
         "157",
         "S001_P0003",
         "Saturday"
        ],
        [
         "3",
         "Electronics",
         "North",
         "139",
         "87.63",
         "10",
         "Snowy",
         "0",
         "52",
         "S001_P0004",
         "Saturday"
        ],
        [
         "4",
         "Groceries",
         "North",
         "152",
         "54.41",
         "0",
         "Snowy",
         "0",
         "59",
         "S001_P0005",
         "Saturday"
        ]
       ],
       "shape": {
        "columns": 10,
        "rows": 5
       }
      },
      "text/html": [
       "<div>\n",
       "<style scoped>\n",
       "    .dataframe tbody tr th:only-of-type {\n",
       "        vertical-align: middle;\n",
       "    }\n",
       "\n",
       "    .dataframe tbody tr th {\n",
       "        vertical-align: top;\n",
       "    }\n",
       "\n",
       "    .dataframe thead th {\n",
       "        text-align: right;\n",
       "    }\n",
       "</style>\n",
       "<table border=\"1\" class=\"dataframe\">\n",
       "  <thead>\n",
       "    <tr style=\"text-align: right;\">\n",
       "      <th></th>\n",
       "      <th>Category</th>\n",
       "      <th>Region</th>\n",
       "      <th>Inventory Level</th>\n",
       "      <th>Price</th>\n",
       "      <th>Discount</th>\n",
       "      <th>Weather Condition</th>\n",
       "      <th>Promotion</th>\n",
       "      <th>Demand</th>\n",
       "      <th>Product_UID</th>\n",
       "      <th>Weekday</th>\n",
       "    </tr>\n",
       "  </thead>\n",
       "  <tbody>\n",
       "    <tr>\n",
       "      <th>0</th>\n",
       "      <td>Electronics</td>\n",
       "      <td>North</td>\n",
       "      <td>195</td>\n",
       "      <td>72.72</td>\n",
       "      <td>5</td>\n",
       "      <td>Snowy</td>\n",
       "      <td>0</td>\n",
       "      <td>115</td>\n",
       "      <td>S001_P0001</td>\n",
       "      <td>Saturday</td>\n",
       "    </tr>\n",
       "    <tr>\n",
       "      <th>1</th>\n",
       "      <td>Clothing</td>\n",
       "      <td>North</td>\n",
       "      <td>117</td>\n",
       "      <td>80.16</td>\n",
       "      <td>15</td>\n",
       "      <td>Snowy</td>\n",
       "      <td>1</td>\n",
       "      <td>229</td>\n",
       "      <td>S001_P0002</td>\n",
       "      <td>Saturday</td>\n",
       "    </tr>\n",
       "    <tr>\n",
       "      <th>2</th>\n",
       "      <td>Clothing</td>\n",
       "      <td>North</td>\n",
       "      <td>247</td>\n",
       "      <td>62.94</td>\n",
       "      <td>10</td>\n",
       "      <td>Snowy</td>\n",
       "      <td>1</td>\n",
       "      <td>157</td>\n",
       "      <td>S001_P0003</td>\n",
       "      <td>Saturday</td>\n",
       "    </tr>\n",
       "    <tr>\n",
       "      <th>3</th>\n",
       "      <td>Electronics</td>\n",
       "      <td>North</td>\n",
       "      <td>139</td>\n",
       "      <td>87.63</td>\n",
       "      <td>10</td>\n",
       "      <td>Snowy</td>\n",
       "      <td>0</td>\n",
       "      <td>52</td>\n",
       "      <td>S001_P0004</td>\n",
       "      <td>Saturday</td>\n",
       "    </tr>\n",
       "    <tr>\n",
       "      <th>4</th>\n",
       "      <td>Groceries</td>\n",
       "      <td>North</td>\n",
       "      <td>152</td>\n",
       "      <td>54.41</td>\n",
       "      <td>0</td>\n",
       "      <td>Snowy</td>\n",
       "      <td>0</td>\n",
       "      <td>59</td>\n",
       "      <td>S001_P0005</td>\n",
       "      <td>Saturday</td>\n",
       "    </tr>\n",
       "  </tbody>\n",
       "</table>\n",
       "</div>"
      ],
      "text/plain": [
       "      Category Region  Inventory Level  Price  Discount Weather Condition  \\\n",
       "0  Electronics  North              195  72.72         5             Snowy   \n",
       "1     Clothing  North              117  80.16        15             Snowy   \n",
       "2     Clothing  North              247  62.94        10             Snowy   \n",
       "3  Electronics  North              139  87.63        10             Snowy   \n",
       "4    Groceries  North              152  54.41         0             Snowy   \n",
       "\n",
       "   Promotion  Demand Product_UID   Weekday  \n",
       "0          0     115  S001_P0001  Saturday  \n",
       "1          1     229  S001_P0002  Saturday  \n",
       "2          1     157  S001_P0003  Saturday  \n",
       "3          0      52  S001_P0004  Saturday  \n",
       "4          0      59  S001_P0005  Saturday  "
      ]
     },
     "execution_count": 11,
     "metadata": {},
     "output_type": "execute_result"
    }
   ],
   "source": [
    "# Get a first impression about our data\n",
    "df.head()"
   ]
  },
  {
   "cell_type": "code",
   "execution_count": 12,
   "id": "9e109bd5",
   "metadata": {},
   "outputs": [
    {
     "data": {
      "application/vnd.microsoft.datawrangler.viewer.v0+json": {
       "columns": [
        {
         "name": "index",
         "rawType": "int64",
         "type": "integer"
        },
        {
         "name": "Category",
         "rawType": "int64",
         "type": "integer"
        },
        {
         "name": "Region",
         "rawType": "int64",
         "type": "integer"
        },
        {
         "name": "Inventory Level",
         "rawType": "int64",
         "type": "integer"
        },
        {
         "name": "Price",
         "rawType": "float64",
         "type": "float"
        },
        {
         "name": "Discount",
         "rawType": "int64",
         "type": "integer"
        },
        {
         "name": "Weather Condition",
         "rawType": "int64",
         "type": "integer"
        },
        {
         "name": "Promotion",
         "rawType": "int64",
         "type": "integer"
        },
        {
         "name": "Demand",
         "rawType": "int64",
         "type": "integer"
        },
        {
         "name": "Product_UID",
         "rawType": "object",
         "type": "string"
        },
        {
         "name": "Weekday",
         "rawType": "int64",
         "type": "integer"
        }
       ],
       "ref": "fd031df4-ec92-44ef-abc8-7444cec2093e",
       "rows": [
        [
         "0",
         "1",
         "1",
         "195",
         "72.72",
         "5",
         "1",
         "0",
         "115",
         "S001_P0001",
         "2"
        ],
        [
         "1",
         "0",
         "1",
         "117",
         "80.16",
         "15",
         "1",
         "1",
         "229",
         "S001_P0002",
         "2"
        ],
        [
         "2",
         "0",
         "1",
         "247",
         "62.94",
         "10",
         "1",
         "1",
         "157",
         "S001_P0003",
         "2"
        ],
        [
         "3",
         "1",
         "1",
         "139",
         "87.63",
         "10",
         "1",
         "0",
         "52",
         "S001_P0004",
         "2"
        ],
        [
         "4",
         "3",
         "1",
         "152",
         "54.41",
         "0",
         "1",
         "0",
         "59",
         "S001_P0005",
         "2"
        ]
       ],
       "shape": {
        "columns": 10,
        "rows": 5
       }
      },
      "text/html": [
       "<div>\n",
       "<style scoped>\n",
       "    .dataframe tbody tr th:only-of-type {\n",
       "        vertical-align: middle;\n",
       "    }\n",
       "\n",
       "    .dataframe tbody tr th {\n",
       "        vertical-align: top;\n",
       "    }\n",
       "\n",
       "    .dataframe thead th {\n",
       "        text-align: right;\n",
       "    }\n",
       "</style>\n",
       "<table border=\"1\" class=\"dataframe\">\n",
       "  <thead>\n",
       "    <tr style=\"text-align: right;\">\n",
       "      <th></th>\n",
       "      <th>Category</th>\n",
       "      <th>Region</th>\n",
       "      <th>Inventory Level</th>\n",
       "      <th>Price</th>\n",
       "      <th>Discount</th>\n",
       "      <th>Weather Condition</th>\n",
       "      <th>Promotion</th>\n",
       "      <th>Demand</th>\n",
       "      <th>Product_UID</th>\n",
       "      <th>Weekday</th>\n",
       "    </tr>\n",
       "  </thead>\n",
       "  <tbody>\n",
       "    <tr>\n",
       "      <th>0</th>\n",
       "      <td>1</td>\n",
       "      <td>1</td>\n",
       "      <td>195</td>\n",
       "      <td>72.72</td>\n",
       "      <td>5</td>\n",
       "      <td>1</td>\n",
       "      <td>0</td>\n",
       "      <td>115</td>\n",
       "      <td>S001_P0001</td>\n",
       "      <td>2</td>\n",
       "    </tr>\n",
       "    <tr>\n",
       "      <th>1</th>\n",
       "      <td>0</td>\n",
       "      <td>1</td>\n",
       "      <td>117</td>\n",
       "      <td>80.16</td>\n",
       "      <td>15</td>\n",
       "      <td>1</td>\n",
       "      <td>1</td>\n",
       "      <td>229</td>\n",
       "      <td>S001_P0002</td>\n",
       "      <td>2</td>\n",
       "    </tr>\n",
       "    <tr>\n",
       "      <th>2</th>\n",
       "      <td>0</td>\n",
       "      <td>1</td>\n",
       "      <td>247</td>\n",
       "      <td>62.94</td>\n",
       "      <td>10</td>\n",
       "      <td>1</td>\n",
       "      <td>1</td>\n",
       "      <td>157</td>\n",
       "      <td>S001_P0003</td>\n",
       "      <td>2</td>\n",
       "    </tr>\n",
       "    <tr>\n",
       "      <th>3</th>\n",
       "      <td>1</td>\n",
       "      <td>1</td>\n",
       "      <td>139</td>\n",
       "      <td>87.63</td>\n",
       "      <td>10</td>\n",
       "      <td>1</td>\n",
       "      <td>0</td>\n",
       "      <td>52</td>\n",
       "      <td>S001_P0004</td>\n",
       "      <td>2</td>\n",
       "    </tr>\n",
       "    <tr>\n",
       "      <th>4</th>\n",
       "      <td>3</td>\n",
       "      <td>1</td>\n",
       "      <td>152</td>\n",
       "      <td>54.41</td>\n",
       "      <td>0</td>\n",
       "      <td>1</td>\n",
       "      <td>0</td>\n",
       "      <td>59</td>\n",
       "      <td>S001_P0005</td>\n",
       "      <td>2</td>\n",
       "    </tr>\n",
       "  </tbody>\n",
       "</table>\n",
       "</div>"
      ],
      "text/plain": [
       "   Category  Region  Inventory Level  Price  Discount  Weather Condition  \\\n",
       "0         1       1              195  72.72         5                  1   \n",
       "1         0       1              117  80.16        15                  1   \n",
       "2         0       1              247  62.94        10                  1   \n",
       "3         1       1              139  87.63        10                  1   \n",
       "4         3       1              152  54.41         0                  1   \n",
       "\n",
       "   Promotion  Demand Product_UID  Weekday  \n",
       "0          0     115  S001_P0001        2  \n",
       "1          1     229  S001_P0002        2  \n",
       "2          1     157  S001_P0003        2  \n",
       "3          0      52  S001_P0004        2  \n",
       "4          0      59  S001_P0005        2  "
      ]
     },
     "execution_count": 12,
     "metadata": {},
     "output_type": "execute_result"
    }
   ],
   "source": [
    "# Now we encode everything so that ML algorithms can perform on the data\n",
    "label_encoders = {}\n",
    "\n",
    "# Columns that need to be encoded\n",
    "cols_to_encode = [\"Region\", \"Weather Condition\", \"Category\", \"Weekday\"]\n",
    "\n",
    "# Encode each column and store the encoder\n",
    "for col in cols_to_encode:\n",
    "    le = LabelEncoder()\n",
    "    df[col] = le.fit_transform(df[col])\n",
    "    label_encoders[col] = le  # Save the encoder\n",
    "\n",
    "# Have a look at the encoded dataframe\n",
    "df.head()"
   ]
  },
  {
   "cell_type": "code",
   "execution_count": 13,
   "id": "382c9567",
   "metadata": {},
   "outputs": [],
   "source": [
    "# Save the label_encoders mappings as a text file\n",
    "with open('../../Data/Transformed/Leo/label_encodings.txt', 'w') as f:\n",
    "    for col, encoder in label_encoders.items():\n",
    "        f.write(f\"{col}:\\n\")\n",
    "        for idx, label in enumerate(encoder.classes_):\n",
    "            f.write(f\"  {label}: {idx}\\n\")\n",
    "        f.write(\"\\n\")"
   ]
  },
  {
   "cell_type": "code",
   "execution_count": 14,
   "id": "945aeec5",
   "metadata": {},
   "outputs": [],
   "source": [
    "# We store the cleaned data with the unscaled values for the decision tree\n",
    "df.to_csv(\"../../Data/Transformed/Leo/inventory_management_cleaned_transformed_unscaled.csv\", index=False)"
   ]
  },
  {
   "cell_type": "code",
   "execution_count": 15,
   "id": "063343e1",
   "metadata": {},
   "outputs": [],
   "source": [
    "# We scale the columns for kmeans\n",
    "# We used the StandardScaler because it produces better results in our case\n",
    "scale_columns = [\n",
    "    \"Inventory Level\",\n",
    "    \"Price\",\n",
    "    \"Discount\",\n",
    "    \"Demand\",\n",
    "]\n",
    "\n",
    "df_scaled = df.copy()\n",
    "scaler = StandardScaler()\n",
    "df_scaled[scale_columns] = scaler.fit_transform(df[scale_columns])\n"
   ]
  },
  {
   "cell_type": "code",
   "execution_count": 16,
   "id": "217bcad8",
   "metadata": {},
   "outputs": [
    {
     "name": "stdout",
     "output_type": "stream",
     "text": [
      "Feature Importance Scores (sorted):\n",
      "Discount             0.438269\n",
      "Demand               0.070137\n",
      "Weekday              0.016736\n",
      "Weather Condition    0.009756\n",
      "Inventory Level     -0.001802\n",
      "Region              -0.008531\n",
      "Price               -0.008930\n",
      "Category            -0.015221\n",
      "dtype: float64\n"
     ]
    }
   ],
   "source": [
    "# Use the ReliefF Algorithm to get insights in the feature importance, this can only be applied after all values are encoded and fits well\n",
    "# in this scenario due to our binary classification problem\n",
    "# Separate target variable and features\n",
    "X = df_scaled.drop(['Promotion', 'Product_UID'], axis=1) \n",
    "y = df_scaled['Promotion']  \n",
    "\n",
    "# Apply the algorithm\n",
    "relieff = ReliefF(n_neighbors=100, n_features_to_select=X.shape[1])\n",
    "relieff.fit(X.values, y.values)\n",
    "\n",
    "# Output the feature importance scores\n",
    "scores = pd.Series(relieff.feature_importances_, index=X.columns)\n",
    "print(\"Feature Importance Scores (sorted):\")\n",
    "print(scores.sort_values(ascending=False))"
   ]
  },
  {
   "cell_type": "code",
   "execution_count": 17,
   "id": "e783c332",
   "metadata": {},
   "outputs": [],
   "source": [
    "# We store the cleaned data with the scaled values for kmeans\n",
    "df_scaled.to_csv(\"../../Data/Transformed/Leo/inventory_management_cleaned_transformed.csv\", index=False)"
   ]
  },
  {
   "cell_type": "code",
   "execution_count": null,
   "id": "9eb434e2",
   "metadata": {},
   "outputs": [
    {
     "name": "stdout",
     "output_type": "stream",
     "text": [
      "Saved table image to: ../../Images/Challenge_interpretable_data_set.png\n"
     ]
    },
    {
     "data": {
      "image/png": "[encoded data removed]",
      "text/plain": [
       "<Figure size 1000x400 with 1 Axes>"
      ]
     },
     "metadata": {},
     "output_type": "display_data"
    }
   ],
   "source": [
    "# This is only to store some data tables for our presentation\n",
    "import matplotlib.pyplot as plt\n",
    "import matplotlib.table as tbl\n",
    "import os\n",
    "\n",
    "# Load the transformed dataset\n",
    "file_path = \"../../Data/Transformed/Leo/inventory_management_cleaned_transformed.csv\"\n",
    "df_scaled = pd.read_csv(file_path)\n",
    "\n",
    "# Take the first 10 rows\n",
    "sample_top10 = df_scaled.head(10)\n",
    "\n",
    "# Optionally reorder columns (example: bring Product_UID & Weekday to front if they exist)\n",
    "cols = sample_top10.columns.tolist()\n",
    "for c in ['Product_UID', 'Weekday']:\n",
    "    if c in cols:\n",
    "        cols.remove(c)\n",
    "new_order = [c for c in ['Product_UID', 'Weekday'] if c in sample_top10.columns] + cols\n",
    "sample_top10 = sample_top10[new_order]\n",
    "\n",
    "# Create figure and hide axes\n",
    "fig, ax = plt.subplots(figsize=(10, 4))\n",
    "ax.axis('off')\n",
    "\n",
    "# Create and format table\n",
    "table = tbl.table(\n",
    "    ax,\n",
    "    cellText=sample_top10.values,\n",
    "    colLabels=sample_top10.columns,\n",
    "    loc='center'\n",
    ")\n",
    "table.auto_set_font_size(False)\n",
    "table.set_fontsize(8)\n",
    "table.scale(1.2, 1.5)\n",
    "\n",
    "# Adjust column widths if supported\n",
    "try:\n",
    "    table.auto_set_column_width(col=list(range(sample_top10.shape[1])))\n",
    "except AttributeError:\n",
    "    pass  # older matplotlib versions\n",
    "\n",
    "# Save the table as a high-DPI PNG\n",
    "output_dir = \"../../Images\"\n",
    "os.makedirs(output_dir, exist_ok=True)\n",
    "image_path = os.path.join(output_dir, \"Challenge_interpretable_data_set.png\")\n",
    "plt.savefig(image_path, bbox_inches='tight', dpi=700)\n",
    "\n",
    "print(f\"Saved table image to: {image_path}\")\n"
   ]
  }
 ],
 "metadata": {
  "kernelspec": {
   "display_name": "Python 3",
   "language": "python",
   "name": "python3"
  },
  "language_info": {
   "codemirror_mode": {
    "name": "ipython",
    "version": 3
   },
   "file_extension": ".py",
   "mimetype": "text/x-python",
   "name": "python",
   "nbconvert_exporter": "python",
   "pygments_lexer": "ipython3",
   "version": "3.13.4"
  }
 },
 "nbformat": 4,
 "nbformat_minor": 5
}
