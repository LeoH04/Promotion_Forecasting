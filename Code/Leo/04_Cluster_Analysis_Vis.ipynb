{
 "cells": [
  {
   "cell_type": "markdown",
   "id": "4e7afd78",
   "metadata": {},
   "source": [
    "# Cluster Analysis"
   ]
  },
  {
   "cell_type": "code",
   "execution_count": 326,
   "id": "64819414",
   "metadata": {},
   "outputs": [],
   "source": [
    "# First we import all neccessary libraries and give some of them an alias for easy access\n",
    "import numpy as np\n",
    "import pandas as pd\n",
    "import matplotlib.pyplot as plt\n",
    "import seaborn as sns\n",
    "from sklearn.metrics import silhouette_samples\n",
    "from sklearn.decomposition import PCA\n",
    "import warnings\n",
    "warnings.filterwarnings('ignore')\n",
    "from sklearn.cluster import KMeans\n",
    "from sklearn.metrics import silhouette_score\n",
    "from matplotlib import cm\n",
    "%matplotlib inline\n",
    "import plotly.express as px\n",
    "import plotly.graph_objects as go"
   ]
  },
  {
   "cell_type": "code",
   "execution_count": 327,
   "id": "d5f52349",
   "metadata": {},
   "outputs": [
    {
     "data": {
      "text/plain": [
       "(1722, 10)"
      ]
     },
     "execution_count": 327,
     "metadata": {},
     "output_type": "execute_result"
    }
   ],
   "source": [
    "# Read in the data so every group member can run the notebook on his machine\n",
    "# (our repo is on github, we therefore have the same file structure)\n",
    "df = pd.read_csv(\"../../Data/Transformed/Leo/inventory_management_cleaned_transformed.csv\")\n",
    "df.shape # Get a first idea about the number of rows and columns of the dataset"
   ]
  },
  {
   "cell_type": "code",
   "execution_count": 328,
   "id": "2c0b5d80",
   "metadata": {},
   "outputs": [
    {
     "data": {
      "application/vnd.microsoft.datawrangler.viewer.v0+json": {
       "columns": [
        {
         "name": "index",
         "rawType": "int64",
         "type": "integer"
        },
        {
         "name": "Category",
         "rawType": "int64",
         "type": "integer"
        },
        {
         "name": "Region",
         "rawType": "int64",
         "type": "integer"
        },
        {
         "name": "Inventory Level",
         "rawType": "float64",
         "type": "float"
        },
        {
         "name": "Price",
         "rawType": "float64",
         "type": "float"
        },
        {
         "name": "Discount",
         "rawType": "float64",
         "type": "float"
        },
        {
         "name": "Weather Condition",
         "rawType": "int64",
         "type": "integer"
        },
        {
         "name": "Promotion",
         "rawType": "int64",
         "type": "integer"
        },
        {
         "name": "Demand",
         "rawType": "float64",
         "type": "float"
        },
        {
         "name": "Product_UID",
         "rawType": "object",
         "type": "string"
        },
        {
         "name": "Weekday",
         "rawType": "int64",
         "type": "integer"
        }
       ],
       "ref": "3728a2d6-0704-4bec-9127-95ba2d0e0756",
       "rows": [
        [
         "0",
         "1",
         "1",
         "-0.3993858148473776",
         "0.0843329901732856",
         "-0.601533261808033",
         "1",
         "0",
         "0.0388634757210251",
         "S001_P0001",
         "2"
        ],
        [
         "1",
         "0",
         "1",
         "-0.7377669838745102",
         "0.2688614390925814",
         "0.7079993258448529",
         "1",
         "1",
         "2.6338332688649126",
         "S001_P0002",
         "2"
        ],
        [
         "2",
         "0",
         "1",
         "-0.1737983688292892",
         "-0.1582326321964338",
         "0.0532330320184099",
         "1",
         "1",
         "0.9949049784582468",
         "S001_P0003",
         "2"
        ],
        [
         "3",
         "1",
         "1",
         "-0.6423261413283959",
         "0.4541339543381646",
         "0.0532330320184099",
         "1",
         "0",
         "-1.3951987783848072",
         "S001_P0004",
         "2"
        ],
        [
         "4",
         "3",
         "1",
         "-0.5859292798238738",
         "-0.3697954909708414",
         "-1.256299555634476",
         "1",
         "0",
         "-1.2358585279286036",
         "S001_P0005",
         "2"
        ]
       ],
       "shape": {
        "columns": 10,
        "rows": 5
       }
      },
      "text/html": [
       "<div>\n",
       "<style scoped>\n",
       "    .dataframe tbody tr th:only-of-type {\n",
       "        vertical-align: middle;\n",
       "    }\n",
       "\n",
       "    .dataframe tbody tr th {\n",
       "        vertical-align: top;\n",
       "    }\n",
       "\n",
       "    .dataframe thead th {\n",
       "        text-align: right;\n",
       "    }\n",
       "</style>\n",
       "<table border=\"1\" class=\"dataframe\">\n",
       "  <thead>\n",
       "    <tr style=\"text-align: right;\">\n",
       "      <th></th>\n",
       "      <th>Category</th>\n",
       "      <th>Region</th>\n",
       "      <th>Inventory Level</th>\n",
       "      <th>Price</th>\n",
       "      <th>Discount</th>\n",
       "      <th>Weather Condition</th>\n",
       "      <th>Promotion</th>\n",
       "      <th>Demand</th>\n",
       "      <th>Product_UID</th>\n",
       "      <th>Weekday</th>\n",
       "    </tr>\n",
       "  </thead>\n",
       "  <tbody>\n",
       "    <tr>\n",
       "      <th>0</th>\n",
       "      <td>1</td>\n",
       "      <td>1</td>\n",
       "      <td>-0.399386</td>\n",
       "      <td>0.084333</td>\n",
       "      <td>-0.601533</td>\n",
       "      <td>1</td>\n",
       "      <td>0</td>\n",
       "      <td>0.038863</td>\n",
       "      <td>S001_P0001</td>\n",
       "      <td>2</td>\n",
       "    </tr>\n",
       "    <tr>\n",
       "      <th>1</th>\n",
       "      <td>0</td>\n",
       "      <td>1</td>\n",
       "      <td>-0.737767</td>\n",
       "      <td>0.268861</td>\n",
       "      <td>0.707999</td>\n",
       "      <td>1</td>\n",
       "      <td>1</td>\n",
       "      <td>2.633833</td>\n",
       "      <td>S001_P0002</td>\n",
       "      <td>2</td>\n",
       "    </tr>\n",
       "    <tr>\n",
       "      <th>2</th>\n",
       "      <td>0</td>\n",
       "      <td>1</td>\n",
       "      <td>-0.173798</td>\n",
       "      <td>-0.158233</td>\n",
       "      <td>0.053233</td>\n",
       "      <td>1</td>\n",
       "      <td>1</td>\n",
       "      <td>0.994905</td>\n",
       "      <td>S001_P0003</td>\n",
       "      <td>2</td>\n",
       "    </tr>\n",
       "    <tr>\n",
       "      <th>3</th>\n",
       "      <td>1</td>\n",
       "      <td>1</td>\n",
       "      <td>-0.642326</td>\n",
       "      <td>0.454134</td>\n",
       "      <td>0.053233</td>\n",
       "      <td>1</td>\n",
       "      <td>0</td>\n",
       "      <td>-1.395199</td>\n",
       "      <td>S001_P0004</td>\n",
       "      <td>2</td>\n",
       "    </tr>\n",
       "    <tr>\n",
       "      <th>4</th>\n",
       "      <td>3</td>\n",
       "      <td>1</td>\n",
       "      <td>-0.585929</td>\n",
       "      <td>-0.369795</td>\n",
       "      <td>-1.256300</td>\n",
       "      <td>1</td>\n",
       "      <td>0</td>\n",
       "      <td>-1.235859</td>\n",
       "      <td>S001_P0005</td>\n",
       "      <td>2</td>\n",
       "    </tr>\n",
       "  </tbody>\n",
       "</table>\n",
       "</div>"
      ],
      "text/plain": [
       "   Category  Region  Inventory Level     Price  Discount  Weather Condition  \\\n",
       "0         1       1        -0.399386  0.084333 -0.601533                  1   \n",
       "1         0       1        -0.737767  0.268861  0.707999                  1   \n",
       "2         0       1        -0.173798 -0.158233  0.053233                  1   \n",
       "3         1       1        -0.642326  0.454134  0.053233                  1   \n",
       "4         3       1        -0.585929 -0.369795 -1.256300                  1   \n",
       "\n",
       "   Promotion    Demand Product_UID  Weekday  \n",
       "0          0  0.038863  S001_P0001        2  \n",
       "1          1  2.633833  S001_P0002        2  \n",
       "2          1  0.994905  S001_P0003        2  \n",
       "3          0 -1.395199  S001_P0004        2  \n",
       "4          0 -1.235859  S001_P0005        2  "
      ]
     },
     "execution_count": 328,
     "metadata": {},
     "output_type": "execute_result"
    }
   ],
   "source": [
    "# Get a first impression of our data\n",
    "df.head()"
   ]
  },
  {
   "cell_type": "code",
   "execution_count": 329,
   "id": "34b5c78d",
   "metadata": {},
   "outputs": [
    {
     "data": {
      "application/vnd.microsoft.datawrangler.viewer.v0+json": {
       "columns": [
        {
         "name": "index",
         "rawType": "int64",
         "type": "integer"
        },
        {
         "name": "Category",
         "rawType": "int64",
         "type": "integer"
        },
        {
         "name": "Region",
         "rawType": "int64",
         "type": "integer"
        },
        {
         "name": "Weather Condition",
         "rawType": "int64",
         "type": "integer"
        },
        {
         "name": "Weekday",
         "rawType": "int64",
         "type": "integer"
        }
       ],
       "ref": "c0e1a880-2e8b-4f04-ae29-26eb5b892a4c",
       "rows": [
        [
         "0",
         "1",
         "1",
         "1",
         "2"
        ],
        [
         "100",
         "1",
         "1",
         "1",
         "3"
        ],
        [
         "200",
         "1",
         "1",
         "1",
         "1"
        ],
        [
         "300",
         "1",
         "1",
         "1",
         "5"
        ],
        [
         "400",
         "1",
         "1",
         "1",
         "6"
        ],
        [
         "500",
         "1",
         "1",
         "2",
         "4"
        ],
        [
         "600",
         "1",
         "1",
         "1",
         "0"
        ],
        [
         "700",
         "1",
         "1",
         "1",
         "2"
        ],
        [
         "800",
         "1",
         "1",
         "2",
         "3"
        ],
        [
         "900",
         "1",
         "1",
         "0",
         "1"
        ],
        [
         "1000",
         "1",
         "1",
         "0",
         "5"
        ],
        [
         "1100",
         "1",
         "1",
         "1",
         "6"
        ],
        [
         "1200",
         "1",
         "1",
         "0",
         "4"
        ],
        [
         "1300",
         "1",
         "1",
         "2",
         "0"
        ],
        [
         "1400",
         "1",
         "1",
         "2",
         "2"
        ],
        [
         "1500",
         "1",
         "1",
         "0",
         "3"
        ],
        [
         "1600",
         "1",
         "1",
         "2",
         "1"
        ],
        [
         "1700",
         "1",
         "1",
         "0",
         "5"
        ]
       ],
       "shape": {
        "columns": 4,
        "rows": 18
       }
      },
      "text/html": [
       "<div>\n",
       "<style scoped>\n",
       "    .dataframe tbody tr th:only-of-type {\n",
       "        vertical-align: middle;\n",
       "    }\n",
       "\n",
       "    .dataframe tbody tr th {\n",
       "        vertical-align: top;\n",
       "    }\n",
       "\n",
       "    .dataframe thead th {\n",
       "        text-align: right;\n",
       "    }\n",
       "</style>\n",
       "<table border=\"1\" class=\"dataframe\">\n",
       "  <thead>\n",
       "    <tr style=\"text-align: right;\">\n",
       "      <th></th>\n",
       "      <th>Category</th>\n",
       "      <th>Region</th>\n",
       "      <th>Weather Condition</th>\n",
       "      <th>Weekday</th>\n",
       "    </tr>\n",
       "  </thead>\n",
       "  <tbody>\n",
       "    <tr>\n",
       "      <th>0</th>\n",
       "      <td>1</td>\n",
       "      <td>1</td>\n",
       "      <td>1</td>\n",
       "      <td>2</td>\n",
       "    </tr>\n",
       "    <tr>\n",
       "      <th>100</th>\n",
       "      <td>1</td>\n",
       "      <td>1</td>\n",
       "      <td>1</td>\n",
       "      <td>3</td>\n",
       "    </tr>\n",
       "    <tr>\n",
       "      <th>200</th>\n",
       "      <td>1</td>\n",
       "      <td>1</td>\n",
       "      <td>1</td>\n",
       "      <td>1</td>\n",
       "    </tr>\n",
       "    <tr>\n",
       "      <th>300</th>\n",
       "      <td>1</td>\n",
       "      <td>1</td>\n",
       "      <td>1</td>\n",
       "      <td>5</td>\n",
       "    </tr>\n",
       "    <tr>\n",
       "      <th>400</th>\n",
       "      <td>1</td>\n",
       "      <td>1</td>\n",
       "      <td>1</td>\n",
       "      <td>6</td>\n",
       "    </tr>\n",
       "    <tr>\n",
       "      <th>500</th>\n",
       "      <td>1</td>\n",
       "      <td>1</td>\n",
       "      <td>2</td>\n",
       "      <td>4</td>\n",
       "    </tr>\n",
       "    <tr>\n",
       "      <th>600</th>\n",
       "      <td>1</td>\n",
       "      <td>1</td>\n",
       "      <td>1</td>\n",
       "      <td>0</td>\n",
       "    </tr>\n",
       "    <tr>\n",
       "      <th>700</th>\n",
       "      <td>1</td>\n",
       "      <td>1</td>\n",
       "      <td>1</td>\n",
       "      <td>2</td>\n",
       "    </tr>\n",
       "    <tr>\n",
       "      <th>800</th>\n",
       "      <td>1</td>\n",
       "      <td>1</td>\n",
       "      <td>2</td>\n",
       "      <td>3</td>\n",
       "    </tr>\n",
       "    <tr>\n",
       "      <th>900</th>\n",
       "      <td>1</td>\n",
       "      <td>1</td>\n",
       "      <td>0</td>\n",
       "      <td>1</td>\n",
       "    </tr>\n",
       "    <tr>\n",
       "      <th>1000</th>\n",
       "      <td>1</td>\n",
       "      <td>1</td>\n",
       "      <td>0</td>\n",
       "      <td>5</td>\n",
       "    </tr>\n",
       "    <tr>\n",
       "      <th>1100</th>\n",
       "      <td>1</td>\n",
       "      <td>1</td>\n",
       "      <td>1</td>\n",
       "      <td>6</td>\n",
       "    </tr>\n",
       "    <tr>\n",
       "      <th>1200</th>\n",
       "      <td>1</td>\n",
       "      <td>1</td>\n",
       "      <td>0</td>\n",
       "      <td>4</td>\n",
       "    </tr>\n",
       "    <tr>\n",
       "      <th>1300</th>\n",
       "      <td>1</td>\n",
       "      <td>1</td>\n",
       "      <td>2</td>\n",
       "      <td>0</td>\n",
       "    </tr>\n",
       "    <tr>\n",
       "      <th>1400</th>\n",
       "      <td>1</td>\n",
       "      <td>1</td>\n",
       "      <td>2</td>\n",
       "      <td>2</td>\n",
       "    </tr>\n",
       "    <tr>\n",
       "      <th>1500</th>\n",
       "      <td>1</td>\n",
       "      <td>1</td>\n",
       "      <td>0</td>\n",
       "      <td>3</td>\n",
       "    </tr>\n",
       "    <tr>\n",
       "      <th>1600</th>\n",
       "      <td>1</td>\n",
       "      <td>1</td>\n",
       "      <td>2</td>\n",
       "      <td>1</td>\n",
       "    </tr>\n",
       "    <tr>\n",
       "      <th>1700</th>\n",
       "      <td>1</td>\n",
       "      <td>1</td>\n",
       "      <td>0</td>\n",
       "      <td>5</td>\n",
       "    </tr>\n",
       "  </tbody>\n",
       "</table>\n",
       "</div>"
      ],
      "text/plain": [
       "      Category  Region  Weather Condition  Weekday\n",
       "0            1       1                  1        2\n",
       "100          1       1                  1        3\n",
       "200          1       1                  1        1\n",
       "300          1       1                  1        5\n",
       "400          1       1                  1        6\n",
       "500          1       1                  2        4\n",
       "600          1       1                  1        0\n",
       "700          1       1                  1        2\n",
       "800          1       1                  2        3\n",
       "900          1       1                  0        1\n",
       "1000         1       1                  0        5\n",
       "1100         1       1                  1        6\n",
       "1200         1       1                  0        4\n",
       "1300         1       1                  2        0\n",
       "1400         1       1                  2        2\n",
       "1500         1       1                  0        3\n",
       "1600         1       1                  2        1\n",
       "1700         1       1                  0        5"
      ]
     },
     "execution_count": 329,
     "metadata": {},
     "output_type": "execute_result"
    }
   ],
   "source": [
    "# We look at the data to decide how to handle the grouping with categorial data attributes\n",
    "df[df['Product_UID'] == \"S001_P0001\"][['Category', 'Region', 'Weather Condition', 'Weekday']]"
   ]
  },
  {
   "cell_type": "code",
   "execution_count": 330,
   "id": "220c4f3d",
   "metadata": {},
   "outputs": [],
   "source": [
    "# We group the data by the unique Product_UID, now we are able to look at specific products\n",
    "# We exclude Weather Condition and Weekday from clustering because they represent external, short-term conditions rather than intrinsic product characteristics\n",
    "# We exclude promotion as this is our target variable and KMeans is unsupervised\n",
    "# We take the mean of all numerical attributes and the first value of the non numerical attributes\n",
    "agg_df = df.groupby('Product_UID').agg({\n",
    "    'Price': 'mean',\n",
    "    'Discount': 'mean',\n",
    "    'Inventory Level': 'mean',\n",
    "    'Demand': 'mean',\n",
    "    'Category': 'first',\n",
    "    'Region': 'first'\n",
    "}).reset_index()"
   ]
  },
  {
   "cell_type": "code",
   "execution_count": 331,
   "id": "2529139f",
   "metadata": {},
   "outputs": [
    {
     "data": {
      "application/vnd.microsoft.datawrangler.viewer.v0+json": {
       "columns": [
        {
         "name": "index",
         "rawType": "int64",
         "type": "integer"
        },
        {
         "name": "Product_UID",
         "rawType": "object",
         "type": "string"
        },
        {
         "name": "Price",
         "rawType": "float64",
         "type": "float"
        },
        {
         "name": "Discount",
         "rawType": "float64",
         "type": "float"
        },
        {
         "name": "Inventory Level",
         "rawType": "float64",
         "type": "float"
        },
        {
         "name": "Demand",
         "rawType": "float64",
         "type": "float"
        },
        {
         "name": "Category",
         "rawType": "int64",
         "type": "integer"
        },
        {
         "name": "Region",
         "rawType": "int64",
         "type": "integer"
        }
       ],
       "ref": "a91e681b-06b0-4d1d-8564-7254aacdec54",
       "rows": [
        [
         "0",
         "S001_P0001",
         "-0.04529989867324466",
         "0.05323303201840991",
         "-0.248994184168652",
         "-0.22417439804794587",
         "1",
         "1"
        ],
        [
         "1",
         "S001_P0002",
         "0.0898308135841876",
         "0.1623607476561504",
         "-0.5085643544266447",
         "1.2149462767072898",
         "0",
         "1"
        ],
        [
         "2",
         "S001_P0003",
         "-0.2790745151879379",
         "0.05323303201840992",
         "0.4007747842766112",
         "0.5624100129342656",
         "0",
         "1"
        ],
        [
         "3",
         "S001_P0004",
         "0.5719720140124342",
         "0.19873665286873055",
         "-0.5100104277985555",
         "-0.8235972450022356",
         "1",
         "1"
        ],
        [
         "4",
         "S001_P0005",
         "-0.26536440417578894",
         "0.23511255808131074",
         "1.5246148064799725",
         "0.25005253783361253",
         "3",
         "1"
        ],
        [
         "5",
         "S001_P0006",
         "-0.7459210189091641",
         "-0.27415011489481156",
         "-0.39215544798782354",
         "-0.3784562278547462",
         "4",
         "1"
        ],
        [
         "6",
         "S001_P0007",
         "-1.101088678657056",
         "-0.20139830446965123",
         "0.4506643156075346",
         "0.22602503974894686",
         "3",
         "1"
        ],
        [
         "7",
         "S001_P0008",
         "-0.6752622759239378",
         "-0.20139830446965123",
         "-0.7095685531222492",
         "-0.3569579400947822",
         "1",
         "1"
        ],
        [
         "8",
         "S001_P0009",
         "0.6381663590399356",
         "-0.019518778406750408",
         "-0.46132595761089124",
         "0.6142588245906493",
         "0",
         "1"
        ],
        [
         "9",
         "S001_P0010",
         "1.3416672915387082",
         "-0.20139830446965123",
         "0.49597461459407366",
         "-0.7881883004564126",
         "2",
         "1"
        ],
        [
         "10",
         "S001_P0011",
         "2.2369030931169314",
         "0.05323303201840991",
         "-0.3540755158608385",
         "-0.4429510911346381",
         "2",
         "1"
        ],
        [
         "11",
         "S001_P0012",
         "0.26306047754874756",
         "0.08960893723099007",
         "-0.11908859292532975",
         "0.008512951824605455",
         "3",
         "1"
        ],
        [
         "12",
         "S001_P0013",
         "-0.941872263837577",
         "0.08960893723099006",
         "-0.5478493476968889",
         "-0.2102637412620868",
         "4",
         "1"
        ],
        [
         "13",
         "S001_P0014",
         "0.11359959900726002",
         "0.016857126805829722",
         "0.06769588427981824",
         "0.29684292884059293",
         "3",
         "1"
        ],
        [
         "14",
         "S001_P0015",
         "-1.342675991597768",
         "0.05323303201840991",
         "-0.6628121807637992",
         "-0.21911597739854255",
         "4",
         "1"
        ],
        [
         "15",
         "S001_P0016",
         "-0.7730656608126147",
         "0.1623607476561504",
         "0.3135283575046582",
         "0.20073293650193044",
         "3",
         "1"
        ],
        [
         "16",
         "S001_P0017",
         "-1.1874692675366159",
         "-0.1286464940444909",
         "-0.7358388860452958",
         "-0.479624640842812",
         "4",
         "1"
        ],
        [
         "17",
         "S001_P0018",
         "-0.15434695249248798",
         "-0.09227058883191076",
         "-0.44228599154739867",
         "0.38536529020515053",
         "3",
         "1"
        ],
        [
         "18",
         "S001_P0019",
         "0.8455817369955926",
         "-0.16502239925707107",
         "-0.7647603534835122",
         "-1.0031711780560524",
         "2",
         "1"
        ],
        [
         "19",
         "S001_P0020",
         "1.185110224885405",
         "0.41699208414421157",
         "0.528752277690719",
         "-0.27855242002903124",
         "2",
         "1"
        ],
        [
         "20",
         "S002_P0001",
         "0.3288690104070627",
         "-0.05589468361933059",
         "0.013468132833162358",
         "0.35122095082167826",
         "3",
         "2"
        ],
        [
         "21",
         "S002_P0002",
         "-0.9292644733088168",
         "-0.0558946836193306",
         "-0.07715246513991589",
         "-0.2153221619114901",
         "4",
         "2"
        ],
        [
         "22",
         "S002_P0003",
         "0.23038883316277578",
         "-0.02379829666705398",
         "0.06939714707030159",
         "-0.01871325343541815",
         "3",
         "2"
        ],
        [
         "23",
         "S002_P0004",
         "-0.7833067044211577",
         "0.2458113537320696",
         "-0.34120262741284807",
         "-0.39229249610164335",
         "3",
         "2"
        ],
        [
         "24",
         "S002_P0005",
         "0.4764851231984083",
         "-0.0623139610097859",
         "0.21485511565662554",
         "-0.2289352645415019",
         "1",
         "2"
        ],
        [
         "25",
         "S002_P0006",
         "-0.030705499685082953",
         "-0.1393452896952498",
         "-0.6438572778398308",
         "0.2972892600743638",
         "0",
         "2"
        ],
        [
         "26",
         "S002_P0007",
         "-1.0174541646287618",
         "0.09174869636114183",
         "0.1571823070592409",
         "0.10715215448796961",
         "4",
         "2"
        ],
        [
         "27",
         "S002_P0008",
         "-1.0745284287157546",
         "-0.062313961009785916",
         "-0.6540648545827308",
         "0.29595026637305116",
         "3",
         "2"
        ],
        [
         "28",
         "S002_P0009",
         "-0.05616423967276254",
         "-0.10082962535251787",
         "0.20719943309945058",
         "0.6668515216366511",
         "3",
         "2"
        ],
        [
         "29",
         "S002_P0010",
         "0.6096292269964391",
         "0.053233032018409905",
         "-0.5193248415764518",
         "0.6949703893642165",
         "3",
         "2"
        ],
        [
         "30",
         "S002_P0011",
         "0.7420730330756111",
         "-0.13934528969524979",
         "0.5402216243365607",
         "0.46198548533581796",
         "3",
         "2"
        ],
        [
         "31",
         "S002_P0012",
         "-0.13516657608152177",
         "-0.023798296667053954",
         "0.9487798834711302",
         "-0.4030044457121445",
         "1",
         "2"
        ],
        [
         "32",
         "S002_P0013",
         "-1.1799086458681955",
         "-0.02379829666705396",
         "-0.21462867580088896",
         "-0.045493127461670856",
         "3",
         "2"
        ],
        [
         "33",
         "S002_P0014",
         "1.155890626777928",
         "0.16878002504660572",
         "1.3815811373700873",
         "-0.23295224564543981",
         "1",
         "2"
        ],
        [
         "34",
         "S002_P0015",
         "0.01300474960035423",
         "0.09174869636114184",
         "0.8362413498806587",
         "0.35218800182818183",
         "0",
         "2"
        ],
        [
         "35",
         "S002_P0016",
         "0.5230111528950904",
         "0.20729568938933765",
         "0.03264987079586182",
         "0.5034942900765096",
         "0",
         "2"
        ],
        [
         "36",
         "S002_P0017",
         "-1.2355093668384232",
         "0.1302643607038738",
         "0.26844489355685014",
         "-0.3065968992176347",
         "4",
         "2"
        ],
        [
         "37",
         "S002_P0018",
         "-1.0259306849341154",
         "-0.10082962535251785",
         "-0.6443676566769758",
         "0.11116913559190748",
         "0",
         "2"
        ],
        [
         "38",
         "S002_P0019",
         "0.43362106698992553",
         "-0.17786095403798174",
         "0.8992731362680657",
         "0.004049639486896661",
         "0",
         "2"
        ],
        [
         "39",
         "S002_P0020",
         "1.4697699001847695",
         "0.13026436070387376",
         "-0.17303280057357173",
         "-0.423089351231834",
         "2",
         "2"
        ],
        [
         "40",
         "S003_P0001",
         "-1.3106162971860302",
         "0.05323303201840991",
         "-0.11000101418616469",
         "0.054931400136776797",
         "4",
         "0"
        ],
        [
         "41",
         "S003_P0002",
         "-0.25933811535667406",
         "-0.0623139610097859",
         "0.6430629600212776",
         "0.49947730897257175",
         "3",
         "0"
        ],
        [
         "42",
         "S003_P0003",
         "0.7697931511137722",
         "0.09174869636114182",
         "-0.3751428200829903",
         "0.9975829658608721",
         "1",
         "0"
        ],
        [
         "43",
         "S003_P0004",
         "-1.1747877187990405",
         "0.28432701807480154",
         "0.15386484461779854",
         "-0.040137152656420275",
         "3",
         "0"
        ],
        [
         "44",
         "S003_P0005",
         "-1.1938562421021337",
         "0.16878002504660575",
         "0.45473316911477385",
         "-0.29186796850319574",
         "4",
         "0"
        ],
        [
         "45",
         "S003_P0006",
         "-0.7785651052830511",
         "-0.21637661838071368",
         "-0.6012406449382237",
         "-0.2557151385677546",
         "4",
         "0"
        ],
        [
         "46",
         "S003_P0007",
         "-1.2778627892935714",
         "0.014717367675677955",
         "1.064891068921617",
         "0.9078703878729255",
         "3",
         "0"
        ],
        [
         "47",
         "S003_P0008",
         "1.1401193385677952",
         "0.014717367675677969",
         "-0.1615492767378093",
         "0.1566949214365371",
         "0",
         "0"
        ],
        [
         "48",
         "S003_P0009",
         "-0.3180026388469087",
         "0.39987401110299736",
         "-0.5154970002978643",
         "0.80342887917054",
         "3",
         "0"
        ],
        [
         "49",
         "S003_P0010",
         "-0.7152465198695673",
         "-0.1393452896952498",
         "-0.3896886169416227",
         "0.2865773104638627",
         "3",
         "0"
        ]
       ],
       "shape": {
        "columns": 7,
        "rows": 100
       }
      },
      "text/html": [
       "<div>\n",
       "<style scoped>\n",
       "    .dataframe tbody tr th:only-of-type {\n",
       "        vertical-align: middle;\n",
       "    }\n",
       "\n",
       "    .dataframe tbody tr th {\n",
       "        vertical-align: top;\n",
       "    }\n",
       "\n",
       "    .dataframe thead th {\n",
       "        text-align: right;\n",
       "    }\n",
       "</style>\n",
       "<table border=\"1\" class=\"dataframe\">\n",
       "  <thead>\n",
       "    <tr style=\"text-align: right;\">\n",
       "      <th></th>\n",
       "      <th>Product_UID</th>\n",
       "      <th>Price</th>\n",
       "      <th>Discount</th>\n",
       "      <th>Inventory Level</th>\n",
       "      <th>Demand</th>\n",
       "      <th>Category</th>\n",
       "      <th>Region</th>\n",
       "    </tr>\n",
       "  </thead>\n",
       "  <tbody>\n",
       "    <tr>\n",
       "      <th>0</th>\n",
       "      <td>S001_P0001</td>\n",
       "      <td>-0.045300</td>\n",
       "      <td>0.053233</td>\n",
       "      <td>-0.248994</td>\n",
       "      <td>-0.224174</td>\n",
       "      <td>1</td>\n",
       "      <td>1</td>\n",
       "    </tr>\n",
       "    <tr>\n",
       "      <th>1</th>\n",
       "      <td>S001_P0002</td>\n",
       "      <td>0.089831</td>\n",
       "      <td>0.162361</td>\n",
       "      <td>-0.508564</td>\n",
       "      <td>1.214946</td>\n",
       "      <td>0</td>\n",
       "      <td>1</td>\n",
       "    </tr>\n",
       "    <tr>\n",
       "      <th>2</th>\n",
       "      <td>S001_P0003</td>\n",
       "      <td>-0.279075</td>\n",
       "      <td>0.053233</td>\n",
       "      <td>0.400775</td>\n",
       "      <td>0.562410</td>\n",
       "      <td>0</td>\n",
       "      <td>1</td>\n",
       "    </tr>\n",
       "    <tr>\n",
       "      <th>3</th>\n",
       "      <td>S001_P0004</td>\n",
       "      <td>0.571972</td>\n",
       "      <td>0.198737</td>\n",
       "      <td>-0.510010</td>\n",
       "      <td>-0.823597</td>\n",
       "      <td>1</td>\n",
       "      <td>1</td>\n",
       "    </tr>\n",
       "    <tr>\n",
       "      <th>4</th>\n",
       "      <td>S001_P0005</td>\n",
       "      <td>-0.265364</td>\n",
       "      <td>0.235113</td>\n",
       "      <td>1.524615</td>\n",
       "      <td>0.250053</td>\n",
       "      <td>3</td>\n",
       "      <td>1</td>\n",
       "    </tr>\n",
       "    <tr>\n",
       "      <th>...</th>\n",
       "      <td>...</td>\n",
       "      <td>...</td>\n",
       "      <td>...</td>\n",
       "      <td>...</td>\n",
       "      <td>...</td>\n",
       "      <td>...</td>\n",
       "      <td>...</td>\n",
       "    </tr>\n",
       "    <tr>\n",
       "      <th>95</th>\n",
       "      <td>S005_P0016</td>\n",
       "      <td>-0.866584</td>\n",
       "      <td>-0.139345</td>\n",
       "      <td>0.437891</td>\n",
       "      <td>-0.070934</td>\n",
       "      <td>4</td>\n",
       "      <td>1</td>\n",
       "    </tr>\n",
       "    <tr>\n",
       "      <th>96</th>\n",
       "      <td>S005_P0017</td>\n",
       "      <td>-0.803455</td>\n",
       "      <td>-0.139345</td>\n",
       "      <td>-0.614000</td>\n",
       "      <td>-0.053527</td>\n",
       "      <td>4</td>\n",
       "      <td>1</td>\n",
       "    </tr>\n",
       "    <tr>\n",
       "      <th>97</th>\n",
       "      <td>S005_P0018</td>\n",
       "      <td>-1.164094</td>\n",
       "      <td>0.053233</td>\n",
       "      <td>-0.581336</td>\n",
       "      <td>0.286577</td>\n",
       "      <td>0</td>\n",
       "      <td>1</td>\n",
       "    </tr>\n",
       "    <tr>\n",
       "      <th>98</th>\n",
       "      <td>S005_P0019</td>\n",
       "      <td>1.584706</td>\n",
       "      <td>-0.023798</td>\n",
       "      <td>-0.562707</td>\n",
       "      <td>-0.626616</td>\n",
       "      <td>2</td>\n",
       "      <td>1</td>\n",
       "    </tr>\n",
       "    <tr>\n",
       "      <th>99</th>\n",
       "      <td>S005_P0020</td>\n",
       "      <td>-0.944156</td>\n",
       "      <td>0.245811</td>\n",
       "      <td>-0.592309</td>\n",
       "      <td>0.310679</td>\n",
       "      <td>4</td>\n",
       "      <td>1</td>\n",
       "    </tr>\n",
       "  </tbody>\n",
       "</table>\n",
       "<p>100 rows × 7 columns</p>\n",
       "</div>"
      ],
      "text/plain": [
       "   Product_UID     Price  Discount  Inventory Level    Demand  Category  \\\n",
       "0   S001_P0001 -0.045300  0.053233        -0.248994 -0.224174         1   \n",
       "1   S001_P0002  0.089831  0.162361        -0.508564  1.214946         0   \n",
       "2   S001_P0003 -0.279075  0.053233         0.400775  0.562410         0   \n",
       "3   S001_P0004  0.571972  0.198737        -0.510010 -0.823597         1   \n",
       "4   S001_P0005 -0.265364  0.235113         1.524615  0.250053         3   \n",
       "..         ...       ...       ...              ...       ...       ...   \n",
       "95  S005_P0016 -0.866584 -0.139345         0.437891 -0.070934         4   \n",
       "96  S005_P0017 -0.803455 -0.139345        -0.614000 -0.053527         4   \n",
       "97  S005_P0018 -1.164094  0.053233        -0.581336  0.286577         0   \n",
       "98  S005_P0019  1.584706 -0.023798        -0.562707 -0.626616         2   \n",
       "99  S005_P0020 -0.944156  0.245811        -0.592309  0.310679         4   \n",
       "\n",
       "    Region  \n",
       "0        1  \n",
       "1        1  \n",
       "2        1  \n",
       "3        1  \n",
       "4        1  \n",
       "..     ...  \n",
       "95       1  \n",
       "96       1  \n",
       "97       1  \n",
       "98       1  \n",
       "99       1  \n",
       "\n",
       "[100 rows x 7 columns]"
      ]
     },
     "execution_count": 331,
     "metadata": {},
     "output_type": "execute_result"
    }
   ],
   "source": [
    "# Check the aggregated dataframe, we see that we have 100 unique products and their mean characteristics\n",
    "agg_df"
   ]
  },
  {
   "cell_type": "code",
   "execution_count": 332,
   "id": "77774c42",
   "metadata": {},
   "outputs": [],
   "source": [
    "# We Store the unique identifier column in a variable and then drop it for the analysis as it has no mathematical meaning\n",
    "product_ids = agg_df['Product_UID']\n",
    "features = agg_df.drop(columns=['Product_UID'])"
   ]
  },
  {
   "cell_type": "code",
   "execution_count": 333,
   "id": "c75cb64e",
   "metadata": {},
   "outputs": [
    {
     "data": {
      "application/vnd.microsoft.datawrangler.viewer.v0+json": {
       "columns": [
        {
         "name": "index",
         "rawType": "int64",
         "type": "integer"
        },
        {
         "name": "PC1",
         "rawType": "float64",
         "type": "float"
        },
        {
         "name": "PC2",
         "rawType": "float64",
         "type": "float"
        }
       ],
       "ref": "540afc36-c38f-4aeb-b478-c7bcf8757806",
       "rows": [
        [
         "0",
         "-0.9522743742358833",
         "-0.5042091300447262"
        ],
        [
         "1",
         "-1.829931806032408",
         "-0.8046798445654038"
        ],
        [
         "2",
         "-1.6771996673886418",
         "-0.7573374170267319"
        ],
        [
         "3",
         "-1.2523021581662084",
         "-0.5585784308218673"
        ],
        [
         "4",
         "0.8804831390349583",
         "-0.4101079420653799"
        ]
       ],
       "shape": {
        "columns": 2,
        "rows": 5
       }
      },
      "text/html": [
       "<div>\n",
       "<style scoped>\n",
       "    .dataframe tbody tr th:only-of-type {\n",
       "        vertical-align: middle;\n",
       "    }\n",
       "\n",
       "    .dataframe tbody tr th {\n",
       "        vertical-align: top;\n",
       "    }\n",
       "\n",
       "    .dataframe thead th {\n",
       "        text-align: right;\n",
       "    }\n",
       "</style>\n",
       "<table border=\"1\" class=\"dataframe\">\n",
       "  <thead>\n",
       "    <tr style=\"text-align: right;\">\n",
       "      <th></th>\n",
       "      <th>PC1</th>\n",
       "      <th>PC2</th>\n",
       "    </tr>\n",
       "  </thead>\n",
       "  <tbody>\n",
       "    <tr>\n",
       "      <th>0</th>\n",
       "      <td>-0.952274</td>\n",
       "      <td>-0.504209</td>\n",
       "    </tr>\n",
       "    <tr>\n",
       "      <th>1</th>\n",
       "      <td>-1.829932</td>\n",
       "      <td>-0.804680</td>\n",
       "    </tr>\n",
       "    <tr>\n",
       "      <th>2</th>\n",
       "      <td>-1.677200</td>\n",
       "      <td>-0.757337</td>\n",
       "    </tr>\n",
       "    <tr>\n",
       "      <th>3</th>\n",
       "      <td>-1.252302</td>\n",
       "      <td>-0.558578</td>\n",
       "    </tr>\n",
       "    <tr>\n",
       "      <th>4</th>\n",
       "      <td>0.880483</td>\n",
       "      <td>-0.410108</td>\n",
       "    </tr>\n",
       "  </tbody>\n",
       "</table>\n",
       "</div>"
      ],
      "text/plain": [
       "        PC1       PC2\n",
       "0 -0.952274 -0.504209\n",
       "1 -1.829932 -0.804680\n",
       "2 -1.677200 -0.757337\n",
       "3 -1.252302 -0.558578\n",
       "4  0.880483 -0.410108"
      ]
     },
     "execution_count": 333,
     "metadata": {},
     "output_type": "execute_result"
    }
   ],
   "source": [
    "# Apply the Principal Component Analysis (PCA) with a fixed number of principal components of 2 in order to be \n",
    "# able to visualize our results in two dimensions\n",
    "pca = PCA(2)\n",
    "pca_2d = pca.fit_transform(features)\n",
    "pca_2d = pd.DataFrame(pca_2d, columns=['PC'+str(i) for i in range(1,pca_2d.shape[1]+1)])\n",
    "pca_2d.head(5)"
   ]
  },
  {
   "cell_type": "code",
   "execution_count": 334,
   "id": "cff90832",
   "metadata": {},
   "outputs": [
    {
     "data": {
      "image/png": "[encoded data removed]",
      "text/plain": [
       "<Figure size 1200x600 with 2 Axes>"
      ]
     },
     "metadata": {},
     "output_type": "display_data"
    }
   ],
   "source": [
    "# We want to regain some of the lost explainability by looking out of which attributes the PCAs are composed\n",
    "loadings = pd.DataFrame(pca.components_.T, \n",
    "                        columns=[f'PC{i+1}' for i in range(pca.n_components_)],\n",
    "                        index=features.columns)\n",
    "plt.figure(figsize=(12, 6))\n",
    "sns.heatmap(loadings, annot=True, cmap='coolwarm', center=0)\n",
    "plt.title('PCA Component Loadings (PC1 and PC2)')\n",
    "plt.xlabel('Principal Components')\n",
    "plt.ylabel('Original Features')\n",
    "plt.show()"
   ]
  },
  {
   "cell_type": "code",
   "execution_count": 335,
   "id": "09ce89be",
   "metadata": {},
   "outputs": [
    {
     "data": {
      "image/png": "[encoded data removed]",
      "text/plain": [
       "<Figure size 640x480 with 1 Axes>"
      ]
     },
     "metadata": {},
     "output_type": "display_data"
    }
   ],
   "source": [
    "# We conduct a full PCA to get the information how much of the initial dimensions we can explain by using 2 dimensions\n",
    "pca_full = PCA()\n",
    "pcadf = pca_full.fit_transform(features)\n",
    "cumulative_variance = np.cumsum(pca_full.explained_variance_ratio_)\n",
    "\n",
    "# Plotting\n",
    "#plt.figure(figsize=(18,6))\n",
    "plt.plot(cumulative_variance, marker='o', linestyle='-')\n",
    "# We add a vertically dashed line at k=2\n",
    "plt.axvline(x=1, color='red', linestyle='--', label='2 components')\n",
    "# We mark the cumulative variance at the 2nd component\n",
    "y_at_x1 = cumulative_variance[1]\n",
    "plt.scatter(1, y_at_x1, color='black', zorder=5)\n",
    "plt.text(0.9, y_at_x1 + 0.0005, f'{y_at_x1:.2%}', ha='right', color='black')\n",
    "\n",
    "\n",
    "plt.xlabel('Number of Components')\n",
    "plt.ylabel('Cumulative Explained Variance')\n",
    "plt.title('Cumulative Explained Variance by PCA Components')\n",
    "plt.legend()\n",
    "plt.show()"
   ]
  },
  {
   "cell_type": "code",
   "execution_count": 336,
   "id": "7d52c3a6",
   "metadata": {},
   "outputs": [
    {
     "data": {
      "image/png": "[encoded data removed]",
      "text/plain": [
       "<Figure size 1800x600 with 1 Axes>"
      ]
     },
     "metadata": {},
     "output_type": "display_data"
    }
   ],
   "source": [
    "# We get a first hint about the optimal number of clusters with the elbow criterion\n",
    "inertia_score = []\n",
    "for k in range(1,11):\n",
    "    kmeans = KMeans(n_clusters=k)\n",
    "    kmeans.fit(pca_2d)\n",
    "    inertia_score.append(kmeans.inertia_)\n",
    "\n",
    "# We visualize the inertia scores to identify the elbow point\n",
    "plt.figure(figsize=(18,6))\n",
    "sns.lineplot(x=range(1,11),y=inertia_score,color='green')\n",
    "plt.xticks(range(1,11))\n",
    "plt.xlabel('k values')\n",
    "plt.ylabel('Within-Cluster Sum of Squares')\n",
    "plt.title('The Elbow Method')\n",
    "plt.grid()\n",
    "plt.show()"
   ]
  },
  {
   "cell_type": "code",
   "execution_count": 337,
   "id": "2cdc42cd",
   "metadata": {},
   "outputs": [
    {
     "data": {
      "image/png": "[encoded data removed]",
      "text/plain": [
       "<Figure size 640x480 with 1 Axes>"
      ]
     },
     "metadata": {},
     "output_type": "display_data"
    }
   ],
   "source": [
    "# We visualize the clusters based on the elbow criteria\n",
    "kmeans = KMeans(n_clusters=2, init=\"k-means++\", n_init=10, random_state=42)\n",
    "y_kmeans = kmeans.fit_predict(pca_2d[[\"PC1\", \"PC2\"]])\n",
    "Y_np_2d = pca_2d.to_numpy()\n",
    "plt.scatter(Y_np_2d[y_kmeans == 0, 0], Y_np_2d[y_kmeans == 0, 1], s = 10, c = 'green', \n",
    "            label = 'Cluster 0')\n",
    "plt.scatter(Y_np_2d[y_kmeans == 1, 0], Y_np_2d[y_kmeans == 1, 1], s = 10, c = 'blue', \n",
    "            label = 'Cluster 1')\n",
    "plt.scatter(kmeans.cluster_centers_[:, 0], kmeans.cluster_centers_[:, 1], s = 50, \n",
    "            c = 'red', label = 'Centroids')\n",
    "plt.title('Cluster')\n",
    "plt.xlabel('x')\n",
    "plt.ylabel('y')\n",
    "plt.legend(loc='upper left', bbox_to_anchor=(1, 1))\n",
    "plt.show()"
   ]
  },
  {
   "cell_type": "code",
   "execution_count": 338,
   "id": "2d49f363",
   "metadata": {},
   "outputs": [
    {
     "data": {
      "application/vnd.plotly.v1+json": {
       "config": {
        "plotlyServerURL": "https://plot.ly"
       },
       "data": [
        {
         "hovertemplate": "Cluster=0<br>PC1=%{x}<br>PC2=%{y}<extra></extra>",
         "legendgroup": "0",
         "marker": {
          "color": "rgb(228,26,28)",
          "opacity": 0.8,
          "symbol": "circle"
         },
         "mode": "markers",
         "name": "0",
         "orientation": "v",
         "showlegend": true,
         "type": "scatter",
         "x": {
          "bdata": "+S7FGwh57r9LHM2SZkf9v5+9hFHP1fq/nIvg/G0J9L/qm4IWuHDlvwRlbTL/vwDAIiXBwdJ957+kMWiCvyvyvyLLie7SsOC/hrwtjQj25L+3p4H7/OD2v+ISi5GZWgDAQ4QmVf188r+ZizovOMT7v2/XTT16eADA49eXDNBRAsACkKkY8Zf5v8mAtn3ODALAqCC137+E8L/GRmClBKrwv1qEor6rtgDABqcHjezC9b+4am74ZBXBv6zHm4LqOvG/bKYHWJhi2b8mun+oVQDhv20jgvklGfu/6P5jduKq9L84g9vaMewCwHcZ8gF6Fey/JsTKuJrCBsAascaEIbABwKDt4rl2u/2/htHceBXi+b8BNJdVgq3rv2gEGzgdVfG/da8+QHwPBcCTF/0YMvD4v4AF906FiQHAShqZw7Sz9L+uW48Zgzrkv6TwxtGjYfC/VnZQNMHy5r+VpEePqmTyv5owu3rqnvS/B2dz2wsR678=",
          "dtype": "f8"
         },
         "xaxis": "x",
         "y": {
          "bdata": "7l98L3si4L+qFAXy77/pv3dXxa0bPOi/fDCU39/f4b9UR3zLzkrSv10glh3R+eu/otoMlvN+5r/w7T44uDrrv1iOeqSsu9q/0oB7I35n579Y3bO+tD/RP6xA9huqP9I/tPau7i721T9AbSGC2M6dv8DtMMIPjbc/YMGwvezCqT/SDwBdViXhP8Ac35R8iZo/lGnpm0oX0D+vZniWLAr8vy4FY+0H2v6/oFTDE0j4/b+Omx1onfH1v0fb7azSCfy/vAK5ADdl+r/MBF1OjvX6v3X7DJTcGADAA5NdXiuA8z+V0HvuLLryPwmYV81mR/g/gjiujjrs6T85KVPNwqDxPxewnfb7FvQ/0TUKon7d8T/t4JWQRKf3P2++PArQKfY/J4XhLNJR8D85AC7mzk7yP3efSCplWfU/jefx7xI98z8kduPKd33Xv+T5L8SKUN+/JLLuqApj5r9iO+/Car7qv2TuMA9LEdq/WJfSFZzw5L8=",
          "dtype": "f8"
         },
         "yaxis": "y"
        },
        {
         "hovertemplate": "Cluster=1<br>PC1=%{x}<br>PC2=%{y}<extra></extra>",
         "legendgroup": "1",
         "marker": {
          "color": "rgb(55,126,184)",
          "opacity": 0.8,
          "symbol": "circle"
         },
         "mode": "markers",
         "name": "1",
         "orientation": "v",
         "showlegend": true,
         "type": "scatter",
         "x": {
          "bdata": "xrTa+eos7D/Pe2BSx/H+PyU++BJlI/Q/Znzu/lAf5D+MjzLg9C4AQOaOaxYBneY/gGAEoe+hAUA/VnMbmazxPx7hJdHQBQFA0kuIqgmN6j/8ns1oAXvXP10OQKo3a/w/zDz0NYqf2T+WfQiSe/3qPxXUHY0UM/0/VqvQ7Anv7z+CBSd/OKnhP/gZmgqbjM8/WPDcev3Wxz+16yYGNZfwP1fUOA9Mlf4/6J9VIGuOA0ADEY/l9xHyP5/m7S98Wfg/7mAF8zkPA0Dag+tiRZABQK2X0zQnqPk/6xkInCR68j8vTSjtcDf1P/LCNvtdDu4/GhKls0pY5z+SUmwxikrmP0WlIi1jB/I/xu1MlG+47T+KcdxF6A3qP0w5kuW+dt8/suVcrT1V5D8+xyolpk/nP84x4EYPP+g/9nhOym4X6j991OrMo2L2P+ayVW66YQBAsyF3blUU9z/bEb0j7JT1P9pRmT0bDes/ftlg1ZGF4z9qmKSEGbjqP8RqRx87694/aoUr5aAw6z/aAm4vV1HmP54eNk85D+8/w+HjmeT+/z+nvE7H13n/P6rnUHWxTABA",
          "dtype": "f8"
         },
         "xaxis": "x",
         "y": {
          "bdata": "+ArAYTU/2r9I32738zHDPxDlRn8kfbS/xC4DlbgP1L/QrVacTILIP1ikLQ8lDNW/1PgX3DIy0z/4vZSzNFXCv8TOSSmJTNM/qED2Ifpey78q/yJ+VELiPzW2lbKwVvE/As15edT54z/qmzyIKS7uP1XcHdSYqvA/KggY/EZu7z9ikvuxh2XjP3oPdKpf/uA/xLzjy/a92T+uKk3LLanvP2PlA1Tl7/E/Gf7lZ5Tx579HCPu2mG30v1om+sGTle6/Naa4s7Pc6b9snH9Gmu3ovzx40EN7GvK/twIdeaKi8r9wJZijNmvwvxZcz5MnePe/ufgsu1G19r/G4zd2AmX4v3Thl/UYPvK/TZlrW40E/T/pk/lU+fz9P1MLvidlkPw/TYOB7+NV/j/hx6F9C6j9PwewolWuF/0/iR/Na5M8/T+Q6CsZI/60P5BYkG648cU/OG1+iG1owj+wA5CcgRWxPyi0L9qgLtq/IFotfnbR078YNWQKcsHCv9RTj9MT3t2/HCK0Pf8E17+MmJfnWl/Uv4ielzTh6Me/wJBXO0cuqD/oQUIBi8HDP+i7Uh8xJ8I/",
          "dtype": "f8"
         },
         "yaxis": "y"
        },
        {
         "marker": {
          "color": "black",
          "line": {
           "color": "white",
           "width": 2
          },
          "size": 15,
          "symbol": "x"
         },
         "mode": "markers",
         "name": "Centroids",
         "type": "scatter",
         "x": {
          "bdata": "HGZg5KAw9r8CRAbMDefyPw==",
          "dtype": "f8"
         },
         "y": {
          "bdata": "fpmIplLFwb+duei8ska+Pw==",
          "dtype": "f8"
         }
        }
       ],
       "layout": {
        "legend": {
         "orientation": "h",
         "title": {
          "text": "Clusters"
         },
         "tracegroupgap": 0,
         "x": 1,
         "xanchor": "right",
         "y": 1.02,
         "yanchor": "bottom"
        },
        "template": {
         "data": {
          "bar": [
           {
            "error_x": {
             "color": "#2a3f5f"
            },
            "error_y": {
             "color": "#2a3f5f"
            },
            "marker": {
             "line": {
              "color": "#E5ECF6",
              "width": 0.5
             },
             "pattern": {
              "fillmode": "overlay",
              "size": 10,
              "solidity": 0.2
             }
            },
            "type": "bar"
           }
          ],
          "barpolar": [
           {
            "marker": {
             "line": {
              "color": "#E5ECF6",
              "width": 0.5
             },
             "pattern": {
              "fillmode": "overlay",
              "size": 10,
              "solidity": 0.2
             }
            },
            "type": "barpolar"
           }
          ],
          "carpet": [
           {
            "aaxis": {
             "endlinecolor": "#2a3f5f",
             "gridcolor": "white",
             "linecolor": "white",
             "minorgridcolor": "white",
             "startlinecolor": "#2a3f5f"
            },
            "baxis": {
             "endlinecolor": "#2a3f5f",
             "gridcolor": "white",
             "linecolor": "white",
             "minorgridcolor": "white",
             "startlinecolor": "#2a3f5f"
            },
            "type": "carpet"
           }
          ],
          "choropleth": [
           {
            "colorbar": {
             "outlinewidth": 0,
             "ticks": ""
            },
            "type": "choropleth"
           }
          ],
          "contour": [
           {
            "colorbar": {
             "outlinewidth": 0,
             "ticks": ""
            },
            "colorscale": [
             [
              0,
              "#0d0887"
             ],
             [
              0.1111111111111111,
              "#46039f"
             ],
             [
              0.2222222222222222,
              "#7201a8"
             ],
             [
              0.3333333333333333,
              "#9c179e"
             ],
             [
              0.4444444444444444,
              "#bd3786"
             ],
             [
              0.5555555555555556,
              "#d8576b"
             ],
             [
              0.6666666666666666,
              "#ed7953"
             ],
             [
              0.7777777777777778,
              "#fb9f3a"
             ],
             [
              0.8888888888888888,
              "#fdca26"
             ],
             [
              1,
              "#f0f921"
             ]
            ],
            "type": "contour"
           }
          ],
          "contourcarpet": [
           {
            "colorbar": {
             "outlinewidth": 0,
             "ticks": ""
            },
            "type": "contourcarpet"
           }
          ],
          "heatmap": [
           {
            "colorbar": {
             "outlinewidth": 0,
             "ticks": ""
            },
            "colorscale": [
             [
              0,
              "#0d0887"
             ],
             [
              0.1111111111111111,
              "#46039f"
             ],
             [
              0.2222222222222222,
              "#7201a8"
             ],
             [
              0.3333333333333333,
              "#9c179e"
             ],
             [
              0.4444444444444444,
              "#bd3786"
             ],
             [
              0.5555555555555556,
              "#d8576b"
             ],
             [
              0.6666666666666666,
              "#ed7953"
             ],
             [
              0.7777777777777778,
              "#fb9f3a"
             ],
             [
              0.8888888888888888,
              "#fdca26"
             ],
             [
              1,
              "#f0f921"
             ]
            ],
            "type": "heatmap"
           }
          ],
          "histogram": [
           {
            "marker": {
             "pattern": {
              "fillmode": "overlay",
              "size": 10,
              "solidity": 0.2
             }
            },
            "type": "histogram"
           }
          ],
          "histogram2d": [
           {
            "colorbar": {
             "outlinewidth": 0,
             "ticks": ""
            },
            "colorscale": [
             [
              0,
              "#0d0887"
             ],
             [
              0.1111111111111111,
              "#46039f"
             ],
             [
              0.2222222222222222,
              "#7201a8"
             ],
             [
              0.3333333333333333,
              "#9c179e"
             ],
             [
              0.4444444444444444,
              "#bd3786"
             ],
             [
              0.5555555555555556,
              "#d8576b"
             ],
             [
              0.6666666666666666,
              "#ed7953"
             ],
             [
              0.7777777777777778,
              "#fb9f3a"
             ],
             [
              0.8888888888888888,
              "#fdca26"
             ],
             [
              1,
              "#f0f921"
             ]
            ],
            "type": "histogram2d"
           }
          ],
          "histogram2dcontour": [
           {
            "colorbar": {
             "outlinewidth": 0,
             "ticks": ""
            },
            "colorscale": [
             [
              0,
              "#0d0887"
             ],
             [
              0.1111111111111111,
              "#46039f"
             ],
             [
              0.2222222222222222,
              "#7201a8"
             ],
             [
              0.3333333333333333,
              "#9c179e"
             ],
             [
              0.4444444444444444,
              "#bd3786"
             ],
             [
              0.5555555555555556,
              "#d8576b"
             ],
             [
              0.6666666666666666,
              "#ed7953"
             ],
             [
              0.7777777777777778,
              "#fb9f3a"
             ],
             [
              0.8888888888888888,
              "#fdca26"
             ],
             [
              1,
              "#f0f921"
             ]
            ],
            "type": "histogram2dcontour"
           }
          ],
          "mesh3d": [
           {
            "colorbar": {
             "outlinewidth": 0,
             "ticks": ""
            },
            "type": "mesh3d"
           }
          ],
          "parcoords": [
           {
            "line": {
             "colorbar": {
              "outlinewidth": 0,
              "ticks": ""
             }
            },
            "type": "parcoords"
           }
          ],
          "pie": [
           {
            "automargin": true,
            "type": "pie"
           }
          ],
          "scatter": [
           {
            "fillpattern": {
             "fillmode": "overlay",
             "size": 10,
             "solidity": 0.2
            },
            "type": "scatter"
           }
          ],
          "scatter3d": [
           {
            "line": {
             "colorbar": {
              "outlinewidth": 0,
              "ticks": ""
             }
            },
            "marker": {
             "colorbar": {
              "outlinewidth": 0,
              "ticks": ""
             }
            },
            "type": "scatter3d"
           }
          ],
          "scattercarpet": [
           {
            "marker": {
             "colorbar": {
              "outlinewidth": 0,
              "ticks": ""
             }
            },
            "type": "scattercarpet"
           }
          ],
          "scattergeo": [
           {
            "marker": {
             "colorbar": {
              "outlinewidth": 0,
              "ticks": ""
             }
            },
            "type": "scattergeo"
           }
          ],
          "scattergl": [
           {
            "marker": {
             "colorbar": {
              "outlinewidth": 0,
              "ticks": ""
             }
            },
            "type": "scattergl"
           }
          ],
          "scattermap": [
           {
            "marker": {
             "colorbar": {
              "outlinewidth": 0,
              "ticks": ""
             }
            },
            "type": "scattermap"
           }
          ],
          "scattermapbox": [
           {
            "marker": {
             "colorbar": {
              "outlinewidth": 0,
              "ticks": ""
             }
            },
            "type": "scattermapbox"
           }
          ],
          "scatterpolar": [
           {
            "marker": {
             "colorbar": {
              "outlinewidth": 0,
              "ticks": ""
             }
            },
            "type": "scatterpolar"
           }
          ],
          "scatterpolargl": [
           {
            "marker": {
             "colorbar": {
              "outlinewidth": 0,
              "ticks": ""
             }
            },
            "type": "scatterpolargl"
           }
          ],
          "scatterternary": [
           {
            "marker": {
             "colorbar": {
              "outlinewidth": 0,
              "ticks": ""
             }
            },
            "type": "scatterternary"
           }
          ],
          "surface": [
           {
            "colorbar": {
             "outlinewidth": 0,
             "ticks": ""
            },
            "colorscale": [
             [
              0,
              "#0d0887"
             ],
             [
              0.1111111111111111,
              "#46039f"
             ],
             [
              0.2222222222222222,
              "#7201a8"
             ],
             [
              0.3333333333333333,
              "#9c179e"
             ],
             [
              0.4444444444444444,
              "#bd3786"
             ],
             [
              0.5555555555555556,
              "#d8576b"
             ],
             [
              0.6666666666666666,
              "#ed7953"
             ],
             [
              0.7777777777777778,
              "#fb9f3a"
             ],
             [
              0.8888888888888888,
              "#fdca26"
             ],
             [
              1,
              "#f0f921"
             ]
            ],
            "type": "surface"
           }
          ],
          "table": [
           {
            "cells": {
             "fill": {
              "color": "#EBF0F8"
             },
             "line": {
              "color": "white"
             }
            },
            "header": {
             "fill": {
              "color": "#C8D4E3"
             },
             "line": {
              "color": "white"
             }
            },
            "type": "table"
           }
          ]
         },
         "layout": {
          "annotationdefaults": {
           "arrowcolor": "#2a3f5f",
           "arrowhead": 0,
           "arrowwidth": 1
          },
          "autotypenumbers": "strict",
          "coloraxis": {
           "colorbar": {
            "outlinewidth": 0,
            "ticks": ""
           }
          },
          "colorscale": {
           "diverging": [
            [
             0,
             "#8e0152"
            ],
            [
             0.1,
             "#c51b7d"
            ],
            [
             0.2,
             "#de77ae"
            ],
            [
             0.3,
             "#f1b6da"
            ],
            [
             0.4,
             "#fde0ef"
            ],
            [
             0.5,
             "#f7f7f7"
            ],
            [
             0.6,
             "#e6f5d0"
            ],
            [
             0.7,
             "#b8e186"
            ],
            [
             0.8,
             "#7fbc41"
            ],
            [
             0.9,
             "#4d9221"
            ],
            [
             1,
             "#276419"
            ]
           ],
           "sequential": [
            [
             0,
             "#0d0887"
            ],
            [
             0.1111111111111111,
             "#46039f"
            ],
            [
             0.2222222222222222,
             "#7201a8"
            ],
            [
             0.3333333333333333,
             "#9c179e"
            ],
            [
             0.4444444444444444,
             "#bd3786"
            ],
            [
             0.5555555555555556,
             "#d8576b"
            ],
            [
             0.6666666666666666,
             "#ed7953"
            ],
            [
             0.7777777777777778,
             "#fb9f3a"
            ],
            [
             0.8888888888888888,
             "#fdca26"
            ],
            [
             1,
             "#f0f921"
            ]
           ],
           "sequentialminus": [
            [
             0,
             "#0d0887"
            ],
            [
             0.1111111111111111,
             "#46039f"
            ],
            [
             0.2222222222222222,
             "#7201a8"
            ],
            [
             0.3333333333333333,
             "#9c179e"
            ],
            [
             0.4444444444444444,
             "#bd3786"
            ],
            [
             0.5555555555555556,
             "#d8576b"
            ],
            [
             0.6666666666666666,
             "#ed7953"
            ],
            [
             0.7777777777777778,
             "#fb9f3a"
            ],
            [
             0.8888888888888888,
             "#fdca26"
            ],
            [
             1,
             "#f0f921"
            ]
           ]
          },
          "colorway": [
           "#636efa",
           "#EF553B",
           "#00cc96",
           "#ab63fa",
           "#FFA15A",
           "#19d3f3",
           "#FF6692",
           "#B6E880",
           "#FF97FF",
           "#FECB52"
          ],
          "font": {
           "color": "#2a3f5f"
          },
          "geo": {
           "bgcolor": "white",
           "lakecolor": "white",
           "landcolor": "#E5ECF6",
           "showlakes": true,
           "showland": true,
           "subunitcolor": "white"
          },
          "hoverlabel": {
           "align": "left"
          },
          "hovermode": "closest",
          "mapbox": {
           "style": "light"
          },
          "paper_bgcolor": "white",
          "plot_bgcolor": "#E5ECF6",
          "polar": {
           "angularaxis": {
            "gridcolor": "white",
            "linecolor": "white",
            "ticks": ""
           },
           "bgcolor": "#E5ECF6",
           "radialaxis": {
            "gridcolor": "white",
            "linecolor": "white",
            "ticks": ""
           }
          },
          "scene": {
           "xaxis": {
            "backgroundcolor": "#E5ECF6",
            "gridcolor": "white",
            "gridwidth": 2,
            "linecolor": "white",
            "showbackground": true,
            "ticks": "",
            "zerolinecolor": "white"
           },
           "yaxis": {
            "backgroundcolor": "#E5ECF6",
            "gridcolor": "white",
            "gridwidth": 2,
            "linecolor": "white",
            "showbackground": true,
            "ticks": "",
            "zerolinecolor": "white"
           },
           "zaxis": {
            "backgroundcolor": "#E5ECF6",
            "gridcolor": "white",
            "gridwidth": 2,
            "linecolor": "white",
            "showbackground": true,
            "ticks": "",
            "zerolinecolor": "white"
           }
          },
          "shapedefaults": {
           "line": {
            "color": "#2a3f5f"
           }
          },
          "ternary": {
           "aaxis": {
            "gridcolor": "white",
            "linecolor": "white",
            "ticks": ""
           },
           "baxis": {
            "gridcolor": "white",
            "linecolor": "white",
            "ticks": ""
           },
           "bgcolor": "#E5ECF6",
           "caxis": {
            "gridcolor": "white",
            "linecolor": "white",
            "ticks": ""
           }
          },
          "title": {
           "x": 0.05
          },
          "xaxis": {
           "automargin": true,
           "gridcolor": "white",
           "linecolor": "white",
           "ticks": "",
           "title": {
            "standoff": 15
           },
           "zerolinecolor": "white",
           "zerolinewidth": 2
          },
          "yaxis": {
           "automargin": true,
           "gridcolor": "white",
           "linecolor": "white",
           "ticks": "",
           "title": {
            "standoff": 15
           },
           "zerolinecolor": "white",
           "zerolinewidth": 2
          }
         }
        },
        "title": {
         "text": "Interactive 2D KMeans Clustering"
        },
        "xaxis": {
         "anchor": "y",
         "domain": [
          0,
          1
         ],
         "title": {
          "text": "PC1"
         }
        },
        "yaxis": {
         "anchor": "x",
         "domain": [
          0,
          1
         ],
         "title": {
          "text": "PC2"
         }
        }
       }
      }
     },
     "metadata": {},
     "output_type": "display_data"
    }
   ],
   "source": [
    "# We create an interactive scatter plot using the Plotly library to zoom in on edge cases between the clusters and get further information\n",
    "plot_df = pd.DataFrame(pca_2d)\n",
    "plot_df['Cluster'] = y_kmeans.astype(str)\n",
    "\n",
    "# Create scatter plot\n",
    "fig = px.scatter(\n",
    "    plot_df,\n",
    "    x='PC1',\n",
    "    y='PC2',\n",
    "    color='Cluster',\n",
    "    title='Interactive 2D KMeans Clustering',\n",
    "    opacity=0.8,\n",
    "    color_discrete_sequence=px.colors.qualitative.Set1\n",
    ")\n",
    "\n",
    "# Add centroids\n",
    "centroids = kmeans.cluster_centers_\n",
    "centroids_df = pd.DataFrame(centroids, columns=['PC1', 'PC2'])\n",
    "centroids_df['Cluster'] = ['Centroid'] * len(centroids)\n",
    "\n",
    "fig.add_trace(\n",
    "    go.Scatter(\n",
    "        x=centroids_df['PC1'],\n",
    "        y=centroids_df['PC2'],\n",
    "        mode='markers',\n",
    "        marker=dict(\n",
    "            size=15,\n",
    "            color='black',\n",
    "            symbol='x',\n",
    "            line=dict(width=2, color='white')\n",
    "        ),\n",
    "        name='Centroids'\n",
    "    )\n",
    ")\n",
    "\n",
    "fig.update_layout(\n",
    "    xaxis_title='PC1',\n",
    "    yaxis_title='PC2',\n",
    "    legend_title_text='Clusters',\n",
    "    legend=dict(\n",
    "        orientation='h',\n",
    "        yanchor='bottom',\n",
    "        y=1.02,\n",
    "        xanchor='right',\n",
    "        x=1\n",
    "    )\n",
    ")\n",
    "\n",
    "fig.show()"
   ]
  },
  {
   "cell_type": "code",
   "execution_count": 339,
   "id": "8aa79eb7",
   "metadata": {},
   "outputs": [
    {
     "data": {
      "image/png": "[encoded data removed]",
      "text/plain": [
       "<Figure size 640x480 with 1 Axes>"
      ]
     },
     "metadata": {},
     "output_type": "display_data"
    }
   ],
   "source": [
    "# For further insights we analyze how the observations are distributed in the different clusters\n",
    "pd.Series(y_kmeans).value_counts().sort_index().plot(kind='bar', color='skyblue')\n",
    "plt.title('Cluster Sizes')\n",
    "plt.xlabel('Cluster')\n",
    "plt.ylabel('Number of Observations')\n",
    "plt.xticks(rotation=0)\n",
    "plt.show()"
   ]
  },
  {
   "cell_type": "code",
   "execution_count": 340,
   "id": "0b112796",
   "metadata": {},
   "outputs": [
    {
     "data": {
      "text/plain": [
       "np.float64(0.48801294948964086)"
      ]
     },
     "execution_count": 340,
     "metadata": {},
     "output_type": "execute_result"
    }
   ],
   "source": [
    "# We calculate the silhouette score based on the suggestion of the elbow criteria\n",
    "silhouette_score(pca_2d, y_kmeans)"
   ]
  },
  {
   "cell_type": "code",
   "execution_count": 341,
   "id": "50431a7e",
   "metadata": {},
   "outputs": [
    {
     "data": {
      "image/png": "[encoded data removed]",
      "text/plain": [
       "<Figure size 640x480 with 1 Axes>"
      ]
     },
     "metadata": {},
     "output_type": "display_data"
    }
   ],
   "source": [
    "# We visualize the average silhouette scores for k=2\n",
    "# based on the elbow criteria\n",
    "cluster_labels = np.unique(y_kmeans)\n",
    "n_clusters=cluster_labels.shape [0]\n",
    "\n",
    "silhouette_vals = silhouette_samples(pca_2d, y_kmeans, metric='euclidean')\n",
    "\n",
    "y_ax_lower, y_ax_upper = 0, 0\n",
    "yticks = []\n",
    "for i, c in enumerate(cluster_labels):\n",
    "    c_silhouette_vals = silhouette_vals[y_kmeans == c]\n",
    "    c_silhouette_vals.sort()\n",
    "    y_ax_upper += len(c_silhouette_vals)\n",
    "    color = cm.jet( i / n_clusters)\n",
    "    plt.barh(range(y_ax_lower, y_ax_upper),\n",
    "            c_silhouette_vals,\n",
    "            height = 1.0,\n",
    "            edgecolor = 'none',\n",
    "            color = color)\n",
    "    yticks.append((y_ax_lower + y_ax_upper) / 2 )\n",
    "    y_ax_lower += len(c_silhouette_vals)\n",
    "\n",
    "silhouette_avg = np.mean(silhouette_vals)\n",
    "plt.axvline(silhouette_avg, color = 'red', linestyle = \"--\")\n",
    "plt.ylabel('Cluster')\n",
    "plt.xlabel('Silhouette Score')\n",
    "plt.show()"
   ]
  },
  {
   "cell_type": "code",
   "execution_count": 342,
   "id": "264946fa",
   "metadata": {},
   "outputs": [
    {
     "name": "stdout",
     "output_type": "stream",
     "text": [
      "The silhouette score for k =  2  is  0.48801294948964086\n",
      "The silhouette score for k =  3  is  0.46870987162961547\n",
      "The silhouette score for k =  4  is  0.4660353535603482\n",
      "The silhouette score for k =  5  is  0.46610524970460027\n",
      "The silhouette score for k =  6  is  0.475701520619651\n",
      "The silhouette score for k =  7  is  0.45547035382007695\n",
      "The silhouette score for k =  8  is  0.4607387070223158\n",
      "Best k: 2 with a silhouette score of  0.48801294948964086\n"
     ]
    }
   ],
   "source": [
    "# We can calculate the silhouette scores of different numbers of clusters to evaluate the optimal number of clusters with a simple for loop\n",
    "best_k = None\n",
    "best_score = -1\n",
    "\n",
    "for k in range(2, 9): \n",
    "    kmeans = KMeans(n_clusters=k, init=\"k-means++\", n_init=10, random_state=42)\n",
    "    y_kmeans = kmeans.fit_predict(pca_2d)\n",
    "    score = silhouette_score(pca_2d, y_kmeans)\n",
    "    print(\"The silhouette score for k = \",k,\" is \",score)\n",
    "    \n",
    "    if score > best_score:\n",
    "        best_score = score\n",
    "        best_k = k\n",
    "\n",
    "print(\"Best k:\",best_k,\"with a silhouette score of \",best_score)"
   ]
  },
  {
   "cell_type": "code",
   "execution_count": 343,
   "id": "2b1d72f4",
   "metadata": {},
   "outputs": [],
   "source": [
    "# We rerun kmeans with our optimal number of clusters\n",
    "kmeans = KMeans(n_clusters=2, init=\"k-means++\", n_init=10, random_state=42)\n",
    "y_kmeans = kmeans.fit_predict(pca_2d)"
   ]
  },
  {
   "cell_type": "code",
   "execution_count": 344,
   "id": "6391e7b7",
   "metadata": {},
   "outputs": [],
   "source": [
    "# We add back the unique identifier column\n",
    "pca_2d[\"Product_UID\"] = product_ids.values"
   ]
  },
  {
   "cell_type": "markdown",
   "id": "86e36d5c",
   "metadata": {},
   "source": [
    "# Store and interpert the Cluster Data"
   ]
  },
  {
   "cell_type": "code",
   "execution_count": 345,
   "id": "a0a92337",
   "metadata": {},
   "outputs": [],
   "source": [
    "# Read in the data to join the cluster labels with the original dataframe\n",
    "df_orig = pd.read_csv(\"../../Data/Transformed/Leo/inventory_management_cleaned.csv\")"
   ]
  },
  {
   "cell_type": "code",
   "execution_count": 346,
   "id": "59ebc550",
   "metadata": {},
   "outputs": [],
   "source": [
    "# Step 1: Prepare cluster labels\n",
    "# `product_ids` contains Product_UIDs used for clustering (from agg_df)\n",
    "# `y_kmeans` contains the corresponding cluster labels\n",
    "\n",
    "cluster_map = pd.DataFrame({\n",
    "    \"Product_UID\": product_ids.values,  # from agg_df\n",
    "    \"Clusterlabel\": y_kmeans            # from KMeans\n",
    "})\n",
    "\n",
    "# Step 2: Ensure Product_UID in both DataFrames is the same type\n",
    "df_orig[\"Product_UID\"] = df_orig[\"Product_UID\"].astype(str)\n",
    "cluster_map[\"Product_UID\"] = cluster_map[\"Product_UID\"].astype(str)\n",
    "\n",
    "# Step 3: Merge cluster labels into the original data\n",
    "df_orig = df_orig.merge(cluster_map, on=\"Product_UID\", how=\"left\")\n"
   ]
  },
  {
   "cell_type": "code",
   "execution_count": 347,
   "id": "54a5285c",
   "metadata": {},
   "outputs": [],
   "source": [
    "# Store the data\n",
    "df_orig.to_csv(\"../../Data/Transformed/Leo/inventory_management_cleaned_transformed_with_labels_vis.csv\", index=False)"
   ]
  },
  {
   "cell_type": "code",
   "execution_count": 348,
   "id": "e1651071",
   "metadata": {},
   "outputs": [
    {
     "data": {
      "application/vnd.microsoft.datawrangler.viewer.v0+json": {
       "columns": [
        {
         "name": "Clusterlabel",
         "rawType": "int32",
         "type": "integer"
        },
        {
         "name": "Inventory Level",
         "rawType": "float64",
         "type": "float"
        },
        {
         "name": "Price",
         "rawType": "float64",
         "type": "float"
        },
        {
         "name": "Discount",
         "rawType": "float64",
         "type": "float"
        },
        {
         "name": "Promotion",
         "rawType": "float64",
         "type": "float"
        },
        {
         "name": "Demand",
         "rawType": "float64",
         "type": "float"
        }
       ],
       "ref": "df870ccb-a03a-44aa-8685-21bf32696765",
       "rows": [
        [
         "0",
         "273.36",
         "96.92",
         "9.73",
         "0.36",
         "105.6"
        ],
        [
         "1",
         "298.73",
         "45.82",
         "9.47",
         "0.36",
         "119.85"
        ]
       ],
       "shape": {
        "columns": 5,
        "rows": 2
       }
      },
      "text/html": [
       "<div>\n",
       "<style scoped>\n",
       "    .dataframe tbody tr th:only-of-type {\n",
       "        vertical-align: middle;\n",
       "    }\n",
       "\n",
       "    .dataframe tbody tr th {\n",
       "        vertical-align: top;\n",
       "    }\n",
       "\n",
       "    .dataframe thead th {\n",
       "        text-align: right;\n",
       "    }\n",
       "</style>\n",
       "<table border=\"1\" class=\"dataframe\">\n",
       "  <thead>\n",
       "    <tr style=\"text-align: right;\">\n",
       "      <th></th>\n",
       "      <th>Inventory Level</th>\n",
       "      <th>Price</th>\n",
       "      <th>Discount</th>\n",
       "      <th>Promotion</th>\n",
       "      <th>Demand</th>\n",
       "    </tr>\n",
       "    <tr>\n",
       "      <th>Clusterlabel</th>\n",
       "      <th></th>\n",
       "      <th></th>\n",
       "      <th></th>\n",
       "      <th></th>\n",
       "      <th></th>\n",
       "    </tr>\n",
       "  </thead>\n",
       "  <tbody>\n",
       "    <tr>\n",
       "      <th>0</th>\n",
       "      <td>273.36</td>\n",
       "      <td>96.92</td>\n",
       "      <td>9.73</td>\n",
       "      <td>0.36</td>\n",
       "      <td>105.60</td>\n",
       "    </tr>\n",
       "    <tr>\n",
       "      <th>1</th>\n",
       "      <td>298.73</td>\n",
       "      <td>45.82</td>\n",
       "      <td>9.47</td>\n",
       "      <td>0.36</td>\n",
       "      <td>119.85</td>\n",
       "    </tr>\n",
       "  </tbody>\n",
       "</table>\n",
       "</div>"
      ],
      "text/plain": [
       "              Inventory Level  Price  Discount  Promotion  Demand\n",
       "Clusterlabel                                                     \n",
       "0                      273.36  96.92      9.73       0.36  105.60\n",
       "1                      298.73  45.82      9.47       0.36  119.85"
      ]
     },
     "metadata": {},
     "output_type": "display_data"
    }
   ],
   "source": [
    "# We look at the mean values of the numerical attributes per cluster to gain insights into possible patterns\n",
    "df_orig_num = df_orig.select_dtypes(include=[np.number])\n",
    "cluster_profiles = df_orig_num.groupby(\"Clusterlabel\").mean().round(2)\n",
    "display(cluster_profiles)\n"
   ]
  },
  {
   "cell_type": "code",
   "execution_count": 349,
   "id": "e22ee429",
   "metadata": {},
   "outputs": [
    {
     "data": {
      "image/png": "[encoded data removed]",
      "text/plain": [
       "<Figure size 1200x600 with 1 Axes>"
      ]
     },
     "metadata": {},
     "output_type": "display_data"
    }
   ],
   "source": [
    "# We plot the different mean values of the numerical colunmns to compare them \n",
    "cluster_profiles.T.plot(kind='bar', figsize=(12,6))\n",
    "plt.title(\"Numerical Feature Profiles by Cluster\")\n",
    "plt.ylabel(\"Average Value\")\n",
    "plt.grid(True)\n",
    "plt.xticks(rotation=45)\n",
    "plt.show()\n"
   ]
  },
  {
   "cell_type": "code",
   "execution_count": 350,
   "id": "f0ac1525",
   "metadata": {},
   "outputs": [
    {
     "name": "stdout",
     "output_type": "stream",
     "text": [
      "\n",
      "Category Proportions by Cluster for 'Category':\n"
     ]
    },
    {
     "data": {
      "application/vnd.microsoft.datawrangler.viewer.v0+json": {
       "columns": [
        {
         "name": "Clusterlabel",
         "rawType": "int32",
         "type": "integer"
        },
        {
         "name": "Clothing",
         "rawType": "float64",
         "type": "float"
        },
        {
         "name": "Electronics",
         "rawType": "float64",
         "type": "float"
        },
        {
         "name": "Furniture",
         "rawType": "float64",
         "type": "float"
        },
        {
         "name": "Groceries",
         "rawType": "float64",
         "type": "float"
        },
        {
         "name": "Toys",
         "rawType": "float64",
         "type": "float"
        }
       ],
       "ref": "265c1855-2ec1-43b3-93f2-fe598e88e3a4",
       "rows": [
        [
         "0",
         "0.35",
         "0.26",
         "0.39",
         "0.0",
         "0.0"
        ],
        [
         "1",
         "0.0",
         "0.0",
         "0.0",
         "0.74",
         "0.26"
        ]
       ],
       "shape": {
        "columns": 5,
        "rows": 2
       }
      },
      "text/html": [
       "<div>\n",
       "<style scoped>\n",
       "    .dataframe tbody tr th:only-of-type {\n",
       "        vertical-align: middle;\n",
       "    }\n",
       "\n",
       "    .dataframe tbody tr th {\n",
       "        vertical-align: top;\n",
       "    }\n",
       "\n",
       "    .dataframe thead th {\n",
       "        text-align: right;\n",
       "    }\n",
       "</style>\n",
       "<table border=\"1\" class=\"dataframe\">\n",
       "  <thead>\n",
       "    <tr style=\"text-align: right;\">\n",
       "      <th>Category</th>\n",
       "      <th>Clothing</th>\n",
       "      <th>Electronics</th>\n",
       "      <th>Furniture</th>\n",
       "      <th>Groceries</th>\n",
       "      <th>Toys</th>\n",
       "    </tr>\n",
       "    <tr>\n",
       "      <th>Clusterlabel</th>\n",
       "      <th></th>\n",
       "      <th></th>\n",
       "      <th></th>\n",
       "      <th></th>\n",
       "      <th></th>\n",
       "    </tr>\n",
       "  </thead>\n",
       "  <tbody>\n",
       "    <tr>\n",
       "      <th>0</th>\n",
       "      <td>0.35</td>\n",
       "      <td>0.26</td>\n",
       "      <td>0.39</td>\n",
       "      <td>0.00</td>\n",
       "      <td>0.00</td>\n",
       "    </tr>\n",
       "    <tr>\n",
       "      <th>1</th>\n",
       "      <td>0.00</td>\n",
       "      <td>0.00</td>\n",
       "      <td>0.00</td>\n",
       "      <td>0.74</td>\n",
       "      <td>0.26</td>\n",
       "    </tr>\n",
       "  </tbody>\n",
       "</table>\n",
       "</div>"
      ],
      "text/plain": [
       "Category      Clothing  Electronics  Furniture  Groceries  Toys\n",
       "Clusterlabel                                                   \n",
       "0                 0.35         0.26       0.39       0.00  0.00\n",
       "1                 0.00         0.00       0.00       0.74  0.26"
      ]
     },
     "metadata": {},
     "output_type": "display_data"
    },
    {
     "data": {
      "image/png": "[encoded data removed]",
      "text/plain": [
       "<Figure size 1000x500 with 1 Axes>"
      ]
     },
     "metadata": {},
     "output_type": "display_data"
    },
    {
     "name": "stdout",
     "output_type": "stream",
     "text": [
      "\n",
      "Category Proportions by Cluster for 'Region':\n"
     ]
    },
    {
     "data": {
      "application/vnd.microsoft.datawrangler.viewer.v0+json": {
       "columns": [
        {
         "name": "Clusterlabel",
         "rawType": "int32",
         "type": "integer"
        },
        {
         "name": "East",
         "rawType": "float64",
         "type": "float"
        },
        {
         "name": "North",
         "rawType": "float64",
         "type": "float"
        },
        {
         "name": "South",
         "rawType": "float64",
         "type": "float"
        },
        {
         "name": "West",
         "rawType": "float64",
         "type": "float"
        }
       ],
       "ref": "585fc55f-5a48-41be-b178-536efcee76e9",
       "rows": [
        [
         "0",
         "0.17",
         "0.36",
         "0.19",
         "0.28"
        ],
        [
         "1",
         "0.22",
         "0.45",
         "0.2",
         "0.13"
        ]
       ],
       "shape": {
        "columns": 4,
        "rows": 2
       }
      },
      "text/html": [
       "<div>\n",
       "<style scoped>\n",
       "    .dataframe tbody tr th:only-of-type {\n",
       "        vertical-align: middle;\n",
       "    }\n",
       "\n",
       "    .dataframe tbody tr th {\n",
       "        vertical-align: top;\n",
       "    }\n",
       "\n",
       "    .dataframe thead th {\n",
       "        text-align: right;\n",
       "    }\n",
       "</style>\n",
       "<table border=\"1\" class=\"dataframe\">\n",
       "  <thead>\n",
       "    <tr style=\"text-align: right;\">\n",
       "      <th>Region</th>\n",
       "      <th>East</th>\n",
       "      <th>North</th>\n",
       "      <th>South</th>\n",
       "      <th>West</th>\n",
       "    </tr>\n",
       "    <tr>\n",
       "      <th>Clusterlabel</th>\n",
       "      <th></th>\n",
       "      <th></th>\n",
       "      <th></th>\n",
       "      <th></th>\n",
       "    </tr>\n",
       "  </thead>\n",
       "  <tbody>\n",
       "    <tr>\n",
       "      <th>0</th>\n",
       "      <td>0.17</td>\n",
       "      <td>0.36</td>\n",
       "      <td>0.19</td>\n",
       "      <td>0.28</td>\n",
       "    </tr>\n",
       "    <tr>\n",
       "      <th>1</th>\n",
       "      <td>0.22</td>\n",
       "      <td>0.45</td>\n",
       "      <td>0.20</td>\n",
       "      <td>0.13</td>\n",
       "    </tr>\n",
       "  </tbody>\n",
       "</table>\n",
       "</div>"
      ],
      "text/plain": [
       "Region        East  North  South  West\n",
       "Clusterlabel                          \n",
       "0             0.17   0.36   0.19  0.28\n",
       "1             0.22   0.45   0.20  0.13"
      ]
     },
     "metadata": {},
     "output_type": "display_data"
    },
    {
     "data": {
      "image/png": "[encoded data removed]",
      "text/plain": [
       "<Figure size 1000x500 with 1 Axes>"
      ]
     },
     "metadata": {},
     "output_type": "display_data"
    },
    {
     "name": "stdout",
     "output_type": "stream",
     "text": [
      "\n",
      "Category Proportions by Cluster for 'Weather Condition':\n"
     ]
    },
    {
     "data": {
      "application/vnd.microsoft.datawrangler.viewer.v0+json": {
       "columns": [
        {
         "name": "Clusterlabel",
         "rawType": "int32",
         "type": "integer"
        },
        {
         "name": "Cloudy",
         "rawType": "float64",
         "type": "float"
        },
        {
         "name": "Snowy",
         "rawType": "float64",
         "type": "float"
        },
        {
         "name": "Sunny",
         "rawType": "float64",
         "type": "float"
        }
       ],
       "ref": "6c0cdd70-5705-46ce-9f69-c0b4f3c16ad3",
       "rows": [
        [
         "0",
         "0.4",
         "0.35",
         "0.25"
        ],
        [
         "1",
         "0.37",
         "0.35",
         "0.28"
        ]
       ],
       "shape": {
        "columns": 3,
        "rows": 2
       }
      },
      "text/html": [
       "<div>\n",
       "<style scoped>\n",
       "    .dataframe tbody tr th:only-of-type {\n",
       "        vertical-align: middle;\n",
       "    }\n",
       "\n",
       "    .dataframe tbody tr th {\n",
       "        vertical-align: top;\n",
       "    }\n",
       "\n",
       "    .dataframe thead th {\n",
       "        text-align: right;\n",
       "    }\n",
       "</style>\n",
       "<table border=\"1\" class=\"dataframe\">\n",
       "  <thead>\n",
       "    <tr style=\"text-align: right;\">\n",
       "      <th>Weather Condition</th>\n",
       "      <th>Cloudy</th>\n",
       "      <th>Snowy</th>\n",
       "      <th>Sunny</th>\n",
       "    </tr>\n",
       "    <tr>\n",
       "      <th>Clusterlabel</th>\n",
       "      <th></th>\n",
       "      <th></th>\n",
       "      <th></th>\n",
       "    </tr>\n",
       "  </thead>\n",
       "  <tbody>\n",
       "    <tr>\n",
       "      <th>0</th>\n",
       "      <td>0.40</td>\n",
       "      <td>0.35</td>\n",
       "      <td>0.25</td>\n",
       "    </tr>\n",
       "    <tr>\n",
       "      <th>1</th>\n",
       "      <td>0.37</td>\n",
       "      <td>0.35</td>\n",
       "      <td>0.28</td>\n",
       "    </tr>\n",
       "  </tbody>\n",
       "</table>\n",
       "</div>"
      ],
      "text/plain": [
       "Weather Condition  Cloudy  Snowy  Sunny\n",
       "Clusterlabel                           \n",
       "0                    0.40   0.35   0.25\n",
       "1                    0.37   0.35   0.28"
      ]
     },
     "metadata": {},
     "output_type": "display_data"
    },
    {
     "data": {
      "image/png": "[encoded data removed]",
      "text/plain": [
       "<Figure size 1000x500 with 1 Axes>"
      ]
     },
     "metadata": {},
     "output_type": "display_data"
    },
    {
     "name": "stdout",
     "output_type": "stream",
     "text": [
      "\n",
      "Category Proportions by Cluster for 'Weekday':\n"
     ]
    },
    {
     "data": {
      "application/vnd.microsoft.datawrangler.viewer.v0+json": {
       "columns": [
        {
         "name": "Clusterlabel",
         "rawType": "int32",
         "type": "integer"
        },
        {
         "name": "Friday",
         "rawType": "float64",
         "type": "float"
        },
        {
         "name": "Monday",
         "rawType": "float64",
         "type": "float"
        },
        {
         "name": "Saturday",
         "rawType": "float64",
         "type": "float"
        },
        {
         "name": "Sunday",
         "rawType": "float64",
         "type": "float"
        },
        {
         "name": "Thursday",
         "rawType": "float64",
         "type": "float"
        },
        {
         "name": "Tuesday",
         "rawType": "float64",
         "type": "float"
        },
        {
         "name": "Wednesday",
         "rawType": "float64",
         "type": "float"
        }
       ],
       "ref": "5f5eaee8-4085-4e68-8eea-9a7fc8354938",
       "rows": [
        [
         "0",
         "0.12",
         "0.17",
         "0.17",
         "0.17",
         "0.12",
         "0.13",
         "0.12"
        ],
        [
         "1",
         "0.12",
         "0.17",
         "0.17",
         "0.17",
         "0.12",
         "0.13",
         "0.12"
        ]
       ],
       "shape": {
        "columns": 7,
        "rows": 2
       }
      },
      "text/html": [
       "<div>\n",
       "<style scoped>\n",
       "    .dataframe tbody tr th:only-of-type {\n",
       "        vertical-align: middle;\n",
       "    }\n",
       "\n",
       "    .dataframe tbody tr th {\n",
       "        vertical-align: top;\n",
       "    }\n",
       "\n",
       "    .dataframe thead th {\n",
       "        text-align: right;\n",
       "    }\n",
       "</style>\n",
       "<table border=\"1\" class=\"dataframe\">\n",
       "  <thead>\n",
       "    <tr style=\"text-align: right;\">\n",
       "      <th>Weekday</th>\n",
       "      <th>Friday</th>\n",
       "      <th>Monday</th>\n",
       "      <th>Saturday</th>\n",
       "      <th>Sunday</th>\n",
       "      <th>Thursday</th>\n",
       "      <th>Tuesday</th>\n",
       "      <th>Wednesday</th>\n",
       "    </tr>\n",
       "    <tr>\n",
       "      <th>Clusterlabel</th>\n",
       "      <th></th>\n",
       "      <th></th>\n",
       "      <th></th>\n",
       "      <th></th>\n",
       "      <th></th>\n",
       "      <th></th>\n",
       "      <th></th>\n",
       "    </tr>\n",
       "  </thead>\n",
       "  <tbody>\n",
       "    <tr>\n",
       "      <th>0</th>\n",
       "      <td>0.12</td>\n",
       "      <td>0.17</td>\n",
       "      <td>0.17</td>\n",
       "      <td>0.17</td>\n",
       "      <td>0.12</td>\n",
       "      <td>0.13</td>\n",
       "      <td>0.12</td>\n",
       "    </tr>\n",
       "    <tr>\n",
       "      <th>1</th>\n",
       "      <td>0.12</td>\n",
       "      <td>0.17</td>\n",
       "      <td>0.17</td>\n",
       "      <td>0.17</td>\n",
       "      <td>0.12</td>\n",
       "      <td>0.13</td>\n",
       "      <td>0.12</td>\n",
       "    </tr>\n",
       "  </tbody>\n",
       "</table>\n",
       "</div>"
      ],
      "text/plain": [
       "Weekday       Friday  Monday  Saturday  Sunday  Thursday  Tuesday  Wednesday\n",
       "Clusterlabel                                                                \n",
       "0               0.12    0.17      0.17    0.17      0.12     0.13       0.12\n",
       "1               0.12    0.17      0.17    0.17      0.12     0.13       0.12"
      ]
     },
     "metadata": {},
     "output_type": "display_data"
    },
    {
     "data": {
      "image/png": "[encoded data removed]",
      "text/plain": [
       "<Figure size 1000x500 with 1 Axes>"
      ]
     },
     "metadata": {},
     "output_type": "display_data"
    }
   ],
   "source": [
    "# Select non-numeric (categorical) columns, excluding 'Product_UID'\n",
    "df_orig_cat = df_orig.select_dtypes(exclude=[np.number]).drop(columns=[\"Product_UID\"])\n",
    "\n",
    "# Combine with cluster labels\n",
    "df_cat_with_clusters = df_orig_cat.copy()\n",
    "df_cat_with_clusters[\"Clusterlabel\"] = df_orig[\"Clusterlabel\"]\n",
    "\n",
    "# Calculate proportions of each category per cluster\n",
    "cat_profiles = {}\n",
    "for col in df_cat_with_clusters.columns:\n",
    "    if col != \"Clusterlabel\":\n",
    "        proportions = df_cat_with_clusters.groupby(\"Clusterlabel\")[col].value_counts(normalize=True).unstack().fillna(0)\n",
    "        cat_profiles[col] = proportions.round(2)\n",
    "\n",
    "# Display results\n",
    "for col, df in cat_profiles.items():\n",
    "    print(f\"\\nCategory Proportions by Cluster for '{col}':\")\n",
    "    display(df)\n",
    "\n",
    "    # Plotting\n",
    "    df.T.plot(kind='bar', figsize=(10, 5))\n",
    "    plt.title(f\"Category Proportions by Cluster - {col}\")\n",
    "    plt.ylabel(\"Proportion\")\n",
    "    plt.xticks(rotation=45)\n",
    "    plt.grid(True)\n",
    "    plt.show()\n"
   ]
  }
 ],
 "metadata": {
  "kernelspec": {
   "display_name": "Python 3",
   "language": "python",
   "name": "python3"
  },
  "language_info": {
   "codemirror_mode": {
    "name": "ipython",
    "version": 3
   },
   "file_extension": ".py",
   "mimetype": "text/x-python",
   "name": "python",
   "nbconvert_exporter": "python",
   "pygments_lexer": "ipython3",
   "version": "3.13.4"
  }
 },
 "nbformat": 4,
 "nbformat_minor": 5
}
