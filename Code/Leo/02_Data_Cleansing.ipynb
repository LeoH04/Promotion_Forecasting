{
 "cells": [
  {
   "cell_type": "markdown",
   "id": "051a80c5",
   "metadata": {},
   "source": [
    "# Data Cleansing"
   ]
  },
  {
   "cell_type": "code",
   "execution_count": 28,
   "id": "c95429b9",
   "metadata": {},
   "outputs": [],
   "source": [
    "# First we import all neccessary libraries and give some of them an alias for easy access\n",
    "import pandas as pd\n",
    "import matplotlib.pyplot as plt\n",
    "import seaborn as sns\n",
    "%matplotlib inline"
   ]
  },
  {
   "cell_type": "code",
   "execution_count": 29,
   "id": "aab4c8f7",
   "metadata": {},
   "outputs": [
    {
     "data": {
      "text/plain": [
       "(1722, 18)"
      ]
     },
     "execution_count": 29,
     "metadata": {},
     "output_type": "execute_result"
    }
   ],
   "source": [
    "# Read in the data so every group member can run the notebook on his machine\n",
    "# (our repo is on github, we therefore have the same file structure)\n",
    "df = pd.read_csv(\"../../Data/Transformed/Leo/inventory_management_feature_engineering.csv\")\n",
    "df.shape # Get a first idea about the number of rows and columns of the dataset"
   ]
  },
  {
   "cell_type": "code",
   "execution_count": 30,
   "id": "4e4c5d51",
   "metadata": {},
   "outputs": [
    {
     "data": {
      "application/vnd.microsoft.datawrangler.viewer.v0+json": {
       "columns": [
        {
         "name": "index",
         "rawType": "int64",
         "type": "integer"
        },
        {
         "name": "Date",
         "rawType": "object",
         "type": "string"
        },
        {
         "name": "Store ID",
         "rawType": "object",
         "type": "string"
        },
        {
         "name": "Product ID",
         "rawType": "object",
         "type": "string"
        },
        {
         "name": "Category",
         "rawType": "object",
         "type": "string"
        },
        {
         "name": "Region",
         "rawType": "object",
         "type": "string"
        },
        {
         "name": "Inventory Level",
         "rawType": "int64",
         "type": "integer"
        },
        {
         "name": "Units Sold",
         "rawType": "int64",
         "type": "integer"
        },
        {
         "name": "Units Ordered",
         "rawType": "int64",
         "type": "integer"
        },
        {
         "name": "Price",
         "rawType": "float64",
         "type": "float"
        },
        {
         "name": "Discount",
         "rawType": "int64",
         "type": "integer"
        },
        {
         "name": "Weather Condition",
         "rawType": "object",
         "type": "string"
        },
        {
         "name": "Promotion",
         "rawType": "int64",
         "type": "integer"
        },
        {
         "name": "Competitor Pricing",
         "rawType": "float64",
         "type": "float"
        },
        {
         "name": "Seasonality",
         "rawType": "object",
         "type": "string"
        },
        {
         "name": "Epidemic",
         "rawType": "int64",
         "type": "integer"
        },
        {
         "name": "Demand",
         "rawType": "int64",
         "type": "integer"
        },
        {
         "name": "Product_UID",
         "rawType": "object",
         "type": "string"
        },
        {
         "name": "Weekday",
         "rawType": "object",
         "type": "string"
        }
       ],
       "ref": "14975d5b-f9fc-4611-bc74-e93f20db270d",
       "rows": [
        [
         "0",
         "2022-01-01",
         "S001",
         "P0001",
         "Electronics",
         "North",
         "195",
         "102",
         "252",
         "72.72",
         "5",
         "Snowy",
         "0",
         "85.73",
         "Winter",
         "0",
         "115",
         "S001_P0001",
         "Saturday"
        ],
        [
         "1",
         "2022-01-01",
         "S001",
         "P0002",
         "Clothing",
         "North",
         "117",
         "117",
         "249",
         "80.16",
         "15",
         "Snowy",
         "1",
         "92.02",
         "Winter",
         "0",
         "229",
         "S001_P0002",
         "Saturday"
        ],
        [
         "2",
         "2022-01-01",
         "S001",
         "P0003",
         "Clothing",
         "North",
         "247",
         "114",
         "612",
         "62.94",
         "10",
         "Snowy",
         "1",
         "60.08",
         "Winter",
         "0",
         "157",
         "S001_P0003",
         "Saturday"
        ],
        [
         "3",
         "2022-01-01",
         "S001",
         "P0004",
         "Electronics",
         "North",
         "139",
         "45",
         "102",
         "87.63",
         "10",
         "Snowy",
         "0",
         "85.19",
         "Winter",
         "0",
         "52",
         "S001_P0004",
         "Saturday"
        ],
        [
         "4",
         "2022-01-01",
         "S001",
         "P0005",
         "Groceries",
         "North",
         "152",
         "65",
         "271",
         "54.41",
         "0",
         "Snowy",
         "0",
         "51.63",
         "Winter",
         "0",
         "59",
         "S001_P0005",
         "Saturday"
        ]
       ],
       "shape": {
        "columns": 18,
        "rows": 5
       }
      },
      "text/html": [
       "<div>\n",
       "<style scoped>\n",
       "    .dataframe tbody tr th:only-of-type {\n",
       "        vertical-align: middle;\n",
       "    }\n",
       "\n",
       "    .dataframe tbody tr th {\n",
       "        vertical-align: top;\n",
       "    }\n",
       "\n",
       "    .dataframe thead th {\n",
       "        text-align: right;\n",
       "    }\n",
       "</style>\n",
       "<table border=\"1\" class=\"dataframe\">\n",
       "  <thead>\n",
       "    <tr style=\"text-align: right;\">\n",
       "      <th></th>\n",
       "      <th>Date</th>\n",
       "      <th>Store ID</th>\n",
       "      <th>Product ID</th>\n",
       "      <th>Category</th>\n",
       "      <th>Region</th>\n",
       "      <th>Inventory Level</th>\n",
       "      <th>Units Sold</th>\n",
       "      <th>Units Ordered</th>\n",
       "      <th>Price</th>\n",
       "      <th>Discount</th>\n",
       "      <th>Weather Condition</th>\n",
       "      <th>Promotion</th>\n",
       "      <th>Competitor Pricing</th>\n",
       "      <th>Seasonality</th>\n",
       "      <th>Epidemic</th>\n",
       "      <th>Demand</th>\n",
       "      <th>Product_UID</th>\n",
       "      <th>Weekday</th>\n",
       "    </tr>\n",
       "  </thead>\n",
       "  <tbody>\n",
       "    <tr>\n",
       "      <th>0</th>\n",
       "      <td>2022-01-01</td>\n",
       "      <td>S001</td>\n",
       "      <td>P0001</td>\n",
       "      <td>Electronics</td>\n",
       "      <td>North</td>\n",
       "      <td>195</td>\n",
       "      <td>102</td>\n",
       "      <td>252</td>\n",
       "      <td>72.72</td>\n",
       "      <td>5</td>\n",
       "      <td>Snowy</td>\n",
       "      <td>0</td>\n",
       "      <td>85.73</td>\n",
       "      <td>Winter</td>\n",
       "      <td>0</td>\n",
       "      <td>115</td>\n",
       "      <td>S001_P0001</td>\n",
       "      <td>Saturday</td>\n",
       "    </tr>\n",
       "    <tr>\n",
       "      <th>1</th>\n",
       "      <td>2022-01-01</td>\n",
       "      <td>S001</td>\n",
       "      <td>P0002</td>\n",
       "      <td>Clothing</td>\n",
       "      <td>North</td>\n",
       "      <td>117</td>\n",
       "      <td>117</td>\n",
       "      <td>249</td>\n",
       "      <td>80.16</td>\n",
       "      <td>15</td>\n",
       "      <td>Snowy</td>\n",
       "      <td>1</td>\n",
       "      <td>92.02</td>\n",
       "      <td>Winter</td>\n",
       "      <td>0</td>\n",
       "      <td>229</td>\n",
       "      <td>S001_P0002</td>\n",
       "      <td>Saturday</td>\n",
       "    </tr>\n",
       "    <tr>\n",
       "      <th>2</th>\n",
       "      <td>2022-01-01</td>\n",
       "      <td>S001</td>\n",
       "      <td>P0003</td>\n",
       "      <td>Clothing</td>\n",
       "      <td>North</td>\n",
       "      <td>247</td>\n",
       "      <td>114</td>\n",
       "      <td>612</td>\n",
       "      <td>62.94</td>\n",
       "      <td>10</td>\n",
       "      <td>Snowy</td>\n",
       "      <td>1</td>\n",
       "      <td>60.08</td>\n",
       "      <td>Winter</td>\n",
       "      <td>0</td>\n",
       "      <td>157</td>\n",
       "      <td>S001_P0003</td>\n",
       "      <td>Saturday</td>\n",
       "    </tr>\n",
       "    <tr>\n",
       "      <th>3</th>\n",
       "      <td>2022-01-01</td>\n",
       "      <td>S001</td>\n",
       "      <td>P0004</td>\n",
       "      <td>Electronics</td>\n",
       "      <td>North</td>\n",
       "      <td>139</td>\n",
       "      <td>45</td>\n",
       "      <td>102</td>\n",
       "      <td>87.63</td>\n",
       "      <td>10</td>\n",
       "      <td>Snowy</td>\n",
       "      <td>0</td>\n",
       "      <td>85.19</td>\n",
       "      <td>Winter</td>\n",
       "      <td>0</td>\n",
       "      <td>52</td>\n",
       "      <td>S001_P0004</td>\n",
       "      <td>Saturday</td>\n",
       "    </tr>\n",
       "    <tr>\n",
       "      <th>4</th>\n",
       "      <td>2022-01-01</td>\n",
       "      <td>S001</td>\n",
       "      <td>P0005</td>\n",
       "      <td>Groceries</td>\n",
       "      <td>North</td>\n",
       "      <td>152</td>\n",
       "      <td>65</td>\n",
       "      <td>271</td>\n",
       "      <td>54.41</td>\n",
       "      <td>0</td>\n",
       "      <td>Snowy</td>\n",
       "      <td>0</td>\n",
       "      <td>51.63</td>\n",
       "      <td>Winter</td>\n",
       "      <td>0</td>\n",
       "      <td>59</td>\n",
       "      <td>S001_P0005</td>\n",
       "      <td>Saturday</td>\n",
       "    </tr>\n",
       "  </tbody>\n",
       "</table>\n",
       "</div>"
      ],
      "text/plain": [
       "         Date Store ID Product ID     Category Region  Inventory Level  \\\n",
       "0  2022-01-01     S001      P0001  Electronics  North              195   \n",
       "1  2022-01-01     S001      P0002     Clothing  North              117   \n",
       "2  2022-01-01     S001      P0003     Clothing  North              247   \n",
       "3  2022-01-01     S001      P0004  Electronics  North              139   \n",
       "4  2022-01-01     S001      P0005    Groceries  North              152   \n",
       "\n",
       "   Units Sold  Units Ordered  Price  Discount Weather Condition  Promotion  \\\n",
       "0         102            252  72.72         5             Snowy          0   \n",
       "1         117            249  80.16        15             Snowy          1   \n",
       "2         114            612  62.94        10             Snowy          1   \n",
       "3          45            102  87.63        10             Snowy          0   \n",
       "4          65            271  54.41         0             Snowy          0   \n",
       "\n",
       "   Competitor Pricing Seasonality  Epidemic  Demand Product_UID   Weekday  \n",
       "0               85.73      Winter         0     115  S001_P0001  Saturday  \n",
       "1               92.02      Winter         0     229  S001_P0002  Saturday  \n",
       "2               60.08      Winter         0     157  S001_P0003  Saturday  \n",
       "3               85.19      Winter         0      52  S001_P0004  Saturday  \n",
       "4               51.63      Winter         0      59  S001_P0005  Saturday  "
      ]
     },
     "execution_count": 30,
     "metadata": {},
     "output_type": "execute_result"
    }
   ],
   "source": [
    "# Get a first impression of the data\n",
    "df.head()"
   ]
  },
  {
   "cell_type": "code",
   "execution_count": 31,
   "id": "24ee737a",
   "metadata": {},
   "outputs": [
    {
     "data": {
      "application/vnd.microsoft.datawrangler.viewer.v0+json": {
       "columns": [
        {
         "name": "index",
         "rawType": "int64",
         "type": "integer"
        },
        {
         "name": "Date",
         "rawType": "object",
         "type": "string"
        },
        {
         "name": "Units Sold",
         "rawType": "int64",
         "type": "integer"
        },
        {
         "name": "Units Ordered",
         "rawType": "int64",
         "type": "integer"
        },
        {
         "name": "Demand",
         "rawType": "int64",
         "type": "integer"
        },
        {
         "name": "Promotion",
         "rawType": "int64",
         "type": "integer"
        },
        {
         "name": "Discount",
         "rawType": "int64",
         "type": "integer"
        }
       ],
       "ref": "a8ccfd20-28aa-4de9-b205-22e385055e8a",
       "rows": [
        [
         "0",
         "2022-01-01",
         "102",
         "252",
         "115",
         "0",
         "5"
        ],
        [
         "100",
         "2022-01-02",
         "71",
         "0",
         "84",
         "0",
         "5"
        ],
        [
         "200",
         "2022-01-03",
         "142",
         "229",
         "132",
         "1",
         "15"
        ],
        [
         "300",
         "2022-01-04",
         "42",
         "0",
         "67",
         "0",
         "10"
        ],
        [
         "400",
         "2022-01-05",
         "129",
         "0",
         "110",
         "1",
         "25"
        ],
        [
         "500",
         "2022-01-06",
         "98",
         "308",
         "146",
         "0",
         "0"
        ],
        [
         "600",
         "2022-01-07",
         "92",
         "0",
         "87",
         "0",
         "10"
        ],
        [
         "700",
         "2022-01-08",
         "96",
         "248",
         "113",
         "1",
         "10"
        ],
        [
         "800",
         "2022-01-09",
         "57",
         "0",
         "87",
         "0",
         "10"
        ],
        [
         "900",
         "2022-01-10",
         "88",
         "0",
         "99",
         "0",
         "5"
        ],
        [
         "1000",
         "2022-01-11",
         "112",
         "0",
         "103",
         "0",
         "0"
        ],
        [
         "1100",
         "2022-01-12",
         "70",
         "179",
         "85",
         "0",
         "10"
        ],
        [
         "1200",
         "2022-01-13",
         "80",
         "0",
         "77",
         "1",
         "20"
        ],
        [
         "1300",
         "2022-01-14",
         "52",
         "0",
         "52",
         "0",
         "5"
        ],
        [
         "1400",
         "2022-01-15",
         "126",
         "287",
         "175",
         "1",
         "10"
        ],
        [
         "1500",
         "2022-01-16",
         "54",
         "298",
         "126",
         "0",
         "10"
        ],
        [
         "1600",
         "2022-01-17",
         "73",
         "0",
         "102",
         "1",
         "20"
        ],
        [
         "1700",
         "2022-01-18",
         "101",
         "0",
         "102",
         "0",
         "10"
        ]
       ],
       "shape": {
        "columns": 6,
        "rows": 18
       }
      },
      "text/html": [
       "<div>\n",
       "<style scoped>\n",
       "    .dataframe tbody tr th:only-of-type {\n",
       "        vertical-align: middle;\n",
       "    }\n",
       "\n",
       "    .dataframe tbody tr th {\n",
       "        vertical-align: top;\n",
       "    }\n",
       "\n",
       "    .dataframe thead th {\n",
       "        text-align: right;\n",
       "    }\n",
       "</style>\n",
       "<table border=\"1\" class=\"dataframe\">\n",
       "  <thead>\n",
       "    <tr style=\"text-align: right;\">\n",
       "      <th></th>\n",
       "      <th>Date</th>\n",
       "      <th>Units Sold</th>\n",
       "      <th>Units Ordered</th>\n",
       "      <th>Demand</th>\n",
       "      <th>Promotion</th>\n",
       "      <th>Discount</th>\n",
       "    </tr>\n",
       "  </thead>\n",
       "  <tbody>\n",
       "    <tr>\n",
       "      <th>0</th>\n",
       "      <td>2022-01-01</td>\n",
       "      <td>102</td>\n",
       "      <td>252</td>\n",
       "      <td>115</td>\n",
       "      <td>0</td>\n",
       "      <td>5</td>\n",
       "    </tr>\n",
       "    <tr>\n",
       "      <th>100</th>\n",
       "      <td>2022-01-02</td>\n",
       "      <td>71</td>\n",
       "      <td>0</td>\n",
       "      <td>84</td>\n",
       "      <td>0</td>\n",
       "      <td>5</td>\n",
       "    </tr>\n",
       "    <tr>\n",
       "      <th>200</th>\n",
       "      <td>2022-01-03</td>\n",
       "      <td>142</td>\n",
       "      <td>229</td>\n",
       "      <td>132</td>\n",
       "      <td>1</td>\n",
       "      <td>15</td>\n",
       "    </tr>\n",
       "    <tr>\n",
       "      <th>300</th>\n",
       "      <td>2022-01-04</td>\n",
       "      <td>42</td>\n",
       "      <td>0</td>\n",
       "      <td>67</td>\n",
       "      <td>0</td>\n",
       "      <td>10</td>\n",
       "    </tr>\n",
       "    <tr>\n",
       "      <th>400</th>\n",
       "      <td>2022-01-05</td>\n",
       "      <td>129</td>\n",
       "      <td>0</td>\n",
       "      <td>110</td>\n",
       "      <td>1</td>\n",
       "      <td>25</td>\n",
       "    </tr>\n",
       "    <tr>\n",
       "      <th>500</th>\n",
       "      <td>2022-01-06</td>\n",
       "      <td>98</td>\n",
       "      <td>308</td>\n",
       "      <td>146</td>\n",
       "      <td>0</td>\n",
       "      <td>0</td>\n",
       "    </tr>\n",
       "    <tr>\n",
       "      <th>600</th>\n",
       "      <td>2022-01-07</td>\n",
       "      <td>92</td>\n",
       "      <td>0</td>\n",
       "      <td>87</td>\n",
       "      <td>0</td>\n",
       "      <td>10</td>\n",
       "    </tr>\n",
       "    <tr>\n",
       "      <th>700</th>\n",
       "      <td>2022-01-08</td>\n",
       "      <td>96</td>\n",
       "      <td>248</td>\n",
       "      <td>113</td>\n",
       "      <td>1</td>\n",
       "      <td>10</td>\n",
       "    </tr>\n",
       "    <tr>\n",
       "      <th>800</th>\n",
       "      <td>2022-01-09</td>\n",
       "      <td>57</td>\n",
       "      <td>0</td>\n",
       "      <td>87</td>\n",
       "      <td>0</td>\n",
       "      <td>10</td>\n",
       "    </tr>\n",
       "    <tr>\n",
       "      <th>900</th>\n",
       "      <td>2022-01-10</td>\n",
       "      <td>88</td>\n",
       "      <td>0</td>\n",
       "      <td>99</td>\n",
       "      <td>0</td>\n",
       "      <td>5</td>\n",
       "    </tr>\n",
       "    <tr>\n",
       "      <th>1000</th>\n",
       "      <td>2022-01-11</td>\n",
       "      <td>112</td>\n",
       "      <td>0</td>\n",
       "      <td>103</td>\n",
       "      <td>0</td>\n",
       "      <td>0</td>\n",
       "    </tr>\n",
       "    <tr>\n",
       "      <th>1100</th>\n",
       "      <td>2022-01-12</td>\n",
       "      <td>70</td>\n",
       "      <td>179</td>\n",
       "      <td>85</td>\n",
       "      <td>0</td>\n",
       "      <td>10</td>\n",
       "    </tr>\n",
       "    <tr>\n",
       "      <th>1200</th>\n",
       "      <td>2022-01-13</td>\n",
       "      <td>80</td>\n",
       "      <td>0</td>\n",
       "      <td>77</td>\n",
       "      <td>1</td>\n",
       "      <td>20</td>\n",
       "    </tr>\n",
       "    <tr>\n",
       "      <th>1300</th>\n",
       "      <td>2022-01-14</td>\n",
       "      <td>52</td>\n",
       "      <td>0</td>\n",
       "      <td>52</td>\n",
       "      <td>0</td>\n",
       "      <td>5</td>\n",
       "    </tr>\n",
       "    <tr>\n",
       "      <th>1400</th>\n",
       "      <td>2022-01-15</td>\n",
       "      <td>126</td>\n",
       "      <td>287</td>\n",
       "      <td>175</td>\n",
       "      <td>1</td>\n",
       "      <td>10</td>\n",
       "    </tr>\n",
       "    <tr>\n",
       "      <th>1500</th>\n",
       "      <td>2022-01-16</td>\n",
       "      <td>54</td>\n",
       "      <td>298</td>\n",
       "      <td>126</td>\n",
       "      <td>0</td>\n",
       "      <td>10</td>\n",
       "    </tr>\n",
       "    <tr>\n",
       "      <th>1600</th>\n",
       "      <td>2022-01-17</td>\n",
       "      <td>73</td>\n",
       "      <td>0</td>\n",
       "      <td>102</td>\n",
       "      <td>1</td>\n",
       "      <td>20</td>\n",
       "    </tr>\n",
       "    <tr>\n",
       "      <th>1700</th>\n",
       "      <td>2022-01-18</td>\n",
       "      <td>101</td>\n",
       "      <td>0</td>\n",
       "      <td>102</td>\n",
       "      <td>0</td>\n",
       "      <td>10</td>\n",
       "    </tr>\n",
       "  </tbody>\n",
       "</table>\n",
       "</div>"
      ],
      "text/plain": [
       "            Date  Units Sold  Units Ordered  Demand  Promotion  Discount\n",
       "0     2022-01-01         102            252     115          0         5\n",
       "100   2022-01-02          71              0      84          0         5\n",
       "200   2022-01-03         142            229     132          1        15\n",
       "300   2022-01-04          42              0      67          0        10\n",
       "400   2022-01-05         129              0     110          1        25\n",
       "500   2022-01-06          98            308     146          0         0\n",
       "600   2022-01-07          92              0      87          0        10\n",
       "700   2022-01-08          96            248     113          1        10\n",
       "800   2022-01-09          57              0      87          0        10\n",
       "900   2022-01-10          88              0      99          0         5\n",
       "1000  2022-01-11         112              0     103          0         0\n",
       "1100  2022-01-12          70            179      85          0        10\n",
       "1200  2022-01-13          80              0      77          1        20\n",
       "1300  2022-01-14          52              0      52          0         5\n",
       "1400  2022-01-15         126            287     175          1        10\n",
       "1500  2022-01-16          54            298     126          0        10\n",
       "1600  2022-01-17          73              0     102          1        20\n",
       "1700  2022-01-18         101              0     102          0        10"
      ]
     },
     "execution_count": 31,
     "metadata": {},
     "output_type": "execute_result"
    }
   ],
   "source": [
    "# Analyze the relationship between the variables to discuss which we want to throw out\n",
    "df[df['Product_UID'] == \"S001_P0001\"][['Date', 'Units Sold', 'Units Ordered', 'Demand', 'Promotion', 'Discount']]"
   ]
  },
  {
   "cell_type": "code",
   "execution_count": 32,
   "id": "78d7b2d1",
   "metadata": {},
   "outputs": [
    {
     "name": "stdout",
     "output_type": "stream",
     "text": [
      "Total Units Sold: 158696\n",
      "Total Units Ordered: 183866\n",
      "Difference: 25170\n"
     ]
    }
   ],
   "source": [
    "# We can see that they order way more than the sell\n",
    "# Calculate the sums\n",
    "total_units_sold = df['Units Sold'].sum()\n",
    "total_units_ordered = df['Units Ordered'].sum()\n",
    "\n",
    "# Print the results\n",
    "print(f\"Total Units Sold: {total_units_sold}\")\n",
    "print(f\"Total Units Ordered: {total_units_ordered}\")\n",
    "print(f\"Difference: {total_units_ordered-total_units_sold}\")"
   ]
  },
  {
   "cell_type": "code",
   "execution_count": 33,
   "id": "d4805953",
   "metadata": {},
   "outputs": [],
   "source": [
    "# Epidemic and seasonality only have one value, Date only has unique values (no patterns possible) thus weekdays are better to analyze patterns, Product ID and Store ID are joined and therefor not needed as single attribute,\n",
    "# We drop units sold as this would leak the prediction of promotion for the day, instead we should use demand and this is known in advance of the day\n",
    "# We drop Competitor Pricing as it is highly correlated with the price and has no further use for us\n",
    "# We also drop Units Ordered as it is correlated with the demand and doesn't improve our performance\n",
    "df.drop(columns=[\"Epidemic\", \"Seasonality\", \"Date\", \"Product ID\", \"Store ID\", \"Units Sold\", 'Competitor Pricing', 'Units Ordered'], inplace=True)"
   ]
  },
  {
   "cell_type": "code",
   "execution_count": 34,
   "id": "5ccc4f2b",
   "metadata": {},
   "outputs": [
    {
     "data": {
      "application/vnd.microsoft.datawrangler.viewer.v0+json": {
       "columns": [
        {
         "name": "index",
         "rawType": "object",
         "type": "string"
        },
        {
         "name": "0",
         "rawType": "int64",
         "type": "integer"
        }
       ],
       "ref": "f733bb12-1820-4596-9849-f414979a9dbd",
       "rows": [
        [
         "Category",
         "0"
        ],
        [
         "Region",
         "0"
        ],
        [
         "Inventory Level",
         "0"
        ],
        [
         "Price",
         "0"
        ],
        [
         "Discount",
         "0"
        ],
        [
         "Weather Condition",
         "0"
        ],
        [
         "Promotion",
         "0"
        ],
        [
         "Demand",
         "0"
        ],
        [
         "Product_UID",
         "0"
        ],
        [
         "Weekday",
         "0"
        ]
       ],
       "shape": {
        "columns": 1,
        "rows": 10
       }
      },
      "text/plain": [
       "Category             0\n",
       "Region               0\n",
       "Inventory Level      0\n",
       "Price                0\n",
       "Discount             0\n",
       "Weather Condition    0\n",
       "Promotion            0\n",
       "Demand               0\n",
       "Product_UID          0\n",
       "Weekday              0\n",
       "dtype: int64"
      ]
     },
     "execution_count": 34,
     "metadata": {},
     "output_type": "execute_result"
    }
   ],
   "source": [
    "# We want to output the number of missings per attribute\n",
    "df.isna().sum()"
   ]
  },
  {
   "cell_type": "code",
   "execution_count": 35,
   "id": "3442eb4d",
   "metadata": {},
   "outputs": [
    {
     "data": {
      "image/png": "[encoded data removed]",
      "text/plain": [
       "<Figure size 1000x400 with 1 Axes>"
      ]
     },
     "metadata": {},
     "output_type": "display_data"
    }
   ],
   "source": [
    "# We visualize this for our presentation\n",
    "plt.figure(figsize=(10, 4))\n",
    "sns.heatmap(df.isnull(), cbar=False, yticklabels=False, cmap='viridis')\n",
    "plt.title('Missing Values Heatmap')\n",
    "plt.show()\n"
   ]
  },
  {
   "cell_type": "code",
   "execution_count": 36,
   "id": "87b58bb0",
   "metadata": {},
   "outputs": [
    {
     "name": "stdout",
     "output_type": "stream",
     "text": [
      "Category                0\n",
      "Region                  0\n",
      "Inventory Level        53\n",
      "Price                   0\n",
      "Discount              368\n",
      "Weather Condition       0\n",
      "Promotion            1097\n",
      "Demand                  0\n",
      "Product_UID             0\n",
      "Weekday                 0\n",
      "dtype: int64\n"
     ]
    }
   ],
   "source": [
    "# Count 0s in each column\n",
    "zero_counts = (df == 0).sum()\n",
    "print(zero_counts)\n",
    "# The given 0 values are legimate values, therefore we have no missings in our data\n",
    "# Units sold and units ordered are always simultaniously 0\n"
   ]
  },
  {
   "cell_type": "code",
   "execution_count": 37,
   "id": "ae62a564",
   "metadata": {},
   "outputs": [],
   "source": [
    "# We store the cleaned data \n",
    "df.to_csv(\"../../Data/Transformed/Leo/inventory_management_cleaned.csv\", index=False)"
   ]
  },
  {
   "cell_type": "code",
   "execution_count": 38,
   "id": "cb46a1e7",
   "metadata": {},
   "outputs": [
    {
     "name": "stdout",
     "output_type": "stream",
     "text": [
      "Saved to: ../../Images/Challenge_different_product_types.png\n"
     ]
    },
    {
     "data": {
      "image/png": "[encoded data removed]",
      "text/plain": [
       "<Figure size 800x300 with 1 Axes>"
      ]
     },
     "metadata": {},
     "output_type": "display_data"
    }
   ],
   "source": [
    "# This only store some data tables for our presentation\n",
    "import matplotlib.table as tbl\n",
    "import os\n",
    "\n",
    "# Load the cleaned dataset\n",
    "file_path = \"../../Data/Transformed/Leo/inventory_management_cleaned.csv\"\n",
    "df = pd.read_csv(file_path)\n",
    "\n",
    "# Filter for identifiers starting with S001_ and S002_\n",
    "s001_sample = df[df['Product_UID'].str.startswith('S001_')].head(5)\n",
    "s002_sample = df[df['Product_UID'].str.startswith('S002_')].head(5)\n",
    "\n",
    "# Combine and limit to first 10 columns\n",
    "# Combine the two samples\n",
    "sample_combined = pd.concat([s001_sample, s002_sample])\n",
    "\n",
    "# Reorder: Weekday → Product_UID → Rest\n",
    "cols = sample_combined.columns.tolist()\n",
    "cols.remove('Weekday')\n",
    "cols.remove('Product_UID')\n",
    "new_order = ['Product_UID', 'Weekday'] + cols\n",
    "sample_combined = sample_combined[new_order]\n",
    "\n",
    "# Limit to first 15 columns\n",
    "sample_combined = sample_combined.iloc[:, :15]\n",
    "\n",
    "\n",
    "# Create figure\n",
    "fig, ax = plt.subplots(figsize=(8, 3))\n",
    "ax.axis('off')\n",
    "\n",
    "# Create table\n",
    "table = tbl.table(\n",
    "    ax,\n",
    "    cellText=sample_combined.values,\n",
    "    colLabels=sample_combined.columns,\n",
    "    loc='center'\n",
    ")\n",
    "table.auto_set_font_size(False)\n",
    "table.set_fontsize(7)\n",
    "table.scale(1.1, 1.3)\n",
    "\n",
    "# Adjust column widths\n",
    "try:\n",
    "    table.auto_set_column_width(col=list(range(sample_combined.shape[1])))\n",
    "except AttributeError:\n",
    "    print(\"auto_set_column_width not available in this matplotlib version\")\n",
    "\n",
    "# Save the image\n",
    "output_dir = \"../../Images\"\n",
    "os.makedirs(output_dir, exist_ok=True)\n",
    "image_path = os.path.join(output_dir, \"Challenge_different_product_types.png\")\n",
    "plt.savefig(image_path, bbox_inches='tight', dpi=700)\n",
    "\n",
    "print(f\"Saved to: {image_path}\")\n"
   ]
  },
  {
   "cell_type": "code",
   "execution_count": 39,
   "id": "e9f23496",
   "metadata": {},
   "outputs": [
    {
     "name": "stdout",
     "output_type": "stream",
     "text": [
      "Saved to: ../../Images/Challenge_different_product_types.png\n"
     ]
    },
    {
     "data": {
      "image/png": "[encoded data removed]",
      "text/plain": [
       "<Figure size 800x300 with 1 Axes>"
      ]
     },
     "metadata": {},
     "output_type": "display_data"
    }
   ],
   "source": [
    "# This only store some data tables for our presentation\n",
    "import matplotlib.table as tbl\n",
    "import os\n",
    "\n",
    "# Load the cleaned dataset\n",
    "file_path = \"../../Data/Transformed/Leo/inventory_management_cleaned.csv\"\n",
    "df = pd.read_csv(file_path)\n",
    "\n",
    "# Filter for identifiers starting with S001_ and S002_\n",
    "s001_sample = df[df['Product_UID'].str.startswith('S001_')].head(5)\n",
    "s002_sample = df[df['Product_UID'].str.startswith('S002_')].head(5)\n",
    "\n",
    "# Combine and limit to first 10 columns\n",
    "# Combine the two samples\n",
    "sample_combined = pd.concat([s001_sample, s002_sample])\n",
    "\n",
    "# Reorder: Weekday → Product_UID → Rest\n",
    "cols = sample_combined.columns.tolist()\n",
    "cols.remove('Weekday')\n",
    "cols.remove('Product_UID')\n",
    "new_order = ['Product_UID', 'Weekday'] + cols\n",
    "sample_combined = sample_combined[new_order]\n",
    "\n",
    "# Limit to first 15 columns\n",
    "sample_combined = sample_combined.iloc[:, :15]\n",
    "\n",
    "\n",
    "# Create figure\n",
    "fig, ax = plt.subplots(figsize=(8, 3))\n",
    "ax.axis('off')\n",
    "\n",
    "# Create table\n",
    "table = tbl.table(\n",
    "    ax,\n",
    "    cellText=sample_combined.values,\n",
    "    colLabels=sample_combined.columns,\n",
    "    loc='center'\n",
    ")\n",
    "table.auto_set_font_size(False)\n",
    "table.set_fontsize(7)\n",
    "table.scale(1.1, 1.3)\n",
    "\n",
    "# Adjust column widths\n",
    "try:\n",
    "    table.auto_set_column_width(col=list(range(sample_combined.shape[1])))\n",
    "except AttributeError:\n",
    "    print(\"auto_set_column_width not available in this matplotlib version\")\n",
    "\n",
    "# Save the image\n",
    "output_dir = \"../../Images\"\n",
    "os.makedirs(output_dir, exist_ok=True)\n",
    "image_path = os.path.join(output_dir, \"Challenge_different_product_types.png\")\n",
    "plt.savefig(image_path, bbox_inches='tight', dpi=700)\n",
    "\n",
    "print(f\"Saved to: {image_path}\")\n"
   ]
  },
  {
   "cell_type": "code",
   "execution_count": 40,
   "id": "71b4e3dc",
   "metadata": {},
   "outputs": [
    {
     "name": "stdout",
     "output_type": "stream",
     "text": [
      "Saved to: ../../Images/Challenge_Observations_per_PUID.png\n"
     ]
    }
   ],
   "source": [
    "import pandas as pd\n",
    "import matplotlib.pyplot as plt\n",
    "import matplotlib.table as tbl\n",
    "import os\n",
    "\n",
    "# Load dataset\n",
    "file_path = \"../../Data/Transformed/Leo/inventory_management_cleaned.csv\"\n",
    "df = pd.read_csv(file_path)\n",
    "\n",
    "# Filter for S001_P0001\n",
    "product_df = df[df['Product_UID'] == 'S001_P0001']\n",
    "\n",
    "# Select 5 rows for Saturday and 5 for Sunday\n",
    "sat_rows = product_df[product_df['Weekday'] == 'Saturday'].head(5)\n",
    "sun_rows = product_df[product_df['Weekday'] == 'Sunday'].head(5)\n",
    "\n",
    "# Combine into a single table\n",
    "table_data = pd.concat([sat_rows, sun_rows])\n",
    "\n",
    "# Select the first N columns you want to display (adjust as needed)\n",
    "# e.g. show up to 10–12 relevant columns like in your example\n",
    "columns_to_show = ['Product_UID', 'Weekday', 'Category', 'Region',\n",
    "                   'Inventory Level', 'Price', 'Discount',\n",
    "                   'Weather Condition', 'Promotion', 'Demand']\n",
    "\n",
    "table_data = table_data[columns_to_show]\n",
    "\n",
    "# Create figure\n",
    "fig, ax = plt.subplots(figsize=(10, 2.5))  # Wider for more columns\n",
    "ax.axis('off')\n",
    "\n",
    "# Create styled table\n",
    "table = tbl.table(\n",
    "    ax,\n",
    "    cellText=table_data.values,\n",
    "    colLabels=table_data.columns,\n",
    "    loc='center'\n",
    ")\n",
    "table.auto_set_font_size(False)\n",
    "table.set_fontsize(8)\n",
    "table.scale(1.2, 1.3)\n",
    "\n",
    "# Adjust column widths\n",
    "try:\n",
    "    table.auto_set_column_width(col=list(range(table_data.shape[1])))\n",
    "except AttributeError:\n",
    "    pass\n",
    "\n",
    "# Save the image\n",
    "output_dir = \"../../Images\"\n",
    "os.makedirs(output_dir, exist_ok=True)\n",
    "image_path = os.path.join(output_dir, \"Challenge_Observations_per_PUID.png\")\n",
    "plt.savefig(image_path, bbox_inches='tight', dpi=700)\n",
    "plt.close()\n",
    "\n",
    "print(f\"Saved to: {image_path}\")\n"
   ]
  }
 ],
 "metadata": {
  "kernelspec": {
   "display_name": "Python 3",
   "language": "python",
   "name": "python3"
  },
  "language_info": {
   "codemirror_mode": {
    "name": "ipython",
    "version": 3
   },
   "file_extension": ".py",
   "mimetype": "text/x-python",
   "name": "python",
   "nbconvert_exporter": "python",
   "pygments_lexer": "ipython3",
   "version": "3.13.4"
  }
 },
 "nbformat": 4,
 "nbformat_minor": 5
}
