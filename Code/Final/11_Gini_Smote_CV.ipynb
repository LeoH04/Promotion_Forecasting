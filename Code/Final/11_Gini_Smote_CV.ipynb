{
 "cells": [
  {
   "cell_type": "markdown",
   "id": "e0e24665",
   "metadata": {},
   "source": [
    "## 00. Import libraries and load data"
   ]
  },
  {
   "cell_type": "markdown",
   "id": "5dadd865",
   "metadata": {},
   "source": [
    "Note: This Jupyter Notebook was created as part of the group work. Each member has contributed similarly to the result."
   ]
  },
  {
   "cell_type": "code",
   "execution_count": 69,
   "id": "49615691",
   "metadata": {},
   "outputs": [],
   "source": [
    "# First we import all neccessary libraries and give some of them an alias for easy access\n",
    "import numpy as np\n",
    "import pandas as pd\n",
    "import matplotlib.pyplot as plt\n",
    "import seaborn as sns\n",
    "%matplotlib inline\n",
    "from sklearn.model_selection import train_test_split\n",
    "from sklearn.tree import DecisionTreeClassifier\n",
    "from sklearn.metrics import accuracy_score\n",
    "from sklearn import tree\n",
    "from sklearn import metrics\n",
    "from sklearn.metrics import classification_report\n",
    "from sklearn.model_selection import StratifiedKFold, cross_val_score\n",
    "from sklearn.model_selection import GridSearchCV\n",
    "from sklearn.model_selection import RandomizedSearchCV\n",
    "from imblearn.over_sampling import SMOTE\n",
    "from imblearn.over_sampling import BorderlineSMOTE\n",
    "from imblearn.over_sampling import KMeansSMOTE\n",
    "from imblearn.over_sampling import SVMSMOTE\n",
    "from sklearn.base import clone\n",
    "from imblearn.under_sampling import RandomUnderSampler\n",
    "from collections import Counter\n",
    "from imblearn.pipeline import Pipeline"
   ]
  },
  {
   "cell_type": "markdown",
   "id": "a4ee7697",
   "metadata": {},
   "source": [
    "## 1. Read in the data"
   ]
  },
  {
   "cell_type": "code",
   "execution_count": 70,
   "id": "0854319a",
   "metadata": {},
   "outputs": [
    {
     "data": {
      "text/plain": [
       "(1722, 10)"
      ]
     },
     "execution_count": 70,
     "metadata": {},
     "output_type": "execute_result"
    }
   ],
   "source": [
    "# Read in the data so every group member can run the notebook on his machine\n",
    "# (our repo is on github, we therefore have the same file structure)\n",
    "df = pd.read_csv(\"./Data/Transformed/inventory_management_cleaned_transformed_unscaled.csv\")\n",
    "df.shape # Get a first idea about the number of rows and columns of the dataset"
   ]
  },
  {
   "cell_type": "code",
   "execution_count": 71,
   "id": "94a1b39c",
   "metadata": {},
   "outputs": [
    {
     "data": {
      "application/vnd.microsoft.datawrangler.viewer.v0+json": {
       "columns": [
        {
         "name": "index",
         "rawType": "int64",
         "type": "integer"
        },
        {
         "name": "Category",
         "rawType": "int64",
         "type": "integer"
        },
        {
         "name": "Region",
         "rawType": "int64",
         "type": "integer"
        },
        {
         "name": "Inventory Level",
         "rawType": "int64",
         "type": "integer"
        },
        {
         "name": "Price",
         "rawType": "float64",
         "type": "float"
        },
        {
         "name": "Discount",
         "rawType": "int64",
         "type": "integer"
        },
        {
         "name": "Weather Condition",
         "rawType": "int64",
         "type": "integer"
        },
        {
         "name": "Promotion",
         "rawType": "int64",
         "type": "integer"
        },
        {
         "name": "Demand",
         "rawType": "int64",
         "type": "integer"
        },
        {
         "name": "Product_UID",
         "rawType": "object",
         "type": "string"
        },
        {
         "name": "Weekday",
         "rawType": "int64",
         "type": "integer"
        }
       ],
       "ref": "ef0633f7-f9a0-43ff-97e3-4b794012d8df",
       "rows": [
        [
         "0",
         "1",
         "1",
         "195",
         "72.72",
         "5",
         "1",
         "0",
         "115",
         "S001_P0001",
         "2"
        ],
        [
         "1",
         "0",
         "1",
         "117",
         "80.16",
         "15",
         "1",
         "1",
         "229",
         "S001_P0002",
         "2"
        ],
        [
         "2",
         "0",
         "1",
         "247",
         "62.94",
         "10",
         "1",
         "1",
         "157",
         "S001_P0003",
         "2"
        ],
        [
         "3",
         "1",
         "1",
         "139",
         "87.63",
         "10",
         "1",
         "0",
         "52",
         "S001_P0004",
         "2"
        ],
        [
         "4",
         "3",
         "1",
         "152",
         "54.41",
         "0",
         "1",
         "0",
         "59",
         "S001_P0005",
         "2"
        ]
       ],
       "shape": {
        "columns": 10,
        "rows": 5
       }
      },
      "text/html": [
       "<div>\n",
       "<style scoped>\n",
       "    .dataframe tbody tr th:only-of-type {\n",
       "        vertical-align: middle;\n",
       "    }\n",
       "\n",
       "    .dataframe tbody tr th {\n",
       "        vertical-align: top;\n",
       "    }\n",
       "\n",
       "    .dataframe thead th {\n",
       "        text-align: right;\n",
       "    }\n",
       "</style>\n",
       "<table border=\"1\" class=\"dataframe\">\n",
       "  <thead>\n",
       "    <tr style=\"text-align: right;\">\n",
       "      <th></th>\n",
       "      <th>Category</th>\n",
       "      <th>Region</th>\n",
       "      <th>Inventory Level</th>\n",
       "      <th>Price</th>\n",
       "      <th>Discount</th>\n",
       "      <th>Weather Condition</th>\n",
       "      <th>Promotion</th>\n",
       "      <th>Demand</th>\n",
       "      <th>Product_UID</th>\n",
       "      <th>Weekday</th>\n",
       "    </tr>\n",
       "  </thead>\n",
       "  <tbody>\n",
       "    <tr>\n",
       "      <th>0</th>\n",
       "      <td>1</td>\n",
       "      <td>1</td>\n",
       "      <td>195</td>\n",
       "      <td>72.72</td>\n",
       "      <td>5</td>\n",
       "      <td>1</td>\n",
       "      <td>0</td>\n",
       "      <td>115</td>\n",
       "      <td>S001_P0001</td>\n",
       "      <td>2</td>\n",
       "    </tr>\n",
       "    <tr>\n",
       "      <th>1</th>\n",
       "      <td>0</td>\n",
       "      <td>1</td>\n",
       "      <td>117</td>\n",
       "      <td>80.16</td>\n",
       "      <td>15</td>\n",
       "      <td>1</td>\n",
       "      <td>1</td>\n",
       "      <td>229</td>\n",
       "      <td>S001_P0002</td>\n",
       "      <td>2</td>\n",
       "    </tr>\n",
       "    <tr>\n",
       "      <th>2</th>\n",
       "      <td>0</td>\n",
       "      <td>1</td>\n",
       "      <td>247</td>\n",
       "      <td>62.94</td>\n",
       "      <td>10</td>\n",
       "      <td>1</td>\n",
       "      <td>1</td>\n",
       "      <td>157</td>\n",
       "      <td>S001_P0003</td>\n",
       "      <td>2</td>\n",
       "    </tr>\n",
       "    <tr>\n",
       "      <th>3</th>\n",
       "      <td>1</td>\n",
       "      <td>1</td>\n",
       "      <td>139</td>\n",
       "      <td>87.63</td>\n",
       "      <td>10</td>\n",
       "      <td>1</td>\n",
       "      <td>0</td>\n",
       "      <td>52</td>\n",
       "      <td>S001_P0004</td>\n",
       "      <td>2</td>\n",
       "    </tr>\n",
       "    <tr>\n",
       "      <th>4</th>\n",
       "      <td>3</td>\n",
       "      <td>1</td>\n",
       "      <td>152</td>\n",
       "      <td>54.41</td>\n",
       "      <td>0</td>\n",
       "      <td>1</td>\n",
       "      <td>0</td>\n",
       "      <td>59</td>\n",
       "      <td>S001_P0005</td>\n",
       "      <td>2</td>\n",
       "    </tr>\n",
       "  </tbody>\n",
       "</table>\n",
       "</div>"
      ],
      "text/plain": [
       "   Category  Region  Inventory Level  Price  Discount  Weather Condition  \\\n",
       "0         1       1              195  72.72         5                  1   \n",
       "1         0       1              117  80.16        15                  1   \n",
       "2         0       1              247  62.94        10                  1   \n",
       "3         1       1              139  87.63        10                  1   \n",
       "4         3       1              152  54.41         0                  1   \n",
       "\n",
       "   Promotion  Demand Product_UID  Weekday  \n",
       "0          0     115  S001_P0001        2  \n",
       "1          1     229  S001_P0002        2  \n",
       "2          1     157  S001_P0003        2  \n",
       "3          0      52  S001_P0004        2  \n",
       "4          0      59  S001_P0005        2  "
      ]
     },
     "execution_count": 71,
     "metadata": {},
     "output_type": "execute_result"
    }
   ],
   "source": [
    "# Check the data\n",
    "df.head()"
   ]
  },
  {
   "cell_type": "code",
   "execution_count": 72,
   "id": "78da32aa",
   "metadata": {},
   "outputs": [],
   "source": [
    "# We define that y equals the attribute we want to predict and X equals all the other attributes to predict y \n",
    "y = df[\"Promotion\"]\n",
    "X = df.loc[:, ~df.columns.isin(['Promotion', 'Product_UID'])]"
   ]
  },
  {
   "cell_type": "code",
   "execution_count": 73,
   "id": "fd808fcd",
   "metadata": {},
   "outputs": [
    {
     "data": {
      "application/vnd.microsoft.datawrangler.viewer.v0+json": {
       "columns": [
        {
         "name": "index",
         "rawType": "int64",
         "type": "integer"
        },
        {
         "name": "Promotion",
         "rawType": "int64",
         "type": "integer"
        }
       ],
       "ref": "5f9514df-641b-4f08-9b6d-72dd9f6f896d",
       "rows": [
        [
         "0",
         "0"
        ],
        [
         "1",
         "1"
        ],
        [
         "2",
         "1"
        ],
        [
         "3",
         "0"
        ],
        [
         "4",
         "0"
        ],
        [
         "5",
         "0"
        ],
        [
         "6",
         "0"
        ],
        [
         "7",
         "0"
        ],
        [
         "8",
         "0"
        ],
        [
         "9",
         "0"
        ],
        [
         "10",
         "0"
        ],
        [
         "11",
         "0"
        ],
        [
         "12",
         "0"
        ],
        [
         "13",
         "1"
        ],
        [
         "14",
         "0"
        ],
        [
         "15",
         "0"
        ],
        [
         "16",
         "0"
        ],
        [
         "17",
         "0"
        ],
        [
         "18",
         "0"
        ],
        [
         "19",
         "0"
        ],
        [
         "20",
         "0"
        ],
        [
         "21",
         "1"
        ],
        [
         "22",
         "1"
        ],
        [
         "23",
         "0"
        ],
        [
         "24",
         "0"
        ],
        [
         "25",
         "0"
        ],
        [
         "26",
         "0"
        ],
        [
         "27",
         "0"
        ],
        [
         "28",
         "0"
        ],
        [
         "29",
         "0"
        ],
        [
         "30",
         "0"
        ],
        [
         "31",
         "0"
        ],
        [
         "32",
         "0"
        ],
        [
         "33",
         "1"
        ],
        [
         "34",
         "0"
        ],
        [
         "35",
         "0"
        ],
        [
         "36",
         "0"
        ],
        [
         "37",
         "0"
        ],
        [
         "38",
         "0"
        ],
        [
         "39",
         "0"
        ],
        [
         "40",
         "0"
        ],
        [
         "41",
         "1"
        ],
        [
         "42",
         "1"
        ],
        [
         "43",
         "0"
        ],
        [
         "44",
         "0"
        ],
        [
         "45",
         "0"
        ],
        [
         "46",
         "0"
        ],
        [
         "47",
         "0"
        ],
        [
         "48",
         "0"
        ],
        [
         "49",
         "0"
        ]
       ],
       "shape": {
        "columns": 1,
        "rows": 1722
       }
      },
      "text/plain": [
       "0       0\n",
       "1       1\n",
       "2       1\n",
       "3       0\n",
       "4       0\n",
       "       ..\n",
       "1717    0\n",
       "1718    1\n",
       "1719    0\n",
       "1720    0\n",
       "1721    1\n",
       "Name: Promotion, Length: 1722, dtype: int64"
      ]
     },
     "execution_count": 73,
     "metadata": {},
     "output_type": "execute_result"
    }
   ],
   "source": [
    "# We check if y equals the attribute we want to predict (Promotion)\n",
    "y"
   ]
  },
  {
   "cell_type": "code",
   "execution_count": 74,
   "id": "faf90684",
   "metadata": {},
   "outputs": [
    {
     "data": {
      "application/vnd.microsoft.datawrangler.viewer.v0+json": {
       "columns": [
        {
         "name": "index",
         "rawType": "int64",
         "type": "integer"
        },
        {
         "name": "Category",
         "rawType": "int64",
         "type": "integer"
        },
        {
         "name": "Region",
         "rawType": "int64",
         "type": "integer"
        },
        {
         "name": "Inventory Level",
         "rawType": "int64",
         "type": "integer"
        },
        {
         "name": "Price",
         "rawType": "float64",
         "type": "float"
        },
        {
         "name": "Discount",
         "rawType": "int64",
         "type": "integer"
        },
        {
         "name": "Weather Condition",
         "rawType": "int64",
         "type": "integer"
        },
        {
         "name": "Demand",
         "rawType": "int64",
         "type": "integer"
        },
        {
         "name": "Weekday",
         "rawType": "int64",
         "type": "integer"
        }
       ],
       "ref": "6484bf7f-9314-45b6-bcdb-b74d41ca7223",
       "rows": [
        [
         "0",
         "1",
         "1",
         "195",
         "72.72",
         "5",
         "1",
         "115",
         "2"
        ],
        [
         "1",
         "0",
         "1",
         "117",
         "80.16",
         "15",
         "1",
         "229",
         "2"
        ],
        [
         "2",
         "0",
         "1",
         "247",
         "62.94",
         "10",
         "1",
         "157",
         "2"
        ],
        [
         "3",
         "1",
         "1",
         "139",
         "87.63",
         "10",
         "1",
         "52",
         "2"
        ],
        [
         "4",
         "3",
         "1",
         "152",
         "54.41",
         "0",
         "1",
         "59",
         "2"
        ],
        [
         "5",
         "4",
         "1",
         "209",
         "35.53",
         "0",
         "1",
         "55",
         "2"
        ],
        [
         "6",
         "3",
         "1",
         "118",
         "23.27",
         "5",
         "1",
         "94",
         "2"
        ],
        [
         "7",
         "1",
         "1",
         "244",
         "37.79",
         "5",
         "1",
         "61",
         "2"
        ],
        [
         "8",
         "0",
         "1",
         "115",
         "94.2",
         "5",
         "1",
         "129",
         "2"
        ],
        [
         "9",
         "2",
         "1",
         "192",
         "113.35",
         "10",
         "1",
         "69",
         "2"
        ],
        [
         "10",
         "2",
         "1",
         "215",
         "156.34",
         "0",
         "1",
         "64",
         "2"
        ],
        [
         "11",
         "3",
         "1",
         "289",
         "84.48",
         "0",
         "1",
         "104",
         "2"
        ],
        [
         "12",
         "4",
         "1",
         "279",
         "33.1",
         "5",
         "1",
         "110",
         "2"
        ],
        [
         "13",
         "3",
         "1",
         "252",
         "80.13",
         "10",
         "1",
         "165",
         "2"
        ],
        [
         "14",
         "4",
         "1",
         "119",
         "14.39",
         "5",
         "1",
         "64",
         "2"
        ],
        [
         "15",
         "3",
         "1",
         "103",
         "38.79",
         "10",
         "1",
         "115",
         "2"
        ],
        [
         "16",
         "4",
         "1",
         "128",
         "21.21",
         "0",
         "1",
         "75",
         "2"
        ],
        [
         "17",
         "3",
         "1",
         "281",
         "54.4",
         "5",
         "1",
         "66",
         "2"
        ],
        [
         "18",
         "2",
         "1",
         "281",
         "95.56",
         "10",
         "1",
         "58",
         "2"
        ],
        [
         "19",
         "2",
         "1",
         "266",
         "100.47",
         "5",
         "1",
         "43",
         "2"
        ],
        [
         "20",
         "3",
         "2",
         "102",
         "90.89",
         "0",
         "0",
         "118",
         "2"
        ],
        [
         "21",
         "4",
         "2",
         "193",
         "25.68",
         "25",
         "0",
         "105",
         "2"
        ],
        [
         "22",
         "3",
         "2",
         "187",
         "95.17",
         "10",
         "0",
         "171",
         "2"
        ],
        [
         "23",
         "3",
         "2",
         "160",
         "39.54",
         "10",
         "0",
         "110",
         "2"
        ],
        [
         "24",
         "1",
         "2",
         "155",
         "92.35",
         "0",
         "0",
         "94",
         "2"
        ],
        [
         "25",
         "0",
         "2",
         "198",
         "64.0",
         "5",
         "0",
         "88",
         "2"
        ],
        [
         "26",
         "4",
         "2",
         "233",
         "25.47",
         "10",
         "0",
         "93",
         "2"
        ],
        [
         "27",
         "3",
         "2",
         "124",
         "25.63",
         "5",
         "0",
         "112",
         "2"
        ],
        [
         "28",
         "3",
         "2",
         "131",
         "64.84",
         "10",
         "0",
         "145",
         "2"
        ],
        [
         "29",
         "3",
         "2",
         "242",
         "117.17",
         "5",
         "0",
         "195",
         "2"
        ],
        [
         "30",
         "3",
         "2",
         "206",
         "84.71",
         "10",
         "0",
         "79",
         "2"
        ],
        [
         "31",
         "1",
         "2",
         "197",
         "78.86",
         "0",
         "0",
         "122",
         "2"
        ],
        [
         "32",
         "3",
         "2",
         "152",
         "21.76",
         "10",
         "0",
         "109",
         "2"
        ],
        [
         "33",
         "1",
         "2",
         "153",
         "100.18",
         "10",
         "0",
         "63",
         "2"
        ],
        [
         "34",
         "0",
         "2",
         "106",
         "65.19",
         "10",
         "0",
         "96",
         "2"
        ],
        [
         "35",
         "0",
         "2",
         "113",
         "111.87",
         "5",
         "0",
         "194",
         "2"
        ],
        [
         "36",
         "4",
         "2",
         "153",
         "18.89",
         "5",
         "0",
         "65",
         "2"
        ],
        [
         "37",
         "0",
         "2",
         "126",
         "27.67",
         "0",
         "0",
         "79",
         "2"
        ],
        [
         "38",
         "0",
         "2",
         "164",
         "83.09",
         "10",
         "0",
         "96",
         "2"
        ],
        [
         "39",
         "2",
         "2",
         "126",
         "125.8",
         "0",
         "0",
         "53",
         "2"
        ],
        [
         "40",
         "4",
         "0",
         "182",
         "16.85",
         "10",
         "2",
         "112",
         "2"
        ],
        [
         "41",
         "3",
         "0",
         "290",
         "50.42",
         "10",
         "2",
         "82",
         "2"
        ],
        [
         "42",
         "1",
         "0",
         "122",
         "83.17",
         "20",
         "2",
         "126",
         "2"
        ],
        [
         "43",
         "3",
         "0",
         "203",
         "26.29",
         "5",
         "2",
         "158",
         "2"
        ],
        [
         "44",
         "4",
         "0",
         "253",
         "19.8",
         "5",
         "2",
         "57",
         "2"
        ],
        [
         "45",
         "4",
         "0",
         "227",
         "44.64",
         "0",
         "2",
         "136",
         "2"
        ],
        [
         "46",
         "3",
         "0",
         "247",
         "18.65",
         "0",
         "2",
         "142",
         "2"
        ],
        [
         "47",
         "0",
         "0",
         "297",
         "113.01",
         "0",
         "2",
         "89",
         "2"
        ],
        [
         "48",
         "3",
         "0",
         "226",
         "56.32",
         "5",
         "2",
         "126",
         "2"
        ],
        [
         "49",
         "3",
         "0",
         "167",
         "36.21",
         "10",
         "2",
         "106",
         "2"
        ]
       ],
       "shape": {
        "columns": 8,
        "rows": 1722
       }
      },
      "text/html": [
       "<div>\n",
       "<style scoped>\n",
       "    .dataframe tbody tr th:only-of-type {\n",
       "        vertical-align: middle;\n",
       "    }\n",
       "\n",
       "    .dataframe tbody tr th {\n",
       "        vertical-align: top;\n",
       "    }\n",
       "\n",
       "    .dataframe thead th {\n",
       "        text-align: right;\n",
       "    }\n",
       "</style>\n",
       "<table border=\"1\" class=\"dataframe\">\n",
       "  <thead>\n",
       "    <tr style=\"text-align: right;\">\n",
       "      <th></th>\n",
       "      <th>Category</th>\n",
       "      <th>Region</th>\n",
       "      <th>Inventory Level</th>\n",
       "      <th>Price</th>\n",
       "      <th>Discount</th>\n",
       "      <th>Weather Condition</th>\n",
       "      <th>Demand</th>\n",
       "      <th>Weekday</th>\n",
       "    </tr>\n",
       "  </thead>\n",
       "  <tbody>\n",
       "    <tr>\n",
       "      <th>0</th>\n",
       "      <td>1</td>\n",
       "      <td>1</td>\n",
       "      <td>195</td>\n",
       "      <td>72.72</td>\n",
       "      <td>5</td>\n",
       "      <td>1</td>\n",
       "      <td>115</td>\n",
       "      <td>2</td>\n",
       "    </tr>\n",
       "    <tr>\n",
       "      <th>1</th>\n",
       "      <td>0</td>\n",
       "      <td>1</td>\n",
       "      <td>117</td>\n",
       "      <td>80.16</td>\n",
       "      <td>15</td>\n",
       "      <td>1</td>\n",
       "      <td>229</td>\n",
       "      <td>2</td>\n",
       "    </tr>\n",
       "    <tr>\n",
       "      <th>2</th>\n",
       "      <td>0</td>\n",
       "      <td>1</td>\n",
       "      <td>247</td>\n",
       "      <td>62.94</td>\n",
       "      <td>10</td>\n",
       "      <td>1</td>\n",
       "      <td>157</td>\n",
       "      <td>2</td>\n",
       "    </tr>\n",
       "    <tr>\n",
       "      <th>3</th>\n",
       "      <td>1</td>\n",
       "      <td>1</td>\n",
       "      <td>139</td>\n",
       "      <td>87.63</td>\n",
       "      <td>10</td>\n",
       "      <td>1</td>\n",
       "      <td>52</td>\n",
       "      <td>2</td>\n",
       "    </tr>\n",
       "    <tr>\n",
       "      <th>4</th>\n",
       "      <td>3</td>\n",
       "      <td>1</td>\n",
       "      <td>152</td>\n",
       "      <td>54.41</td>\n",
       "      <td>0</td>\n",
       "      <td>1</td>\n",
       "      <td>59</td>\n",
       "      <td>2</td>\n",
       "    </tr>\n",
       "    <tr>\n",
       "      <th>...</th>\n",
       "      <td>...</td>\n",
       "      <td>...</td>\n",
       "      <td>...</td>\n",
       "      <td>...</td>\n",
       "      <td>...</td>\n",
       "      <td>...</td>\n",
       "      <td>...</td>\n",
       "      <td>...</td>\n",
       "    </tr>\n",
       "    <tr>\n",
       "      <th>1717</th>\n",
       "      <td>3</td>\n",
       "      <td>1</td>\n",
       "      <td>129</td>\n",
       "      <td>62.83</td>\n",
       "      <td>10</td>\n",
       "      <td>0</td>\n",
       "      <td>143</td>\n",
       "      <td>5</td>\n",
       "    </tr>\n",
       "    <tr>\n",
       "      <th>1718</th>\n",
       "      <td>2</td>\n",
       "      <td>1</td>\n",
       "      <td>104</td>\n",
       "      <td>98.97</td>\n",
       "      <td>10</td>\n",
       "      <td>0</td>\n",
       "      <td>54</td>\n",
       "      <td>5</td>\n",
       "    </tr>\n",
       "    <tr>\n",
       "      <th>1719</th>\n",
       "      <td>2</td>\n",
       "      <td>1</td>\n",
       "      <td>494</td>\n",
       "      <td>111.25</td>\n",
       "      <td>10</td>\n",
       "      <td>0</td>\n",
       "      <td>70</td>\n",
       "      <td>5</td>\n",
       "    </tr>\n",
       "    <tr>\n",
       "      <th>1720</th>\n",
       "      <td>3</td>\n",
       "      <td>2</td>\n",
       "      <td>625</td>\n",
       "      <td>69.62</td>\n",
       "      <td>5</td>\n",
       "      <td>1</td>\n",
       "      <td>69</td>\n",
       "      <td>5</td>\n",
       "    </tr>\n",
       "    <tr>\n",
       "      <th>1721</th>\n",
       "      <td>4</td>\n",
       "      <td>2</td>\n",
       "      <td>334</td>\n",
       "      <td>27.53</td>\n",
       "      <td>10</td>\n",
       "      <td>1</td>\n",
       "      <td>72</td>\n",
       "      <td>5</td>\n",
       "    </tr>\n",
       "  </tbody>\n",
       "</table>\n",
       "<p>1722 rows × 8 columns</p>\n",
       "</div>"
      ],
      "text/plain": [
       "      Category  Region  Inventory Level   Price  Discount  Weather Condition  \\\n",
       "0            1       1              195   72.72         5                  1   \n",
       "1            0       1              117   80.16        15                  1   \n",
       "2            0       1              247   62.94        10                  1   \n",
       "3            1       1              139   87.63        10                  1   \n",
       "4            3       1              152   54.41         0                  1   \n",
       "...        ...     ...              ...     ...       ...                ...   \n",
       "1717         3       1              129   62.83        10                  0   \n",
       "1718         2       1              104   98.97        10                  0   \n",
       "1719         2       1              494  111.25        10                  0   \n",
       "1720         3       2              625   69.62         5                  1   \n",
       "1721         4       2              334   27.53        10                  1   \n",
       "\n",
       "      Demand  Weekday  \n",
       "0        115        2  \n",
       "1        229        2  \n",
       "2        157        2  \n",
       "3         52        2  \n",
       "4         59        2  \n",
       "...      ...      ...  \n",
       "1717     143        5  \n",
       "1718      54        5  \n",
       "1719      70        5  \n",
       "1720      69        5  \n",
       "1721      72        5  \n",
       "\n",
       "[1722 rows x 8 columns]"
      ]
     },
     "execution_count": 74,
     "metadata": {},
     "output_type": "execute_result"
    }
   ],
   "source": [
    "# We check if X equals all other attributes than Promotion to predict this attribute \n",
    "X"
   ]
  },
  {
   "cell_type": "markdown",
   "id": "39dfce2d",
   "metadata": {},
   "source": [
    "# 2. Split the data with Split Validation"
   ]
  },
  {
   "cell_type": "code",
   "execution_count": 75,
   "id": "a89571c5",
   "metadata": {},
   "outputs": [
    {
     "data": {
      "application/vnd.microsoft.datawrangler.viewer.v0+json": {
       "columns": [
        {
         "name": "Promotion",
         "rawType": "int64",
         "type": "integer"
        },
        {
         "name": "count",
         "rawType": "int64",
         "type": "integer"
        }
       ],
       "ref": "4553d419-18e7-4966-87f6-71578a57d74e",
       "rows": [
        [
         "0",
         "1097"
        ],
        [
         "1",
         "625"
        ]
       ],
       "shape": {
        "columns": 1,
        "rows": 2
       }
      },
      "text/plain": [
       "Promotion\n",
       "0    1097\n",
       "1     625\n",
       "Name: count, dtype: int64"
      ]
     },
     "execution_count": 75,
     "metadata": {},
     "output_type": "execute_result"
    }
   ],
   "source": [
    "# We check the imbalance of the data set to get further information for potential data augmentation techniques\n",
    "y.value_counts()"
   ]
  },
  {
   "cell_type": "code",
   "execution_count": 76,
   "id": "467eead9",
   "metadata": {},
   "outputs": [
    {
     "name": "stdout",
     "output_type": "stream",
     "text": [
      "Before: Counter({0: 743, 1: 410})\n"
     ]
    }
   ],
   "source": [
    "# We split our Data into test and train Data so we can later train on the train data and measure the performance on the test data\n",
    "X_train, X_test, y_train, y_test = train_test_split(X, y, test_size=0.33, random_state=42)\n",
    "X_train.shape, X_test.shape\n",
    "print(\"Before:\", Counter(y_train))"
   ]
  },
  {
   "cell_type": "markdown",
   "id": "9dbce890",
   "metadata": {},
   "source": [
    "# 3. Split the data with Cross Validation"
   ]
  },
  {
   "cell_type": "markdown",
   "id": "aacb08e4",
   "metadata": {},
   "source": [
    "## 3.2 Gini - With SMOTE"
   ]
  },
  {
   "cell_type": "code",
   "execution_count": 77,
   "id": "00651bba",
   "metadata": {},
   "outputs": [],
   "source": [
    "# We use the best model that we derived before \n",
    "model = DecisionTreeClassifier(max_depth=1, min_samples_leaf=2, random_state=42)"
   ]
  },
  {
   "cell_type": "code",
   "execution_count": 78,
   "id": "744f6b1e",
   "metadata": {},
   "outputs": [
    {
     "name": "stderr",
     "output_type": "stream",
     "text": [
      "/Library/Frameworks/Python.framework/Versions/3.13/lib/python3.13/site-packages/sklearn/utils/extmath.py:203: RuntimeWarning: divide by zero encountered in matmul\n",
      "  ret = a @ b\n",
      "/Library/Frameworks/Python.framework/Versions/3.13/lib/python3.13/site-packages/sklearn/utils/extmath.py:203: RuntimeWarning: overflow encountered in matmul\n",
      "  ret = a @ b\n",
      "/Library/Frameworks/Python.framework/Versions/3.13/lib/python3.13/site-packages/sklearn/utils/extmath.py:203: RuntimeWarning: invalid value encountered in matmul\n",
      "  ret = a @ b\n",
      "/Library/Frameworks/Python.framework/Versions/3.13/lib/python3.13/site-packages/sklearn/cluster/_kmeans.py:237: RuntimeWarning: divide by zero encountered in matmul\n",
      "  current_pot = closest_dist_sq @ sample_weight\n",
      "/Library/Frameworks/Python.framework/Versions/3.13/lib/python3.13/site-packages/sklearn/cluster/_kmeans.py:237: RuntimeWarning: overflow encountered in matmul\n",
      "  current_pot = closest_dist_sq @ sample_weight\n",
      "/Library/Frameworks/Python.framework/Versions/3.13/lib/python3.13/site-packages/sklearn/cluster/_kmeans.py:237: RuntimeWarning: invalid value encountered in matmul\n",
      "  current_pot = closest_dist_sq @ sample_weight\n",
      "/Library/Frameworks/Python.framework/Versions/3.13/lib/python3.13/site-packages/sklearn/utils/extmath.py:203: RuntimeWarning: divide by zero encountered in matmul\n",
      "  ret = a @ b\n",
      "/Library/Frameworks/Python.framework/Versions/3.13/lib/python3.13/site-packages/sklearn/utils/extmath.py:203: RuntimeWarning: overflow encountered in matmul\n",
      "  ret = a @ b\n",
      "/Library/Frameworks/Python.framework/Versions/3.13/lib/python3.13/site-packages/sklearn/utils/extmath.py:203: RuntimeWarning: invalid value encountered in matmul\n",
      "  ret = a @ b\n",
      "/Library/Frameworks/Python.framework/Versions/3.13/lib/python3.13/site-packages/sklearn/cluster/_kmeans.py:237: RuntimeWarning: divide by zero encountered in matmul\n",
      "  current_pot = closest_dist_sq @ sample_weight\n",
      "/Library/Frameworks/Python.framework/Versions/3.13/lib/python3.13/site-packages/sklearn/cluster/_kmeans.py:237: RuntimeWarning: overflow encountered in matmul\n",
      "  current_pot = closest_dist_sq @ sample_weight\n",
      "/Library/Frameworks/Python.framework/Versions/3.13/lib/python3.13/site-packages/sklearn/cluster/_kmeans.py:237: RuntimeWarning: invalid value encountered in matmul\n",
      "  current_pot = closest_dist_sq @ sample_weight\n",
      "/Library/Frameworks/Python.framework/Versions/3.13/lib/python3.13/site-packages/sklearn/utils/extmath.py:203: RuntimeWarning: divide by zero encountered in matmul\n",
      "  ret = a @ b\n",
      "/Library/Frameworks/Python.framework/Versions/3.13/lib/python3.13/site-packages/sklearn/utils/extmath.py:203: RuntimeWarning: overflow encountered in matmul\n",
      "  ret = a @ b\n",
      "/Library/Frameworks/Python.framework/Versions/3.13/lib/python3.13/site-packages/sklearn/utils/extmath.py:203: RuntimeWarning: invalid value encountered in matmul\n",
      "  ret = a @ b\n",
      "/Library/Frameworks/Python.framework/Versions/3.13/lib/python3.13/site-packages/sklearn/cluster/_kmeans.py:237: RuntimeWarning: divide by zero encountered in matmul\n",
      "  current_pot = closest_dist_sq @ sample_weight\n",
      "/Library/Frameworks/Python.framework/Versions/3.13/lib/python3.13/site-packages/sklearn/cluster/_kmeans.py:237: RuntimeWarning: overflow encountered in matmul\n",
      "  current_pot = closest_dist_sq @ sample_weight\n",
      "/Library/Frameworks/Python.framework/Versions/3.13/lib/python3.13/site-packages/sklearn/cluster/_kmeans.py:237: RuntimeWarning: invalid value encountered in matmul\n",
      "  current_pot = closest_dist_sq @ sample_weight\n",
      "/Library/Frameworks/Python.framework/Versions/3.13/lib/python3.13/site-packages/sklearn/utils/extmath.py:203: RuntimeWarning: divide by zero encountered in matmul\n",
      "  ret = a @ b\n",
      "/Library/Frameworks/Python.framework/Versions/3.13/lib/python3.13/site-packages/sklearn/utils/extmath.py:203: RuntimeWarning: overflow encountered in matmul\n",
      "  ret = a @ b\n",
      "/Library/Frameworks/Python.framework/Versions/3.13/lib/python3.13/site-packages/sklearn/utils/extmath.py:203: RuntimeWarning: invalid value encountered in matmul\n",
      "  ret = a @ b\n",
      "/Library/Frameworks/Python.framework/Versions/3.13/lib/python3.13/site-packages/sklearn/cluster/_kmeans.py:237: RuntimeWarning: divide by zero encountered in matmul\n",
      "  current_pot = closest_dist_sq @ sample_weight\n",
      "/Library/Frameworks/Python.framework/Versions/3.13/lib/python3.13/site-packages/sklearn/cluster/_kmeans.py:237: RuntimeWarning: overflow encountered in matmul\n",
      "  current_pot = closest_dist_sq @ sample_weight\n",
      "/Library/Frameworks/Python.framework/Versions/3.13/lib/python3.13/site-packages/sklearn/cluster/_kmeans.py:237: RuntimeWarning: invalid value encountered in matmul\n",
      "  current_pot = closest_dist_sq @ sample_weight\n",
      "/Library/Frameworks/Python.framework/Versions/3.13/lib/python3.13/site-packages/sklearn/utils/extmath.py:203: RuntimeWarning: divide by zero encountered in matmul\n",
      "  ret = a @ b\n",
      "/Library/Frameworks/Python.framework/Versions/3.13/lib/python3.13/site-packages/sklearn/utils/extmath.py:203: RuntimeWarning: overflow encountered in matmul\n",
      "  ret = a @ b\n",
      "/Library/Frameworks/Python.framework/Versions/3.13/lib/python3.13/site-packages/sklearn/utils/extmath.py:203: RuntimeWarning: invalid value encountered in matmul\n",
      "  ret = a @ b\n",
      "/Library/Frameworks/Python.framework/Versions/3.13/lib/python3.13/site-packages/sklearn/cluster/_kmeans.py:237: RuntimeWarning: divide by zero encountered in matmul\n",
      "  current_pot = closest_dist_sq @ sample_weight\n",
      "/Library/Frameworks/Python.framework/Versions/3.13/lib/python3.13/site-packages/sklearn/cluster/_kmeans.py:237: RuntimeWarning: overflow encountered in matmul\n",
      "  current_pot = closest_dist_sq @ sample_weight\n",
      "/Library/Frameworks/Python.framework/Versions/3.13/lib/python3.13/site-packages/sklearn/cluster/_kmeans.py:237: RuntimeWarning: invalid value encountered in matmul\n",
      "  current_pot = closest_dist_sq @ sample_weight\n",
      "/Library/Frameworks/Python.framework/Versions/3.13/lib/python3.13/site-packages/sklearn/utils/extmath.py:203: RuntimeWarning: divide by zero encountered in matmul\n",
      "  ret = a @ b\n",
      "/Library/Frameworks/Python.framework/Versions/3.13/lib/python3.13/site-packages/sklearn/utils/extmath.py:203: RuntimeWarning: overflow encountered in matmul\n",
      "  ret = a @ b\n",
      "/Library/Frameworks/Python.framework/Versions/3.13/lib/python3.13/site-packages/sklearn/utils/extmath.py:203: RuntimeWarning: invalid value encountered in matmul\n",
      "  ret = a @ b\n",
      "/Library/Frameworks/Python.framework/Versions/3.13/lib/python3.13/site-packages/sklearn/cluster/_kmeans.py:237: RuntimeWarning: divide by zero encountered in matmul\n",
      "  current_pot = closest_dist_sq @ sample_weight\n",
      "/Library/Frameworks/Python.framework/Versions/3.13/lib/python3.13/site-packages/sklearn/cluster/_kmeans.py:237: RuntimeWarning: overflow encountered in matmul\n",
      "  current_pot = closest_dist_sq @ sample_weight\n",
      "/Library/Frameworks/Python.framework/Versions/3.13/lib/python3.13/site-packages/sklearn/cluster/_kmeans.py:237: RuntimeWarning: invalid value encountered in matmul\n",
      "  current_pot = closest_dist_sq @ sample_weight\n",
      "/Library/Frameworks/Python.framework/Versions/3.13/lib/python3.13/site-packages/sklearn/utils/extmath.py:203: RuntimeWarning: divide by zero encountered in matmul\n",
      "  ret = a @ b\n",
      "/Library/Frameworks/Python.framework/Versions/3.13/lib/python3.13/site-packages/sklearn/utils/extmath.py:203: RuntimeWarning: overflow encountered in matmul\n",
      "  ret = a @ b\n",
      "/Library/Frameworks/Python.framework/Versions/3.13/lib/python3.13/site-packages/sklearn/utils/extmath.py:203: RuntimeWarning: invalid value encountered in matmul\n",
      "  ret = a @ b\n",
      "/Library/Frameworks/Python.framework/Versions/3.13/lib/python3.13/site-packages/sklearn/cluster/_kmeans.py:237: RuntimeWarning: divide by zero encountered in matmul\n",
      "  current_pot = closest_dist_sq @ sample_weight\n",
      "/Library/Frameworks/Python.framework/Versions/3.13/lib/python3.13/site-packages/sklearn/cluster/_kmeans.py:237: RuntimeWarning: overflow encountered in matmul\n",
      "  current_pot = closest_dist_sq @ sample_weight\n",
      "/Library/Frameworks/Python.framework/Versions/3.13/lib/python3.13/site-packages/sklearn/cluster/_kmeans.py:237: RuntimeWarning: invalid value encountered in matmul\n",
      "  current_pot = closest_dist_sq @ sample_weight\n",
      "/Library/Frameworks/Python.framework/Versions/3.13/lib/python3.13/site-packages/sklearn/utils/extmath.py:203: RuntimeWarning: divide by zero encountered in matmul\n",
      "  ret = a @ b\n",
      "/Library/Frameworks/Python.framework/Versions/3.13/lib/python3.13/site-packages/sklearn/utils/extmath.py:203: RuntimeWarning: overflow encountered in matmul\n",
      "  ret = a @ b\n",
      "/Library/Frameworks/Python.framework/Versions/3.13/lib/python3.13/site-packages/sklearn/utils/extmath.py:203: RuntimeWarning: invalid value encountered in matmul\n",
      "  ret = a @ b\n",
      "/Library/Frameworks/Python.framework/Versions/3.13/lib/python3.13/site-packages/sklearn/cluster/_kmeans.py:237: RuntimeWarning: divide by zero encountered in matmul\n",
      "  current_pot = closest_dist_sq @ sample_weight\n",
      "/Library/Frameworks/Python.framework/Versions/3.13/lib/python3.13/site-packages/sklearn/cluster/_kmeans.py:237: RuntimeWarning: overflow encountered in matmul\n",
      "  current_pot = closest_dist_sq @ sample_weight\n",
      "/Library/Frameworks/Python.framework/Versions/3.13/lib/python3.13/site-packages/sklearn/cluster/_kmeans.py:237: RuntimeWarning: invalid value encountered in matmul\n",
      "  current_pot = closest_dist_sq @ sample_weight\n",
      "/Library/Frameworks/Python.framework/Versions/3.13/lib/python3.13/site-packages/sklearn/utils/extmath.py:203: RuntimeWarning: divide by zero encountered in matmul\n",
      "  ret = a @ b\n",
      "/Library/Frameworks/Python.framework/Versions/3.13/lib/python3.13/site-packages/sklearn/utils/extmath.py:203: RuntimeWarning: overflow encountered in matmul\n",
      "  ret = a @ b\n",
      "/Library/Frameworks/Python.framework/Versions/3.13/lib/python3.13/site-packages/sklearn/utils/extmath.py:203: RuntimeWarning: invalid value encountered in matmul\n",
      "  ret = a @ b\n",
      "/Library/Frameworks/Python.framework/Versions/3.13/lib/python3.13/site-packages/sklearn/cluster/_kmeans.py:237: RuntimeWarning: divide by zero encountered in matmul\n",
      "  current_pot = closest_dist_sq @ sample_weight\n",
      "/Library/Frameworks/Python.framework/Versions/3.13/lib/python3.13/site-packages/sklearn/cluster/_kmeans.py:237: RuntimeWarning: overflow encountered in matmul\n",
      "  current_pot = closest_dist_sq @ sample_weight\n",
      "/Library/Frameworks/Python.framework/Versions/3.13/lib/python3.13/site-packages/sklearn/cluster/_kmeans.py:237: RuntimeWarning: invalid value encountered in matmul\n",
      "  current_pot = closest_dist_sq @ sample_weight\n",
      "/Library/Frameworks/Python.framework/Versions/3.13/lib/python3.13/site-packages/sklearn/utils/extmath.py:203: RuntimeWarning: divide by zero encountered in matmul\n",
      "  ret = a @ b\n",
      "/Library/Frameworks/Python.framework/Versions/3.13/lib/python3.13/site-packages/sklearn/utils/extmath.py:203: RuntimeWarning: overflow encountered in matmul\n",
      "  ret = a @ b\n",
      "/Library/Frameworks/Python.framework/Versions/3.13/lib/python3.13/site-packages/sklearn/utils/extmath.py:203: RuntimeWarning: invalid value encountered in matmul\n",
      "  ret = a @ b\n",
      "/Library/Frameworks/Python.framework/Versions/3.13/lib/python3.13/site-packages/sklearn/cluster/_kmeans.py:237: RuntimeWarning: divide by zero encountered in matmul\n",
      "  current_pot = closest_dist_sq @ sample_weight\n",
      "/Library/Frameworks/Python.framework/Versions/3.13/lib/python3.13/site-packages/sklearn/cluster/_kmeans.py:237: RuntimeWarning: overflow encountered in matmul\n",
      "  current_pot = closest_dist_sq @ sample_weight\n",
      "/Library/Frameworks/Python.framework/Versions/3.13/lib/python3.13/site-packages/sklearn/cluster/_kmeans.py:237: RuntimeWarning: invalid value encountered in matmul\n",
      "  current_pot = closest_dist_sq @ sample_weight\n",
      "/Library/Frameworks/Python.framework/Versions/3.13/lib/python3.13/site-packages/sklearn/utils/extmath.py:203: RuntimeWarning: divide by zero encountered in matmul\n",
      "  ret = a @ b\n",
      "/Library/Frameworks/Python.framework/Versions/3.13/lib/python3.13/site-packages/sklearn/utils/extmath.py:203: RuntimeWarning: overflow encountered in matmul\n",
      "  ret = a @ b\n",
      "/Library/Frameworks/Python.framework/Versions/3.13/lib/python3.13/site-packages/sklearn/utils/extmath.py:203: RuntimeWarning: invalid value encountered in matmul\n",
      "  ret = a @ b\n",
      "/Library/Frameworks/Python.framework/Versions/3.13/lib/python3.13/site-packages/sklearn/cluster/_kmeans.py:237: RuntimeWarning: divide by zero encountered in matmul\n",
      "  current_pot = closest_dist_sq @ sample_weight\n",
      "/Library/Frameworks/Python.framework/Versions/3.13/lib/python3.13/site-packages/sklearn/cluster/_kmeans.py:237: RuntimeWarning: overflow encountered in matmul\n",
      "  current_pot = closest_dist_sq @ sample_weight\n",
      "/Library/Frameworks/Python.framework/Versions/3.13/lib/python3.13/site-packages/sklearn/cluster/_kmeans.py:237: RuntimeWarning: invalid value encountered in matmul\n",
      "  current_pot = closest_dist_sq @ sample_weight\n",
      "/Library/Frameworks/Python.framework/Versions/3.13/lib/python3.13/site-packages/sklearn/utils/extmath.py:203: RuntimeWarning: divide by zero encountered in matmul\n",
      "  ret = a @ b\n",
      "/Library/Frameworks/Python.framework/Versions/3.13/lib/python3.13/site-packages/sklearn/utils/extmath.py:203: RuntimeWarning: overflow encountered in matmul\n",
      "  ret = a @ b\n",
      "/Library/Frameworks/Python.framework/Versions/3.13/lib/python3.13/site-packages/sklearn/utils/extmath.py:203: RuntimeWarning: invalid value encountered in matmul\n",
      "  ret = a @ b\n",
      "/Library/Frameworks/Python.framework/Versions/3.13/lib/python3.13/site-packages/sklearn/cluster/_kmeans.py:237: RuntimeWarning: divide by zero encountered in matmul\n",
      "  current_pot = closest_dist_sq @ sample_weight\n",
      "/Library/Frameworks/Python.framework/Versions/3.13/lib/python3.13/site-packages/sklearn/cluster/_kmeans.py:237: RuntimeWarning: overflow encountered in matmul\n",
      "  current_pot = closest_dist_sq @ sample_weight\n",
      "/Library/Frameworks/Python.framework/Versions/3.13/lib/python3.13/site-packages/sklearn/cluster/_kmeans.py:237: RuntimeWarning: invalid value encountered in matmul\n",
      "  current_pot = closest_dist_sq @ sample_weight\n",
      "/Library/Frameworks/Python.framework/Versions/3.13/lib/python3.13/site-packages/sklearn/utils/extmath.py:203: RuntimeWarning: divide by zero encountered in matmul\n",
      "  ret = a @ b\n",
      "/Library/Frameworks/Python.framework/Versions/3.13/lib/python3.13/site-packages/sklearn/utils/extmath.py:203: RuntimeWarning: overflow encountered in matmul\n",
      "  ret = a @ b\n",
      "/Library/Frameworks/Python.framework/Versions/3.13/lib/python3.13/site-packages/sklearn/utils/extmath.py:203: RuntimeWarning: invalid value encountered in matmul\n",
      "  ret = a @ b\n",
      "/Library/Frameworks/Python.framework/Versions/3.13/lib/python3.13/site-packages/sklearn/cluster/_kmeans.py:237: RuntimeWarning: divide by zero encountered in matmul\n",
      "  current_pot = closest_dist_sq @ sample_weight\n",
      "/Library/Frameworks/Python.framework/Versions/3.13/lib/python3.13/site-packages/sklearn/cluster/_kmeans.py:237: RuntimeWarning: overflow encountered in matmul\n",
      "  current_pot = closest_dist_sq @ sample_weight\n",
      "/Library/Frameworks/Python.framework/Versions/3.13/lib/python3.13/site-packages/sklearn/cluster/_kmeans.py:237: RuntimeWarning: invalid value encountered in matmul\n",
      "  current_pot = closest_dist_sq @ sample_weight\n",
      "/Library/Frameworks/Python.framework/Versions/3.13/lib/python3.13/site-packages/sklearn/utils/extmath.py:203: RuntimeWarning: divide by zero encountered in matmul\n",
      "  ret = a @ b\n",
      "/Library/Frameworks/Python.framework/Versions/3.13/lib/python3.13/site-packages/sklearn/utils/extmath.py:203: RuntimeWarning: overflow encountered in matmul\n",
      "  ret = a @ b\n",
      "/Library/Frameworks/Python.framework/Versions/3.13/lib/python3.13/site-packages/sklearn/utils/extmath.py:203: RuntimeWarning: invalid value encountered in matmul\n",
      "  ret = a @ b\n",
      "/Library/Frameworks/Python.framework/Versions/3.13/lib/python3.13/site-packages/sklearn/cluster/_kmeans.py:237: RuntimeWarning: divide by zero encountered in matmul\n",
      "  current_pot = closest_dist_sq @ sample_weight\n",
      "/Library/Frameworks/Python.framework/Versions/3.13/lib/python3.13/site-packages/sklearn/cluster/_kmeans.py:237: RuntimeWarning: overflow encountered in matmul\n",
      "  current_pot = closest_dist_sq @ sample_weight\n",
      "/Library/Frameworks/Python.framework/Versions/3.13/lib/python3.13/site-packages/sklearn/cluster/_kmeans.py:237: RuntimeWarning: invalid value encountered in matmul\n",
      "  current_pot = closest_dist_sq @ sample_weight\n",
      "/Library/Frameworks/Python.framework/Versions/3.13/lib/python3.13/site-packages/sklearn/utils/extmath.py:203: RuntimeWarning: divide by zero encountered in matmul\n",
      "  ret = a @ b\n",
      "/Library/Frameworks/Python.framework/Versions/3.13/lib/python3.13/site-packages/sklearn/utils/extmath.py:203: RuntimeWarning: overflow encountered in matmul\n",
      "  ret = a @ b\n",
      "/Library/Frameworks/Python.framework/Versions/3.13/lib/python3.13/site-packages/sklearn/utils/extmath.py:203: RuntimeWarning: invalid value encountered in matmul\n",
      "  ret = a @ b\n",
      "/Library/Frameworks/Python.framework/Versions/3.13/lib/python3.13/site-packages/sklearn/cluster/_kmeans.py:237: RuntimeWarning: divide by zero encountered in matmul\n",
      "  current_pot = closest_dist_sq @ sample_weight\n",
      "/Library/Frameworks/Python.framework/Versions/3.13/lib/python3.13/site-packages/sklearn/cluster/_kmeans.py:237: RuntimeWarning: overflow encountered in matmul\n",
      "  current_pot = closest_dist_sq @ sample_weight\n",
      "/Library/Frameworks/Python.framework/Versions/3.13/lib/python3.13/site-packages/sklearn/cluster/_kmeans.py:237: RuntimeWarning: invalid value encountered in matmul\n",
      "  current_pot = closest_dist_sq @ sample_weight\n",
      "/Library/Frameworks/Python.framework/Versions/3.13/lib/python3.13/site-packages/sklearn/utils/extmath.py:203: RuntimeWarning: divide by zero encountered in matmul\n",
      "  ret = a @ b\n",
      "/Library/Frameworks/Python.framework/Versions/3.13/lib/python3.13/site-packages/sklearn/utils/extmath.py:203: RuntimeWarning: overflow encountered in matmul\n",
      "  ret = a @ b\n",
      "/Library/Frameworks/Python.framework/Versions/3.13/lib/python3.13/site-packages/sklearn/utils/extmath.py:203: RuntimeWarning: invalid value encountered in matmul\n",
      "  ret = a @ b\n",
      "/Library/Frameworks/Python.framework/Versions/3.13/lib/python3.13/site-packages/sklearn/cluster/_kmeans.py:237: RuntimeWarning: divide by zero encountered in matmul\n",
      "  current_pot = closest_dist_sq @ sample_weight\n",
      "/Library/Frameworks/Python.framework/Versions/3.13/lib/python3.13/site-packages/sklearn/cluster/_kmeans.py:237: RuntimeWarning: overflow encountered in matmul\n",
      "  current_pot = closest_dist_sq @ sample_weight\n",
      "/Library/Frameworks/Python.framework/Versions/3.13/lib/python3.13/site-packages/sklearn/cluster/_kmeans.py:237: RuntimeWarning: invalid value encountered in matmul\n",
      "  current_pot = closest_dist_sq @ sample_weight\n",
      "/Library/Frameworks/Python.framework/Versions/3.13/lib/python3.13/site-packages/sklearn/utils/extmath.py:203: RuntimeWarning: divide by zero encountered in matmul\n",
      "  ret = a @ b\n",
      "/Library/Frameworks/Python.framework/Versions/3.13/lib/python3.13/site-packages/sklearn/utils/extmath.py:203: RuntimeWarning: overflow encountered in matmul\n",
      "  ret = a @ b\n",
      "/Library/Frameworks/Python.framework/Versions/3.13/lib/python3.13/site-packages/sklearn/utils/extmath.py:203: RuntimeWarning: invalid value encountered in matmul\n",
      "  ret = a @ b\n",
      "/Library/Frameworks/Python.framework/Versions/3.13/lib/python3.13/site-packages/sklearn/cluster/_kmeans.py:237: RuntimeWarning: divide by zero encountered in matmul\n",
      "  current_pot = closest_dist_sq @ sample_weight\n",
      "/Library/Frameworks/Python.framework/Versions/3.13/lib/python3.13/site-packages/sklearn/cluster/_kmeans.py:237: RuntimeWarning: overflow encountered in matmul\n",
      "  current_pot = closest_dist_sq @ sample_weight\n",
      "/Library/Frameworks/Python.framework/Versions/3.13/lib/python3.13/site-packages/sklearn/cluster/_kmeans.py:237: RuntimeWarning: invalid value encountered in matmul\n",
      "  current_pot = closest_dist_sq @ sample_weight\n",
      "/Library/Frameworks/Python.framework/Versions/3.13/lib/python3.13/site-packages/sklearn/utils/extmath.py:203: RuntimeWarning: divide by zero encountered in matmul\n",
      "  ret = a @ b\n",
      "/Library/Frameworks/Python.framework/Versions/3.13/lib/python3.13/site-packages/sklearn/utils/extmath.py:203: RuntimeWarning: overflow encountered in matmul\n",
      "  ret = a @ b\n",
      "/Library/Frameworks/Python.framework/Versions/3.13/lib/python3.13/site-packages/sklearn/utils/extmath.py:203: RuntimeWarning: invalid value encountered in matmul\n",
      "  ret = a @ b\n",
      "/Library/Frameworks/Python.framework/Versions/3.13/lib/python3.13/site-packages/sklearn/cluster/_kmeans.py:237: RuntimeWarning: divide by zero encountered in matmul\n",
      "  current_pot = closest_dist_sq @ sample_weight\n",
      "/Library/Frameworks/Python.framework/Versions/3.13/lib/python3.13/site-packages/sklearn/cluster/_kmeans.py:237: RuntimeWarning: overflow encountered in matmul\n",
      "  current_pot = closest_dist_sq @ sample_weight\n",
      "/Library/Frameworks/Python.framework/Versions/3.13/lib/python3.13/site-packages/sklearn/cluster/_kmeans.py:237: RuntimeWarning: invalid value encountered in matmul\n",
      "  current_pot = closest_dist_sq @ sample_weight\n",
      "/Library/Frameworks/Python.framework/Versions/3.13/lib/python3.13/site-packages/sklearn/utils/extmath.py:203: RuntimeWarning: divide by zero encountered in matmul\n",
      "  ret = a @ b\n",
      "/Library/Frameworks/Python.framework/Versions/3.13/lib/python3.13/site-packages/sklearn/utils/extmath.py:203: RuntimeWarning: overflow encountered in matmul\n",
      "  ret = a @ b\n",
      "/Library/Frameworks/Python.framework/Versions/3.13/lib/python3.13/site-packages/sklearn/utils/extmath.py:203: RuntimeWarning: invalid value encountered in matmul\n",
      "  ret = a @ b\n",
      "/Library/Frameworks/Python.framework/Versions/3.13/lib/python3.13/site-packages/sklearn/utils/extmath.py:203: RuntimeWarning: divide by zero encountered in matmul\n",
      "  ret = a @ b\n",
      "/Library/Frameworks/Python.framework/Versions/3.13/lib/python3.13/site-packages/sklearn/utils/extmath.py:203: RuntimeWarning: overflow encountered in matmul\n",
      "  ret = a @ b\n",
      "/Library/Frameworks/Python.framework/Versions/3.13/lib/python3.13/site-packages/sklearn/utils/extmath.py:203: RuntimeWarning: invalid value encountered in matmul\n",
      "  ret = a @ b\n"
     ]
    },
    {
     "name": "stdout",
     "output_type": "stream",
     "text": [
      "\n",
      "Best accuracy: 0.8946 with variant: SMOTE, SMOTE ratio: 0.65, undersampling ratio: 0.6\n"
     ]
    }
   ],
   "source": [
    "# We will use SMOTE in combination with RandomUndersampling to generate synthetic data points which will adjust the class imbalance and will increase the performance of the model\n",
    "# To get the best SMOTE strategy, best SMOTE ratio of Minority to Majority class and the best Undersampling Ratio, we iterate through all possible combinations with for loops\n",
    "# To calculate the accuracy score, we will use the best parameters that we have derived before\n",
    "# We store the best strategy with the best ratio to use them for further analysis \n",
    "# To always keep the right order of undersampling and SMOTE and prevent data leakage we use a pipeline\n",
    "best_score = 0\n",
    "best_variant = None\n",
    "best_ratio = None\n",
    "best_ratio_under = None\n",
    "\n",
    "# Resampling options\n",
    "smote_variants = {\n",
    "    'SMOTE': SMOTE,\n",
    "    'BorderlineSMOTE': BorderlineSMOTE,\n",
    "    'KMeansSMOTE': KMeansSMOTE,\n",
    "    'SVMSMOTE': SVMSMOTE\n",
    "}\n",
    "\n",
    "smote_ratios = [i / 100 for i in range(35, 101, 5)]\n",
    "undersampling_ratios = [i / 100 for i in range(10, 101, 10)]\n",
    "\n",
    "for smote_name, smote_class in smote_variants.items():\n",
    "    for ratio_under in undersampling_ratios:\n",
    "        for ratio_smote in smote_ratios:\n",
    "            try:\n",
    "                # Create resampling pipeline\n",
    "                resample_pipeline = Pipeline([\n",
    "                    ('undersample', RandomUnderSampler(sampling_strategy=ratio_under, random_state=42)),\n",
    "                    ('oversample', smote_class(sampling_strategy=ratio_smote, random_state=42))\n",
    "                ])\n",
    "                \n",
    "                # Resample the training data\n",
    "                X_resampled, y_resampled = resample_pipeline.fit_resample(X_train, y_train)\n",
    "\n",
    "                # Class check after resampling\n",
    "                class_counts = Counter(y_resampled)\n",
    "                min_class = min(class_counts, key=class_counts.get)\n",
    "                max_class = max(class_counts, key=class_counts.get)\n",
    "                if class_counts[min_class] >= class_counts[max_class]:\n",
    "                    continue  # Skip if oversampling made classes equal or flipped majority\n",
    "\n",
    "                # Train and evaluate model\n",
    "                model.fit(X_resampled, y_resampled)\n",
    "                y_pred = model.predict(X_test)\n",
    "                acc = accuracy_score(y_test, y_pred)\n",
    "\n",
    "                # Track best\n",
    "                if acc > best_score:\n",
    "                    best_score = acc\n",
    "                    best_variant = smote_class\n",
    "                    best_ratio = ratio_smote\n",
    "                    best_ratio_under = ratio_under\n",
    "\n",
    "            except (ValueError, RuntimeError) as e:\n",
    "                if isinstance(e, RuntimeError) and \"No clusters found\" in str(e):\n",
    "                    continue\n",
    "                continue\n",
    "\n",
    "# Print best combination\n",
    "print(f\"\\nBest accuracy: {best_score:.4f} with variant: {best_variant.__name__}, \"\n",
    "      f\"SMOTE ratio: {best_ratio}, undersampling ratio: {best_ratio_under}\")"
   ]
  },
  {
   "cell_type": "code",
   "execution_count": 79,
   "id": "8896d34b",
   "metadata": {},
   "outputs": [
    {
     "name": "stdout",
     "output_type": "stream",
     "text": [
      "After undersampling: Counter({0: 683, 1: 410})\n",
      "After SMOTE: Counter({0: 683, 1: 443})\n"
     ]
    }
   ],
   "source": [
    "# We use the best variant and ratios to resample our training data \n",
    "# Undersample\n",
    "under = RandomUnderSampler(sampling_strategy=best_ratio_under, random_state=42)\n",
    "X_train_under, y_train_under = under.fit_resample(X_train, y_train)\n",
    "print(\"After undersampling:\", Counter(y_train_under))\n",
    "\n",
    "# SMOTE (or the best variant)\n",
    "smote = best_variant(sampling_strategy=best_ratio, random_state=42)\n",
    "X_train_smote, y_train_smote = smote.fit_resample(X_train_under, y_train_under)\n",
    "print(\"After SMOTE:\", Counter(y_train_smote))"
   ]
  },
  {
   "cell_type": "code",
   "execution_count": 80,
   "id": "494b2533",
   "metadata": {},
   "outputs": [
    {
     "name": "stdout",
     "output_type": "stream",
     "text": [
      "0.8945518453427065\n"
     ]
    }
   ],
   "source": [
    "# These are the best possible estimators on which the model should be trained on \n",
    "model.fit(X_train_smote, y_train_smote)\n",
    "y_pred_pruned = model.predict(X_test)\n",
    "accuracy_cv_gini_smote = accuracy_score(y_test, y_pred_pruned)\n",
    "print(accuracy_cv_gini_smote)"
   ]
  },
  {
   "cell_type": "code",
   "execution_count": 81,
   "id": "12a3c894",
   "metadata": {},
   "outputs": [
    {
     "name": "stdout",
     "output_type": "stream",
     "text": [
      "Training Accuracy: 0.9046\n",
      "Test Accuracy: 0.8946\n",
      "Passed the Robustness Check!\n"
     ]
    }
   ],
   "source": [
    "# We want to check wether our model is robust or if it is dependant on the data. The only way to check this for cross validation, is to \n",
    "# evaluate the accuracy based on the train data and compare the results with the accuracy of the test data. If they\n",
    "# deviate less than 5%, the model is independant of the underlying data and thus is robust\n",
    "# Predict on both training and test data\n",
    "y_pred_train = model.predict(X_train)\n",
    "y_pred_test = model.predict(X_test)\n",
    "\n",
    "# Calculate accuracy scores\n",
    "train_accuracy = accuracy_score(y_train, y_pred_train)\n",
    "test_accuracy = accuracy_score(y_test, y_pred_test)\n",
    "\n",
    "# Define a tolerance of ±5% of the test accuracy\n",
    "tolerance = 0.05 * test_accuracy\n",
    "\n",
    "# Print results\n",
    "print(f\"Training Accuracy: {train_accuracy:.4f}\")\n",
    "print(f\"Test Accuracy: {test_accuracy:.4f}\")\n",
    "\n",
    "# Robustness check\n",
    "if abs(train_accuracy - test_accuracy) < tolerance:\n",
    "    print(\"Passed the Robustness Check!\")\n",
    "else:\n",
    "    print(\"Didn't pass the Robustness Check!\")"
   ]
  },
  {
   "cell_type": "code",
   "execution_count": 82,
   "id": "8639eae6",
   "metadata": {},
   "outputs": [
    {
     "data": {
      "text/plain": [
       "[Text(0.5, 0.75, 'Discount <= 11.0\\ngini = 0.477\\nsamples = 1126\\nvalue = [683, 443]\\nclass = No Promotion'),\n",
       " Text(0.25, 0.25, 'gini = 0.245\\nsamples = 797\\nvalue = [683.0, 114.0]\\nclass = No Promotion'),\n",
       " Text(0.375, 0.5, 'True  '),\n",
       " Text(0.75, 0.25, 'gini = 0.0\\nsamples = 329\\nvalue = [0, 329]\\nclass = Promotion'),\n",
       " Text(0.625, 0.5, '  False')]"
      ]
     },
     "execution_count": 82,
     "metadata": {},
     "output_type": "execute_result"
    },
    {
     "data": {
      "image/png": "[encoded data removed]",
      "text/plain": [
       "<Figure size 2000x400 with 1 Axes>"
      ]
     },
     "metadata": {},
     "output_type": "display_data"
    }
   ],
   "source": [
    "# We plot the pruned tree\n",
    "feature_names = X_train.columns\n",
    "plt.figure(figsize=(20, 4))\n",
    "tree.plot_tree(model, feature_names=feature_names, class_names=['No Promotion', 'Promotion'])"
   ]
  },
  {
   "cell_type": "code",
   "execution_count": 83,
   "id": "118914c3",
   "metadata": {},
   "outputs": [
    {
     "name": "stdout",
     "output_type": "stream",
     "text": [
      "|--- Discount <= 11.00\n",
      "|   |--- class: 0\n",
      "|--- Discount >  11.00\n",
      "|   |--- class: 1\n",
      "\n"
     ]
    }
   ],
   "source": [
    "# We can also get our rules in textual format\n",
    "feature_names = X_train.columns\n",
    "text_representation = tree.export_text(model, feature_names=feature_names)\n",
    "print(text_representation)"
   ]
  },
  {
   "cell_type": "code",
   "execution_count": 84,
   "id": "c94ed1e4",
   "metadata": {},
   "outputs": [
    {
     "data": {
      "text/plain": [
       "Text(0.5, 1.0, 'Confusion Matrix')"
      ]
     },
     "execution_count": 84,
     "metadata": {},
     "output_type": "execute_result"
    },
    {
     "data": {
      "image/png": "[encoded data removed]",
      "text/plain": [
       "<Figure size 500x500 with 2 Axes>"
      ]
     },
     "metadata": {},
     "output_type": "display_data"
    }
   ],
   "source": [
    "# We use the confusion matrix to visualize the performance of our classifier.\n",
    "# It helps us understand how well the model distinguishes between the classes,\n",
    "# showing the number of correct and incorrect predictions for each class.\n",
    "confusion_matrix = metrics.confusion_matrix(y_test, y_pred_pruned)\n",
    "plt.figure(figsize=(5,5))\n",
    "sns.heatmap(confusion_matrix, annot=True, fmt=\".3f\", linewidths=.5, square=True, cmap=\"Blues_r\")\n",
    "plt.ylabel('Actual Label')\n",
    "plt.xlabel('Predicted Label')\n",
    "plt.title('Confusion Matrix', size = 10)"
   ]
  },
  {
   "cell_type": "code",
   "execution_count": 85,
   "id": "6ef36f4b",
   "metadata": {},
   "outputs": [
    {
     "name": "stdout",
     "output_type": "stream",
     "text": [
      "              precision    recall  f1-score   support\n",
      "\n",
      "           0       0.86      1.00      0.92       354\n",
      "           1       1.00      0.72      0.84       215\n",
      "\n",
      "    accuracy                           0.89       569\n",
      "   macro avg       0.93      0.86      0.88       569\n",
      "weighted avg       0.91      0.89      0.89       569\n",
      "\n"
     ]
    }
   ],
   "source": [
    "# We analyze the classification report to get further insights in the performance of our model\n",
    "print(classification_report(y_test, y_pred_pruned))"
   ]
  }
 ],
 "metadata": {
  "kernelspec": {
   "display_name": "Python 3",
   "language": "python",
   "name": "python3"
  },
  "language_info": {
   "codemirror_mode": {
    "name": "ipython",
    "version": 3
   },
   "file_extension": ".py",
   "mimetype": "text/x-python",
   "name": "python",
   "nbconvert_exporter": "python",
   "pygments_lexer": "ipython3",
   "version": "3.13.4"
  }
 },
 "nbformat": 4,
 "nbformat_minor": 5
}
