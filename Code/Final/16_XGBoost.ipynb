{
 "cells": [
  {
   "cell_type": "markdown",
   "id": "7271e688",
   "metadata": {},
   "source": [
    "## 00. Import libraries and load data"
   ]
  },
  {
   "cell_type": "markdown",
   "id": "dcb1d187",
   "metadata": {},
   "source": [
    "Note: This Jupyter Notebook was created as part of the group work. Each member has contributed similarly to the result."
   ]
  },
  {
   "cell_type": "code",
   "execution_count": 1,
   "id": "3c265002",
   "metadata": {},
   "outputs": [],
   "source": [
    "# First we import all neccessary libraries and give some of them an alias for easy access\n",
    "import numpy as np\n",
    "import pandas as pd\n",
    "import matplotlib.pyplot as plt\n",
    "import seaborn as sns\n",
    "%matplotlib inline\n",
    "from sklearn.model_selection import train_test_split\n",
    "from sklearn.tree import DecisionTreeClassifier\n",
    "from sklearn.metrics import accuracy_score\n",
    "from sklearn import tree\n",
    "from sklearn import metrics\n",
    "from sklearn.metrics import classification_report\n",
    "from sklearn.model_selection import StratifiedKFold, cross_val_score\n",
    "from sklearn.model_selection import GridSearchCV\n",
    "from sklearn.model_selection import RandomizedSearchCV\n",
    "from imblearn.over_sampling import SMOTE\n",
    "from imblearn.over_sampling import BorderlineSMOTE\n",
    "from imblearn.over_sampling import KMeansSMOTE\n",
    "from imblearn.over_sampling import SVMSMOTE\n",
    "from sklearn.base import clone\n",
    "from imblearn.under_sampling import RandomUnderSampler\n",
    "from collections import Counter\n",
    "from xgboost import XGBClassifier\n",
    "from sklearn.metrics import accuracy_score, classification_report, confusion_matrix"
   ]
  },
  {
   "cell_type": "markdown",
   "id": "f27c646e",
   "metadata": {},
   "source": [
    "## 1. Read in the data"
   ]
  },
  {
   "cell_type": "code",
   "execution_count": 2,
   "id": "9761c627",
   "metadata": {},
   "outputs": [
    {
     "data": {
      "text/plain": [
       "(1722, 10)"
      ]
     },
     "execution_count": 2,
     "metadata": {},
     "output_type": "execute_result"
    }
   ],
   "source": [
    "# Read in the data so every group member can run the notebook on his machine\n",
    "# (our repo is on github, we therefore have the same file structure)\n",
    "df = pd.read_csv(\"./Data/Transformed/inventory_management_cleaned_transformed_unscaled.csv\")\n",
    "df.shape # Get a first idea about the number of rows and columns of the dataset"
   ]
  },
  {
   "cell_type": "code",
   "execution_count": 3,
   "id": "0ee0a0ea",
   "metadata": {},
   "outputs": [
    {
     "data": {
      "application/vnd.microsoft.datawrangler.viewer.v0+json": {
       "columns": [
        {
         "name": "index",
         "rawType": "int64",
         "type": "integer"
        },
        {
         "name": "Category",
         "rawType": "int64",
         "type": "integer"
        },
        {
         "name": "Region",
         "rawType": "int64",
         "type": "integer"
        },
        {
         "name": "Inventory Level",
         "rawType": "int64",
         "type": "integer"
        },
        {
         "name": "Price",
         "rawType": "float64",
         "type": "float"
        },
        {
         "name": "Discount",
         "rawType": "int64",
         "type": "integer"
        },
        {
         "name": "Weather Condition",
         "rawType": "int64",
         "type": "integer"
        },
        {
         "name": "Promotion",
         "rawType": "int64",
         "type": "integer"
        },
        {
         "name": "Demand",
         "rawType": "int64",
         "type": "integer"
        },
        {
         "name": "Product_UID",
         "rawType": "object",
         "type": "string"
        },
        {
         "name": "Weekday",
         "rawType": "int64",
         "type": "integer"
        }
       ],
       "ref": "5e6b2a61-3177-4cb2-9cd6-7ab7dbb45d74",
       "rows": [
        [
         "0",
         "1",
         "1",
         "195",
         "72.72",
         "5",
         "1",
         "0",
         "115",
         "S001_P0001",
         "2"
        ],
        [
         "1",
         "0",
         "1",
         "117",
         "80.16",
         "15",
         "1",
         "1",
         "229",
         "S001_P0002",
         "2"
        ],
        [
         "2",
         "0",
         "1",
         "247",
         "62.94",
         "10",
         "1",
         "1",
         "157",
         "S001_P0003",
         "2"
        ],
        [
         "3",
         "1",
         "1",
         "139",
         "87.63",
         "10",
         "1",
         "0",
         "52",
         "S001_P0004",
         "2"
        ],
        [
         "4",
         "3",
         "1",
         "152",
         "54.41",
         "0",
         "1",
         "0",
         "59",
         "S001_P0005",
         "2"
        ]
       ],
       "shape": {
        "columns": 10,
        "rows": 5
       }
      },
      "text/html": [
       "<div>\n",
       "<style scoped>\n",
       "    .dataframe tbody tr th:only-of-type {\n",
       "        vertical-align: middle;\n",
       "    }\n",
       "\n",
       "    .dataframe tbody tr th {\n",
       "        vertical-align: top;\n",
       "    }\n",
       "\n",
       "    .dataframe thead th {\n",
       "        text-align: right;\n",
       "    }\n",
       "</style>\n",
       "<table border=\"1\" class=\"dataframe\">\n",
       "  <thead>\n",
       "    <tr style=\"text-align: right;\">\n",
       "      <th></th>\n",
       "      <th>Category</th>\n",
       "      <th>Region</th>\n",
       "      <th>Inventory Level</th>\n",
       "      <th>Price</th>\n",
       "      <th>Discount</th>\n",
       "      <th>Weather Condition</th>\n",
       "      <th>Promotion</th>\n",
       "      <th>Demand</th>\n",
       "      <th>Product_UID</th>\n",
       "      <th>Weekday</th>\n",
       "    </tr>\n",
       "  </thead>\n",
       "  <tbody>\n",
       "    <tr>\n",
       "      <th>0</th>\n",
       "      <td>1</td>\n",
       "      <td>1</td>\n",
       "      <td>195</td>\n",
       "      <td>72.72</td>\n",
       "      <td>5</td>\n",
       "      <td>1</td>\n",
       "      <td>0</td>\n",
       "      <td>115</td>\n",
       "      <td>S001_P0001</td>\n",
       "      <td>2</td>\n",
       "    </tr>\n",
       "    <tr>\n",
       "      <th>1</th>\n",
       "      <td>0</td>\n",
       "      <td>1</td>\n",
       "      <td>117</td>\n",
       "      <td>80.16</td>\n",
       "      <td>15</td>\n",
       "      <td>1</td>\n",
       "      <td>1</td>\n",
       "      <td>229</td>\n",
       "      <td>S001_P0002</td>\n",
       "      <td>2</td>\n",
       "    </tr>\n",
       "    <tr>\n",
       "      <th>2</th>\n",
       "      <td>0</td>\n",
       "      <td>1</td>\n",
       "      <td>247</td>\n",
       "      <td>62.94</td>\n",
       "      <td>10</td>\n",
       "      <td>1</td>\n",
       "      <td>1</td>\n",
       "      <td>157</td>\n",
       "      <td>S001_P0003</td>\n",
       "      <td>2</td>\n",
       "    </tr>\n",
       "    <tr>\n",
       "      <th>3</th>\n",
       "      <td>1</td>\n",
       "      <td>1</td>\n",
       "      <td>139</td>\n",
       "      <td>87.63</td>\n",
       "      <td>10</td>\n",
       "      <td>1</td>\n",
       "      <td>0</td>\n",
       "      <td>52</td>\n",
       "      <td>S001_P0004</td>\n",
       "      <td>2</td>\n",
       "    </tr>\n",
       "    <tr>\n",
       "      <th>4</th>\n",
       "      <td>3</td>\n",
       "      <td>1</td>\n",
       "      <td>152</td>\n",
       "      <td>54.41</td>\n",
       "      <td>0</td>\n",
       "      <td>1</td>\n",
       "      <td>0</td>\n",
       "      <td>59</td>\n",
       "      <td>S001_P0005</td>\n",
       "      <td>2</td>\n",
       "    </tr>\n",
       "  </tbody>\n",
       "</table>\n",
       "</div>"
      ],
      "text/plain": [
       "   Category  Region  Inventory Level  Price  Discount  Weather Condition  \\\n",
       "0         1       1              195  72.72         5                  1   \n",
       "1         0       1              117  80.16        15                  1   \n",
       "2         0       1              247  62.94        10                  1   \n",
       "3         1       1              139  87.63        10                  1   \n",
       "4         3       1              152  54.41         0                  1   \n",
       "\n",
       "   Promotion  Demand Product_UID  Weekday  \n",
       "0          0     115  S001_P0001        2  \n",
       "1          1     229  S001_P0002        2  \n",
       "2          1     157  S001_P0003        2  \n",
       "3          0      52  S001_P0004        2  \n",
       "4          0      59  S001_P0005        2  "
      ]
     },
     "execution_count": 3,
     "metadata": {},
     "output_type": "execute_result"
    }
   ],
   "source": [
    "# Check the data\n",
    "df.head()"
   ]
  },
  {
   "cell_type": "code",
   "execution_count": 4,
   "id": "c6592b06",
   "metadata": {},
   "outputs": [],
   "source": [
    "# We define that y equals the attribute we want to predict and X equals all the other attributes to predict y \n",
    "y = df[\"Promotion\"]\n",
    "X = df.loc[:, ~df.columns.isin(['Promotion', 'Product_UID'])]"
   ]
  },
  {
   "cell_type": "code",
   "execution_count": 5,
   "id": "0ec92458",
   "metadata": {},
   "outputs": [
    {
     "data": {
      "application/vnd.microsoft.datawrangler.viewer.v0+json": {
       "columns": [
        {
         "name": "index",
         "rawType": "int64",
         "type": "integer"
        },
        {
         "name": "Promotion",
         "rawType": "int64",
         "type": "integer"
        }
       ],
       "ref": "c9e33327-a38f-4d63-8418-18c1d3a2ba05",
       "rows": [
        [
         "0",
         "0"
        ],
        [
         "1",
         "1"
        ],
        [
         "2",
         "1"
        ],
        [
         "3",
         "0"
        ],
        [
         "4",
         "0"
        ],
        [
         "5",
         "0"
        ],
        [
         "6",
         "0"
        ],
        [
         "7",
         "0"
        ],
        [
         "8",
         "0"
        ],
        [
         "9",
         "0"
        ],
        [
         "10",
         "0"
        ],
        [
         "11",
         "0"
        ],
        [
         "12",
         "0"
        ],
        [
         "13",
         "1"
        ],
        [
         "14",
         "0"
        ],
        [
         "15",
         "0"
        ],
        [
         "16",
         "0"
        ],
        [
         "17",
         "0"
        ],
        [
         "18",
         "0"
        ],
        [
         "19",
         "0"
        ],
        [
         "20",
         "0"
        ],
        [
         "21",
         "1"
        ],
        [
         "22",
         "1"
        ],
        [
         "23",
         "0"
        ],
        [
         "24",
         "0"
        ],
        [
         "25",
         "0"
        ],
        [
         "26",
         "0"
        ],
        [
         "27",
         "0"
        ],
        [
         "28",
         "0"
        ],
        [
         "29",
         "0"
        ],
        [
         "30",
         "0"
        ],
        [
         "31",
         "0"
        ],
        [
         "32",
         "0"
        ],
        [
         "33",
         "1"
        ],
        [
         "34",
         "0"
        ],
        [
         "35",
         "0"
        ],
        [
         "36",
         "0"
        ],
        [
         "37",
         "0"
        ],
        [
         "38",
         "0"
        ],
        [
         "39",
         "0"
        ],
        [
         "40",
         "0"
        ],
        [
         "41",
         "1"
        ],
        [
         "42",
         "1"
        ],
        [
         "43",
         "0"
        ],
        [
         "44",
         "0"
        ],
        [
         "45",
         "0"
        ],
        [
         "46",
         "0"
        ],
        [
         "47",
         "0"
        ],
        [
         "48",
         "0"
        ],
        [
         "49",
         "0"
        ]
       ],
       "shape": {
        "columns": 1,
        "rows": 1722
       }
      },
      "text/plain": [
       "0       0\n",
       "1       1\n",
       "2       1\n",
       "3       0\n",
       "4       0\n",
       "       ..\n",
       "1717    0\n",
       "1718    1\n",
       "1719    0\n",
       "1720    0\n",
       "1721    1\n",
       "Name: Promotion, Length: 1722, dtype: int64"
      ]
     },
     "execution_count": 5,
     "metadata": {},
     "output_type": "execute_result"
    }
   ],
   "source": [
    "# We check if y equals the attribute we want to predict (promotion)\n",
    "y"
   ]
  },
  {
   "cell_type": "code",
   "execution_count": 6,
   "id": "f71ff848",
   "metadata": {},
   "outputs": [
    {
     "data": {
      "application/vnd.microsoft.datawrangler.viewer.v0+json": {
       "columns": [
        {
         "name": "index",
         "rawType": "int64",
         "type": "integer"
        },
        {
         "name": "Category",
         "rawType": "int64",
         "type": "integer"
        },
        {
         "name": "Region",
         "rawType": "int64",
         "type": "integer"
        },
        {
         "name": "Inventory Level",
         "rawType": "int64",
         "type": "integer"
        },
        {
         "name": "Price",
         "rawType": "float64",
         "type": "float"
        },
        {
         "name": "Discount",
         "rawType": "int64",
         "type": "integer"
        },
        {
         "name": "Weather Condition",
         "rawType": "int64",
         "type": "integer"
        },
        {
         "name": "Demand",
         "rawType": "int64",
         "type": "integer"
        },
        {
         "name": "Weekday",
         "rawType": "int64",
         "type": "integer"
        }
       ],
       "ref": "d47b70d6-e083-4b70-ad3d-ad611bda1c8d",
       "rows": [
        [
         "0",
         "1",
         "1",
         "195",
         "72.72",
         "5",
         "1",
         "115",
         "2"
        ],
        [
         "1",
         "0",
         "1",
         "117",
         "80.16",
         "15",
         "1",
         "229",
         "2"
        ],
        [
         "2",
         "0",
         "1",
         "247",
         "62.94",
         "10",
         "1",
         "157",
         "2"
        ],
        [
         "3",
         "1",
         "1",
         "139",
         "87.63",
         "10",
         "1",
         "52",
         "2"
        ],
        [
         "4",
         "3",
         "1",
         "152",
         "54.41",
         "0",
         "1",
         "59",
         "2"
        ],
        [
         "5",
         "4",
         "1",
         "209",
         "35.53",
         "0",
         "1",
         "55",
         "2"
        ],
        [
         "6",
         "3",
         "1",
         "118",
         "23.27",
         "5",
         "1",
         "94",
         "2"
        ],
        [
         "7",
         "1",
         "1",
         "244",
         "37.79",
         "5",
         "1",
         "61",
         "2"
        ],
        [
         "8",
         "0",
         "1",
         "115",
         "94.2",
         "5",
         "1",
         "129",
         "2"
        ],
        [
         "9",
         "2",
         "1",
         "192",
         "113.35",
         "10",
         "1",
         "69",
         "2"
        ],
        [
         "10",
         "2",
         "1",
         "215",
         "156.34",
         "0",
         "1",
         "64",
         "2"
        ],
        [
         "11",
         "3",
         "1",
         "289",
         "84.48",
         "0",
         "1",
         "104",
         "2"
        ],
        [
         "12",
         "4",
         "1",
         "279",
         "33.1",
         "5",
         "1",
         "110",
         "2"
        ],
        [
         "13",
         "3",
         "1",
         "252",
         "80.13",
         "10",
         "1",
         "165",
         "2"
        ],
        [
         "14",
         "4",
         "1",
         "119",
         "14.39",
         "5",
         "1",
         "64",
         "2"
        ],
        [
         "15",
         "3",
         "1",
         "103",
         "38.79",
         "10",
         "1",
         "115",
         "2"
        ],
        [
         "16",
         "4",
         "1",
         "128",
         "21.21",
         "0",
         "1",
         "75",
         "2"
        ],
        [
         "17",
         "3",
         "1",
         "281",
         "54.4",
         "5",
         "1",
         "66",
         "2"
        ],
        [
         "18",
         "2",
         "1",
         "281",
         "95.56",
         "10",
         "1",
         "58",
         "2"
        ],
        [
         "19",
         "2",
         "1",
         "266",
         "100.47",
         "5",
         "1",
         "43",
         "2"
        ],
        [
         "20",
         "3",
         "2",
         "102",
         "90.89",
         "0",
         "0",
         "118",
         "2"
        ],
        [
         "21",
         "4",
         "2",
         "193",
         "25.68",
         "25",
         "0",
         "105",
         "2"
        ],
        [
         "22",
         "3",
         "2",
         "187",
         "95.17",
         "10",
         "0",
         "171",
         "2"
        ],
        [
         "23",
         "3",
         "2",
         "160",
         "39.54",
         "10",
         "0",
         "110",
         "2"
        ],
        [
         "24",
         "1",
         "2",
         "155",
         "92.35",
         "0",
         "0",
         "94",
         "2"
        ],
        [
         "25",
         "0",
         "2",
         "198",
         "64.0",
         "5",
         "0",
         "88",
         "2"
        ],
        [
         "26",
         "4",
         "2",
         "233",
         "25.47",
         "10",
         "0",
         "93",
         "2"
        ],
        [
         "27",
         "3",
         "2",
         "124",
         "25.63",
         "5",
         "0",
         "112",
         "2"
        ],
        [
         "28",
         "3",
         "2",
         "131",
         "64.84",
         "10",
         "0",
         "145",
         "2"
        ],
        [
         "29",
         "3",
         "2",
         "242",
         "117.17",
         "5",
         "0",
         "195",
         "2"
        ],
        [
         "30",
         "3",
         "2",
         "206",
         "84.71",
         "10",
         "0",
         "79",
         "2"
        ],
        [
         "31",
         "1",
         "2",
         "197",
         "78.86",
         "0",
         "0",
         "122",
         "2"
        ],
        [
         "32",
         "3",
         "2",
         "152",
         "21.76",
         "10",
         "0",
         "109",
         "2"
        ],
        [
         "33",
         "1",
         "2",
         "153",
         "100.18",
         "10",
         "0",
         "63",
         "2"
        ],
        [
         "34",
         "0",
         "2",
         "106",
         "65.19",
         "10",
         "0",
         "96",
         "2"
        ],
        [
         "35",
         "0",
         "2",
         "113",
         "111.87",
         "5",
         "0",
         "194",
         "2"
        ],
        [
         "36",
         "4",
         "2",
         "153",
         "18.89",
         "5",
         "0",
         "65",
         "2"
        ],
        [
         "37",
         "0",
         "2",
         "126",
         "27.67",
         "0",
         "0",
         "79",
         "2"
        ],
        [
         "38",
         "0",
         "2",
         "164",
         "83.09",
         "10",
         "0",
         "96",
         "2"
        ],
        [
         "39",
         "2",
         "2",
         "126",
         "125.8",
         "0",
         "0",
         "53",
         "2"
        ],
        [
         "40",
         "4",
         "0",
         "182",
         "16.85",
         "10",
         "2",
         "112",
         "2"
        ],
        [
         "41",
         "3",
         "0",
         "290",
         "50.42",
         "10",
         "2",
         "82",
         "2"
        ],
        [
         "42",
         "1",
         "0",
         "122",
         "83.17",
         "20",
         "2",
         "126",
         "2"
        ],
        [
         "43",
         "3",
         "0",
         "203",
         "26.29",
         "5",
         "2",
         "158",
         "2"
        ],
        [
         "44",
         "4",
         "0",
         "253",
         "19.8",
         "5",
         "2",
         "57",
         "2"
        ],
        [
         "45",
         "4",
         "0",
         "227",
         "44.64",
         "0",
         "2",
         "136",
         "2"
        ],
        [
         "46",
         "3",
         "0",
         "247",
         "18.65",
         "0",
         "2",
         "142",
         "2"
        ],
        [
         "47",
         "0",
         "0",
         "297",
         "113.01",
         "0",
         "2",
         "89",
         "2"
        ],
        [
         "48",
         "3",
         "0",
         "226",
         "56.32",
         "5",
         "2",
         "126",
         "2"
        ],
        [
         "49",
         "3",
         "0",
         "167",
         "36.21",
         "10",
         "2",
         "106",
         "2"
        ]
       ],
       "shape": {
        "columns": 8,
        "rows": 1722
       }
      },
      "text/html": [
       "<div>\n",
       "<style scoped>\n",
       "    .dataframe tbody tr th:only-of-type {\n",
       "        vertical-align: middle;\n",
       "    }\n",
       "\n",
       "    .dataframe tbody tr th {\n",
       "        vertical-align: top;\n",
       "    }\n",
       "\n",
       "    .dataframe thead th {\n",
       "        text-align: right;\n",
       "    }\n",
       "</style>\n",
       "<table border=\"1\" class=\"dataframe\">\n",
       "  <thead>\n",
       "    <tr style=\"text-align: right;\">\n",
       "      <th></th>\n",
       "      <th>Category</th>\n",
       "      <th>Region</th>\n",
       "      <th>Inventory Level</th>\n",
       "      <th>Price</th>\n",
       "      <th>Discount</th>\n",
       "      <th>Weather Condition</th>\n",
       "      <th>Demand</th>\n",
       "      <th>Weekday</th>\n",
       "    </tr>\n",
       "  </thead>\n",
       "  <tbody>\n",
       "    <tr>\n",
       "      <th>0</th>\n",
       "      <td>1</td>\n",
       "      <td>1</td>\n",
       "      <td>195</td>\n",
       "      <td>72.72</td>\n",
       "      <td>5</td>\n",
       "      <td>1</td>\n",
       "      <td>115</td>\n",
       "      <td>2</td>\n",
       "    </tr>\n",
       "    <tr>\n",
       "      <th>1</th>\n",
       "      <td>0</td>\n",
       "      <td>1</td>\n",
       "      <td>117</td>\n",
       "      <td>80.16</td>\n",
       "      <td>15</td>\n",
       "      <td>1</td>\n",
       "      <td>229</td>\n",
       "      <td>2</td>\n",
       "    </tr>\n",
       "    <tr>\n",
       "      <th>2</th>\n",
       "      <td>0</td>\n",
       "      <td>1</td>\n",
       "      <td>247</td>\n",
       "      <td>62.94</td>\n",
       "      <td>10</td>\n",
       "      <td>1</td>\n",
       "      <td>157</td>\n",
       "      <td>2</td>\n",
       "    </tr>\n",
       "    <tr>\n",
       "      <th>3</th>\n",
       "      <td>1</td>\n",
       "      <td>1</td>\n",
       "      <td>139</td>\n",
       "      <td>87.63</td>\n",
       "      <td>10</td>\n",
       "      <td>1</td>\n",
       "      <td>52</td>\n",
       "      <td>2</td>\n",
       "    </tr>\n",
       "    <tr>\n",
       "      <th>4</th>\n",
       "      <td>3</td>\n",
       "      <td>1</td>\n",
       "      <td>152</td>\n",
       "      <td>54.41</td>\n",
       "      <td>0</td>\n",
       "      <td>1</td>\n",
       "      <td>59</td>\n",
       "      <td>2</td>\n",
       "    </tr>\n",
       "    <tr>\n",
       "      <th>...</th>\n",
       "      <td>...</td>\n",
       "      <td>...</td>\n",
       "      <td>...</td>\n",
       "      <td>...</td>\n",
       "      <td>...</td>\n",
       "      <td>...</td>\n",
       "      <td>...</td>\n",
       "      <td>...</td>\n",
       "    </tr>\n",
       "    <tr>\n",
       "      <th>1717</th>\n",
       "      <td>3</td>\n",
       "      <td>1</td>\n",
       "      <td>129</td>\n",
       "      <td>62.83</td>\n",
       "      <td>10</td>\n",
       "      <td>0</td>\n",
       "      <td>143</td>\n",
       "      <td>5</td>\n",
       "    </tr>\n",
       "    <tr>\n",
       "      <th>1718</th>\n",
       "      <td>2</td>\n",
       "      <td>1</td>\n",
       "      <td>104</td>\n",
       "      <td>98.97</td>\n",
       "      <td>10</td>\n",
       "      <td>0</td>\n",
       "      <td>54</td>\n",
       "      <td>5</td>\n",
       "    </tr>\n",
       "    <tr>\n",
       "      <th>1719</th>\n",
       "      <td>2</td>\n",
       "      <td>1</td>\n",
       "      <td>494</td>\n",
       "      <td>111.25</td>\n",
       "      <td>10</td>\n",
       "      <td>0</td>\n",
       "      <td>70</td>\n",
       "      <td>5</td>\n",
       "    </tr>\n",
       "    <tr>\n",
       "      <th>1720</th>\n",
       "      <td>3</td>\n",
       "      <td>2</td>\n",
       "      <td>625</td>\n",
       "      <td>69.62</td>\n",
       "      <td>5</td>\n",
       "      <td>1</td>\n",
       "      <td>69</td>\n",
       "      <td>5</td>\n",
       "    </tr>\n",
       "    <tr>\n",
       "      <th>1721</th>\n",
       "      <td>4</td>\n",
       "      <td>2</td>\n",
       "      <td>334</td>\n",
       "      <td>27.53</td>\n",
       "      <td>10</td>\n",
       "      <td>1</td>\n",
       "      <td>72</td>\n",
       "      <td>5</td>\n",
       "    </tr>\n",
       "  </tbody>\n",
       "</table>\n",
       "<p>1722 rows × 8 columns</p>\n",
       "</div>"
      ],
      "text/plain": [
       "      Category  Region  Inventory Level   Price  Discount  Weather Condition  \\\n",
       "0            1       1              195   72.72         5                  1   \n",
       "1            0       1              117   80.16        15                  1   \n",
       "2            0       1              247   62.94        10                  1   \n",
       "3            1       1              139   87.63        10                  1   \n",
       "4            3       1              152   54.41         0                  1   \n",
       "...        ...     ...              ...     ...       ...                ...   \n",
       "1717         3       1              129   62.83        10                  0   \n",
       "1718         2       1              104   98.97        10                  0   \n",
       "1719         2       1              494  111.25        10                  0   \n",
       "1720         3       2              625   69.62         5                  1   \n",
       "1721         4       2              334   27.53        10                  1   \n",
       "\n",
       "      Demand  Weekday  \n",
       "0        115        2  \n",
       "1        229        2  \n",
       "2        157        2  \n",
       "3         52        2  \n",
       "4         59        2  \n",
       "...      ...      ...  \n",
       "1717     143        5  \n",
       "1718      54        5  \n",
       "1719      70        5  \n",
       "1720      69        5  \n",
       "1721      72        5  \n",
       "\n",
       "[1722 rows x 8 columns]"
      ]
     },
     "execution_count": 6,
     "metadata": {},
     "output_type": "execute_result"
    }
   ],
   "source": [
    "# We check if X equals all other attributes than promotion to predict this attribute \n",
    "X"
   ]
  },
  {
   "cell_type": "markdown",
   "id": "ce447250",
   "metadata": {},
   "source": [
    "# 2. Split the data with Split Validation"
   ]
  },
  {
   "cell_type": "code",
   "execution_count": 7,
   "id": "bcddfe94",
   "metadata": {},
   "outputs": [
    {
     "data": {
      "application/vnd.microsoft.datawrangler.viewer.v0+json": {
       "columns": [
        {
         "name": "Promotion",
         "rawType": "int64",
         "type": "integer"
        },
        {
         "name": "count",
         "rawType": "int64",
         "type": "integer"
        }
       ],
       "ref": "f99a7013-447e-4b50-888f-d6de0185c53a",
       "rows": [
        [
         "0",
         "1097"
        ],
        [
         "1",
         "625"
        ]
       ],
       "shape": {
        "columns": 1,
        "rows": 2
       }
      },
      "text/plain": [
       "Promotion\n",
       "0    1097\n",
       "1     625\n",
       "Name: count, dtype: int64"
      ]
     },
     "execution_count": 7,
     "metadata": {},
     "output_type": "execute_result"
    }
   ],
   "source": [
    "# We check the imbalance of the data set to get further information for potential data augmentation techniques\n",
    "y.value_counts()"
   ]
  },
  {
   "cell_type": "code",
   "execution_count": 8,
   "id": "d0c3e4dd",
   "metadata": {},
   "outputs": [
    {
     "name": "stdout",
     "output_type": "stream",
     "text": [
      "Before: Counter({0: 743, 1: 410})\n"
     ]
    }
   ],
   "source": [
    "# We split our Data into test and train Data so we can later train on the train data and measure the performance on the test data\n",
    "X_train, X_test, y_train, y_test = train_test_split(X, y, test_size=0.33, random_state=42)\n",
    "X_train.shape, X_test.shape\n",
    "print(\"Before:\", Counter(y_train))"
   ]
  },
  {
   "cell_type": "markdown",
   "id": "137646f0",
   "metadata": {},
   "source": [
    "# XGBoost"
   ]
  },
  {
   "cell_type": "code",
   "execution_count": 9,
   "id": "af0d121d",
   "metadata": {},
   "outputs": [
    {
     "name": "stdout",
     "output_type": "stream",
     "text": [
      "\n",
      "Best XGBoost parameters: {'learning_rate': 0.05, 'max_depth': 5, 'n_estimators': 100, 'objective': 'binary:logistic', 'subsample': 0.8}\n",
      "Best Cross-Validated Accuracy: 0.9107\n"
     ]
    }
   ],
   "source": [
    "# We want to run and test different parameter combinations to find the best one like we did before\n",
    "# Define parameter grid\n",
    "xgb_param_grid = {\n",
    "    'max_depth': [3, 4, 5, 6],\n",
    "    'learning_rate': [0.01, 0.05, 0.1],  # 'eta' is called 'learning_rate' in XGBClassifier\n",
    "    'subsample': [0.8, 1.0],\n",
    "    'n_estimators': [100],  # Corresponds to num_boost_round\n",
    "    'objective': ['binary:logistic']\n",
    "}\n",
    "\n",
    "# Initialize the model\n",
    "xgb_clf = XGBClassifier(eval_metric='logloss', use_label_encoder=False, verbosity=0, random_state=42)\n",
    "\n",
    "# GridSearchCV\n",
    "grid_search_xgb = GridSearchCV(\n",
    "    estimator=xgb_clf,\n",
    "    param_grid=xgb_param_grid,\n",
    "    scoring='accuracy',\n",
    "    cv=5,\n",
    "    n_jobs=-1\n",
    ")\n",
    "\n",
    "# Fit the model\n",
    "grid_search_xgb.fit(X_train, y_train)\n",
    "\n",
    "# Best model and parameters\n",
    "best_xgb = grid_search_xgb.best_estimator_\n",
    "print(f\"\\nBest XGBoost parameters: {grid_search_xgb.best_params_}\")\n",
    "print(f\"Best Cross-Validated Accuracy: {grid_search_xgb.best_score_:.4f}\")"
   ]
  },
  {
   "cell_type": "code",
   "execution_count": 10,
   "id": "c20eba53",
   "metadata": {},
   "outputs": [
    {
     "name": "stdout",
     "output_type": "stream",
     "text": [
      "Test Accuracy: 0.9051\n"
     ]
    }
   ],
   "source": [
    "# Evaluate on test set\n",
    "y_pred_xgb = best_xgb.predict(X_test)\n",
    "acc_test_xgb = accuracy_score(y_test, y_pred_xgb)\n",
    "print(f\"Test Accuracy: {acc_test_xgb:.4f}\")"
   ]
  },
  {
   "cell_type": "code",
   "execution_count": 11,
   "id": "57cfd11e",
   "metadata": {},
   "outputs": [
    {
     "name": "stdout",
     "output_type": "stream",
     "text": [
      "0.9410234171725932\n",
      "Passed the Robustness Check!\n"
     ]
    }
   ],
   "source": [
    "# Robustness check like before\n",
    "acc_train_xgb = accuracy_score(y_train, best_xgb.predict(X_train))\n",
    "print(acc_train_xgb)\n",
    "if abs(acc_test_xgb - acc_train_xgb) < (0.05 * acc_test_xgb):\n",
    "    print(\"Passed the Robustness Check!\")\n",
    "else:\n",
    "    print(\"Didn't pass the Robustness Check!\")"
   ]
  },
  {
   "cell_type": "code",
   "execution_count": 12,
   "id": "144fed0c",
   "metadata": {},
   "outputs": [
    {
     "data": {
      "text/plain": [
       "Text(0.5, 1.0, 'XGBoost Confusion Matrix')"
      ]
     },
     "execution_count": 12,
     "metadata": {},
     "output_type": "execute_result"
    },
    {
     "data": {
      "image/png": "[encoded data removed]",
      "text/plain": [
       "<Figure size 500x500 with 2 Axes>"
      ]
     },
     "metadata": {},
     "output_type": "display_data"
    }
   ],
   "source": [
    "# We use the confusion matrix to visualize the performance of our classifier.\n",
    "# It helps us understand how well the model distinguishes between the classes,\n",
    "# showing the number of correct and incorrect predictions for each class.\n",
    "conf_matrix_xgb = confusion_matrix(y_test, y_pred_xgb)\n",
    "plt.figure(figsize=(5, 5))\n",
    "sns.heatmap(conf_matrix_xgb, annot=True, fmt=\".3f\", linewidths=0.5, cmap=\"Blues_r\")\n",
    "plt.xlabel(\"Predicted Label\")\n",
    "plt.ylabel(\"Actual Label\")\n",
    "plt.title(\"XGBoost Confusion Matrix\")"
   ]
  },
  {
   "cell_type": "code",
   "execution_count": 13,
   "id": "b9a36bb7",
   "metadata": {},
   "outputs": [
    {
     "name": "stdout",
     "output_type": "stream",
     "text": [
      "              precision    recall  f1-score   support\n",
      "\n",
      "           0       0.89      0.96      0.93       354\n",
      "           1       0.93      0.81      0.87       215\n",
      "\n",
      "    accuracy                           0.91       569\n",
      "   macro avg       0.91      0.89      0.90       569\n",
      "weighted avg       0.91      0.91      0.90       569\n",
      "\n"
     ]
    }
   ],
   "source": [
    "# Classification report for further insights\n",
    "# We can see it differs from our best model, slightly better at recall and slightly worse\n",
    "# at precision for example (like in the random forest model)\n",
    "print(classification_report(y_test, y_pred_xgb))"
   ]
  }
 ],
 "metadata": {
  "kernelspec": {
   "display_name": "Python 3",
   "language": "python",
   "name": "python3"
  },
  "language_info": {
   "codemirror_mode": {
    "name": "ipython",
    "version": 3
   },
   "file_extension": ".py",
   "mimetype": "text/x-python",
   "name": "python",
   "nbconvert_exporter": "python",
   "pygments_lexer": "ipython3",
   "version": "3.13.4"
  }
 },
 "nbformat": 4,
 "nbformat_minor": 5
}
