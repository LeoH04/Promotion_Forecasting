{
 "cells": [
  {
   "cell_type": "markdown",
   "id": "e0e24665",
   "metadata": {},
   "source": [
    "## 00. Import libraries and load data"
   ]
  },
  {
   "cell_type": "markdown",
   "id": "5dadd865",
   "metadata": {},
   "source": [
    "Note: This Jupyter Notebook was created as part of the group work. Each member has contributed similarly to the result."
   ]
  },
  {
   "cell_type": "code",
   "execution_count": 41,
   "id": "49615691",
   "metadata": {},
   "outputs": [],
   "source": [
    "# First we import all neccessary libraries and give some of them an alias for easy access\n",
    "import numpy as np\n",
    "import pandas as pd\n",
    "import matplotlib.pyplot as plt\n",
    "import seaborn as sns\n",
    "%matplotlib inline\n",
    "from sklearn.model_selection import train_test_split\n",
    "from sklearn.tree import DecisionTreeClassifier\n",
    "from sklearn.metrics import accuracy_score\n",
    "from sklearn import tree\n",
    "from sklearn import metrics\n",
    "from sklearn.metrics import classification_report\n",
    "from sklearn.model_selection import StratifiedKFold, cross_val_score\n",
    "from sklearn.model_selection import GridSearchCV\n",
    "from sklearn.model_selection import RandomizedSearchCV\n",
    "from imblearn.over_sampling import SMOTE\n",
    "from imblearn.over_sampling import BorderlineSMOTE\n",
    "from imblearn.over_sampling import KMeansSMOTE\n",
    "from imblearn.over_sampling import SVMSMOTE\n",
    "from sklearn.base import clone\n",
    "from imblearn.under_sampling import RandomUnderSampler\n",
    "from collections import Counter"
   ]
  },
  {
   "cell_type": "markdown",
   "id": "a4ee7697",
   "metadata": {},
   "source": [
    "## 1. Read in the data"
   ]
  },
  {
   "cell_type": "code",
   "execution_count": 42,
   "id": "0854319a",
   "metadata": {},
   "outputs": [
    {
     "data": {
      "text/plain": [
       "(1722, 10)"
      ]
     },
     "execution_count": 42,
     "metadata": {},
     "output_type": "execute_result"
    }
   ],
   "source": [
    "# Read in the data so every group member can run the notebook on his machine\n",
    "# (our repo is on github, we therefore have the same file structure)\n",
    "df = pd.read_csv(\"./Data/Transformed/inventory_management_cleaned_transformed_unscaled.csv\")\n",
    "df.shape # Get a first idea about the number of rows and columns of the dataset"
   ]
  },
  {
   "cell_type": "code",
   "execution_count": 43,
   "id": "3646714d",
   "metadata": {},
   "outputs": [
    {
     "data": {
      "application/vnd.microsoft.datawrangler.viewer.v0+json": {
       "columns": [
        {
         "name": "index",
         "rawType": "int64",
         "type": "integer"
        },
        {
         "name": "Category",
         "rawType": "int64",
         "type": "integer"
        },
        {
         "name": "Region",
         "rawType": "int64",
         "type": "integer"
        },
        {
         "name": "Inventory Level",
         "rawType": "int64",
         "type": "integer"
        },
        {
         "name": "Price",
         "rawType": "float64",
         "type": "float"
        },
        {
         "name": "Discount",
         "rawType": "int64",
         "type": "integer"
        },
        {
         "name": "Weather Condition",
         "rawType": "int64",
         "type": "integer"
        },
        {
         "name": "Promotion",
         "rawType": "int64",
         "type": "integer"
        },
        {
         "name": "Demand",
         "rawType": "int64",
         "type": "integer"
        },
        {
         "name": "Product_UID",
         "rawType": "object",
         "type": "string"
        },
        {
         "name": "Weekday",
         "rawType": "int64",
         "type": "integer"
        }
       ],
       "ref": "e9be957b-3191-439f-882f-3188c5fb1884",
       "rows": [
        [
         "0",
         "1",
         "1",
         "195",
         "72.72",
         "5",
         "1",
         "0",
         "115",
         "S001_P0001",
         "2"
        ],
        [
         "1",
         "0",
         "1",
         "117",
         "80.16",
         "15",
         "1",
         "1",
         "229",
         "S001_P0002",
         "2"
        ],
        [
         "2",
         "0",
         "1",
         "247",
         "62.94",
         "10",
         "1",
         "1",
         "157",
         "S001_P0003",
         "2"
        ],
        [
         "3",
         "1",
         "1",
         "139",
         "87.63",
         "10",
         "1",
         "0",
         "52",
         "S001_P0004",
         "2"
        ],
        [
         "4",
         "3",
         "1",
         "152",
         "54.41",
         "0",
         "1",
         "0",
         "59",
         "S001_P0005",
         "2"
        ]
       ],
       "shape": {
        "columns": 10,
        "rows": 5
       }
      },
      "text/html": [
       "<div>\n",
       "<style scoped>\n",
       "    .dataframe tbody tr th:only-of-type {\n",
       "        vertical-align: middle;\n",
       "    }\n",
       "\n",
       "    .dataframe tbody tr th {\n",
       "        vertical-align: top;\n",
       "    }\n",
       "\n",
       "    .dataframe thead th {\n",
       "        text-align: right;\n",
       "    }\n",
       "</style>\n",
       "<table border=\"1\" class=\"dataframe\">\n",
       "  <thead>\n",
       "    <tr style=\"text-align: right;\">\n",
       "      <th></th>\n",
       "      <th>Category</th>\n",
       "      <th>Region</th>\n",
       "      <th>Inventory Level</th>\n",
       "      <th>Price</th>\n",
       "      <th>Discount</th>\n",
       "      <th>Weather Condition</th>\n",
       "      <th>Promotion</th>\n",
       "      <th>Demand</th>\n",
       "      <th>Product_UID</th>\n",
       "      <th>Weekday</th>\n",
       "    </tr>\n",
       "  </thead>\n",
       "  <tbody>\n",
       "    <tr>\n",
       "      <th>0</th>\n",
       "      <td>1</td>\n",
       "      <td>1</td>\n",
       "      <td>195</td>\n",
       "      <td>72.72</td>\n",
       "      <td>5</td>\n",
       "      <td>1</td>\n",
       "      <td>0</td>\n",
       "      <td>115</td>\n",
       "      <td>S001_P0001</td>\n",
       "      <td>2</td>\n",
       "    </tr>\n",
       "    <tr>\n",
       "      <th>1</th>\n",
       "      <td>0</td>\n",
       "      <td>1</td>\n",
       "      <td>117</td>\n",
       "      <td>80.16</td>\n",
       "      <td>15</td>\n",
       "      <td>1</td>\n",
       "      <td>1</td>\n",
       "      <td>229</td>\n",
       "      <td>S001_P0002</td>\n",
       "      <td>2</td>\n",
       "    </tr>\n",
       "    <tr>\n",
       "      <th>2</th>\n",
       "      <td>0</td>\n",
       "      <td>1</td>\n",
       "      <td>247</td>\n",
       "      <td>62.94</td>\n",
       "      <td>10</td>\n",
       "      <td>1</td>\n",
       "      <td>1</td>\n",
       "      <td>157</td>\n",
       "      <td>S001_P0003</td>\n",
       "      <td>2</td>\n",
       "    </tr>\n",
       "    <tr>\n",
       "      <th>3</th>\n",
       "      <td>1</td>\n",
       "      <td>1</td>\n",
       "      <td>139</td>\n",
       "      <td>87.63</td>\n",
       "      <td>10</td>\n",
       "      <td>1</td>\n",
       "      <td>0</td>\n",
       "      <td>52</td>\n",
       "      <td>S001_P0004</td>\n",
       "      <td>2</td>\n",
       "    </tr>\n",
       "    <tr>\n",
       "      <th>4</th>\n",
       "      <td>3</td>\n",
       "      <td>1</td>\n",
       "      <td>152</td>\n",
       "      <td>54.41</td>\n",
       "      <td>0</td>\n",
       "      <td>1</td>\n",
       "      <td>0</td>\n",
       "      <td>59</td>\n",
       "      <td>S001_P0005</td>\n",
       "      <td>2</td>\n",
       "    </tr>\n",
       "  </tbody>\n",
       "</table>\n",
       "</div>"
      ],
      "text/plain": [
       "   Category  Region  Inventory Level  Price  Discount  Weather Condition  \\\n",
       "0         1       1              195  72.72         5                  1   \n",
       "1         0       1              117  80.16        15                  1   \n",
       "2         0       1              247  62.94        10                  1   \n",
       "3         1       1              139  87.63        10                  1   \n",
       "4         3       1              152  54.41         0                  1   \n",
       "\n",
       "   Promotion  Demand Product_UID  Weekday  \n",
       "0          0     115  S001_P0001        2  \n",
       "1          1     229  S001_P0002        2  \n",
       "2          1     157  S001_P0003        2  \n",
       "3          0      52  S001_P0004        2  \n",
       "4          0      59  S001_P0005        2  "
      ]
     },
     "execution_count": 43,
     "metadata": {},
     "output_type": "execute_result"
    }
   ],
   "source": [
    "# Check the data\n",
    "df.head()"
   ]
  },
  {
   "cell_type": "code",
   "execution_count": 44,
   "id": "78da32aa",
   "metadata": {},
   "outputs": [],
   "source": [
    "# We define that y equals the attribute we want to predict and X equals all the other attributes to predict y \n",
    "y = df[\"Promotion\"]\n",
    "X = df.loc[:, ~df.columns.isin(['Promotion', 'Product_UID'])]"
   ]
  },
  {
   "cell_type": "code",
   "execution_count": 45,
   "id": "fd808fcd",
   "metadata": {},
   "outputs": [
    {
     "data": {
      "application/vnd.microsoft.datawrangler.viewer.v0+json": {
       "columns": [
        {
         "name": "index",
         "rawType": "int64",
         "type": "integer"
        },
        {
         "name": "Promotion",
         "rawType": "int64",
         "type": "integer"
        }
       ],
       "ref": "6459f372-6865-4072-a0e2-dac60b0bdfd0",
       "rows": [
        [
         "0",
         "0"
        ],
        [
         "1",
         "1"
        ],
        [
         "2",
         "1"
        ],
        [
         "3",
         "0"
        ],
        [
         "4",
         "0"
        ],
        [
         "5",
         "0"
        ],
        [
         "6",
         "0"
        ],
        [
         "7",
         "0"
        ],
        [
         "8",
         "0"
        ],
        [
         "9",
         "0"
        ],
        [
         "10",
         "0"
        ],
        [
         "11",
         "0"
        ],
        [
         "12",
         "0"
        ],
        [
         "13",
         "1"
        ],
        [
         "14",
         "0"
        ],
        [
         "15",
         "0"
        ],
        [
         "16",
         "0"
        ],
        [
         "17",
         "0"
        ],
        [
         "18",
         "0"
        ],
        [
         "19",
         "0"
        ],
        [
         "20",
         "0"
        ],
        [
         "21",
         "1"
        ],
        [
         "22",
         "1"
        ],
        [
         "23",
         "0"
        ],
        [
         "24",
         "0"
        ],
        [
         "25",
         "0"
        ],
        [
         "26",
         "0"
        ],
        [
         "27",
         "0"
        ],
        [
         "28",
         "0"
        ],
        [
         "29",
         "0"
        ],
        [
         "30",
         "0"
        ],
        [
         "31",
         "0"
        ],
        [
         "32",
         "0"
        ],
        [
         "33",
         "1"
        ],
        [
         "34",
         "0"
        ],
        [
         "35",
         "0"
        ],
        [
         "36",
         "0"
        ],
        [
         "37",
         "0"
        ],
        [
         "38",
         "0"
        ],
        [
         "39",
         "0"
        ],
        [
         "40",
         "0"
        ],
        [
         "41",
         "1"
        ],
        [
         "42",
         "1"
        ],
        [
         "43",
         "0"
        ],
        [
         "44",
         "0"
        ],
        [
         "45",
         "0"
        ],
        [
         "46",
         "0"
        ],
        [
         "47",
         "0"
        ],
        [
         "48",
         "0"
        ],
        [
         "49",
         "0"
        ]
       ],
       "shape": {
        "columns": 1,
        "rows": 1722
       }
      },
      "text/plain": [
       "0       0\n",
       "1       1\n",
       "2       1\n",
       "3       0\n",
       "4       0\n",
       "       ..\n",
       "1717    0\n",
       "1718    1\n",
       "1719    0\n",
       "1720    0\n",
       "1721    1\n",
       "Name: Promotion, Length: 1722, dtype: int64"
      ]
     },
     "execution_count": 45,
     "metadata": {},
     "output_type": "execute_result"
    }
   ],
   "source": [
    "# We check if y equals the attribute we want to predict (Promotion)\n",
    "y"
   ]
  },
  {
   "cell_type": "code",
   "execution_count": 46,
   "id": "faf90684",
   "metadata": {},
   "outputs": [
    {
     "data": {
      "application/vnd.microsoft.datawrangler.viewer.v0+json": {
       "columns": [
        {
         "name": "index",
         "rawType": "int64",
         "type": "integer"
        },
        {
         "name": "Category",
         "rawType": "int64",
         "type": "integer"
        },
        {
         "name": "Region",
         "rawType": "int64",
         "type": "integer"
        },
        {
         "name": "Inventory Level",
         "rawType": "int64",
         "type": "integer"
        },
        {
         "name": "Price",
         "rawType": "float64",
         "type": "float"
        },
        {
         "name": "Discount",
         "rawType": "int64",
         "type": "integer"
        },
        {
         "name": "Weather Condition",
         "rawType": "int64",
         "type": "integer"
        },
        {
         "name": "Demand",
         "rawType": "int64",
         "type": "integer"
        },
        {
         "name": "Weekday",
         "rawType": "int64",
         "type": "integer"
        }
       ],
       "ref": "dc6cf79c-a280-4646-b98b-33341b31b368",
       "rows": [
        [
         "0",
         "1",
         "1",
         "195",
         "72.72",
         "5",
         "1",
         "115",
         "2"
        ],
        [
         "1",
         "0",
         "1",
         "117",
         "80.16",
         "15",
         "1",
         "229",
         "2"
        ],
        [
         "2",
         "0",
         "1",
         "247",
         "62.94",
         "10",
         "1",
         "157",
         "2"
        ],
        [
         "3",
         "1",
         "1",
         "139",
         "87.63",
         "10",
         "1",
         "52",
         "2"
        ],
        [
         "4",
         "3",
         "1",
         "152",
         "54.41",
         "0",
         "1",
         "59",
         "2"
        ],
        [
         "5",
         "4",
         "1",
         "209",
         "35.53",
         "0",
         "1",
         "55",
         "2"
        ],
        [
         "6",
         "3",
         "1",
         "118",
         "23.27",
         "5",
         "1",
         "94",
         "2"
        ],
        [
         "7",
         "1",
         "1",
         "244",
         "37.79",
         "5",
         "1",
         "61",
         "2"
        ],
        [
         "8",
         "0",
         "1",
         "115",
         "94.2",
         "5",
         "1",
         "129",
         "2"
        ],
        [
         "9",
         "2",
         "1",
         "192",
         "113.35",
         "10",
         "1",
         "69",
         "2"
        ],
        [
         "10",
         "2",
         "1",
         "215",
         "156.34",
         "0",
         "1",
         "64",
         "2"
        ],
        [
         "11",
         "3",
         "1",
         "289",
         "84.48",
         "0",
         "1",
         "104",
         "2"
        ],
        [
         "12",
         "4",
         "1",
         "279",
         "33.1",
         "5",
         "1",
         "110",
         "2"
        ],
        [
         "13",
         "3",
         "1",
         "252",
         "80.13",
         "10",
         "1",
         "165",
         "2"
        ],
        [
         "14",
         "4",
         "1",
         "119",
         "14.39",
         "5",
         "1",
         "64",
         "2"
        ],
        [
         "15",
         "3",
         "1",
         "103",
         "38.79",
         "10",
         "1",
         "115",
         "2"
        ],
        [
         "16",
         "4",
         "1",
         "128",
         "21.21",
         "0",
         "1",
         "75",
         "2"
        ],
        [
         "17",
         "3",
         "1",
         "281",
         "54.4",
         "5",
         "1",
         "66",
         "2"
        ],
        [
         "18",
         "2",
         "1",
         "281",
         "95.56",
         "10",
         "1",
         "58",
         "2"
        ],
        [
         "19",
         "2",
         "1",
         "266",
         "100.47",
         "5",
         "1",
         "43",
         "2"
        ],
        [
         "20",
         "3",
         "2",
         "102",
         "90.89",
         "0",
         "0",
         "118",
         "2"
        ],
        [
         "21",
         "4",
         "2",
         "193",
         "25.68",
         "25",
         "0",
         "105",
         "2"
        ],
        [
         "22",
         "3",
         "2",
         "187",
         "95.17",
         "10",
         "0",
         "171",
         "2"
        ],
        [
         "23",
         "3",
         "2",
         "160",
         "39.54",
         "10",
         "0",
         "110",
         "2"
        ],
        [
         "24",
         "1",
         "2",
         "155",
         "92.35",
         "0",
         "0",
         "94",
         "2"
        ],
        [
         "25",
         "0",
         "2",
         "198",
         "64.0",
         "5",
         "0",
         "88",
         "2"
        ],
        [
         "26",
         "4",
         "2",
         "233",
         "25.47",
         "10",
         "0",
         "93",
         "2"
        ],
        [
         "27",
         "3",
         "2",
         "124",
         "25.63",
         "5",
         "0",
         "112",
         "2"
        ],
        [
         "28",
         "3",
         "2",
         "131",
         "64.84",
         "10",
         "0",
         "145",
         "2"
        ],
        [
         "29",
         "3",
         "2",
         "242",
         "117.17",
         "5",
         "0",
         "195",
         "2"
        ],
        [
         "30",
         "3",
         "2",
         "206",
         "84.71",
         "10",
         "0",
         "79",
         "2"
        ],
        [
         "31",
         "1",
         "2",
         "197",
         "78.86",
         "0",
         "0",
         "122",
         "2"
        ],
        [
         "32",
         "3",
         "2",
         "152",
         "21.76",
         "10",
         "0",
         "109",
         "2"
        ],
        [
         "33",
         "1",
         "2",
         "153",
         "100.18",
         "10",
         "0",
         "63",
         "2"
        ],
        [
         "34",
         "0",
         "2",
         "106",
         "65.19",
         "10",
         "0",
         "96",
         "2"
        ],
        [
         "35",
         "0",
         "2",
         "113",
         "111.87",
         "5",
         "0",
         "194",
         "2"
        ],
        [
         "36",
         "4",
         "2",
         "153",
         "18.89",
         "5",
         "0",
         "65",
         "2"
        ],
        [
         "37",
         "0",
         "2",
         "126",
         "27.67",
         "0",
         "0",
         "79",
         "2"
        ],
        [
         "38",
         "0",
         "2",
         "164",
         "83.09",
         "10",
         "0",
         "96",
         "2"
        ],
        [
         "39",
         "2",
         "2",
         "126",
         "125.8",
         "0",
         "0",
         "53",
         "2"
        ],
        [
         "40",
         "4",
         "0",
         "182",
         "16.85",
         "10",
         "2",
         "112",
         "2"
        ],
        [
         "41",
         "3",
         "0",
         "290",
         "50.42",
         "10",
         "2",
         "82",
         "2"
        ],
        [
         "42",
         "1",
         "0",
         "122",
         "83.17",
         "20",
         "2",
         "126",
         "2"
        ],
        [
         "43",
         "3",
         "0",
         "203",
         "26.29",
         "5",
         "2",
         "158",
         "2"
        ],
        [
         "44",
         "4",
         "0",
         "253",
         "19.8",
         "5",
         "2",
         "57",
         "2"
        ],
        [
         "45",
         "4",
         "0",
         "227",
         "44.64",
         "0",
         "2",
         "136",
         "2"
        ],
        [
         "46",
         "3",
         "0",
         "247",
         "18.65",
         "0",
         "2",
         "142",
         "2"
        ],
        [
         "47",
         "0",
         "0",
         "297",
         "113.01",
         "0",
         "2",
         "89",
         "2"
        ],
        [
         "48",
         "3",
         "0",
         "226",
         "56.32",
         "5",
         "2",
         "126",
         "2"
        ],
        [
         "49",
         "3",
         "0",
         "167",
         "36.21",
         "10",
         "2",
         "106",
         "2"
        ]
       ],
       "shape": {
        "columns": 8,
        "rows": 1722
       }
      },
      "text/html": [
       "<div>\n",
       "<style scoped>\n",
       "    .dataframe tbody tr th:only-of-type {\n",
       "        vertical-align: middle;\n",
       "    }\n",
       "\n",
       "    .dataframe tbody tr th {\n",
       "        vertical-align: top;\n",
       "    }\n",
       "\n",
       "    .dataframe thead th {\n",
       "        text-align: right;\n",
       "    }\n",
       "</style>\n",
       "<table border=\"1\" class=\"dataframe\">\n",
       "  <thead>\n",
       "    <tr style=\"text-align: right;\">\n",
       "      <th></th>\n",
       "      <th>Category</th>\n",
       "      <th>Region</th>\n",
       "      <th>Inventory Level</th>\n",
       "      <th>Price</th>\n",
       "      <th>Discount</th>\n",
       "      <th>Weather Condition</th>\n",
       "      <th>Demand</th>\n",
       "      <th>Weekday</th>\n",
       "    </tr>\n",
       "  </thead>\n",
       "  <tbody>\n",
       "    <tr>\n",
       "      <th>0</th>\n",
       "      <td>1</td>\n",
       "      <td>1</td>\n",
       "      <td>195</td>\n",
       "      <td>72.72</td>\n",
       "      <td>5</td>\n",
       "      <td>1</td>\n",
       "      <td>115</td>\n",
       "      <td>2</td>\n",
       "    </tr>\n",
       "    <tr>\n",
       "      <th>1</th>\n",
       "      <td>0</td>\n",
       "      <td>1</td>\n",
       "      <td>117</td>\n",
       "      <td>80.16</td>\n",
       "      <td>15</td>\n",
       "      <td>1</td>\n",
       "      <td>229</td>\n",
       "      <td>2</td>\n",
       "    </tr>\n",
       "    <tr>\n",
       "      <th>2</th>\n",
       "      <td>0</td>\n",
       "      <td>1</td>\n",
       "      <td>247</td>\n",
       "      <td>62.94</td>\n",
       "      <td>10</td>\n",
       "      <td>1</td>\n",
       "      <td>157</td>\n",
       "      <td>2</td>\n",
       "    </tr>\n",
       "    <tr>\n",
       "      <th>3</th>\n",
       "      <td>1</td>\n",
       "      <td>1</td>\n",
       "      <td>139</td>\n",
       "      <td>87.63</td>\n",
       "      <td>10</td>\n",
       "      <td>1</td>\n",
       "      <td>52</td>\n",
       "      <td>2</td>\n",
       "    </tr>\n",
       "    <tr>\n",
       "      <th>4</th>\n",
       "      <td>3</td>\n",
       "      <td>1</td>\n",
       "      <td>152</td>\n",
       "      <td>54.41</td>\n",
       "      <td>0</td>\n",
       "      <td>1</td>\n",
       "      <td>59</td>\n",
       "      <td>2</td>\n",
       "    </tr>\n",
       "    <tr>\n",
       "      <th>...</th>\n",
       "      <td>...</td>\n",
       "      <td>...</td>\n",
       "      <td>...</td>\n",
       "      <td>...</td>\n",
       "      <td>...</td>\n",
       "      <td>...</td>\n",
       "      <td>...</td>\n",
       "      <td>...</td>\n",
       "    </tr>\n",
       "    <tr>\n",
       "      <th>1717</th>\n",
       "      <td>3</td>\n",
       "      <td>1</td>\n",
       "      <td>129</td>\n",
       "      <td>62.83</td>\n",
       "      <td>10</td>\n",
       "      <td>0</td>\n",
       "      <td>143</td>\n",
       "      <td>5</td>\n",
       "    </tr>\n",
       "    <tr>\n",
       "      <th>1718</th>\n",
       "      <td>2</td>\n",
       "      <td>1</td>\n",
       "      <td>104</td>\n",
       "      <td>98.97</td>\n",
       "      <td>10</td>\n",
       "      <td>0</td>\n",
       "      <td>54</td>\n",
       "      <td>5</td>\n",
       "    </tr>\n",
       "    <tr>\n",
       "      <th>1719</th>\n",
       "      <td>2</td>\n",
       "      <td>1</td>\n",
       "      <td>494</td>\n",
       "      <td>111.25</td>\n",
       "      <td>10</td>\n",
       "      <td>0</td>\n",
       "      <td>70</td>\n",
       "      <td>5</td>\n",
       "    </tr>\n",
       "    <tr>\n",
       "      <th>1720</th>\n",
       "      <td>3</td>\n",
       "      <td>2</td>\n",
       "      <td>625</td>\n",
       "      <td>69.62</td>\n",
       "      <td>5</td>\n",
       "      <td>1</td>\n",
       "      <td>69</td>\n",
       "      <td>5</td>\n",
       "    </tr>\n",
       "    <tr>\n",
       "      <th>1721</th>\n",
       "      <td>4</td>\n",
       "      <td>2</td>\n",
       "      <td>334</td>\n",
       "      <td>27.53</td>\n",
       "      <td>10</td>\n",
       "      <td>1</td>\n",
       "      <td>72</td>\n",
       "      <td>5</td>\n",
       "    </tr>\n",
       "  </tbody>\n",
       "</table>\n",
       "<p>1722 rows × 8 columns</p>\n",
       "</div>"
      ],
      "text/plain": [
       "      Category  Region  Inventory Level   Price  Discount  Weather Condition  \\\n",
       "0            1       1              195   72.72         5                  1   \n",
       "1            0       1              117   80.16        15                  1   \n",
       "2            0       1              247   62.94        10                  1   \n",
       "3            1       1              139   87.63        10                  1   \n",
       "4            3       1              152   54.41         0                  1   \n",
       "...        ...     ...              ...     ...       ...                ...   \n",
       "1717         3       1              129   62.83        10                  0   \n",
       "1718         2       1              104   98.97        10                  0   \n",
       "1719         2       1              494  111.25        10                  0   \n",
       "1720         3       2              625   69.62         5                  1   \n",
       "1721         4       2              334   27.53        10                  1   \n",
       "\n",
       "      Demand  Weekday  \n",
       "0        115        2  \n",
       "1        229        2  \n",
       "2        157        2  \n",
       "3         52        2  \n",
       "4         59        2  \n",
       "...      ...      ...  \n",
       "1717     143        5  \n",
       "1718      54        5  \n",
       "1719      70        5  \n",
       "1720      69        5  \n",
       "1721      72        5  \n",
       "\n",
       "[1722 rows x 8 columns]"
      ]
     },
     "execution_count": 46,
     "metadata": {},
     "output_type": "execute_result"
    }
   ],
   "source": [
    "# We check if X equals all other attributes than Promotion to predict this attribute \n",
    "X"
   ]
  },
  {
   "cell_type": "markdown",
   "id": "39dfce2d",
   "metadata": {},
   "source": [
    "# 2. Split the data with Split Validation"
   ]
  },
  {
   "cell_type": "code",
   "execution_count": 47,
   "id": "a89571c5",
   "metadata": {},
   "outputs": [
    {
     "data": {
      "application/vnd.microsoft.datawrangler.viewer.v0+json": {
       "columns": [
        {
         "name": "Promotion",
         "rawType": "int64",
         "type": "integer"
        },
        {
         "name": "count",
         "rawType": "int64",
         "type": "integer"
        }
       ],
       "ref": "7aaed6d5-032a-4e09-a923-12c7bd522cca",
       "rows": [
        [
         "0",
         "1097"
        ],
        [
         "1",
         "625"
        ]
       ],
       "shape": {
        "columns": 1,
        "rows": 2
       }
      },
      "text/plain": [
       "Promotion\n",
       "0    1097\n",
       "1     625\n",
       "Name: count, dtype: int64"
      ]
     },
     "execution_count": 47,
     "metadata": {},
     "output_type": "execute_result"
    }
   ],
   "source": [
    "# We check the imbalance of the data set to get further information for potential data augmentation techniques\n",
    "y.value_counts()"
   ]
  },
  {
   "cell_type": "code",
   "execution_count": 48,
   "id": "467eead9",
   "metadata": {},
   "outputs": [
    {
     "name": "stdout",
     "output_type": "stream",
     "text": [
      "Before: Counter({0: 743, 1: 410})\n"
     ]
    }
   ],
   "source": [
    "# We split our Data into test and train Data so we can later train on the train data and measure the performance on the test data\n",
    "X_train, X_test, y_train, y_test = train_test_split(X, y, test_size=0.33, random_state=42)\n",
    "X_train.shape, X_test.shape\n",
    "print(\"Before:\", Counter(y_train))"
   ]
  },
  {
   "cell_type": "markdown",
   "id": "9dbce890",
   "metadata": {},
   "source": [
    "# 3. Split the data with Cross Validation"
   ]
  },
  {
   "cell_type": "code",
   "execution_count": 49,
   "id": "933aa888",
   "metadata": {},
   "outputs": [],
   "source": [
    "# We use stratified cross validation to get a robust model with the same class balances in each fold\n",
    "kf = StratifiedKFold(n_splits=10, shuffle=True, random_state=42)"
   ]
  },
  {
   "cell_type": "markdown",
   "id": "4de954bd",
   "metadata": {},
   "source": [
    "## 3.1 Gini - No SMOTE"
   ]
  },
  {
   "cell_type": "code",
   "execution_count": 50,
   "id": "373bd8a4",
   "metadata": {},
   "outputs": [],
   "source": [
    "# We use the best parameters that we have derived before\n",
    "best_params_gini = {'max_depth': 4, 'min_samples_split':2, 'min_samples_leaf': 2}"
   ]
  },
  {
   "cell_type": "code",
   "execution_count": 51,
   "id": "1c7f1950",
   "metadata": {},
   "outputs": [
    {
     "name": "stdout",
     "output_type": "stream",
     "text": [
      "[0.93641618 0.90751445 0.87790698 0.89534884 0.87790698 0.88372093\n",
      " 0.90116279 0.9244186  0.90697674 0.90116279]\n"
     ]
    },
    {
     "data": {
      "text/plain": [
       "np.float64(0.901253528700094)"
      ]
     },
     "execution_count": 51,
     "metadata": {},
     "output_type": "execute_result"
    }
   ],
   "source": [
    "# We start with building trees based on the cross validation\n",
    "# We see that we have a robust model because our accuracy score is independant of the data combinations\n",
    "# Our average accuracy is the mean of the different scores\n",
    "score = cross_val_score(tree.DecisionTreeClassifier(criterion='gini', splitter='best', **best_params_gini, random_state=42), X, y, cv=kf, scoring=\"accuracy\")\n",
    "print(score)\n",
    "average_accuracy = score.mean()\n",
    "average_accuracy"
   ]
  },
  {
   "cell_type": "code",
   "execution_count": 52,
   "id": "3ea4ffc1",
   "metadata": {},
   "outputs": [
    {
     "data": {
      "text/plain": [
       "0.8980667838312829"
      ]
     },
     "execution_count": 52,
     "metadata": {},
     "output_type": "execute_result"
    }
   ],
   "source": [
    "# We now want to find the best parameters based on the cross validation\n",
    "# We start with a tree with no specified parameters\n",
    "dt_noparam = DecisionTreeClassifier(criterion='gini', splitter='best', random_state=42)\n",
    "dt_noparam.fit(X_train, y_train)\n",
    "y_pred = dt_noparam.predict(X_test)\n",
    "accuracy_score(y_test, y_pred)"
   ]
  },
  {
   "cell_type": "code",
   "execution_count": 53,
   "id": "6c78d039",
   "metadata": {},
   "outputs": [
    {
     "data": {
      "text/plain": [
       "[Text(0.6687929010115607, 0.9782608695652174, 'Discount <= 12.5\\ngini = 0.458\\nsamples = 1153\\nvalue = [743.0, 410.0]\\nclass = 0'),\n",
       " Text(0.6572322073699421, 0.9347826086956522, 'Discount <= 7.5\\ngini = 0.225\\nsamples = 853\\nvalue = [743.0, 110.0]\\nclass = 0'),\n",
       " Text(0.6630125541907514, 0.9565217391304348, 'True  '),\n",
       " Text(0.6456715137283237, 0.8913043478260869, 'gini = 0.0\\nsamples = 476\\nvalue = [476, 0]\\nclass = 0'),\n",
       " Text(0.6687929010115607, 0.8913043478260869, 'Demand <= 145.5\\ngini = 0.413\\nsamples = 377\\nvalue = [267, 110]\\nclass = 0'),\n",
       " Text(0.45030256502890176, 0.8478260869565217, 'Price <= 159.95\\ngini = 0.353\\nsamples = 306\\nvalue = [236, 70]\\nclass = 0'),\n",
       " Text(0.2257496387283237, 0.8043478260869565, 'Inventory Level <= 100.5\\ngini = 0.339\\nsamples = 300\\nvalue = [235, 65]\\nclass = 0'),\n",
       " Text(0.057803468208092484, 0.7608695652173914, 'Weekday <= 1.5\\ngini = 0.133\\nsamples = 42\\nvalue = [39, 3]\\nclass = 0'),\n",
       " Text(0.046242774566473986, 0.717391304347826, 'Price <= 141.96\\ngini = 0.375\\nsamples = 12\\nvalue = [9, 3]\\nclass = 0'),\n",
       " Text(0.03468208092485549, 0.6739130434782609, 'Inventory Level <= 8.5\\ngini = 0.298\\nsamples = 11\\nvalue = [9, 2]\\nclass = 0'),\n",
       " Text(0.023121387283236993, 0.6304347826086957, 'Price <= 44.86\\ngini = 0.5\\nsamples = 4\\nvalue = [2, 2]\\nclass = 0'),\n",
       " Text(0.011560693641618497, 0.5869565217391305, 'gini = 0.0\\nsamples = 2\\nvalue = [2, 0]\\nclass = 0'),\n",
       " Text(0.03468208092485549, 0.5869565217391305, 'gini = 0.0\\nsamples = 2\\nvalue = [0, 2]\\nclass = 1'),\n",
       " Text(0.046242774566473986, 0.6304347826086957, 'gini = 0.0\\nsamples = 7\\nvalue = [7, 0]\\nclass = 0'),\n",
       " Text(0.057803468208092484, 0.6739130434782609, 'gini = 0.0\\nsamples = 1\\nvalue = [0, 1]\\nclass = 1'),\n",
       " Text(0.06936416184971098, 0.717391304347826, 'gini = 0.0\\nsamples = 30\\nvalue = [30, 0]\\nclass = 0'),\n",
       " Text(0.3936958092485549, 0.7608695652173914, 'Demand <= 118.5\\ngini = 0.365\\nsamples = 258\\nvalue = [196, 62]\\nclass = 0'),\n",
       " Text(0.13565751445086704, 0.717391304347826, 'Inventory Level <= 105.0\\ngini = 0.328\\nsamples = 198\\nvalue = [157, 41]\\nclass = 0'),\n",
       " Text(0.08092485549132948, 0.6739130434782609, 'Demand <= 72.5\\ngini = 0.48\\nsamples = 5\\nvalue = [2, 3]\\nclass = 1'),\n",
       " Text(0.06936416184971098, 0.6304347826086957, 'gini = 0.0\\nsamples = 2\\nvalue = [0, 2]\\nclass = 1'),\n",
       " Text(0.09248554913294797, 0.6304347826086957, 'Weekday <= 4.0\\ngini = 0.444\\nsamples = 3\\nvalue = [2, 1]\\nclass = 0'),\n",
       " Text(0.08092485549132948, 0.5869565217391305, 'gini = 0.0\\nsamples = 2\\nvalue = [2, 0]\\nclass = 0'),\n",
       " Text(0.10404624277456648, 0.5869565217391305, 'gini = 0.0\\nsamples = 1\\nvalue = [0, 1]\\nclass = 1'),\n",
       " Text(0.19039017341040462, 0.6739130434782609, 'Inventory Level <= 131.0\\ngini = 0.316\\nsamples = 193\\nvalue = [155, 38]\\nclass = 0'),\n",
       " Text(0.17882947976878613, 0.6304347826086957, 'gini = 0.0\\nsamples = 18\\nvalue = [18, 0]\\nclass = 0'),\n",
       " Text(0.20195086705202311, 0.6304347826086957, 'Inventory Level <= 144.5\\ngini = 0.34\\nsamples = 175\\nvalue = [137, 38]\\nclass = 0'),\n",
       " Text(0.12716763005780346, 0.5869565217391305, 'Weekday <= 2.5\\ngini = 0.498\\nsamples = 17\\nvalue = [9, 8]\\nclass = 0'),\n",
       " Text(0.11560693641618497, 0.5434782608695652, 'gini = 0.0\\nsamples = 6\\nvalue = [6, 0]\\nclass = 0'),\n",
       " Text(0.13872832369942195, 0.5434782608695652, 'Price <= 38.805\\ngini = 0.397\\nsamples = 11\\nvalue = [3, 8]\\nclass = 1'),\n",
       " Text(0.12716763005780346, 0.5, 'Category <= 2.5\\ngini = 0.5\\nsamples = 6\\nvalue = [3, 3]\\nclass = 0'),\n",
       " Text(0.11560693641618497, 0.45652173913043476, 'gini = 0.0\\nsamples = 2\\nvalue = [2, 0]\\nclass = 0'),\n",
       " Text(0.13872832369942195, 0.45652173913043476, 'Inventory Level <= 139.5\\ngini = 0.375\\nsamples = 4\\nvalue = [1, 3]\\nclass = 1'),\n",
       " Text(0.12716763005780346, 0.41304347826086957, 'gini = 0.0\\nsamples = 3\\nvalue = [0, 3]\\nclass = 1'),\n",
       " Text(0.15028901734104047, 0.41304347826086957, 'gini = 0.0\\nsamples = 1\\nvalue = [1, 0]\\nclass = 0'),\n",
       " Text(0.15028901734104047, 0.5, 'gini = 0.0\\nsamples = 5\\nvalue = [0, 5]\\nclass = 1'),\n",
       " Text(0.27673410404624277, 0.5869565217391305, 'Price <= 13.81\\ngini = 0.308\\nsamples = 158\\nvalue = [128.0, 30.0]\\nclass = 0'),\n",
       " Text(0.18497109826589594, 0.5434782608695652, 'Weather Condition <= 0.5\\ngini = 0.444\\nsamples = 3\\nvalue = [1, 2]\\nclass = 1'),\n",
       " Text(0.17341040462427745, 0.5, 'gini = 0.0\\nsamples = 1\\nvalue = [0, 1]\\nclass = 1'),\n",
       " Text(0.19653179190751446, 0.5, 'Price <= 6.165\\ngini = 0.5\\nsamples = 2\\nvalue = [1, 1]\\nclass = 0'),\n",
       " Text(0.18497109826589594, 0.45652173913043476, 'gini = 0.0\\nsamples = 1\\nvalue = [0, 1]\\nclass = 1'),\n",
       " Text(0.20809248554913296, 0.45652173913043476, 'gini = 0.0\\nsamples = 1\\nvalue = [1, 0]\\nclass = 0'),\n",
       " Text(0.3684971098265896, 0.5434782608695652, 'Weekday <= 4.5\\ngini = 0.296\\nsamples = 155\\nvalue = [127, 28]\\nclass = 0'),\n",
       " Text(0.29190751445086704, 0.5, 'Price <= 120.38\\ngini = 0.259\\nsamples = 118\\nvalue = [100, 18]\\nclass = 0'),\n",
       " Text(0.23121387283236994, 0.45652173913043476, 'Weekday <= 2.5\\ngini = 0.227\\nsamples = 107\\nvalue = [93.0, 14.0]\\nclass = 0'),\n",
       " Text(0.1791907514450867, 0.41304347826086957, 'Price <= 23.005\\ngini = 0.296\\nsamples = 61\\nvalue = [50, 11]\\nclass = 0'),\n",
       " Text(0.14450867052023122, 0.3695652173913043, 'Weather Condition <= 0.5\\ngini = 0.5\\nsamples = 8\\nvalue = [4, 4]\\nclass = 0'),\n",
       " Text(0.1329479768786127, 0.32608695652173914, 'gini = 0.0\\nsamples = 3\\nvalue = [3, 0]\\nclass = 0'),\n",
       " Text(0.15606936416184972, 0.32608695652173914, 'Region <= 0.5\\ngini = 0.32\\nsamples = 5\\nvalue = [1, 4]\\nclass = 1'),\n",
       " Text(0.14450867052023122, 0.2826086956521739, 'gini = 0.0\\nsamples = 1\\nvalue = [1, 0]\\nclass = 0'),\n",
       " Text(0.1676300578034682, 0.2826086956521739, 'gini = 0.0\\nsamples = 4\\nvalue = [0, 4]\\nclass = 1'),\n",
       " Text(0.2138728323699422, 0.3695652173913043, 'Price <= 104.45\\ngini = 0.229\\nsamples = 53\\nvalue = [46, 7]\\nclass = 0'),\n",
       " Text(0.2023121387283237, 0.32608695652173914, 'Price <= 99.415\\ngini = 0.268\\nsamples = 44\\nvalue = [37, 7]\\nclass = 0'),\n",
       " Text(0.1907514450867052, 0.2826086956521739, 'Region <= 1.5\\ngini = 0.21\\nsamples = 42\\nvalue = [37, 5]\\nclass = 0'),\n",
       " Text(0.1791907514450867, 0.2391304347826087, 'Category <= 1.5\\ngini = 0.278\\nsamples = 30\\nvalue = [25, 5]\\nclass = 0'),\n",
       " Text(0.15606936416184972, 0.1956521739130435, 'Weekday <= 0.5\\ngini = 0.444\\nsamples = 9\\nvalue = [6, 3]\\nclass = 0'),\n",
       " Text(0.14450867052023122, 0.15217391304347827, 'gini = 0.0\\nsamples = 4\\nvalue = [4, 0]\\nclass = 0'),\n",
       " Text(0.1676300578034682, 0.15217391304347827, 'Price <= 74.235\\ngini = 0.48\\nsamples = 5\\nvalue = [2, 3]\\nclass = 1'),\n",
       " Text(0.15606936416184972, 0.10869565217391304, 'gini = 0.0\\nsamples = 2\\nvalue = [0, 2]\\nclass = 1'),\n",
       " Text(0.1791907514450867, 0.10869565217391304, 'Demand <= 69.0\\ngini = 0.444\\nsamples = 3\\nvalue = [2, 1]\\nclass = 0'),\n",
       " Text(0.1676300578034682, 0.06521739130434782, 'gini = 0.0\\nsamples = 1\\nvalue = [0, 1]\\nclass = 1'),\n",
       " Text(0.1907514450867052, 0.06521739130434782, 'gini = 0.0\\nsamples = 2\\nvalue = [2, 0]\\nclass = 0'),\n",
       " Text(0.2023121387283237, 0.1956521739130435, 'Inventory Level <= 284.5\\ngini = 0.172\\nsamples = 21\\nvalue = [19, 2]\\nclass = 0'),\n",
       " Text(0.1907514450867052, 0.15217391304347827, 'gini = 0.0\\nsamples = 12\\nvalue = [12, 0]\\nclass = 0'),\n",
       " Text(0.2138728323699422, 0.15217391304347827, 'Inventory Level <= 306.5\\ngini = 0.346\\nsamples = 9\\nvalue = [7, 2]\\nclass = 0'),\n",
       " Text(0.2023121387283237, 0.10869565217391304, 'gini = 0.0\\nsamples = 1\\nvalue = [0, 1]\\nclass = 1'),\n",
       " Text(0.2254335260115607, 0.10869565217391304, 'Price <= 35.305\\ngini = 0.219\\nsamples = 8\\nvalue = [7, 1]\\nclass = 0'),\n",
       " Text(0.2138728323699422, 0.06521739130434782, 'Inventory Level <= 594.5\\ngini = 0.5\\nsamples = 2\\nvalue = [1, 1]\\nclass = 0'),\n",
       " Text(0.2023121387283237, 0.021739130434782608, 'gini = 0.0\\nsamples = 1\\nvalue = [1, 0]\\nclass = 0'),\n",
       " Text(0.2254335260115607, 0.021739130434782608, 'gini = 0.0\\nsamples = 1\\nvalue = [0, 1]\\nclass = 1'),\n",
       " Text(0.23699421965317918, 0.06521739130434782, 'gini = 0.0\\nsamples = 6\\nvalue = [6, 0]\\nclass = 0'),\n",
       " Text(0.2023121387283237, 0.2391304347826087, 'gini = 0.0\\nsamples = 12\\nvalue = [12, 0]\\nclass = 0'),\n",
       " Text(0.2138728323699422, 0.2826086956521739, 'gini = 0.0\\nsamples = 2\\nvalue = [0, 2]\\nclass = 1'),\n",
       " Text(0.2254335260115607, 0.32608695652173914, 'gini = 0.0\\nsamples = 9\\nvalue = [9, 0]\\nclass = 0'),\n",
       " Text(0.2832369942196532, 0.41304347826086957, 'Inventory Level <= 468.5\\ngini = 0.122\\nsamples = 46\\nvalue = [43, 3]\\nclass = 0'),\n",
       " Text(0.26011560693641617, 0.3695652173913043, 'Inventory Level <= 182.5\\ngini = 0.056\\nsamples = 35\\nvalue = [34, 1]\\nclass = 0'),\n",
       " Text(0.24855491329479767, 0.32608695652173914, 'Inventory Level <= 178.0\\ngini = 0.32\\nsamples = 5\\nvalue = [4, 1]\\nclass = 0'),\n",
       " Text(0.23699421965317918, 0.2826086956521739, 'gini = 0.0\\nsamples = 4\\nvalue = [4, 0]\\nclass = 0'),\n",
       " Text(0.26011560693641617, 0.2826086956521739, 'gini = 0.0\\nsamples = 1\\nvalue = [0, 1]\\nclass = 1'),\n",
       " Text(0.27167630057803466, 0.32608695652173914, 'gini = 0.0\\nsamples = 30\\nvalue = [30, 0]\\nclass = 0'),\n",
       " Text(0.3063583815028902, 0.3695652173913043, 'Weather Condition <= 0.5\\ngini = 0.298\\nsamples = 11\\nvalue = [9, 2]\\nclass = 0'),\n",
       " Text(0.2947976878612717, 0.32608695652173914, 'Inventory Level <= 584.5\\ngini = 0.444\\nsamples = 3\\nvalue = [1, 2]\\nclass = 1'),\n",
       " Text(0.2832369942196532, 0.2826086956521739, 'gini = 0.0\\nsamples = 2\\nvalue = [0, 2]\\nclass = 1'),\n",
       " Text(0.3063583815028902, 0.2826086956521739, 'gini = 0.0\\nsamples = 1\\nvalue = [1, 0]\\nclass = 0'),\n",
       " Text(0.3179190751445087, 0.32608695652173914, 'gini = 0.0\\nsamples = 8\\nvalue = [8, 0]\\nclass = 0'),\n",
       " Text(0.35260115606936415, 0.45652173913043476, 'Price <= 123.69\\ngini = 0.463\\nsamples = 11\\nvalue = [7, 4]\\nclass = 0'),\n",
       " Text(0.34104046242774566, 0.41304347826086957, 'gini = 0.0\\nsamples = 2\\nvalue = [0, 2]\\nclass = 1'),\n",
       " Text(0.36416184971098264, 0.41304347826086957, 'Region <= 1.5\\ngini = 0.346\\nsamples = 9\\nvalue = [7, 2]\\nclass = 0'),\n",
       " Text(0.35260115606936415, 0.3695652173913043, 'Price <= 129.5\\ngini = 0.444\\nsamples = 3\\nvalue = [1, 2]\\nclass = 1'),\n",
       " Text(0.34104046242774566, 0.32608695652173914, 'gini = 0.0\\nsamples = 1\\nvalue = [1, 0]\\nclass = 0'),\n",
       " Text(0.36416184971098264, 0.32608695652173914, 'gini = 0.0\\nsamples = 2\\nvalue = [0, 2]\\nclass = 1'),\n",
       " Text(0.37572254335260113, 0.3695652173913043, 'gini = 0.0\\nsamples = 6\\nvalue = [6, 0]\\nclass = 0'),\n",
       " Text(0.44508670520231214, 0.5, 'Category <= 3.5\\ngini = 0.394\\nsamples = 37\\nvalue = [27, 10]\\nclass = 0'),\n",
       " Text(0.42196531791907516, 0.45652173913043476, 'Region <= 1.5\\ngini = 0.293\\nsamples = 28\\nvalue = [23, 5]\\nclass = 0'),\n",
       " Text(0.41040462427745666, 0.41304347826086957, 'Demand <= 73.5\\ngini = 0.43\\nsamples = 16\\nvalue = [11, 5]\\nclass = 0'),\n",
       " Text(0.3988439306358382, 0.3695652173913043, 'gini = 0.0\\nsamples = 3\\nvalue = [3, 0]\\nclass = 0'),\n",
       " Text(0.42196531791907516, 0.3695652173913043, 'Demand <= 78.0\\ngini = 0.473\\nsamples = 13\\nvalue = [8, 5]\\nclass = 0'),\n",
       " Text(0.41040462427745666, 0.32608695652173914, 'gini = 0.0\\nsamples = 2\\nvalue = [0, 2]\\nclass = 1'),\n",
       " Text(0.43352601156069365, 0.32608695652173914, 'Category <= 2.5\\ngini = 0.397\\nsamples = 11\\nvalue = [8, 3]\\nclass = 0'),\n",
       " Text(0.42196531791907516, 0.2826086956521739, 'gini = 0.0\\nsamples = 5\\nvalue = [5, 0]\\nclass = 0'),\n",
       " Text(0.44508670520231214, 0.2826086956521739, 'Region <= 0.5\\ngini = 0.5\\nsamples = 6\\nvalue = [3, 3]\\nclass = 0'),\n",
       " Text(0.43352601156069365, 0.2391304347826087, 'gini = 0.0\\nsamples = 2\\nvalue = [2, 0]\\nclass = 0'),\n",
       " Text(0.45664739884393063, 0.2391304347826087, 'Weekday <= 5.5\\ngini = 0.375\\nsamples = 4\\nvalue = [1, 3]\\nclass = 1'),\n",
       " Text(0.44508670520231214, 0.1956521739130435, 'gini = 0.0\\nsamples = 3\\nvalue = [0, 3]\\nclass = 1'),\n",
       " Text(0.4682080924855491, 0.1956521739130435, 'gini = 0.0\\nsamples = 1\\nvalue = [1, 0]\\nclass = 0'),\n",
       " Text(0.43352601156069365, 0.41304347826086957, 'gini = 0.0\\nsamples = 12\\nvalue = [12, 0]\\nclass = 0'),\n",
       " Text(0.4682080924855491, 0.45652173913043476, 'Demand <= 75.0\\ngini = 0.494\\nsamples = 9\\nvalue = [4, 5]\\nclass = 1'),\n",
       " Text(0.45664739884393063, 0.41304347826086957, 'gini = 0.0\\nsamples = 2\\nvalue = [0, 2]\\nclass = 1'),\n",
       " Text(0.4797687861271676, 0.41304347826086957, 'Price <= 31.91\\ngini = 0.49\\nsamples = 7\\nvalue = [4, 3]\\nclass = 0'),\n",
       " Text(0.4682080924855491, 0.3695652173913043, 'Inventory Level <= 711.0\\ngini = 0.32\\nsamples = 5\\nvalue = [4, 1]\\nclass = 0'),\n",
       " Text(0.45664739884393063, 0.32608695652173914, 'gini = 0.0\\nsamples = 4\\nvalue = [4, 0]\\nclass = 0'),\n",
       " Text(0.4797687861271676, 0.32608695652173914, 'gini = 0.0\\nsamples = 1\\nvalue = [0, 1]\\nclass = 1'),\n",
       " Text(0.4913294797687861, 0.3695652173913043, 'gini = 0.0\\nsamples = 2\\nvalue = [0, 2]\\nclass = 1'),\n",
       " Text(0.6517341040462428, 0.717391304347826, 'Demand <= 135.0\\ngini = 0.455\\nsamples = 60\\nvalue = [39, 21]\\nclass = 0'),\n",
       " Text(0.5982658959537572, 0.6739130434782609, 'Demand <= 132.5\\ngini = 0.489\\nsamples = 40\\nvalue = [23, 17]\\nclass = 0'),\n",
       " Text(0.5664739884393064, 0.6304347826086957, 'Region <= 1.5\\ngini = 0.457\\nsamples = 34\\nvalue = [22, 12]\\nclass = 0'),\n",
       " Text(0.5375722543352601, 0.5869565217391305, 'Weather Condition <= 1.5\\ngini = 0.375\\nsamples = 24\\nvalue = [18, 6]\\nclass = 0'),\n",
       " Text(0.5260115606936416, 0.5434782608695652, 'Inventory Level <= 197.0\\ngini = 0.469\\nsamples = 16\\nvalue = [10, 6]\\nclass = 0'),\n",
       " Text(0.5028901734104047, 0.5, 'Category <= 3.5\\ngini = 0.245\\nsamples = 7\\nvalue = [6, 1]\\nclass = 0'),\n",
       " Text(0.4913294797687861, 0.45652173913043476, 'gini = 0.0\\nsamples = 5\\nvalue = [5, 0]\\nclass = 0'),\n",
       " Text(0.5144508670520231, 0.45652173913043476, 'Inventory Level <= 117.5\\ngini = 0.5\\nsamples = 2\\nvalue = [1, 1]\\nclass = 0'),\n",
       " Text(0.5028901734104047, 0.41304347826086957, 'gini = 0.0\\nsamples = 1\\nvalue = [1, 0]\\nclass = 0'),\n",
       " Text(0.5260115606936416, 0.41304347826086957, 'gini = 0.0\\nsamples = 1\\nvalue = [0, 1]\\nclass = 1'),\n",
       " Text(0.5491329479768786, 0.5, 'Inventory Level <= 322.5\\ngini = 0.494\\nsamples = 9\\nvalue = [4, 5]\\nclass = 1'),\n",
       " Text(0.5375722543352601, 0.45652173913043476, 'gini = 0.0\\nsamples = 3\\nvalue = [0, 3]\\nclass = 1'),\n",
       " Text(0.5606936416184971, 0.45652173913043476, 'Weekday <= 3.5\\ngini = 0.444\\nsamples = 6\\nvalue = [4, 2]\\nclass = 0'),\n",
       " Text(0.5491329479768786, 0.41304347826086957, 'Weather Condition <= 0.5\\ngini = 0.444\\nsamples = 3\\nvalue = [1, 2]\\nclass = 1'),\n",
       " Text(0.5375722543352601, 0.3695652173913043, 'gini = 0.0\\nsamples = 1\\nvalue = [1, 0]\\nclass = 0'),\n",
       " Text(0.5606936416184971, 0.3695652173913043, 'gini = 0.0\\nsamples = 2\\nvalue = [0, 2]\\nclass = 1'),\n",
       " Text(0.5722543352601156, 0.41304347826086957, 'gini = 0.0\\nsamples = 3\\nvalue = [3, 0]\\nclass = 0'),\n",
       " Text(0.5491329479768786, 0.5434782608695652, 'gini = 0.0\\nsamples = 8\\nvalue = [8, 0]\\nclass = 0'),\n",
       " Text(0.5953757225433526, 0.5869565217391305, 'Price <= 86.53\\ngini = 0.48\\nsamples = 10\\nvalue = [4, 6]\\nclass = 1'),\n",
       " Text(0.5838150289017341, 0.5434782608695652, 'Price <= 22.435\\ngini = 0.375\\nsamples = 8\\nvalue = [2, 6]\\nclass = 1'),\n",
       " Text(0.5722543352601156, 0.5, 'gini = 0.0\\nsamples = 1\\nvalue = [1, 0]\\nclass = 0'),\n",
       " Text(0.5953757225433526, 0.5, 'Weekday <= 3.5\\ngini = 0.245\\nsamples = 7\\nvalue = [1, 6]\\nclass = 1'),\n",
       " Text(0.5838150289017341, 0.45652173913043476, 'gini = 0.0\\nsamples = 6\\nvalue = [0, 6]\\nclass = 1'),\n",
       " Text(0.6069364161849711, 0.45652173913043476, 'gini = 0.0\\nsamples = 1\\nvalue = [1, 0]\\nclass = 0'),\n",
       " Text(0.6069364161849711, 0.5434782608695652, 'gini = 0.0\\nsamples = 2\\nvalue = [2, 0]\\nclass = 0'),\n",
       " Text(0.630057803468208, 0.6304347826086957, 'Category <= 2.5\\ngini = 0.278\\nsamples = 6\\nvalue = [1, 5]\\nclass = 1'),\n",
       " Text(0.6184971098265896, 0.5869565217391305, 'gini = 0.0\\nsamples = 1\\nvalue = [1, 0]\\nclass = 0'),\n",
       " Text(0.6416184971098265, 0.5869565217391305, 'gini = 0.0\\nsamples = 5\\nvalue = [0, 5]\\nclass = 1'),\n",
       " Text(0.7052023121387283, 0.6739130434782609, 'Region <= 0.5\\ngini = 0.32\\nsamples = 20\\nvalue = [16, 4]\\nclass = 0'),\n",
       " Text(0.6763005780346821, 0.6304347826086957, 'Category <= 3.5\\ngini = 0.444\\nsamples = 3\\nvalue = [1, 2]\\nclass = 1'),\n",
       " Text(0.6647398843930635, 0.5869565217391305, 'gini = 0.0\\nsamples = 2\\nvalue = [0, 2]\\nclass = 1'),\n",
       " Text(0.6878612716763006, 0.5869565217391305, 'gini = 0.0\\nsamples = 1\\nvalue = [1, 0]\\nclass = 0'),\n",
       " Text(0.7341040462427746, 0.6304347826086957, 'Price <= 33.755\\ngini = 0.208\\nsamples = 17\\nvalue = [15, 2]\\nclass = 0'),\n",
       " Text(0.7109826589595376, 0.5869565217391305, 'Demand <= 139.5\\ngini = 0.5\\nsamples = 2\\nvalue = [1, 1]\\nclass = 0'),\n",
       " Text(0.6994219653179191, 0.5434782608695652, 'gini = 0.0\\nsamples = 1\\nvalue = [1, 0]\\nclass = 0'),\n",
       " Text(0.7225433526011561, 0.5434782608695652, 'gini = 0.0\\nsamples = 1\\nvalue = [0, 1]\\nclass = 1'),\n",
       " Text(0.7572254335260116, 0.5869565217391305, 'Price <= 85.765\\ngini = 0.124\\nsamples = 15\\nvalue = [14, 1]\\nclass = 0'),\n",
       " Text(0.7456647398843931, 0.5434782608695652, 'gini = 0.0\\nsamples = 13\\nvalue = [13, 0]\\nclass = 0'),\n",
       " Text(0.7687861271676301, 0.5434782608695652, 'Inventory Level <= 456.5\\ngini = 0.5\\nsamples = 2\\nvalue = [1, 1]\\nclass = 0'),\n",
       " Text(0.7572254335260116, 0.5, 'gini = 0.0\\nsamples = 1\\nvalue = [0, 1]\\nclass = 1'),\n",
       " Text(0.7803468208092486, 0.5, 'gini = 0.0\\nsamples = 1\\nvalue = [1, 0]\\nclass = 0'),\n",
       " Text(0.6748554913294798, 0.8043478260869565, 'Region <= 2.0\\ngini = 0.278\\nsamples = 6\\nvalue = [1, 5]\\nclass = 1'),\n",
       " Text(0.6632947976878613, 0.7608695652173914, 'gini = 0.0\\nsamples = 4\\nvalue = [0, 4]\\nclass = 1'),\n",
       " Text(0.6864161849710982, 0.7608695652173914, 'Price <= 168.63\\ngini = 0.5\\nsamples = 2\\nvalue = [1, 1]\\nclass = 0'),\n",
       " Text(0.6748554913294798, 0.717391304347826, 'gini = 0.0\\nsamples = 1\\nvalue = [0, 1]\\nclass = 1'),\n",
       " Text(0.6979768786127167, 0.717391304347826, 'gini = 0.0\\nsamples = 1\\nvalue = [1, 0]\\nclass = 0'),\n",
       " Text(0.8872832369942196, 0.8478260869565217, 'Weather Condition <= 1.5\\ngini = 0.492\\nsamples = 71\\nvalue = [31.0, 40.0]\\nclass = 1'),\n",
       " Text(0.8208092485549133, 0.8043478260869565, 'Category <= 0.5\\ngini = 0.439\\nsamples = 43\\nvalue = [14.0, 29.0]\\nclass = 1'),\n",
       " Text(0.791907514450867, 0.7608695652173914, 'Demand <= 212.5\\ngini = 0.486\\nsamples = 12\\nvalue = [7, 5]\\nclass = 0'),\n",
       " Text(0.7803468208092486, 0.717391304347826, 'Demand <= 157.5\\ngini = 0.42\\nsamples = 10\\nvalue = [7, 3]\\nclass = 0'),\n",
       " Text(0.7687861271676301, 0.6739130434782609, 'Price <= 95.755\\ngini = 0.375\\nsamples = 4\\nvalue = [1, 3]\\nclass = 1'),\n",
       " Text(0.7572254335260116, 0.6304347826086957, 'gini = 0.0\\nsamples = 3\\nvalue = [0, 3]\\nclass = 1'),\n",
       " Text(0.7803468208092486, 0.6304347826086957, 'gini = 0.0\\nsamples = 1\\nvalue = [1, 0]\\nclass = 0'),\n",
       " Text(0.791907514450867, 0.6739130434782609, 'gini = 0.0\\nsamples = 6\\nvalue = [6, 0]\\nclass = 0'),\n",
       " Text(0.8034682080924855, 0.717391304347826, 'gini = 0.0\\nsamples = 2\\nvalue = [0, 2]\\nclass = 1'),\n",
       " Text(0.8497109826589595, 0.7608695652173914, 'Inventory Level <= 218.5\\ngini = 0.35\\nsamples = 31\\nvalue = [7, 24]\\nclass = 1'),\n",
       " Text(0.8265895953757225, 0.717391304347826, 'Demand <= 151.5\\ngini = 0.124\\nsamples = 15\\nvalue = [1, 14]\\nclass = 1'),\n",
       " Text(0.815028901734104, 0.6739130434782609, 'Weekday <= 3.0\\ngini = 0.444\\nsamples = 3\\nvalue = [1, 2]\\nclass = 1'),\n",
       " Text(0.8034682080924855, 0.6304347826086957, 'gini = 0.0\\nsamples = 2\\nvalue = [0, 2]\\nclass = 1'),\n",
       " Text(0.8265895953757225, 0.6304347826086957, 'gini = 0.0\\nsamples = 1\\nvalue = [1, 0]\\nclass = 0'),\n",
       " Text(0.838150289017341, 0.6739130434782609, 'gini = 0.0\\nsamples = 12\\nvalue = [0, 12]\\nclass = 1'),\n",
       " Text(0.8728323699421965, 0.717391304347826, 'Inventory Level <= 237.5\\ngini = 0.469\\nsamples = 16\\nvalue = [6, 10]\\nclass = 1'),\n",
       " Text(0.861271676300578, 0.6739130434782609, 'gini = 0.0\\nsamples = 3\\nvalue = [3, 0]\\nclass = 0'),\n",
       " Text(0.884393063583815, 0.6739130434782609, 'Weather Condition <= 0.5\\ngini = 0.355\\nsamples = 13\\nvalue = [3, 10]\\nclass = 1'),\n",
       " Text(0.8728323699421965, 0.6304347826086957, 'Weekday <= 4.5\\ngini = 0.5\\nsamples = 6\\nvalue = [3, 3]\\nclass = 0'),\n",
       " Text(0.861271676300578, 0.5869565217391305, 'gini = 0.0\\nsamples = 3\\nvalue = [3, 0]\\nclass = 0'),\n",
       " Text(0.884393063583815, 0.5869565217391305, 'gini = 0.0\\nsamples = 3\\nvalue = [0, 3]\\nclass = 1'),\n",
       " Text(0.8959537572254336, 0.6304347826086957, 'gini = 0.0\\nsamples = 7\\nvalue = [0, 7]\\nclass = 1'),\n",
       " Text(0.953757225433526, 0.8043478260869565, 'Inventory Level <= 374.5\\ngini = 0.477\\nsamples = 28\\nvalue = [17, 11]\\nclass = 0'),\n",
       " Text(0.930635838150289, 0.7608695652173914, 'Demand <= 148.5\\ngini = 0.363\\nsamples = 21\\nvalue = [16, 5]\\nclass = 0'),\n",
       " Text(0.9190751445086706, 0.717391304347826, 'gini = 0.0\\nsamples = 1\\nvalue = [0, 1]\\nclass = 1'),\n",
       " Text(0.9421965317919075, 0.717391304347826, 'Demand <= 238.0\\ngini = 0.32\\nsamples = 20\\nvalue = [16, 4]\\nclass = 0'),\n",
       " Text(0.930635838150289, 0.6739130434782609, 'Inventory Level <= 147.0\\ngini = 0.266\\nsamples = 19\\nvalue = [16, 3]\\nclass = 0'),\n",
       " Text(0.9190751445086706, 0.6304347826086957, 'gini = 0.0\\nsamples = 7\\nvalue = [7, 0]\\nclass = 0'),\n",
       " Text(0.9421965317919075, 0.6304347826086957, 'Inventory Level <= 152.5\\ngini = 0.375\\nsamples = 12\\nvalue = [9, 3]\\nclass = 0'),\n",
       " Text(0.930635838150289, 0.5869565217391305, 'gini = 0.0\\nsamples = 1\\nvalue = [0, 1]\\nclass = 1'),\n",
       " Text(0.953757225433526, 0.5869565217391305, 'Price <= 80.57\\ngini = 0.298\\nsamples = 11\\nvalue = [9, 2]\\nclass = 0'),\n",
       " Text(0.9421965317919075, 0.5434782608695652, 'gini = 0.0\\nsamples = 5\\nvalue = [5, 0]\\nclass = 0'),\n",
       " Text(0.9653179190751445, 0.5434782608695652, 'Inventory Level <= 229.5\\ngini = 0.444\\nsamples = 6\\nvalue = [4, 2]\\nclass = 0'),\n",
       " Text(0.953757225433526, 0.5, 'Inventory Level <= 169.5\\ngini = 0.444\\nsamples = 3\\nvalue = [1, 2]\\nclass = 1'),\n",
       " Text(0.9421965317919075, 0.45652173913043476, 'gini = 0.0\\nsamples = 1\\nvalue = [1, 0]\\nclass = 0'),\n",
       " Text(0.9653179190751445, 0.45652173913043476, 'gini = 0.0\\nsamples = 2\\nvalue = [0, 2]\\nclass = 1'),\n",
       " Text(0.976878612716763, 0.5, 'gini = 0.0\\nsamples = 3\\nvalue = [3, 0]\\nclass = 0'),\n",
       " Text(0.953757225433526, 0.6739130434782609, 'gini = 0.0\\nsamples = 1\\nvalue = [0, 1]\\nclass = 1'),\n",
       " Text(0.976878612716763, 0.7608695652173914, 'Demand <= 161.0\\ngini = 0.245\\nsamples = 7\\nvalue = [1, 6]\\nclass = 1'),\n",
       " Text(0.9653179190751445, 0.717391304347826, 'gini = 0.0\\nsamples = 1\\nvalue = [1, 0]\\nclass = 0'),\n",
       " Text(0.9884393063583815, 0.717391304347826, 'gini = 0.0\\nsamples = 6\\nvalue = [0, 6]\\nclass = 1'),\n",
       " Text(0.6803535946531792, 0.9347826086956522, 'gini = 0.0\\nsamples = 300\\nvalue = [0, 300]\\nclass = 1'),\n",
       " Text(0.67457324783237, 0.9565217391304348, '  False')]"
      ]
     },
     "execution_count": 53,
     "metadata": {},
     "output_type": "execute_result"
    },
    {
     "data": {
      "image/png": "[encoded data removed]",
      "text/plain": [
       "<Figure size 1200x800 with 1 Axes>"
      ]
     },
     "metadata": {},
     "output_type": "display_data"
    }
   ],
   "source": [
    "# We plot the tree with no specified paramters to look at the unpruned tree\n",
    "feature_names = X_train.columns\n",
    "plt.figure(figsize=(12, 8))\n",
    "tree.plot_tree(dt_noparam.fit(X_train, y_train), feature_names=feature_names, class_names=['0', '1'])"
   ]
  },
  {
   "cell_type": "code",
   "execution_count": 54,
   "id": "2c24f8d7",
   "metadata": {},
   "outputs": [
    {
     "name": "stdout",
     "output_type": "stream",
     "text": [
      "{'max_depth': 1, 'min_samples_leaf': 2, 'min_samples_split': 2}\n",
      "{'min_samples_split': 8, 'min_samples_leaf': 5, 'max_depth': 1}\n"
     ]
    }
   ],
   "source": [
    "# We set a range of Parameters that GridSearchCV will try out for us in every possible combination\n",
    "params = {'max_depth': [1, 2, 3, 4], 'min_samples_split': [2, 3, 4, 5, 6, 7, 8], 'min_samples_leaf': [2, 3, 4, 5]}\n",
    "clf = tree.DecisionTreeClassifier(criterion='gini', splitter='best', random_state=42)\n",
    "\n",
    "# Note that we tried out different scoring paramters like accuracy, f1, recall. Because we want to keep the interpretability with a max. depth of 4, it would lead to the same results\n",
    "gcv = GridSearchCV(estimator=clf, param_grid=params, return_train_score=True, cv=10)\n",
    "gcv.fit(X_train, y_train)\n",
    "print(gcv.best_params_)\n",
    "\n",
    "# We also used RandomizedSearchCV to compare the best paramaters with another method. We noticed that the results are always different, so we decided to stick \n",
    "# with the GridSearchCV, as best parameters are always constant. We know that there is an option to always get the same result (random_state), but as our paramter\n",
    "# space is rather small, GridSearchCV works perfectly fine\n",
    "rcv = RandomizedSearchCV(estimator=clf, param_distributions=params, return_train_score=True, cv=10)\n",
    "rcv.fit(X_train, y_train)\n",
    "print(rcv.best_params_)"
   ]
  },
  {
   "cell_type": "code",
   "execution_count": 55,
   "id": "2718523d",
   "metadata": {},
   "outputs": [
    {
     "name": "stdout",
     "output_type": "stream",
     "text": [
      "DecisionTreeClassifier(max_depth=1, min_samples_leaf=2, random_state=42)\n",
      "0.8945518453427065\n"
     ]
    }
   ],
   "source": [
    "# These are the best possible estimators on which the model should be trained on \n",
    "print(gcv.best_estimator_)\n",
    "model = gcv.best_estimator_\n",
    "model.fit(X_train, y_train)\n",
    "y_pred_pruned = model.predict(X_test)\n",
    "gcv_accuracy = accuracy_score(y_test, y_pred_pruned)\n",
    "print(gcv_accuracy)"
   ]
  },
  {
   "cell_type": "code",
   "execution_count": 56,
   "id": "1c7f61ed",
   "metadata": {},
   "outputs": [
    {
     "name": "stdout",
     "output_type": "stream",
     "text": [
      "Training Accuracy: 0.9046\n",
      "Test Accuracy: 0.8946\n",
      "Passed the Robustness Check!\n"
     ]
    }
   ],
   "source": [
    "# We want to check wether our model is robust or if it is dependant on the data. The only way to check this for cross validation, is to \n",
    "# evaluate the accuracy based on the train data and compare the results with the accuracy of the test data. If they\n",
    "# deviate less than 5%, the model is independant of the underlying data and thus is robust\n",
    "# Predict on both training and test data\n",
    "y_pred_train = model.predict(X_train)\n",
    "y_pred_test = model.predict(X_test)\n",
    "\n",
    "# Calculate accuracy scores\n",
    "train_accuracy = accuracy_score(y_train, y_pred_train)\n",
    "test_accuracy = accuracy_score(y_test, y_pred_test)\n",
    "\n",
    "# Define a tolerance of ±5% of the test accuracy\n",
    "tolerance = 0.05 * test_accuracy\n",
    "\n",
    "# Print results\n",
    "print(f\"Training Accuracy: {train_accuracy:.4f}\")\n",
    "print(f\"Test Accuracy: {test_accuracy:.4f}\")\n",
    "\n",
    "# Robustness check\n",
    "if abs(train_accuracy - test_accuracy) < tolerance:\n",
    "    print(\"Passed the Robustness Check!\")\n",
    "else:\n",
    "    print(\"Didn't pass the Robustness Check!\")"
   ]
  },
  {
   "cell_type": "code",
   "execution_count": 57,
   "id": "10d2f1b0",
   "metadata": {},
   "outputs": [
    {
     "data": {
      "text/plain": [
       "[Text(0.5, 0.75, 'Discount <= 12.5\\ngini = 0.458\\nsamples = 1153\\nvalue = [743.0, 410.0]\\nclass = No Promotion'),\n",
       " Text(0.25, 0.25, 'gini = 0.225\\nsamples = 853\\nvalue = [743.0, 110.0]\\nclass = No Promotion'),\n",
       " Text(0.375, 0.5, 'True  '),\n",
       " Text(0.75, 0.25, 'gini = 0.0\\nsamples = 300\\nvalue = [0, 300]\\nclass = Promotion'),\n",
       " Text(0.625, 0.5, '  False')]"
      ]
     },
     "execution_count": 57,
     "metadata": {},
     "output_type": "execute_result"
    },
    {
     "data": {
      "image/png": "[encoded data removed]",
      "text/plain": [
       "<Figure size 2000x400 with 1 Axes>"
      ]
     },
     "metadata": {},
     "output_type": "display_data"
    }
   ],
   "source": [
    "# We plot the pruned tree\n",
    "feature_names = X_train.columns\n",
    "plt.figure(figsize=(20, 4))\n",
    "tree.plot_tree(model, feature_names=feature_names, class_names=['No Promotion', 'Promotion'])"
   ]
  },
  {
   "cell_type": "code",
   "execution_count": 58,
   "id": "d29cf104",
   "metadata": {},
   "outputs": [
    {
     "name": "stdout",
     "output_type": "stream",
     "text": [
      "|--- Discount <= 12.50\n",
      "|   |--- class: 0\n",
      "|--- Discount >  12.50\n",
      "|   |--- class: 1\n",
      "\n"
     ]
    }
   ],
   "source": [
    "# We can also get our rules in textual format\n",
    "feature_names = X_train.columns\n",
    "text_representation = tree.export_text(model, feature_names=feature_names)\n",
    "print(text_representation)"
   ]
  },
  {
   "cell_type": "code",
   "execution_count": 59,
   "id": "924fd7a8",
   "metadata": {},
   "outputs": [
    {
     "data": {
      "text/plain": [
       "Text(0.5, 1.0, 'Confusion Matrix')"
      ]
     },
     "execution_count": 59,
     "metadata": {},
     "output_type": "execute_result"
    },
    {
     "data": {
      "image/png": "[encoded data removed]",
      "text/plain": [
       "<Figure size 500x500 with 2 Axes>"
      ]
     },
     "metadata": {},
     "output_type": "display_data"
    }
   ],
   "source": [
    "# We use the confusion matrix to visualize the performance of our classifier.\n",
    "# It helps us understand how well the model distinguishes between the classes,\n",
    "# showing the number of correct and incorrect predictions for each class.\n",
    "confusion_matrix = metrics.confusion_matrix(y_test, y_pred_pruned)\n",
    "plt.figure(figsize=(5,5))\n",
    "sns.heatmap(confusion_matrix, annot=True, fmt=\".3f\", linewidths=.5, square=True, cmap=\"Blues_r\")\n",
    "plt.ylabel('Actual Label')\n",
    "plt.xlabel('Predicted Label')\n",
    "plt.title('Confusion Matrix', size = 10)"
   ]
  },
  {
   "cell_type": "code",
   "execution_count": 60,
   "id": "5bca4414",
   "metadata": {},
   "outputs": [
    {
     "name": "stdout",
     "output_type": "stream",
     "text": [
      "              precision    recall  f1-score   support\n",
      "\n",
      "           0       0.86      1.00      0.92       354\n",
      "           1       1.00      0.72      0.84       215\n",
      "\n",
      "    accuracy                           0.89       569\n",
      "   macro avg       0.93      0.86      0.88       569\n",
      "weighted avg       0.91      0.89      0.89       569\n",
      "\n"
     ]
    }
   ],
   "source": [
    "# We analyze the classification report to get further insights in the performance of our model\n",
    "print(classification_report(y_test, y_pred_pruned))"
   ]
  }
 ],
 "metadata": {
  "kernelspec": {
   "display_name": "Python 3",
   "language": "python",
   "name": "python3"
  },
  "language_info": {
   "codemirror_mode": {
    "name": "ipython",
    "version": 3
   },
   "file_extension": ".py",
   "mimetype": "text/x-python",
   "name": "python",
   "nbconvert_exporter": "python",
   "pygments_lexer": "ipython3",
   "version": "3.13.4"
  }
 },
 "nbformat": 4,
 "nbformat_minor": 5
}
