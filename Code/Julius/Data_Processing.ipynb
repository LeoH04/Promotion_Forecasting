{
 "cells": [
  {
   "cell_type": "markdown",
   "id": "804cee95",
   "metadata": {},
   "source": [
    "# Data Processing"
   ]
  },
  {
   "cell_type": "markdown",
   "id": "e53b434e",
   "metadata": {},
   "source": [
    "Kick out unnessesary colums like <br>\n",
    "- Epidemic (This column only consists of 0 and does not add any value)\n",
    "- Seasonality (This column is filled just with Winter and therefore does not add any value)"
   ]
  },
  {
   "cell_type": "code",
   "execution_count": 159,
   "id": "32b00498",
   "metadata": {},
   "outputs": [
    {
     "data": {
      "application/vnd.microsoft.datawrangler.viewer.v0+json": {
       "columns": [
        {
         "name": "index",
         "rawType": "int64",
         "type": "integer"
        },
        {
         "name": "Date",
         "rawType": "object",
         "type": "string"
        },
        {
         "name": "Store ID",
         "rawType": "object",
         "type": "string"
        },
        {
         "name": "Product ID",
         "rawType": "object",
         "type": "string"
        },
        {
         "name": "Category",
         "rawType": "object",
         "type": "string"
        },
        {
         "name": "Region",
         "rawType": "object",
         "type": "string"
        },
        {
         "name": "Inventory Level",
         "rawType": "int64",
         "type": "integer"
        },
        {
         "name": "Units Sold",
         "rawType": "int64",
         "type": "integer"
        },
        {
         "name": "Units Ordered",
         "rawType": "int64",
         "type": "integer"
        },
        {
         "name": "Price",
         "rawType": "float64",
         "type": "float"
        },
        {
         "name": "Discount",
         "rawType": "int64",
         "type": "integer"
        },
        {
         "name": "Weather Condition",
         "rawType": "object",
         "type": "string"
        },
        {
         "name": "Promotion",
         "rawType": "int64",
         "type": "integer"
        },
        {
         "name": "Competitor Pricing",
         "rawType": "float64",
         "type": "float"
        },
        {
         "name": "Seasonality",
         "rawType": "object",
         "type": "string"
        },
        {
         "name": "Epidemic",
         "rawType": "int64",
         "type": "integer"
        },
        {
         "name": "Demand",
         "rawType": "int64",
         "type": "integer"
        }
       ],
       "ref": "462ac049-bea7-4f89-a010-b39e14a2ff25",
       "rows": [
        [
         "0",
         "2022-01-01",
         "S001",
         "P0001",
         "Electronics",
         "North",
         "195",
         "102",
         "252",
         "72.72",
         "5",
         "Snowy",
         "0",
         "85.73",
         "Winter",
         "0",
         "115"
        ],
        [
         "1",
         "2022-01-01",
         "S001",
         "P0002",
         "Clothing",
         "North",
         "117",
         "117",
         "249",
         "80.16",
         "15",
         "Snowy",
         "1",
         "92.02",
         "Winter",
         "0",
         "229"
        ],
        [
         "2",
         "2022-01-01",
         "S001",
         "P0003",
         "Clothing",
         "North",
         "247",
         "114",
         "612",
         "62.94",
         "10",
         "Snowy",
         "1",
         "60.08",
         "Winter",
         "0",
         "157"
        ],
        [
         "3",
         "2022-01-01",
         "S001",
         "P0004",
         "Electronics",
         "North",
         "139",
         "45",
         "102",
         "87.63",
         "10",
         "Snowy",
         "0",
         "85.19",
         "Winter",
         "0",
         "52"
        ],
        [
         "4",
         "2022-01-01",
         "S001",
         "P0005",
         "Groceries",
         "North",
         "152",
         "65",
         "271",
         "54.41",
         "0",
         "Snowy",
         "0",
         "51.63",
         "Winter",
         "0",
         "59"
        ]
       ],
       "shape": {
        "columns": 16,
        "rows": 5
       }
      },
      "text/html": [
       "<div>\n",
       "<style scoped>\n",
       "    .dataframe tbody tr th:only-of-type {\n",
       "        vertical-align: middle;\n",
       "    }\n",
       "\n",
       "    .dataframe tbody tr th {\n",
       "        vertical-align: top;\n",
       "    }\n",
       "\n",
       "    .dataframe thead th {\n",
       "        text-align: right;\n",
       "    }\n",
       "</style>\n",
       "<table border=\"1\" class=\"dataframe\">\n",
       "  <thead>\n",
       "    <tr style=\"text-align: right;\">\n",
       "      <th></th>\n",
       "      <th>Date</th>\n",
       "      <th>Store ID</th>\n",
       "      <th>Product ID</th>\n",
       "      <th>Category</th>\n",
       "      <th>Region</th>\n",
       "      <th>Inventory Level</th>\n",
       "      <th>Units Sold</th>\n",
       "      <th>Units Ordered</th>\n",
       "      <th>Price</th>\n",
       "      <th>Discount</th>\n",
       "      <th>Weather Condition</th>\n",
       "      <th>Promotion</th>\n",
       "      <th>Competitor Pricing</th>\n",
       "      <th>Seasonality</th>\n",
       "      <th>Epidemic</th>\n",
       "      <th>Demand</th>\n",
       "    </tr>\n",
       "  </thead>\n",
       "  <tbody>\n",
       "    <tr>\n",
       "      <th>0</th>\n",
       "      <td>2022-01-01</td>\n",
       "      <td>S001</td>\n",
       "      <td>P0001</td>\n",
       "      <td>Electronics</td>\n",
       "      <td>North</td>\n",
       "      <td>195</td>\n",
       "      <td>102</td>\n",
       "      <td>252</td>\n",
       "      <td>72.72</td>\n",
       "      <td>5</td>\n",
       "      <td>Snowy</td>\n",
       "      <td>0</td>\n",
       "      <td>85.73</td>\n",
       "      <td>Winter</td>\n",
       "      <td>0</td>\n",
       "      <td>115</td>\n",
       "    </tr>\n",
       "    <tr>\n",
       "      <th>1</th>\n",
       "      <td>2022-01-01</td>\n",
       "      <td>S001</td>\n",
       "      <td>P0002</td>\n",
       "      <td>Clothing</td>\n",
       "      <td>North</td>\n",
       "      <td>117</td>\n",
       "      <td>117</td>\n",
       "      <td>249</td>\n",
       "      <td>80.16</td>\n",
       "      <td>15</td>\n",
       "      <td>Snowy</td>\n",
       "      <td>1</td>\n",
       "      <td>92.02</td>\n",
       "      <td>Winter</td>\n",
       "      <td>0</td>\n",
       "      <td>229</td>\n",
       "    </tr>\n",
       "    <tr>\n",
       "      <th>2</th>\n",
       "      <td>2022-01-01</td>\n",
       "      <td>S001</td>\n",
       "      <td>P0003</td>\n",
       "      <td>Clothing</td>\n",
       "      <td>North</td>\n",
       "      <td>247</td>\n",
       "      <td>114</td>\n",
       "      <td>612</td>\n",
       "      <td>62.94</td>\n",
       "      <td>10</td>\n",
       "      <td>Snowy</td>\n",
       "      <td>1</td>\n",
       "      <td>60.08</td>\n",
       "      <td>Winter</td>\n",
       "      <td>0</td>\n",
       "      <td>157</td>\n",
       "    </tr>\n",
       "    <tr>\n",
       "      <th>3</th>\n",
       "      <td>2022-01-01</td>\n",
       "      <td>S001</td>\n",
       "      <td>P0004</td>\n",
       "      <td>Electronics</td>\n",
       "      <td>North</td>\n",
       "      <td>139</td>\n",
       "      <td>45</td>\n",
       "      <td>102</td>\n",
       "      <td>87.63</td>\n",
       "      <td>10</td>\n",
       "      <td>Snowy</td>\n",
       "      <td>0</td>\n",
       "      <td>85.19</td>\n",
       "      <td>Winter</td>\n",
       "      <td>0</td>\n",
       "      <td>52</td>\n",
       "    </tr>\n",
       "    <tr>\n",
       "      <th>4</th>\n",
       "      <td>2022-01-01</td>\n",
       "      <td>S001</td>\n",
       "      <td>P0005</td>\n",
       "      <td>Groceries</td>\n",
       "      <td>North</td>\n",
       "      <td>152</td>\n",
       "      <td>65</td>\n",
       "      <td>271</td>\n",
       "      <td>54.41</td>\n",
       "      <td>0</td>\n",
       "      <td>Snowy</td>\n",
       "      <td>0</td>\n",
       "      <td>51.63</td>\n",
       "      <td>Winter</td>\n",
       "      <td>0</td>\n",
       "      <td>59</td>\n",
       "    </tr>\n",
       "  </tbody>\n",
       "</table>\n",
       "</div>"
      ],
      "text/plain": [
       "         Date Store ID Product ID     Category Region  Inventory Level  \\\n",
       "0  2022-01-01     S001      P0001  Electronics  North              195   \n",
       "1  2022-01-01     S001      P0002     Clothing  North              117   \n",
       "2  2022-01-01     S001      P0003     Clothing  North              247   \n",
       "3  2022-01-01     S001      P0004  Electronics  North              139   \n",
       "4  2022-01-01     S001      P0005    Groceries  North              152   \n",
       "\n",
       "   Units Sold  Units Ordered  Price  Discount Weather Condition  Promotion  \\\n",
       "0         102            252  72.72         5             Snowy          0   \n",
       "1         117            249  80.16        15             Snowy          1   \n",
       "2         114            612  62.94        10             Snowy          1   \n",
       "3          45            102  87.63        10             Snowy          0   \n",
       "4          65            271  54.41         0             Snowy          0   \n",
       "\n",
       "   Competitor Pricing Seasonality  Epidemic  Demand  \n",
       "0               85.73      Winter         0     115  \n",
       "1               92.02      Winter         0     229  \n",
       "2               60.08      Winter         0     157  \n",
       "3               85.19      Winter         0      52  \n",
       "4               51.63      Winter         0      59  "
      ]
     },
     "execution_count": 159,
     "metadata": {},
     "output_type": "execute_result"
    }
   ],
   "source": [
    "import numpy as np\n",
    "import pandas as pd\n",
    "from skrebate import ReliefF\n",
    "\n",
    "# Read in the data\n",
    "df = pd.read_csv(\"../../Data/Raw/inventory_management.csv\")\n",
    "# Make sure its correct\n",
    "df.head()"
   ]
  },
  {
   "cell_type": "code",
   "execution_count": 160,
   "id": "928a2705",
   "metadata": {},
   "outputs": [
    {
     "data": {
      "application/vnd.microsoft.datawrangler.viewer.v0+json": {
       "columns": [
        {
         "name": "index",
         "rawType": "int64",
         "type": "integer"
        },
        {
         "name": "Date",
         "rawType": "object",
         "type": "string"
        },
        {
         "name": "Store ID",
         "rawType": "object",
         "type": "string"
        },
        {
         "name": "Product ID",
         "rawType": "object",
         "type": "string"
        },
        {
         "name": "Category",
         "rawType": "object",
         "type": "string"
        },
        {
         "name": "Region",
         "rawType": "object",
         "type": "string"
        },
        {
         "name": "Inventory Level",
         "rawType": "int64",
         "type": "integer"
        },
        {
         "name": "Units Sold",
         "rawType": "int64",
         "type": "integer"
        },
        {
         "name": "Units Ordered",
         "rawType": "int64",
         "type": "integer"
        },
        {
         "name": "Price",
         "rawType": "float64",
         "type": "float"
        },
        {
         "name": "Discount",
         "rawType": "int64",
         "type": "integer"
        },
        {
         "name": "Weather Condition",
         "rawType": "object",
         "type": "string"
        },
        {
         "name": "Promotion",
         "rawType": "int64",
         "type": "integer"
        },
        {
         "name": "Competitor Pricing",
         "rawType": "float64",
         "type": "float"
        },
        {
         "name": "Demand",
         "rawType": "int64",
         "type": "integer"
        }
       ],
       "ref": "3c2c2af0-61d2-4b38-9632-d41216959950",
       "rows": [
        [
         "0",
         "2022-01-01",
         "S001",
         "P0001",
         "Electronics",
         "North",
         "195",
         "102",
         "252",
         "72.72",
         "5",
         "Snowy",
         "0",
         "85.73",
         "115"
        ],
        [
         "1",
         "2022-01-01",
         "S001",
         "P0002",
         "Clothing",
         "North",
         "117",
         "117",
         "249",
         "80.16",
         "15",
         "Snowy",
         "1",
         "92.02",
         "229"
        ],
        [
         "2",
         "2022-01-01",
         "S001",
         "P0003",
         "Clothing",
         "North",
         "247",
         "114",
         "612",
         "62.94",
         "10",
         "Snowy",
         "1",
         "60.08",
         "157"
        ],
        [
         "3",
         "2022-01-01",
         "S001",
         "P0004",
         "Electronics",
         "North",
         "139",
         "45",
         "102",
         "87.63",
         "10",
         "Snowy",
         "0",
         "85.19",
         "52"
        ],
        [
         "4",
         "2022-01-01",
         "S001",
         "P0005",
         "Groceries",
         "North",
         "152",
         "65",
         "271",
         "54.41",
         "0",
         "Snowy",
         "0",
         "51.63",
         "59"
        ]
       ],
       "shape": {
        "columns": 14,
        "rows": 5
       }
      },
      "text/html": [
       "<div>\n",
       "<style scoped>\n",
       "    .dataframe tbody tr th:only-of-type {\n",
       "        vertical-align: middle;\n",
       "    }\n",
       "\n",
       "    .dataframe tbody tr th {\n",
       "        vertical-align: top;\n",
       "    }\n",
       "\n",
       "    .dataframe thead th {\n",
       "        text-align: right;\n",
       "    }\n",
       "</style>\n",
       "<table border=\"1\" class=\"dataframe\">\n",
       "  <thead>\n",
       "    <tr style=\"text-align: right;\">\n",
       "      <th></th>\n",
       "      <th>Date</th>\n",
       "      <th>Store ID</th>\n",
       "      <th>Product ID</th>\n",
       "      <th>Category</th>\n",
       "      <th>Region</th>\n",
       "      <th>Inventory Level</th>\n",
       "      <th>Units Sold</th>\n",
       "      <th>Units Ordered</th>\n",
       "      <th>Price</th>\n",
       "      <th>Discount</th>\n",
       "      <th>Weather Condition</th>\n",
       "      <th>Promotion</th>\n",
       "      <th>Competitor Pricing</th>\n",
       "      <th>Demand</th>\n",
       "    </tr>\n",
       "  </thead>\n",
       "  <tbody>\n",
       "    <tr>\n",
       "      <th>0</th>\n",
       "      <td>2022-01-01</td>\n",
       "      <td>S001</td>\n",
       "      <td>P0001</td>\n",
       "      <td>Electronics</td>\n",
       "      <td>North</td>\n",
       "      <td>195</td>\n",
       "      <td>102</td>\n",
       "      <td>252</td>\n",
       "      <td>72.72</td>\n",
       "      <td>5</td>\n",
       "      <td>Snowy</td>\n",
       "      <td>0</td>\n",
       "      <td>85.73</td>\n",
       "      <td>115</td>\n",
       "    </tr>\n",
       "    <tr>\n",
       "      <th>1</th>\n",
       "      <td>2022-01-01</td>\n",
       "      <td>S001</td>\n",
       "      <td>P0002</td>\n",
       "      <td>Clothing</td>\n",
       "      <td>North</td>\n",
       "      <td>117</td>\n",
       "      <td>117</td>\n",
       "      <td>249</td>\n",
       "      <td>80.16</td>\n",
       "      <td>15</td>\n",
       "      <td>Snowy</td>\n",
       "      <td>1</td>\n",
       "      <td>92.02</td>\n",
       "      <td>229</td>\n",
       "    </tr>\n",
       "    <tr>\n",
       "      <th>2</th>\n",
       "      <td>2022-01-01</td>\n",
       "      <td>S001</td>\n",
       "      <td>P0003</td>\n",
       "      <td>Clothing</td>\n",
       "      <td>North</td>\n",
       "      <td>247</td>\n",
       "      <td>114</td>\n",
       "      <td>612</td>\n",
       "      <td>62.94</td>\n",
       "      <td>10</td>\n",
       "      <td>Snowy</td>\n",
       "      <td>1</td>\n",
       "      <td>60.08</td>\n",
       "      <td>157</td>\n",
       "    </tr>\n",
       "    <tr>\n",
       "      <th>3</th>\n",
       "      <td>2022-01-01</td>\n",
       "      <td>S001</td>\n",
       "      <td>P0004</td>\n",
       "      <td>Electronics</td>\n",
       "      <td>North</td>\n",
       "      <td>139</td>\n",
       "      <td>45</td>\n",
       "      <td>102</td>\n",
       "      <td>87.63</td>\n",
       "      <td>10</td>\n",
       "      <td>Snowy</td>\n",
       "      <td>0</td>\n",
       "      <td>85.19</td>\n",
       "      <td>52</td>\n",
       "    </tr>\n",
       "    <tr>\n",
       "      <th>4</th>\n",
       "      <td>2022-01-01</td>\n",
       "      <td>S001</td>\n",
       "      <td>P0005</td>\n",
       "      <td>Groceries</td>\n",
       "      <td>North</td>\n",
       "      <td>152</td>\n",
       "      <td>65</td>\n",
       "      <td>271</td>\n",
       "      <td>54.41</td>\n",
       "      <td>0</td>\n",
       "      <td>Snowy</td>\n",
       "      <td>0</td>\n",
       "      <td>51.63</td>\n",
       "      <td>59</td>\n",
       "    </tr>\n",
       "  </tbody>\n",
       "</table>\n",
       "</div>"
      ],
      "text/plain": [
       "         Date Store ID Product ID     Category Region  Inventory Level  \\\n",
       "0  2022-01-01     S001      P0001  Electronics  North              195   \n",
       "1  2022-01-01     S001      P0002     Clothing  North              117   \n",
       "2  2022-01-01     S001      P0003     Clothing  North              247   \n",
       "3  2022-01-01     S001      P0004  Electronics  North              139   \n",
       "4  2022-01-01     S001      P0005    Groceries  North              152   \n",
       "\n",
       "   Units Sold  Units Ordered  Price  Discount Weather Condition  Promotion  \\\n",
       "0         102            252  72.72         5             Snowy          0   \n",
       "1         117            249  80.16        15             Snowy          1   \n",
       "2         114            612  62.94        10             Snowy          1   \n",
       "3          45            102  87.63        10             Snowy          0   \n",
       "4          65            271  54.41         0             Snowy          0   \n",
       "\n",
       "   Competitor Pricing  Demand  \n",
       "0               85.73     115  \n",
       "1               92.02     229  \n",
       "2               60.08     157  \n",
       "3               85.19      52  \n",
       "4               51.63      59  "
      ]
     },
     "execution_count": 160,
     "metadata": {},
     "output_type": "execute_result"
    }
   ],
   "source": [
    "# Delete both rows\n",
    "df = df.drop('Seasonality',axis=1)\n",
    "df = df.drop('Epidemic',axis=1)\n",
    "# Show new Table\n",
    "df.head()"
   ]
  },
  {
   "cell_type": "markdown",
   "id": "694cc3f7",
   "metadata": {},
   "source": [
    "Transform Data <br>\n",
    "- Create a key for each product which consists of the Store and Product ID in Order to create a forecast for each Item -> Kick out Category and safe an extra table in order to find what Item belongs where if needed\n",
    "- Categorize the dates to the week days in order to create broad forcast and not only for dates.\n",
    "- Merge the Competitor Price and Price in order to reduce redundancy and improve interpretability of the end tree"
   ]
  },
  {
   "cell_type": "code",
   "execution_count": 161,
   "id": "0b627e91",
   "metadata": {},
   "outputs": [],
   "source": [
    "# Create uniquie product IDs\n",
    "df['PKeyID'] = df['Store ID'].astype(str) + '_' + df['Product ID'].astype(str)"
   ]
  },
  {
   "cell_type": "code",
   "execution_count": 162,
   "id": "e1d03155",
   "metadata": {},
   "outputs": [
    {
     "name": "stdout",
     "output_type": "stream",
     "text": [
      "PKeyID\n",
      "S001_P0001    18\n",
      "S001_P0013    18\n",
      "S001_P0002    18\n",
      "S002_P0002    18\n",
      "S001_P0020    18\n",
      "              ..\n",
      "S003_P0006    17\n",
      "S003_P0005    17\n",
      "S003_P0004    17\n",
      "S003_P0003    17\n",
      "S005_P0020    17\n",
      "Name: count, Length: 100, dtype: int64\n",
      "Number of unique PKeyIDs: 100\n",
      "count           1722\n",
      "unique           100\n",
      "top       S001_P0001\n",
      "freq              18\n",
      "Name: PKeyID, dtype: object\n"
     ]
    }
   ],
   "source": [
    "# Check if everything went well\n",
    "df.head()\n",
    "# Distribution: count of each unique PKeyID\n",
    "print(df['PKeyID'].value_counts())\n",
    "# Number of unique PKeyIDs\n",
    "print(\"Number of unique PKeyIDs:\", df['PKeyID'].nunique())\n",
    "# General statistics (for object columns, describe gives count, unique, top, freq)\n",
    "print(df['PKeyID'].describe())"
   ]
  },
  {
   "cell_type": "code",
   "execution_count": 163,
   "id": "6bc4aba2",
   "metadata": {},
   "outputs": [
    {
     "data": {
      "application/vnd.microsoft.datawrangler.viewer.v0+json": {
       "columns": [
        {
         "name": "index",
         "rawType": "int64",
         "type": "integer"
        },
        {
         "name": "Date",
         "rawType": "object",
         "type": "string"
        },
        {
         "name": "Category",
         "rawType": "object",
         "type": "string"
        },
        {
         "name": "Region",
         "rawType": "object",
         "type": "string"
        },
        {
         "name": "Inventory Level",
         "rawType": "int64",
         "type": "integer"
        },
        {
         "name": "Units Sold",
         "rawType": "int64",
         "type": "integer"
        },
        {
         "name": "Units Ordered",
         "rawType": "int64",
         "type": "integer"
        },
        {
         "name": "Price",
         "rawType": "float64",
         "type": "float"
        },
        {
         "name": "Discount",
         "rawType": "int64",
         "type": "integer"
        },
        {
         "name": "Weather Condition",
         "rawType": "object",
         "type": "string"
        },
        {
         "name": "Promotion",
         "rawType": "int64",
         "type": "integer"
        },
        {
         "name": "Competitor Pricing",
         "rawType": "float64",
         "type": "float"
        },
        {
         "name": "Demand",
         "rawType": "int64",
         "type": "integer"
        },
        {
         "name": "PKeyID",
         "rawType": "object",
         "type": "string"
        }
       ],
       "ref": "d3659365-f428-4d0d-954d-2cc96f09e6cb",
       "rows": [
        [
         "0",
         "2022-01-01",
         "Electronics",
         "North",
         "195",
         "102",
         "252",
         "72.72",
         "5",
         "Snowy",
         "0",
         "85.73",
         "115",
         "S001_P0001"
        ],
        [
         "1",
         "2022-01-01",
         "Clothing",
         "North",
         "117",
         "117",
         "249",
         "80.16",
         "15",
         "Snowy",
         "1",
         "92.02",
         "229",
         "S001_P0002"
        ]
       ],
       "shape": {
        "columns": 13,
        "rows": 2
       }
      },
      "text/html": [
       "<div>\n",
       "<style scoped>\n",
       "    .dataframe tbody tr th:only-of-type {\n",
       "        vertical-align: middle;\n",
       "    }\n",
       "\n",
       "    .dataframe tbody tr th {\n",
       "        vertical-align: top;\n",
       "    }\n",
       "\n",
       "    .dataframe thead th {\n",
       "        text-align: right;\n",
       "    }\n",
       "</style>\n",
       "<table border=\"1\" class=\"dataframe\">\n",
       "  <thead>\n",
       "    <tr style=\"text-align: right;\">\n",
       "      <th></th>\n",
       "      <th>Date</th>\n",
       "      <th>Category</th>\n",
       "      <th>Region</th>\n",
       "      <th>Inventory Level</th>\n",
       "      <th>Units Sold</th>\n",
       "      <th>Units Ordered</th>\n",
       "      <th>Price</th>\n",
       "      <th>Discount</th>\n",
       "      <th>Weather Condition</th>\n",
       "      <th>Promotion</th>\n",
       "      <th>Competitor Pricing</th>\n",
       "      <th>Demand</th>\n",
       "      <th>PKeyID</th>\n",
       "    </tr>\n",
       "  </thead>\n",
       "  <tbody>\n",
       "    <tr>\n",
       "      <th>0</th>\n",
       "      <td>2022-01-01</td>\n",
       "      <td>Electronics</td>\n",
       "      <td>North</td>\n",
       "      <td>195</td>\n",
       "      <td>102</td>\n",
       "      <td>252</td>\n",
       "      <td>72.72</td>\n",
       "      <td>5</td>\n",
       "      <td>Snowy</td>\n",
       "      <td>0</td>\n",
       "      <td>85.73</td>\n",
       "      <td>115</td>\n",
       "      <td>S001_P0001</td>\n",
       "    </tr>\n",
       "    <tr>\n",
       "      <th>1</th>\n",
       "      <td>2022-01-01</td>\n",
       "      <td>Clothing</td>\n",
       "      <td>North</td>\n",
       "      <td>117</td>\n",
       "      <td>117</td>\n",
       "      <td>249</td>\n",
       "      <td>80.16</td>\n",
       "      <td>15</td>\n",
       "      <td>Snowy</td>\n",
       "      <td>1</td>\n",
       "      <td>92.02</td>\n",
       "      <td>229</td>\n",
       "      <td>S001_P0002</td>\n",
       "    </tr>\n",
       "  </tbody>\n",
       "</table>\n",
       "</div>"
      ],
      "text/plain": [
       "         Date     Category Region  Inventory Level  Units Sold  Units Ordered  \\\n",
       "0  2022-01-01  Electronics  North              195         102            252   \n",
       "1  2022-01-01     Clothing  North              117         117            249   \n",
       "\n",
       "   Price  Discount Weather Condition  Promotion  Competitor Pricing  Demand  \\\n",
       "0  72.72         5             Snowy          0               85.73     115   \n",
       "1  80.16        15             Snowy          1               92.02     229   \n",
       "\n",
       "       PKeyID  \n",
       "0  S001_P0001  \n",
       "1  S001_P0002  "
      ]
     },
     "execution_count": 163,
     "metadata": {},
     "output_type": "execute_result"
    }
   ],
   "source": [
    "# Drop unnessesary colum Product ID and Store ID\n",
    "df = df.drop('Store ID',axis=1)\n",
    "df = df.drop('Product ID',axis=1)\n",
    "# Check Dataframe\n",
    "df.head(2)"
   ]
  },
  {
   "cell_type": "code",
   "execution_count": 164,
   "id": "14753c0a",
   "metadata": {},
   "outputs": [
    {
     "data": {
      "application/vnd.microsoft.datawrangler.viewer.v0+json": {
       "columns": [
        {
         "name": "index",
         "rawType": "int64",
         "type": "integer"
        },
        {
         "name": "Date",
         "rawType": "datetime64[ns]",
         "type": "datetime"
        },
        {
         "name": "Category",
         "rawType": "object",
         "type": "string"
        },
        {
         "name": "Region",
         "rawType": "object",
         "type": "string"
        },
        {
         "name": "Inventory Level",
         "rawType": "int64",
         "type": "integer"
        },
        {
         "name": "Units Sold",
         "rawType": "int64",
         "type": "integer"
        },
        {
         "name": "Units Ordered",
         "rawType": "int64",
         "type": "integer"
        },
        {
         "name": "Price",
         "rawType": "float64",
         "type": "float"
        },
        {
         "name": "Discount",
         "rawType": "int64",
         "type": "integer"
        },
        {
         "name": "Weather Condition",
         "rawType": "object",
         "type": "string"
        },
        {
         "name": "Promotion",
         "rawType": "int64",
         "type": "integer"
        },
        {
         "name": "Competitor Pricing",
         "rawType": "float64",
         "type": "float"
        },
        {
         "name": "Demand",
         "rawType": "int64",
         "type": "integer"
        },
        {
         "name": "PKeyID",
         "rawType": "object",
         "type": "string"
        },
        {
         "name": "Weekday",
         "rawType": "object",
         "type": "string"
        }
       ],
       "ref": "ab1e0f36-379b-4242-9586-02aee84fd106",
       "rows": [
        [
         "0",
         "2022-01-01 00:00:00",
         "Electronics",
         "North",
         "195",
         "102",
         "252",
         "72.72",
         "5",
         "Snowy",
         "0",
         "85.73",
         "115",
         "S001_P0001",
         "Saturday"
        ],
        [
         "1",
         "2022-01-01 00:00:00",
         "Clothing",
         "North",
         "117",
         "117",
         "249",
         "80.16",
         "15",
         "Snowy",
         "1",
         "92.02",
         "229",
         "S001_P0002",
         "Saturday"
        ],
        [
         "2",
         "2022-01-01 00:00:00",
         "Clothing",
         "North",
         "247",
         "114",
         "612",
         "62.94",
         "10",
         "Snowy",
         "1",
         "60.08",
         "157",
         "S001_P0003",
         "Saturday"
        ],
        [
         "3",
         "2022-01-01 00:00:00",
         "Electronics",
         "North",
         "139",
         "45",
         "102",
         "87.63",
         "10",
         "Snowy",
         "0",
         "85.19",
         "52",
         "S001_P0004",
         "Saturday"
        ],
        [
         "4",
         "2022-01-01 00:00:00",
         "Groceries",
         "North",
         "152",
         "65",
         "271",
         "54.41",
         "0",
         "Snowy",
         "0",
         "51.63",
         "59",
         "S001_P0005",
         "Saturday"
        ]
       ],
       "shape": {
        "columns": 14,
        "rows": 5
       }
      },
      "text/html": [
       "<div>\n",
       "<style scoped>\n",
       "    .dataframe tbody tr th:only-of-type {\n",
       "        vertical-align: middle;\n",
       "    }\n",
       "\n",
       "    .dataframe tbody tr th {\n",
       "        vertical-align: top;\n",
       "    }\n",
       "\n",
       "    .dataframe thead th {\n",
       "        text-align: right;\n",
       "    }\n",
       "</style>\n",
       "<table border=\"1\" class=\"dataframe\">\n",
       "  <thead>\n",
       "    <tr style=\"text-align: right;\">\n",
       "      <th></th>\n",
       "      <th>Date</th>\n",
       "      <th>Category</th>\n",
       "      <th>Region</th>\n",
       "      <th>Inventory Level</th>\n",
       "      <th>Units Sold</th>\n",
       "      <th>Units Ordered</th>\n",
       "      <th>Price</th>\n",
       "      <th>Discount</th>\n",
       "      <th>Weather Condition</th>\n",
       "      <th>Promotion</th>\n",
       "      <th>Competitor Pricing</th>\n",
       "      <th>Demand</th>\n",
       "      <th>PKeyID</th>\n",
       "      <th>Weekday</th>\n",
       "    </tr>\n",
       "  </thead>\n",
       "  <tbody>\n",
       "    <tr>\n",
       "      <th>0</th>\n",
       "      <td>2022-01-01</td>\n",
       "      <td>Electronics</td>\n",
       "      <td>North</td>\n",
       "      <td>195</td>\n",
       "      <td>102</td>\n",
       "      <td>252</td>\n",
       "      <td>72.72</td>\n",
       "      <td>5</td>\n",
       "      <td>Snowy</td>\n",
       "      <td>0</td>\n",
       "      <td>85.73</td>\n",
       "      <td>115</td>\n",
       "      <td>S001_P0001</td>\n",
       "      <td>Saturday</td>\n",
       "    </tr>\n",
       "    <tr>\n",
       "      <th>1</th>\n",
       "      <td>2022-01-01</td>\n",
       "      <td>Clothing</td>\n",
       "      <td>North</td>\n",
       "      <td>117</td>\n",
       "      <td>117</td>\n",
       "      <td>249</td>\n",
       "      <td>80.16</td>\n",
       "      <td>15</td>\n",
       "      <td>Snowy</td>\n",
       "      <td>1</td>\n",
       "      <td>92.02</td>\n",
       "      <td>229</td>\n",
       "      <td>S001_P0002</td>\n",
       "      <td>Saturday</td>\n",
       "    </tr>\n",
       "    <tr>\n",
       "      <th>2</th>\n",
       "      <td>2022-01-01</td>\n",
       "      <td>Clothing</td>\n",
       "      <td>North</td>\n",
       "      <td>247</td>\n",
       "      <td>114</td>\n",
       "      <td>612</td>\n",
       "      <td>62.94</td>\n",
       "      <td>10</td>\n",
       "      <td>Snowy</td>\n",
       "      <td>1</td>\n",
       "      <td>60.08</td>\n",
       "      <td>157</td>\n",
       "      <td>S001_P0003</td>\n",
       "      <td>Saturday</td>\n",
       "    </tr>\n",
       "    <tr>\n",
       "      <th>3</th>\n",
       "      <td>2022-01-01</td>\n",
       "      <td>Electronics</td>\n",
       "      <td>North</td>\n",
       "      <td>139</td>\n",
       "      <td>45</td>\n",
       "      <td>102</td>\n",
       "      <td>87.63</td>\n",
       "      <td>10</td>\n",
       "      <td>Snowy</td>\n",
       "      <td>0</td>\n",
       "      <td>85.19</td>\n",
       "      <td>52</td>\n",
       "      <td>S001_P0004</td>\n",
       "      <td>Saturday</td>\n",
       "    </tr>\n",
       "    <tr>\n",
       "      <th>4</th>\n",
       "      <td>2022-01-01</td>\n",
       "      <td>Groceries</td>\n",
       "      <td>North</td>\n",
       "      <td>152</td>\n",
       "      <td>65</td>\n",
       "      <td>271</td>\n",
       "      <td>54.41</td>\n",
       "      <td>0</td>\n",
       "      <td>Snowy</td>\n",
       "      <td>0</td>\n",
       "      <td>51.63</td>\n",
       "      <td>59</td>\n",
       "      <td>S001_P0005</td>\n",
       "      <td>Saturday</td>\n",
       "    </tr>\n",
       "  </tbody>\n",
       "</table>\n",
       "</div>"
      ],
      "text/plain": [
       "        Date     Category Region  Inventory Level  Units Sold  Units Ordered  \\\n",
       "0 2022-01-01  Electronics  North              195         102            252   \n",
       "1 2022-01-01     Clothing  North              117         117            249   \n",
       "2 2022-01-01     Clothing  North              247         114            612   \n",
       "3 2022-01-01  Electronics  North              139          45            102   \n",
       "4 2022-01-01    Groceries  North              152          65            271   \n",
       "\n",
       "   Price  Discount Weather Condition  Promotion  Competitor Pricing  Demand  \\\n",
       "0  72.72         5             Snowy          0               85.73     115   \n",
       "1  80.16        15             Snowy          1               92.02     229   \n",
       "2  62.94        10             Snowy          1               60.08     157   \n",
       "3  87.63        10             Snowy          0               85.19      52   \n",
       "4  54.41         0             Snowy          0               51.63      59   \n",
       "\n",
       "       PKeyID   Weekday  \n",
       "0  S001_P0001  Saturday  \n",
       "1  S001_P0002  Saturday  \n",
       "2  S001_P0003  Saturday  \n",
       "3  S001_P0004  Saturday  \n",
       "4  S001_P0005  Saturday  "
      ]
     },
     "execution_count": 164,
     "metadata": {},
     "output_type": "execute_result"
    }
   ],
   "source": [
    "# Changing the Dates to the actual Weekday since it gives us better results\n",
    "df['Date'] = pd.to_datetime(df['Date'])  # Convert to datetime if not already\n",
    "df['Weekday'] = df['Date'].dt.day_name()  # Create new column with weekday names\n",
    "df.head()"
   ]
  },
  {
   "cell_type": "code",
   "execution_count": 165,
   "id": "ae15ac35",
   "metadata": {},
   "outputs": [
    {
     "data": {
      "application/vnd.microsoft.datawrangler.viewer.v0+json": {
       "columns": [
        {
         "name": "index",
         "rawType": "int64",
         "type": "integer"
        },
        {
         "name": "Category",
         "rawType": "object",
         "type": "string"
        },
        {
         "name": "Region",
         "rawType": "object",
         "type": "string"
        },
        {
         "name": "Inventory Level",
         "rawType": "int64",
         "type": "integer"
        },
        {
         "name": "Units Sold",
         "rawType": "int64",
         "type": "integer"
        },
        {
         "name": "Units Ordered",
         "rawType": "int64",
         "type": "integer"
        },
        {
         "name": "Price",
         "rawType": "float64",
         "type": "float"
        },
        {
         "name": "Discount",
         "rawType": "int64",
         "type": "integer"
        },
        {
         "name": "Weather Condition",
         "rawType": "object",
         "type": "string"
        },
        {
         "name": "Promotion",
         "rawType": "int64",
         "type": "integer"
        },
        {
         "name": "Competitor Pricing",
         "rawType": "float64",
         "type": "float"
        },
        {
         "name": "Demand",
         "rawType": "int64",
         "type": "integer"
        },
        {
         "name": "PKeyID",
         "rawType": "object",
         "type": "string"
        },
        {
         "name": "Weekday",
         "rawType": "object",
         "type": "string"
        }
       ],
       "ref": "dd8aec84-7690-4d58-ba86-a88e9fc89dee",
       "rows": [
        [
         "0",
         "Electronics",
         "North",
         "195",
         "102",
         "252",
         "72.72",
         "5",
         "Snowy",
         "0",
         "85.73",
         "115",
         "S001_P0001",
         "Saturday"
        ],
        [
         "1",
         "Clothing",
         "North",
         "117",
         "117",
         "249",
         "80.16",
         "15",
         "Snowy",
         "1",
         "92.02",
         "229",
         "S001_P0002",
         "Saturday"
        ],
        [
         "2",
         "Clothing",
         "North",
         "247",
         "114",
         "612",
         "62.94",
         "10",
         "Snowy",
         "1",
         "60.08",
         "157",
         "S001_P0003",
         "Saturday"
        ],
        [
         "3",
         "Electronics",
         "North",
         "139",
         "45",
         "102",
         "87.63",
         "10",
         "Snowy",
         "0",
         "85.19",
         "52",
         "S001_P0004",
         "Saturday"
        ],
        [
         "4",
         "Groceries",
         "North",
         "152",
         "65",
         "271",
         "54.41",
         "0",
         "Snowy",
         "0",
         "51.63",
         "59",
         "S001_P0005",
         "Saturday"
        ]
       ],
       "shape": {
        "columns": 13,
        "rows": 5
       }
      },
      "text/html": [
       "<div>\n",
       "<style scoped>\n",
       "    .dataframe tbody tr th:only-of-type {\n",
       "        vertical-align: middle;\n",
       "    }\n",
       "\n",
       "    .dataframe tbody tr th {\n",
       "        vertical-align: top;\n",
       "    }\n",
       "\n",
       "    .dataframe thead th {\n",
       "        text-align: right;\n",
       "    }\n",
       "</style>\n",
       "<table border=\"1\" class=\"dataframe\">\n",
       "  <thead>\n",
       "    <tr style=\"text-align: right;\">\n",
       "      <th></th>\n",
       "      <th>Category</th>\n",
       "      <th>Region</th>\n",
       "      <th>Inventory Level</th>\n",
       "      <th>Units Sold</th>\n",
       "      <th>Units Ordered</th>\n",
       "      <th>Price</th>\n",
       "      <th>Discount</th>\n",
       "      <th>Weather Condition</th>\n",
       "      <th>Promotion</th>\n",
       "      <th>Competitor Pricing</th>\n",
       "      <th>Demand</th>\n",
       "      <th>PKeyID</th>\n",
       "      <th>Weekday</th>\n",
       "    </tr>\n",
       "  </thead>\n",
       "  <tbody>\n",
       "    <tr>\n",
       "      <th>0</th>\n",
       "      <td>Electronics</td>\n",
       "      <td>North</td>\n",
       "      <td>195</td>\n",
       "      <td>102</td>\n",
       "      <td>252</td>\n",
       "      <td>72.72</td>\n",
       "      <td>5</td>\n",
       "      <td>Snowy</td>\n",
       "      <td>0</td>\n",
       "      <td>85.73</td>\n",
       "      <td>115</td>\n",
       "      <td>S001_P0001</td>\n",
       "      <td>Saturday</td>\n",
       "    </tr>\n",
       "    <tr>\n",
       "      <th>1</th>\n",
       "      <td>Clothing</td>\n",
       "      <td>North</td>\n",
       "      <td>117</td>\n",
       "      <td>117</td>\n",
       "      <td>249</td>\n",
       "      <td>80.16</td>\n",
       "      <td>15</td>\n",
       "      <td>Snowy</td>\n",
       "      <td>1</td>\n",
       "      <td>92.02</td>\n",
       "      <td>229</td>\n",
       "      <td>S001_P0002</td>\n",
       "      <td>Saturday</td>\n",
       "    </tr>\n",
       "    <tr>\n",
       "      <th>2</th>\n",
       "      <td>Clothing</td>\n",
       "      <td>North</td>\n",
       "      <td>247</td>\n",
       "      <td>114</td>\n",
       "      <td>612</td>\n",
       "      <td>62.94</td>\n",
       "      <td>10</td>\n",
       "      <td>Snowy</td>\n",
       "      <td>1</td>\n",
       "      <td>60.08</td>\n",
       "      <td>157</td>\n",
       "      <td>S001_P0003</td>\n",
       "      <td>Saturday</td>\n",
       "    </tr>\n",
       "    <tr>\n",
       "      <th>3</th>\n",
       "      <td>Electronics</td>\n",
       "      <td>North</td>\n",
       "      <td>139</td>\n",
       "      <td>45</td>\n",
       "      <td>102</td>\n",
       "      <td>87.63</td>\n",
       "      <td>10</td>\n",
       "      <td>Snowy</td>\n",
       "      <td>0</td>\n",
       "      <td>85.19</td>\n",
       "      <td>52</td>\n",
       "      <td>S001_P0004</td>\n",
       "      <td>Saturday</td>\n",
       "    </tr>\n",
       "    <tr>\n",
       "      <th>4</th>\n",
       "      <td>Groceries</td>\n",
       "      <td>North</td>\n",
       "      <td>152</td>\n",
       "      <td>65</td>\n",
       "      <td>271</td>\n",
       "      <td>54.41</td>\n",
       "      <td>0</td>\n",
       "      <td>Snowy</td>\n",
       "      <td>0</td>\n",
       "      <td>51.63</td>\n",
       "      <td>59</td>\n",
       "      <td>S001_P0005</td>\n",
       "      <td>Saturday</td>\n",
       "    </tr>\n",
       "  </tbody>\n",
       "</table>\n",
       "</div>"
      ],
      "text/plain": [
       "      Category Region  Inventory Level  Units Sold  Units Ordered  Price  \\\n",
       "0  Electronics  North              195         102            252  72.72   \n",
       "1     Clothing  North              117         117            249  80.16   \n",
       "2     Clothing  North              247         114            612  62.94   \n",
       "3  Electronics  North              139          45            102  87.63   \n",
       "4    Groceries  North              152          65            271  54.41   \n",
       "\n",
       "   Discount Weather Condition  Promotion  Competitor Pricing  Demand  \\\n",
       "0         5             Snowy          0               85.73     115   \n",
       "1        15             Snowy          1               92.02     229   \n",
       "2        10             Snowy          1               60.08     157   \n",
       "3        10             Snowy          0               85.19      52   \n",
       "4         0             Snowy          0               51.63      59   \n",
       "\n",
       "       PKeyID   Weekday  \n",
       "0  S001_P0001  Saturday  \n",
       "1  S001_P0002  Saturday  \n",
       "2  S001_P0003  Saturday  \n",
       "3  S001_P0004  Saturday  \n",
       "4  S001_P0005  Saturday  "
      ]
     },
     "execution_count": 165,
     "metadata": {},
     "output_type": "execute_result"
    }
   ],
   "source": [
    "# Get rid of the unnessesary colum Date\n",
    "df = df.drop('Date',axis=1)\n",
    "df.head()"
   ]
  },
  {
   "cell_type": "code",
   "execution_count": 166,
   "id": "d1e14dbc",
   "metadata": {},
   "outputs": [],
   "source": [
    "# Save Category mapping to PKeyID\n",
    "# Drop duplicates only save one per PKeyID\n",
    "#mapping = df[['PKeyID', 'Category']].drop_duplicates()\n",
    "\n",
    "# Save to a text file (CSV format)\n",
    "#mapping.to_csv('../../Data/Transformed/Julius/PKeyID_Category_Mapping.txt', index=False, sep='\\t')"
   ]
  },
  {
   "cell_type": "code",
   "execution_count": 167,
   "id": "9ab9d719",
   "metadata": {},
   "outputs": [],
   "source": [
    "# Drop unnessesary data colum Category\n",
    "#df = df.drop('Category',axis=1)\n",
    "#df.head()"
   ]
  },
  {
   "cell_type": "code",
   "execution_count": 168,
   "id": "21e623df",
   "metadata": {},
   "outputs": [
    {
     "data": {
      "application/vnd.microsoft.datawrangler.viewer.v0+json": {
       "columns": [
        {
         "name": "index",
         "rawType": "int64",
         "type": "integer"
        },
        {
         "name": "Category",
         "rawType": "object",
         "type": "string"
        },
        {
         "name": "Region",
         "rawType": "object",
         "type": "string"
        },
        {
         "name": "Inventory Level",
         "rawType": "int64",
         "type": "integer"
        },
        {
         "name": "Units Sold",
         "rawType": "int64",
         "type": "integer"
        },
        {
         "name": "Units Ordered",
         "rawType": "int64",
         "type": "integer"
        },
        {
         "name": "Price",
         "rawType": "float64",
         "type": "float"
        },
        {
         "name": "Discount",
         "rawType": "int64",
         "type": "integer"
        },
        {
         "name": "Weather Condition",
         "rawType": "object",
         "type": "string"
        },
        {
         "name": "Promotion",
         "rawType": "int64",
         "type": "integer"
        },
        {
         "name": "Competitor Pricing",
         "rawType": "float64",
         "type": "float"
        },
        {
         "name": "Demand",
         "rawType": "int64",
         "type": "integer"
        },
        {
         "name": "PKeyID",
         "rawType": "object",
         "type": "string"
        },
        {
         "name": "Weekday",
         "rawType": "object",
         "type": "string"
        },
        {
         "name": "Price_Diff",
         "rawType": "float64",
         "type": "float"
        }
       ],
       "ref": "830df36a-f9b6-4354-bfa9-2e7be4d9840c",
       "rows": [
        [
         "0",
         "Electronics",
         "North",
         "195",
         "102",
         "252",
         "72.72",
         "5",
         "Snowy",
         "0",
         "85.73",
         "115",
         "S001_P0001",
         "Saturday",
         "-13.01"
        ],
        [
         "1",
         "Clothing",
         "North",
         "117",
         "117",
         "249",
         "80.16",
         "15",
         "Snowy",
         "1",
         "92.02",
         "229",
         "S001_P0002",
         "Saturday",
         "-11.86"
        ],
        [
         "2",
         "Clothing",
         "North",
         "247",
         "114",
         "612",
         "62.94",
         "10",
         "Snowy",
         "1",
         "60.08",
         "157",
         "S001_P0003",
         "Saturday",
         "2.86"
        ],
        [
         "3",
         "Electronics",
         "North",
         "139",
         "45",
         "102",
         "87.63",
         "10",
         "Snowy",
         "0",
         "85.19",
         "52",
         "S001_P0004",
         "Saturday",
         "2.44"
        ],
        [
         "4",
         "Groceries",
         "North",
         "152",
         "65",
         "271",
         "54.41",
         "0",
         "Snowy",
         "0",
         "51.63",
         "59",
         "S001_P0005",
         "Saturday",
         "2.78"
        ]
       ],
       "shape": {
        "columns": 14,
        "rows": 5
       }
      },
      "text/html": [
       "<div>\n",
       "<style scoped>\n",
       "    .dataframe tbody tr th:only-of-type {\n",
       "        vertical-align: middle;\n",
       "    }\n",
       "\n",
       "    .dataframe tbody tr th {\n",
       "        vertical-align: top;\n",
       "    }\n",
       "\n",
       "    .dataframe thead th {\n",
       "        text-align: right;\n",
       "    }\n",
       "</style>\n",
       "<table border=\"1\" class=\"dataframe\">\n",
       "  <thead>\n",
       "    <tr style=\"text-align: right;\">\n",
       "      <th></th>\n",
       "      <th>Category</th>\n",
       "      <th>Region</th>\n",
       "      <th>Inventory Level</th>\n",
       "      <th>Units Sold</th>\n",
       "      <th>Units Ordered</th>\n",
       "      <th>Price</th>\n",
       "      <th>Discount</th>\n",
       "      <th>Weather Condition</th>\n",
       "      <th>Promotion</th>\n",
       "      <th>Competitor Pricing</th>\n",
       "      <th>Demand</th>\n",
       "      <th>PKeyID</th>\n",
       "      <th>Weekday</th>\n",
       "      <th>Price_Diff</th>\n",
       "    </tr>\n",
       "  </thead>\n",
       "  <tbody>\n",
       "    <tr>\n",
       "      <th>0</th>\n",
       "      <td>Electronics</td>\n",
       "      <td>North</td>\n",
       "      <td>195</td>\n",
       "      <td>102</td>\n",
       "      <td>252</td>\n",
       "      <td>72.72</td>\n",
       "      <td>5</td>\n",
       "      <td>Snowy</td>\n",
       "      <td>0</td>\n",
       "      <td>85.73</td>\n",
       "      <td>115</td>\n",
       "      <td>S001_P0001</td>\n",
       "      <td>Saturday</td>\n",
       "      <td>-13.01</td>\n",
       "    </tr>\n",
       "    <tr>\n",
       "      <th>1</th>\n",
       "      <td>Clothing</td>\n",
       "      <td>North</td>\n",
       "      <td>117</td>\n",
       "      <td>117</td>\n",
       "      <td>249</td>\n",
       "      <td>80.16</td>\n",
       "      <td>15</td>\n",
       "      <td>Snowy</td>\n",
       "      <td>1</td>\n",
       "      <td>92.02</td>\n",
       "      <td>229</td>\n",
       "      <td>S001_P0002</td>\n",
       "      <td>Saturday</td>\n",
       "      <td>-11.86</td>\n",
       "    </tr>\n",
       "    <tr>\n",
       "      <th>2</th>\n",
       "      <td>Clothing</td>\n",
       "      <td>North</td>\n",
       "      <td>247</td>\n",
       "      <td>114</td>\n",
       "      <td>612</td>\n",
       "      <td>62.94</td>\n",
       "      <td>10</td>\n",
       "      <td>Snowy</td>\n",
       "      <td>1</td>\n",
       "      <td>60.08</td>\n",
       "      <td>157</td>\n",
       "      <td>S001_P0003</td>\n",
       "      <td>Saturday</td>\n",
       "      <td>2.86</td>\n",
       "    </tr>\n",
       "    <tr>\n",
       "      <th>3</th>\n",
       "      <td>Electronics</td>\n",
       "      <td>North</td>\n",
       "      <td>139</td>\n",
       "      <td>45</td>\n",
       "      <td>102</td>\n",
       "      <td>87.63</td>\n",
       "      <td>10</td>\n",
       "      <td>Snowy</td>\n",
       "      <td>0</td>\n",
       "      <td>85.19</td>\n",
       "      <td>52</td>\n",
       "      <td>S001_P0004</td>\n",
       "      <td>Saturday</td>\n",
       "      <td>2.44</td>\n",
       "    </tr>\n",
       "    <tr>\n",
       "      <th>4</th>\n",
       "      <td>Groceries</td>\n",
       "      <td>North</td>\n",
       "      <td>152</td>\n",
       "      <td>65</td>\n",
       "      <td>271</td>\n",
       "      <td>54.41</td>\n",
       "      <td>0</td>\n",
       "      <td>Snowy</td>\n",
       "      <td>0</td>\n",
       "      <td>51.63</td>\n",
       "      <td>59</td>\n",
       "      <td>S001_P0005</td>\n",
       "      <td>Saturday</td>\n",
       "      <td>2.78</td>\n",
       "    </tr>\n",
       "  </tbody>\n",
       "</table>\n",
       "</div>"
      ],
      "text/plain": [
       "      Category Region  Inventory Level  Units Sold  Units Ordered  Price  \\\n",
       "0  Electronics  North              195         102            252  72.72   \n",
       "1     Clothing  North              117         117            249  80.16   \n",
       "2     Clothing  North              247         114            612  62.94   \n",
       "3  Electronics  North              139          45            102  87.63   \n",
       "4    Groceries  North              152          65            271  54.41   \n",
       "\n",
       "   Discount Weather Condition  Promotion  Competitor Pricing  Demand  \\\n",
       "0         5             Snowy          0               85.73     115   \n",
       "1        15             Snowy          1               92.02     229   \n",
       "2        10             Snowy          1               60.08     157   \n",
       "3        10             Snowy          0               85.19      52   \n",
       "4         0             Snowy          0               51.63      59   \n",
       "\n",
       "       PKeyID   Weekday  Price_Diff  \n",
       "0  S001_P0001  Saturday      -13.01  \n",
       "1  S001_P0002  Saturday      -11.86  \n",
       "2  S001_P0003  Saturday        2.86  \n",
       "3  S001_P0004  Saturday        2.44  \n",
       "4  S001_P0005  Saturday        2.78  "
      ]
     },
     "execution_count": 168,
     "metadata": {},
     "output_type": "execute_result"
    }
   ],
   "source": [
    "# Since Price and Competitor Price are highly correlated we are buiulind the diffrence for better interpretability\n",
    "df['Price_Diff'] = (df['Price'] - df['Competitor Pricing']).round(3)\n",
    "df.head()"
   ]
  },
  {
   "cell_type": "code",
   "execution_count": 169,
   "id": "8d567953",
   "metadata": {},
   "outputs": [],
   "source": [
    "# Drop Price and Competitor Price? Maybe"
   ]
  },
  {
   "cell_type": "markdown",
   "id": "eebf1554",
   "metadata": {},
   "source": [
    "Encoding the Data <br>\n",
    "- Encoding the Data especially the Date, Weather in order to transform the data to a computer readable format"
   ]
  },
  {
   "cell_type": "code",
   "execution_count": 170,
   "id": "8d616f91",
   "metadata": {},
   "outputs": [
    {
     "name": "stdout",
     "output_type": "stream",
     "text": [
      "   Category  Region  Inventory Level  Units Sold  Units Ordered  Price  \\\n",
      "0         1       1              195         102            252  72.72   \n",
      "1         0       1              117         117            249  80.16   \n",
      "2         0       1              247         114            612  62.94   \n",
      "3         1       1              139          45            102  87.63   \n",
      "4         3       1              152          65            271  54.41   \n",
      "\n",
      "   Discount  Weather Condition  Promotion  Competitor Pricing  Demand  PKeyID  \\\n",
      "0         5                  1          0               85.73     115       0   \n",
      "1        15                  1          1               92.02     229       1   \n",
      "2        10                  1          1               60.08     157       2   \n",
      "3        10                  1          0               85.19      52       3   \n",
      "4         0                  1          0               51.63      59       4   \n",
      "\n",
      "   Weekday  Price_Diff  \n",
      "0        2      -13.01  \n",
      "1        2      -11.86  \n",
      "2        2        2.86  \n",
      "3        2        2.44  \n",
      "4        2        2.78  \n"
     ]
    }
   ],
   "source": [
    "from sklearn.preprocessing import LabelEncoder\n",
    "# Now we encode everything so that ML algorithms can perform on the data\n",
    "label_encoders = {}\n",
    "\n",
    "# Columns you want to encode\n",
    "cols_to_encode = [\"Category\", \"Region\", \"Weather Condition\", \"Weekday\", \"PKeyID\"]\n",
    "\n",
    "# Encode each column and store the encoder\n",
    "for col in cols_to_encode:\n",
    "    le = LabelEncoder()\n",
    "    df[col] = le.fit_transform(df[col])\n",
    "    label_encoders[col] = le  # Save the encoder\n",
    "\n",
    "# Now your DataFrame is encoded and still available\n",
    "print(df.head())"
   ]
  },
  {
   "cell_type": "code",
   "execution_count": 171,
   "id": "3d3f578d",
   "metadata": {},
   "outputs": [
    {
     "name": "stdout",
     "output_type": "stream",
     "text": [
      "Mapping for Category:\n"
     ]
    },
    {
     "data": {
      "application/vnd.microsoft.datawrangler.viewer.v0+json": {
       "columns": [
        {
         "name": "index",
         "rawType": "int64",
         "type": "integer"
        },
        {
         "name": "Original",
         "rawType": "object",
         "type": "string"
        },
        {
         "name": "Encoded",
         "rawType": "int64",
         "type": "integer"
        }
       ],
       "ref": "a49d7e4b-a00e-40fc-8d9a-ff60ed97a2b7",
       "rows": [
        [
         "0",
         "Clothing",
         "0"
        ],
        [
         "1",
         "Electronics",
         "1"
        ],
        [
         "2",
         "Furniture",
         "2"
        ],
        [
         "3",
         "Groceries",
         "3"
        ],
        [
         "4",
         "Toys",
         "4"
        ]
       ],
       "shape": {
        "columns": 2,
        "rows": 5
       }
      },
      "text/html": [
       "<div>\n",
       "<style scoped>\n",
       "    .dataframe tbody tr th:only-of-type {\n",
       "        vertical-align: middle;\n",
       "    }\n",
       "\n",
       "    .dataframe tbody tr th {\n",
       "        vertical-align: top;\n",
       "    }\n",
       "\n",
       "    .dataframe thead th {\n",
       "        text-align: right;\n",
       "    }\n",
       "</style>\n",
       "<table border=\"1\" class=\"dataframe\">\n",
       "  <thead>\n",
       "    <tr style=\"text-align: right;\">\n",
       "      <th></th>\n",
       "      <th>Original</th>\n",
       "      <th>Encoded</th>\n",
       "    </tr>\n",
       "  </thead>\n",
       "  <tbody>\n",
       "    <tr>\n",
       "      <th>0</th>\n",
       "      <td>Clothing</td>\n",
       "      <td>0</td>\n",
       "    </tr>\n",
       "    <tr>\n",
       "      <th>1</th>\n",
       "      <td>Electronics</td>\n",
       "      <td>1</td>\n",
       "    </tr>\n",
       "    <tr>\n",
       "      <th>2</th>\n",
       "      <td>Furniture</td>\n",
       "      <td>2</td>\n",
       "    </tr>\n",
       "    <tr>\n",
       "      <th>3</th>\n",
       "      <td>Groceries</td>\n",
       "      <td>3</td>\n",
       "    </tr>\n",
       "    <tr>\n",
       "      <th>4</th>\n",
       "      <td>Toys</td>\n",
       "      <td>4</td>\n",
       "    </tr>\n",
       "  </tbody>\n",
       "</table>\n",
       "</div>"
      ],
      "text/plain": [
       "      Original  Encoded\n",
       "0     Clothing        0\n",
       "1  Electronics        1\n",
       "2    Furniture        2\n",
       "3    Groceries        3\n",
       "4         Toys        4"
      ]
     },
     "metadata": {},
     "output_type": "display_data"
    },
    {
     "name": "stdout",
     "output_type": "stream",
     "text": [
      "Mapping for Region:\n"
     ]
    },
    {
     "data": {
      "application/vnd.microsoft.datawrangler.viewer.v0+json": {
       "columns": [
        {
         "name": "index",
         "rawType": "int64",
         "type": "integer"
        },
        {
         "name": "Original",
         "rawType": "object",
         "type": "string"
        },
        {
         "name": "Encoded",
         "rawType": "int64",
         "type": "integer"
        }
       ],
       "ref": "8e937983-489d-4262-a06d-0e88b78816a9",
       "rows": [
        [
         "0",
         "East",
         "0"
        ],
        [
         "1",
         "North",
         "1"
        ],
        [
         "2",
         "South",
         "2"
        ],
        [
         "3",
         "West",
         "3"
        ]
       ],
       "shape": {
        "columns": 2,
        "rows": 4
       }
      },
      "text/html": [
       "<div>\n",
       "<style scoped>\n",
       "    .dataframe tbody tr th:only-of-type {\n",
       "        vertical-align: middle;\n",
       "    }\n",
       "\n",
       "    .dataframe tbody tr th {\n",
       "        vertical-align: top;\n",
       "    }\n",
       "\n",
       "    .dataframe thead th {\n",
       "        text-align: right;\n",
       "    }\n",
       "</style>\n",
       "<table border=\"1\" class=\"dataframe\">\n",
       "  <thead>\n",
       "    <tr style=\"text-align: right;\">\n",
       "      <th></th>\n",
       "      <th>Original</th>\n",
       "      <th>Encoded</th>\n",
       "    </tr>\n",
       "  </thead>\n",
       "  <tbody>\n",
       "    <tr>\n",
       "      <th>0</th>\n",
       "      <td>East</td>\n",
       "      <td>0</td>\n",
       "    </tr>\n",
       "    <tr>\n",
       "      <th>1</th>\n",
       "      <td>North</td>\n",
       "      <td>1</td>\n",
       "    </tr>\n",
       "    <tr>\n",
       "      <th>2</th>\n",
       "      <td>South</td>\n",
       "      <td>2</td>\n",
       "    </tr>\n",
       "    <tr>\n",
       "      <th>3</th>\n",
       "      <td>West</td>\n",
       "      <td>3</td>\n",
       "    </tr>\n",
       "  </tbody>\n",
       "</table>\n",
       "</div>"
      ],
      "text/plain": [
       "  Original  Encoded\n",
       "0     East        0\n",
       "1    North        1\n",
       "2    South        2\n",
       "3     West        3"
      ]
     },
     "metadata": {},
     "output_type": "display_data"
    },
    {
     "name": "stdout",
     "output_type": "stream",
     "text": [
      "Mapping for Weather Condition:\n"
     ]
    },
    {
     "data": {
      "application/vnd.microsoft.datawrangler.viewer.v0+json": {
       "columns": [
        {
         "name": "index",
         "rawType": "int64",
         "type": "integer"
        },
        {
         "name": "Original",
         "rawType": "object",
         "type": "string"
        },
        {
         "name": "Encoded",
         "rawType": "int64",
         "type": "integer"
        }
       ],
       "ref": "cfef47ce-b6a0-42df-8599-e9ed6140fd22",
       "rows": [
        [
         "0",
         "Cloudy",
         "0"
        ],
        [
         "1",
         "Snowy",
         "1"
        ],
        [
         "2",
         "Sunny",
         "2"
        ]
       ],
       "shape": {
        "columns": 2,
        "rows": 3
       }
      },
      "text/html": [
       "<div>\n",
       "<style scoped>\n",
       "    .dataframe tbody tr th:only-of-type {\n",
       "        vertical-align: middle;\n",
       "    }\n",
       "\n",
       "    .dataframe tbody tr th {\n",
       "        vertical-align: top;\n",
       "    }\n",
       "\n",
       "    .dataframe thead th {\n",
       "        text-align: right;\n",
       "    }\n",
       "</style>\n",
       "<table border=\"1\" class=\"dataframe\">\n",
       "  <thead>\n",
       "    <tr style=\"text-align: right;\">\n",
       "      <th></th>\n",
       "      <th>Original</th>\n",
       "      <th>Encoded</th>\n",
       "    </tr>\n",
       "  </thead>\n",
       "  <tbody>\n",
       "    <tr>\n",
       "      <th>0</th>\n",
       "      <td>Cloudy</td>\n",
       "      <td>0</td>\n",
       "    </tr>\n",
       "    <tr>\n",
       "      <th>1</th>\n",
       "      <td>Snowy</td>\n",
       "      <td>1</td>\n",
       "    </tr>\n",
       "    <tr>\n",
       "      <th>2</th>\n",
       "      <td>Sunny</td>\n",
       "      <td>2</td>\n",
       "    </tr>\n",
       "  </tbody>\n",
       "</table>\n",
       "</div>"
      ],
      "text/plain": [
       "  Original  Encoded\n",
       "0   Cloudy        0\n",
       "1    Snowy        1\n",
       "2    Sunny        2"
      ]
     },
     "metadata": {},
     "output_type": "display_data"
    },
    {
     "name": "stdout",
     "output_type": "stream",
     "text": [
      "Mapping for Weekday:\n"
     ]
    },
    {
     "data": {
      "application/vnd.microsoft.datawrangler.viewer.v0+json": {
       "columns": [
        {
         "name": "index",
         "rawType": "int64",
         "type": "integer"
        },
        {
         "name": "Original",
         "rawType": "object",
         "type": "string"
        },
        {
         "name": "Encoded",
         "rawType": "int64",
         "type": "integer"
        }
       ],
       "ref": "bb6ea5ba-9645-4a00-b591-2b1c7c415a5d",
       "rows": [
        [
         "0",
         "Friday",
         "0"
        ],
        [
         "1",
         "Monday",
         "1"
        ],
        [
         "2",
         "Saturday",
         "2"
        ],
        [
         "3",
         "Sunday",
         "3"
        ],
        [
         "4",
         "Thursday",
         "4"
        ],
        [
         "5",
         "Tuesday",
         "5"
        ],
        [
         "6",
         "Wednesday",
         "6"
        ]
       ],
       "shape": {
        "columns": 2,
        "rows": 7
       }
      },
      "text/html": [
       "<div>\n",
       "<style scoped>\n",
       "    .dataframe tbody tr th:only-of-type {\n",
       "        vertical-align: middle;\n",
       "    }\n",
       "\n",
       "    .dataframe tbody tr th {\n",
       "        vertical-align: top;\n",
       "    }\n",
       "\n",
       "    .dataframe thead th {\n",
       "        text-align: right;\n",
       "    }\n",
       "</style>\n",
       "<table border=\"1\" class=\"dataframe\">\n",
       "  <thead>\n",
       "    <tr style=\"text-align: right;\">\n",
       "      <th></th>\n",
       "      <th>Original</th>\n",
       "      <th>Encoded</th>\n",
       "    </tr>\n",
       "  </thead>\n",
       "  <tbody>\n",
       "    <tr>\n",
       "      <th>0</th>\n",
       "      <td>Friday</td>\n",
       "      <td>0</td>\n",
       "    </tr>\n",
       "    <tr>\n",
       "      <th>1</th>\n",
       "      <td>Monday</td>\n",
       "      <td>1</td>\n",
       "    </tr>\n",
       "    <tr>\n",
       "      <th>2</th>\n",
       "      <td>Saturday</td>\n",
       "      <td>2</td>\n",
       "    </tr>\n",
       "    <tr>\n",
       "      <th>3</th>\n",
       "      <td>Sunday</td>\n",
       "      <td>3</td>\n",
       "    </tr>\n",
       "    <tr>\n",
       "      <th>4</th>\n",
       "      <td>Thursday</td>\n",
       "      <td>4</td>\n",
       "    </tr>\n",
       "    <tr>\n",
       "      <th>5</th>\n",
       "      <td>Tuesday</td>\n",
       "      <td>5</td>\n",
       "    </tr>\n",
       "    <tr>\n",
       "      <th>6</th>\n",
       "      <td>Wednesday</td>\n",
       "      <td>6</td>\n",
       "    </tr>\n",
       "  </tbody>\n",
       "</table>\n",
       "</div>"
      ],
      "text/plain": [
       "    Original  Encoded\n",
       "0     Friday        0\n",
       "1     Monday        1\n",
       "2   Saturday        2\n",
       "3     Sunday        3\n",
       "4   Thursday        4\n",
       "5    Tuesday        5\n",
       "6  Wednesday        6"
      ]
     },
     "metadata": {},
     "output_type": "display_data"
    },
    {
     "name": "stdout",
     "output_type": "stream",
     "text": [
      "Mapping for PKeyID:\n"
     ]
    },
    {
     "data": {
      "application/vnd.microsoft.datawrangler.viewer.v0+json": {
       "columns": [
        {
         "name": "index",
         "rawType": "int64",
         "type": "integer"
        },
        {
         "name": "Original",
         "rawType": "object",
         "type": "string"
        },
        {
         "name": "Encoded",
         "rawType": "int64",
         "type": "integer"
        }
       ],
       "ref": "954aed99-b331-4184-924a-39222365a086",
       "rows": [
        [
         "0",
         "S001_P0001",
         "0"
        ],
        [
         "1",
         "S001_P0002",
         "1"
        ],
        [
         "2",
         "S001_P0003",
         "2"
        ],
        [
         "3",
         "S001_P0004",
         "3"
        ],
        [
         "4",
         "S001_P0005",
         "4"
        ],
        [
         "5",
         "S001_P0006",
         "5"
        ],
        [
         "6",
         "S001_P0007",
         "6"
        ],
        [
         "7",
         "S001_P0008",
         "7"
        ],
        [
         "8",
         "S001_P0009",
         "8"
        ],
        [
         "9",
         "S001_P0010",
         "9"
        ],
        [
         "10",
         "S001_P0011",
         "10"
        ],
        [
         "11",
         "S001_P0012",
         "11"
        ],
        [
         "12",
         "S001_P0013",
         "12"
        ],
        [
         "13",
         "S001_P0014",
         "13"
        ],
        [
         "14",
         "S001_P0015",
         "14"
        ],
        [
         "15",
         "S001_P0016",
         "15"
        ],
        [
         "16",
         "S001_P0017",
         "16"
        ],
        [
         "17",
         "S001_P0018",
         "17"
        ],
        [
         "18",
         "S001_P0019",
         "18"
        ],
        [
         "19",
         "S001_P0020",
         "19"
        ],
        [
         "20",
         "S002_P0001",
         "20"
        ],
        [
         "21",
         "S002_P0002",
         "21"
        ],
        [
         "22",
         "S002_P0003",
         "22"
        ],
        [
         "23",
         "S002_P0004",
         "23"
        ],
        [
         "24",
         "S002_P0005",
         "24"
        ],
        [
         "25",
         "S002_P0006",
         "25"
        ],
        [
         "26",
         "S002_P0007",
         "26"
        ],
        [
         "27",
         "S002_P0008",
         "27"
        ],
        [
         "28",
         "S002_P0009",
         "28"
        ],
        [
         "29",
         "S002_P0010",
         "29"
        ],
        [
         "30",
         "S002_P0011",
         "30"
        ],
        [
         "31",
         "S002_P0012",
         "31"
        ],
        [
         "32",
         "S002_P0013",
         "32"
        ],
        [
         "33",
         "S002_P0014",
         "33"
        ],
        [
         "34",
         "S002_P0015",
         "34"
        ],
        [
         "35",
         "S002_P0016",
         "35"
        ],
        [
         "36",
         "S002_P0017",
         "36"
        ],
        [
         "37",
         "S002_P0018",
         "37"
        ],
        [
         "38",
         "S002_P0019",
         "38"
        ],
        [
         "39",
         "S002_P0020",
         "39"
        ],
        [
         "40",
         "S003_P0001",
         "40"
        ],
        [
         "41",
         "S003_P0002",
         "41"
        ],
        [
         "42",
         "S003_P0003",
         "42"
        ],
        [
         "43",
         "S003_P0004",
         "43"
        ],
        [
         "44",
         "S003_P0005",
         "44"
        ],
        [
         "45",
         "S003_P0006",
         "45"
        ],
        [
         "46",
         "S003_P0007",
         "46"
        ],
        [
         "47",
         "S003_P0008",
         "47"
        ],
        [
         "48",
         "S003_P0009",
         "48"
        ],
        [
         "49",
         "S003_P0010",
         "49"
        ]
       ],
       "shape": {
        "columns": 2,
        "rows": 100
       }
      },
      "text/html": [
       "<div>\n",
       "<style scoped>\n",
       "    .dataframe tbody tr th:only-of-type {\n",
       "        vertical-align: middle;\n",
       "    }\n",
       "\n",
       "    .dataframe tbody tr th {\n",
       "        vertical-align: top;\n",
       "    }\n",
       "\n",
       "    .dataframe thead th {\n",
       "        text-align: right;\n",
       "    }\n",
       "</style>\n",
       "<table border=\"1\" class=\"dataframe\">\n",
       "  <thead>\n",
       "    <tr style=\"text-align: right;\">\n",
       "      <th></th>\n",
       "      <th>Original</th>\n",
       "      <th>Encoded</th>\n",
       "    </tr>\n",
       "  </thead>\n",
       "  <tbody>\n",
       "    <tr>\n",
       "      <th>0</th>\n",
       "      <td>S001_P0001</td>\n",
       "      <td>0</td>\n",
       "    </tr>\n",
       "    <tr>\n",
       "      <th>1</th>\n",
       "      <td>S001_P0002</td>\n",
       "      <td>1</td>\n",
       "    </tr>\n",
       "    <tr>\n",
       "      <th>2</th>\n",
       "      <td>S001_P0003</td>\n",
       "      <td>2</td>\n",
       "    </tr>\n",
       "    <tr>\n",
       "      <th>3</th>\n",
       "      <td>S001_P0004</td>\n",
       "      <td>3</td>\n",
       "    </tr>\n",
       "    <tr>\n",
       "      <th>4</th>\n",
       "      <td>S001_P0005</td>\n",
       "      <td>4</td>\n",
       "    </tr>\n",
       "    <tr>\n",
       "      <th>...</th>\n",
       "      <td>...</td>\n",
       "      <td>...</td>\n",
       "    </tr>\n",
       "    <tr>\n",
       "      <th>95</th>\n",
       "      <td>S005_P0016</td>\n",
       "      <td>95</td>\n",
       "    </tr>\n",
       "    <tr>\n",
       "      <th>96</th>\n",
       "      <td>S005_P0017</td>\n",
       "      <td>96</td>\n",
       "    </tr>\n",
       "    <tr>\n",
       "      <th>97</th>\n",
       "      <td>S005_P0018</td>\n",
       "      <td>97</td>\n",
       "    </tr>\n",
       "    <tr>\n",
       "      <th>98</th>\n",
       "      <td>S005_P0019</td>\n",
       "      <td>98</td>\n",
       "    </tr>\n",
       "    <tr>\n",
       "      <th>99</th>\n",
       "      <td>S005_P0020</td>\n",
       "      <td>99</td>\n",
       "    </tr>\n",
       "  </tbody>\n",
       "</table>\n",
       "<p>100 rows × 2 columns</p>\n",
       "</div>"
      ],
      "text/plain": [
       "      Original  Encoded\n",
       "0   S001_P0001        0\n",
       "1   S001_P0002        1\n",
       "2   S001_P0003        2\n",
       "3   S001_P0004        3\n",
       "4   S001_P0005        4\n",
       "..         ...      ...\n",
       "95  S005_P0016       95\n",
       "96  S005_P0017       96\n",
       "97  S005_P0018       97\n",
       "98  S005_P0019       98\n",
       "99  S005_P0020       99\n",
       "\n",
       "[100 rows x 2 columns]"
      ]
     },
     "metadata": {},
     "output_type": "display_data"
    }
   ],
   "source": [
    "for col, le in label_encoders.items():\n",
    "    mapping = pd.DataFrame({\n",
    "        'Original': le.classes_,\n",
    "        'Encoded': le.transform(le.classes_)\n",
    "    })\n",
    "    print(f\"Mapping for {col}:\")\n",
    "    display(mapping)"
   ]
  },
  {
   "cell_type": "code",
   "execution_count": 172,
   "id": "76a22c3e",
   "metadata": {},
   "outputs": [],
   "source": [
    "# Save the label_encoders mappings as a text file\n",
    "with open('../../Data/Transformed/Julius/label_encodings.txt', 'w') as f:\n",
    "    for col, encoder in label_encoders.items():\n",
    "        f.write(f\"{col}:\\n\")\n",
    "        for idx, label in enumerate(encoder.classes_):\n",
    "            f.write(f\"  {label}: {idx}\\n\")\n",
    "        f.write(\"\\n\")"
   ]
  },
  {
   "cell_type": "code",
   "execution_count": 173,
   "id": "cbe5a812",
   "metadata": {},
   "outputs": [
    {
     "data": {
      "application/vnd.microsoft.datawrangler.viewer.v0+json": {
       "columns": [
        {
         "name": "index",
         "rawType": "int64",
         "type": "integer"
        },
        {
         "name": "Category",
         "rawType": "int64",
         "type": "integer"
        },
        {
         "name": "Region",
         "rawType": "int64",
         "type": "integer"
        },
        {
         "name": "Inventory Level",
         "rawType": "int64",
         "type": "integer"
        },
        {
         "name": "Units Sold",
         "rawType": "int64",
         "type": "integer"
        },
        {
         "name": "Units Ordered",
         "rawType": "int64",
         "type": "integer"
        },
        {
         "name": "Price",
         "rawType": "float64",
         "type": "float"
        },
        {
         "name": "Discount",
         "rawType": "int64",
         "type": "integer"
        },
        {
         "name": "Weather Condition",
         "rawType": "int64",
         "type": "integer"
        },
        {
         "name": "Promotion",
         "rawType": "int64",
         "type": "integer"
        },
        {
         "name": "Competitor Pricing",
         "rawType": "float64",
         "type": "float"
        },
        {
         "name": "Demand",
         "rawType": "int64",
         "type": "integer"
        },
        {
         "name": "PKeyID",
         "rawType": "int64",
         "type": "integer"
        },
        {
         "name": "Weekday",
         "rawType": "int64",
         "type": "integer"
        },
        {
         "name": "Price_Diff",
         "rawType": "float64",
         "type": "float"
        }
       ],
       "ref": "29a54ad1-2c94-4a12-a800-892c29670911",
       "rows": [
        [
         "0",
         "1",
         "1",
         "195",
         "102",
         "252",
         "72.72",
         "5",
         "1",
         "0",
         "85.73",
         "115",
         "0",
         "2",
         "-13.01"
        ],
        [
         "1",
         "0",
         "1",
         "117",
         "117",
         "249",
         "80.16",
         "15",
         "1",
         "1",
         "92.02",
         "229",
         "1",
         "2",
         "-11.86"
        ],
        [
         "2",
         "0",
         "1",
         "247",
         "114",
         "612",
         "62.94",
         "10",
         "1",
         "1",
         "60.08",
         "157",
         "2",
         "2",
         "2.86"
        ],
        [
         "3",
         "1",
         "1",
         "139",
         "45",
         "102",
         "87.63",
         "10",
         "1",
         "0",
         "85.19",
         "52",
         "3",
         "2",
         "2.44"
        ],
        [
         "4",
         "3",
         "1",
         "152",
         "65",
         "271",
         "54.41",
         "0",
         "1",
         "0",
         "51.63",
         "59",
         "4",
         "2",
         "2.78"
        ]
       ],
       "shape": {
        "columns": 14,
        "rows": 5
       }
      },
      "text/html": [
       "<div>\n",
       "<style scoped>\n",
       "    .dataframe tbody tr th:only-of-type {\n",
       "        vertical-align: middle;\n",
       "    }\n",
       "\n",
       "    .dataframe tbody tr th {\n",
       "        vertical-align: top;\n",
       "    }\n",
       "\n",
       "    .dataframe thead th {\n",
       "        text-align: right;\n",
       "    }\n",
       "</style>\n",
       "<table border=\"1\" class=\"dataframe\">\n",
       "  <thead>\n",
       "    <tr style=\"text-align: right;\">\n",
       "      <th></th>\n",
       "      <th>Category</th>\n",
       "      <th>Region</th>\n",
       "      <th>Inventory Level</th>\n",
       "      <th>Units Sold</th>\n",
       "      <th>Units Ordered</th>\n",
       "      <th>Price</th>\n",
       "      <th>Discount</th>\n",
       "      <th>Weather Condition</th>\n",
       "      <th>Promotion</th>\n",
       "      <th>Competitor Pricing</th>\n",
       "      <th>Demand</th>\n",
       "      <th>PKeyID</th>\n",
       "      <th>Weekday</th>\n",
       "      <th>Price_Diff</th>\n",
       "    </tr>\n",
       "  </thead>\n",
       "  <tbody>\n",
       "    <tr>\n",
       "      <th>0</th>\n",
       "      <td>1</td>\n",
       "      <td>1</td>\n",
       "      <td>195</td>\n",
       "      <td>102</td>\n",
       "      <td>252</td>\n",
       "      <td>72.72</td>\n",
       "      <td>5</td>\n",
       "      <td>1</td>\n",
       "      <td>0</td>\n",
       "      <td>85.73</td>\n",
       "      <td>115</td>\n",
       "      <td>0</td>\n",
       "      <td>2</td>\n",
       "      <td>-13.01</td>\n",
       "    </tr>\n",
       "    <tr>\n",
       "      <th>1</th>\n",
       "      <td>0</td>\n",
       "      <td>1</td>\n",
       "      <td>117</td>\n",
       "      <td>117</td>\n",
       "      <td>249</td>\n",
       "      <td>80.16</td>\n",
       "      <td>15</td>\n",
       "      <td>1</td>\n",
       "      <td>1</td>\n",
       "      <td>92.02</td>\n",
       "      <td>229</td>\n",
       "      <td>1</td>\n",
       "      <td>2</td>\n",
       "      <td>-11.86</td>\n",
       "    </tr>\n",
       "    <tr>\n",
       "      <th>2</th>\n",
       "      <td>0</td>\n",
       "      <td>1</td>\n",
       "      <td>247</td>\n",
       "      <td>114</td>\n",
       "      <td>612</td>\n",
       "      <td>62.94</td>\n",
       "      <td>10</td>\n",
       "      <td>1</td>\n",
       "      <td>1</td>\n",
       "      <td>60.08</td>\n",
       "      <td>157</td>\n",
       "      <td>2</td>\n",
       "      <td>2</td>\n",
       "      <td>2.86</td>\n",
       "    </tr>\n",
       "    <tr>\n",
       "      <th>3</th>\n",
       "      <td>1</td>\n",
       "      <td>1</td>\n",
       "      <td>139</td>\n",
       "      <td>45</td>\n",
       "      <td>102</td>\n",
       "      <td>87.63</td>\n",
       "      <td>10</td>\n",
       "      <td>1</td>\n",
       "      <td>0</td>\n",
       "      <td>85.19</td>\n",
       "      <td>52</td>\n",
       "      <td>3</td>\n",
       "      <td>2</td>\n",
       "      <td>2.44</td>\n",
       "    </tr>\n",
       "    <tr>\n",
       "      <th>4</th>\n",
       "      <td>3</td>\n",
       "      <td>1</td>\n",
       "      <td>152</td>\n",
       "      <td>65</td>\n",
       "      <td>271</td>\n",
       "      <td>54.41</td>\n",
       "      <td>0</td>\n",
       "      <td>1</td>\n",
       "      <td>0</td>\n",
       "      <td>51.63</td>\n",
       "      <td>59</td>\n",
       "      <td>4</td>\n",
       "      <td>2</td>\n",
       "      <td>2.78</td>\n",
       "    </tr>\n",
       "  </tbody>\n",
       "</table>\n",
       "</div>"
      ],
      "text/plain": [
       "   Category  Region  Inventory Level  Units Sold  Units Ordered  Price  \\\n",
       "0         1       1              195         102            252  72.72   \n",
       "1         0       1              117         117            249  80.16   \n",
       "2         0       1              247         114            612  62.94   \n",
       "3         1       1              139          45            102  87.63   \n",
       "4         3       1              152          65            271  54.41   \n",
       "\n",
       "   Discount  Weather Condition  Promotion  Competitor Pricing  Demand  PKeyID  \\\n",
       "0         5                  1          0               85.73     115       0   \n",
       "1        15                  1          1               92.02     229       1   \n",
       "2        10                  1          1               60.08     157       2   \n",
       "3        10                  1          0               85.19      52       3   \n",
       "4         0                  1          0               51.63      59       4   \n",
       "\n",
       "   Weekday  Price_Diff  \n",
       "0        2      -13.01  \n",
       "1        2      -11.86  \n",
       "2        2        2.86  \n",
       "3        2        2.44  \n",
       "4        2        2.78  "
      ]
     },
     "execution_count": 173,
     "metadata": {},
     "output_type": "execute_result"
    }
   ],
   "source": [
    "df.head()"
   ]
  },
  {
   "cell_type": "code",
   "execution_count": 174,
   "id": "f065abe0",
   "metadata": {},
   "outputs": [
    {
     "name": "stdout",
     "output_type": "stream",
     "text": [
      "Feature Importance Scores (sorted):\n",
      "Discount              0.435017\n",
      "Demand                0.070413\n",
      "Units Sold            0.042595\n",
      "Units Ordered         0.030735\n",
      "Weekday               0.021638\n",
      "Weather Condition     0.015377\n",
      "Inventory Level       0.000849\n",
      "Price_Diff           -0.004585\n",
      "Competitor Pricing   -0.005241\n",
      "Price                -0.008862\n",
      "Category             -0.010761\n",
      "PKeyID               -0.011309\n",
      "Region               -0.020180\n",
      "dtype: float64\n"
     ]
    }
   ],
   "source": [
    "# Use the ReliefF Algorithm to get insights in the feature importance, this can only be applied after all values are encoded and fits well\n",
    "# in this scenario due to our binary classification problem\n",
    "# Separate target variable and features\n",
    "X = df.drop(['Promotion'], axis=1)\n",
    "y = df['Promotion']\n",
    "\n",
    "# Apply the algorithm\n",
    "relieff = ReliefF(n_neighbors=100, n_features_to_select=X.shape[1])\n",
    "relieff.fit(X.values, y.values)\n",
    "\n",
    "# Output the feature importance scores\n",
    "scores = pd.Series(relieff.feature_importances_, index=X.columns)\n",
    "print(\"Feature Importance Scores (sorted):\")\n",
    "print(scores.sort_values(ascending=False))"
   ]
  },
  {
   "cell_type": "code",
   "execution_count": 175,
   "id": "c91ad6da",
   "metadata": {},
   "outputs": [],
   "source": [
    "df.to_csv('../../Data/Transformed/Julius/inventory_management_transformed.csv', index=False)"
   ]
  }
 ],
 "metadata": {
  "kernelspec": {
   "display_name": ".venv",
   "language": "python",
   "name": "python3"
  },
  "language_info": {
   "codemirror_mode": {
    "name": "ipython",
    "version": 3
   },
   "file_extension": ".py",
   "mimetype": "text/x-python",
   "name": "python",
   "nbconvert_exporter": "python",
   "pygments_lexer": "ipython3",
   "version": "3.13.0"
  }
 },
 "nbformat": 4,
 "nbformat_minor": 5
}
